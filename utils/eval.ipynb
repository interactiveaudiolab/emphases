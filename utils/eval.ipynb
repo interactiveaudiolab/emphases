{
 "cells": [
  {
   "cell_type": "code",
   "execution_count": 39,
   "id": "bcef0053",
   "metadata": {},
   "outputs": [],
   "source": [
    "import os\n",
    "import pandas as pd\n",
    "import numpy as np\n",
    "from scipy import spatial\n",
    "import seaborn as sns\n",
    "import matplotlib.pyplot as plt"
   ]
  },
  {
   "cell_type": "code",
   "execution_count": 131,
   "id": "14054de2",
   "metadata": {},
   "outputs": [],
   "source": [
    "import warnings\n",
    "warnings.filterwarnings('ignore')\n"
   ]
  },
  {
   "cell_type": "code",
   "execution_count": 132,
   "id": "e080cce5",
   "metadata": {},
   "outputs": [],
   "source": [
    "annotations = pd.read_csv('./BuckEye-annotations.csv')"
   ]
  },
  {
   "cell_type": "markdown",
   "id": "ef53236b",
   "metadata": {},
   "source": [
    "### Single file analysis"
   ]
  },
  {
   "cell_type": "code",
   "execution_count": 133,
   "id": "34c0c308",
   "metadata": {},
   "outputs": [],
   "source": [
    "predictions = pd.read_table('../emphases/baselines/prominence/test_outputs_buckeye/s0201b.prom', header=None)"
   ]
  },
  {
   "cell_type": "code",
   "execution_count": 134,
   "id": "85cb9e0c",
   "metadata": {
    "scrolled": true
   },
   "outputs": [],
   "source": [
    "avail_window = annotations[annotations['filename']==\"s02-1\"].reset_index(drop=True)\n",
    "target_window = predictions[117:189].reset_index(drop=True)\n",
    "\n",
    "avail_tokens = avail_window['word'].tolist()\n",
    "target_tokens = target_window[3].tolist()"
   ]
  },
  {
   "cell_type": "code",
   "execution_count": 135,
   "id": "e9c78ea5",
   "metadata": {
    "scrolled": true
   },
   "outputs": [
    {
     "data": {
      "text/plain": [
       "False"
      ]
     },
     "execution_count": 135,
     "metadata": {},
     "output_type": "execute_result"
    }
   ],
   "source": [
    "target_tokens==avail_tokens"
   ]
  },
  {
   "cell_type": "code",
   "execution_count": 136,
   "id": "c0cffdfa",
   "metadata": {
    "scrolled": false
   },
   "outputs": [
    {
     "data": {
      "text/plain": [
       "(72, 72)"
      ]
     },
     "execution_count": 136,
     "metadata": {},
     "output_type": "execute_result"
    }
   ],
   "source": [
    "len(target_tokens), len(avail_tokens)"
   ]
  },
  {
   "cell_type": "code",
   "execution_count": 137,
   "id": "3d0a40fe",
   "metadata": {
    "scrolled": false
   },
   "outputs": [
    {
     "name": "stdout",
     "output_type": "stream",
     "text": [
      "mismatched pair just like 17 17\n",
      "mismatched pair that grew 29 28\n"
     ]
    }
   ],
   "source": [
    "l, r = 0, 0\n",
    "pairs = []\n",
    "\n",
    "while l<len(target_window) and r<len(avail_window):\n",
    "    if target_window[3][l]==avail_window['word'][r]:\n",
    "        pairs.append([(target_window[3][l], target_window[5][l]), (avail_window['word'][r], avail_window['pa.32'][r])])\n",
    "        l+=1\n",
    "        r+=1\n",
    "    else:\n",
    "        print('mismatched pair', target_window[3][l], avail_window['word'][r], l, r)\n",
    "        l+=1\n"
   ]
  },
  {
   "cell_type": "code",
   "execution_count": 138,
   "id": "4447dd7d",
   "metadata": {
    "scrolled": true
   },
   "outputs": [],
   "source": [
    "v1 = []\n",
    "v2 = []\n",
    "for pair in pairs:\n",
    "    v1.append(pair[0][-1])\n",
    "    v2.append(pair[1][-1])"
   ]
  },
  {
   "cell_type": "code",
   "execution_count": 139,
   "id": "a7d4f316",
   "metadata": {
    "scrolled": false
   },
   "outputs": [
    {
     "data": {
      "text/plain": [
       "(0.382, 0.03125)"
      ]
     },
     "execution_count": 139,
     "metadata": {},
     "output_type": "execute_result"
    }
   ],
   "source": [
    "v1[-1], v2[-1]"
   ]
  },
  {
   "cell_type": "code",
   "execution_count": 140,
   "id": "2058d2c1",
   "metadata": {},
   "outputs": [],
   "source": [
    "v1 = np.asarray(v1)\n",
    "v2 = np.asarray(v2)"
   ]
  },
  {
   "cell_type": "code",
   "execution_count": 141,
   "id": "4f56d489",
   "metadata": {
    "scrolled": true
   },
   "outputs": [
    {
     "data": {
      "text/plain": [
       "(0.382, 0.03125)"
      ]
     },
     "execution_count": 141,
     "metadata": {},
     "output_type": "execute_result"
    }
   ],
   "source": [
    "v1[-1], v2[-1]"
   ]
  },
  {
   "cell_type": "code",
   "execution_count": 142,
   "id": "4b7cbe63",
   "metadata": {
    "scrolled": true
   },
   "outputs": [
    {
     "data": {
      "text/plain": [
       "(array([0.   , 0.137, 0.426, 1.25 , 0.133, 2.16 , 0.172, 0.408, 2.003,\n",
       "        0.   , 0.028, 0.195, 0.   , 1.14 , 1.658, 0.   , 0.   , 0.033,\n",
       "        0.   , 0.697, 0.   , 2.485, 0.   , 0.   , 0.   , 2.578, 0.   ,\n",
       "        0.43 , 0.   , 0.713, 0.   , 0.05 , 0.   , 0.357, 0.   , 0.   ,\n",
       "        0.207, 0.   , 1.069, 0.192, 0.   , 0.   , 0.   , 0.248, 0.   ,\n",
       "        0.071, 0.   , 0.058, 0.145, 0.   , 1.644, 0.   , 0.038, 0.   ,\n",
       "        0.   , 1.845, 0.   , 0.   , 0.567, 0.   , 2.032, 0.   , 0.   ,\n",
       "        1.566, 0.   , 0.   , 0.   , 0.907, 0.   , 0.382]),\n",
       " array([0.     , 0.5625 , 0.15625, 0.46875, 0.     , 0.40625, 0.     ,\n",
       "        0.78125, 0.53125, 0.     , 0.03125, 0.0625 , 0.     , 0.53125,\n",
       "        0.09375, 0.     , 0.     , 0.03125, 0.1875 , 0.0625 , 0.3125 ,\n",
       "        0.09375, 0.03125, 0.6875 , 0.25   , 0.21875, 0.09375, 0.09375,\n",
       "        0.0625 , 0.03125, 0.     , 0.125  , 0.03125, 0.     , 0.     ,\n",
       "        0.0625 , 0.     , 0.     , 0.03125, 0.71875, 0.     , 0.     ,\n",
       "        0.     , 0.     , 0.03125, 0.     , 0.3125 , 0.03125, 0.3125 ,\n",
       "        0.25   , 0.     , 0.     , 0.     , 0.     , 0.     , 0.     ,\n",
       "        0.03125, 0.84375, 0.25   , 0.15625, 0.15625, 0.     , 0.03125,\n",
       "        0.     , 0.5    , 0.34375, 0.28125, 0.15625, 0.65625, 0.03125]))"
      ]
     },
     "execution_count": 142,
     "metadata": {},
     "output_type": "execute_result"
    }
   ],
   "source": [
    "v1, v2"
   ]
  },
  {
   "cell_type": "code",
   "execution_count": 143,
   "id": "9e9bc031",
   "metadata": {
    "scrolled": true
   },
   "outputs": [
    {
     "data": {
      "text/plain": [
       "0.36354106113714235"
      ]
     },
     "execution_count": 143,
     "metadata": {},
     "output_type": "execute_result"
    }
   ],
   "source": [
    "from scipy import spatial\n",
    "\n",
    "result = 1 - spatial.distance.cosine(v1, v2)\n",
    "result"
   ]
  },
  {
   "cell_type": "code",
   "execution_count": 144,
   "id": "97dd569f",
   "metadata": {},
   "outputs": [],
   "source": [
    "from scipy.special import rel_entr\n",
    "from scipy.stats import ks_2samp\n",
    "from sklearn import preprocessing"
   ]
  },
  {
   "cell_type": "code",
   "execution_count": 145,
   "id": "ba7b75ca",
   "metadata": {
    "scrolled": true
   },
   "outputs": [],
   "source": [
    "v1_norm = preprocessing.normalize([v1])\n",
    "v2_norm = v2"
   ]
  },
  {
   "cell_type": "code",
   "execution_count": 146,
   "id": "4877a9b8",
   "metadata": {},
   "outputs": [
    {
     "data": {
      "text/plain": [
       "inf"
      ]
     },
     "execution_count": 146,
     "metadata": {},
     "output_type": "execute_result"
    }
   ],
   "source": [
    "sum(rel_entr(v1_norm[0], v2))\n"
   ]
  },
  {
   "cell_type": "markdown",
   "id": "cb117b6b",
   "metadata": {},
   "source": [
    "**two-sample Kolmogorov-Smirnov test:** Under the null hypothesis the two distributions are identical. If the K-S statistic is small or the p-value is high (greater than the significance level, say 5%), then we cannot reject the hypothesis that the distributions of the two samples are the same. Conversely, we can reject the null hypothesis if the p-value is low.\n",
    "\n"
   ]
  },
  {
   "cell_type": "code",
   "execution_count": 147,
   "id": "7f925491",
   "metadata": {},
   "outputs": [
    {
     "data": {
      "text/plain": [
       "KstestResult(statistic=0.32857142857142857, pvalue=0.000959233987068373)"
      ]
     },
     "execution_count": 147,
     "metadata": {},
     "output_type": "execute_result"
    }
   ],
   "source": [
    "ks_2samp(v1_norm[0], v2)"
   ]
  },
  {
   "cell_type": "code",
   "execution_count": 148,
   "id": "47a9c1a2",
   "metadata": {
    "scrolled": true
   },
   "outputs": [
    {
     "data": {
      "image/png": "[encoded data removed]",
      "text/plain": [
       "<Figure size 288x288 with 1 Axes>"
      ]
     },
     "metadata": {
      "needs_background": "light"
     },
     "output_type": "display_data"
    }
   ],
   "source": [
    "plt.figure(figsize=(4,4))\n",
    "sns.distplot(v2, hist=False, kde=True)\n",
    "sns.distplot(v1_norm[0], hist=False, kde=True)\n",
    "plt.show()"
   ]
  },
  {
   "cell_type": "code",
   "execution_count": null,
   "id": "929996c7",
   "metadata": {},
   "outputs": [],
   "source": []
  },
  {
   "cell_type": "code",
   "execution_count": null,
   "id": "980a5f0f",
   "metadata": {},
   "outputs": [],
   "source": []
  },
  {
   "cell_type": "code",
   "execution_count": null,
   "id": "65c5569e",
   "metadata": {},
   "outputs": [],
   "source": []
  },
  {
   "cell_type": "markdown",
   "id": "0dee76c7",
   "metadata": {},
   "source": [
    "### Define function"
   ]
  },
  {
   "cell_type": "code",
   "execution_count": 149,
   "id": "19accc7e",
   "metadata": {},
   "outputs": [],
   "source": [
    "from scipy.special import rel_entr\n",
    "from scipy.stats import ks_2samp\n",
    "from sklearn import preprocessing"
   ]
  },
  {
   "cell_type": "code",
   "execution_count": 150,
   "id": "1602e30f",
   "metadata": {},
   "outputs": [],
   "source": [
    "def eval_similarity(avail_window, target_window):\n",
    "\n",
    "    l, r = 0, 0\n",
    "    pairs = []\n",
    "\n",
    "    while l<len(target_window) and r<len(avail_window):\n",
    "        if target_window[3][l]==avail_window['word'][r]:\n",
    "            pairs.append([(target_window[3][l], target_window[5][l]), (avail_window['word'][r], avail_window['pa.32'][r])])\n",
    "            l+=1\n",
    "            r+=1\n",
    "        else:\n",
    "            # print('mismatched pair', target_window[3][l], avail_window['word'][r], l, r)\n",
    "            l+=1\n",
    "\n",
    "    v1 = []\n",
    "    v2 = []\n",
    "    \n",
    "    t1 = []\n",
    "    t2 = []\n",
    "    \n",
    "    for pair in pairs:\n",
    "        v1.append(pair[0][-1])\n",
    "        v2.append(pair[1][-1])\n",
    "        \n",
    "        t1.append(pair[0][0])\n",
    "        t2.append(pair[1][0])\n",
    "\n",
    "    v1 = np.asarray(v1)\n",
    "    v2 = np.asarray(v2)\n",
    "    \n",
    "    # print(t1)\n",
    "    # print(t2)\n",
    "    \n",
    "    assert t1==t2\n",
    "    assert v1.shape[0]==v2.shape[0]\n",
    "    \n",
    "    result = 1 - spatial.distance.cosine(v1, v2)\n",
    "\n",
    "    v1_norm = preprocessing.normalize([v1])\n",
    "    v2_norm = v2\n",
    "    \n",
    "    plt.figure(figsize=(4,4))\n",
    "    sns.distplot(v2, hist=False, kde=True, label='ground_truth', color='green')\n",
    "    sns.distplot(v1_norm[0], hist=False, kde=True, label='wavelet_pred', color='orange')\n",
    "    plt.show()\n",
    "\n",
    "    return result\n",
    "\n"
   ]
  },
  {
   "cell_type": "markdown",
   "id": "bff06e7e",
   "metadata": {},
   "source": [
    "### Multi-file analysis"
   ]
  },
  {
   "cell_type": "code",
   "execution_count": 151,
   "id": "e993b19f",
   "metadata": {
    "scrolled": true
   },
   "outputs": [
    {
     "data": {
      "text/plain": [
       "array(['s02-1', 's03-1', 's04-1', 's10-1', 's11-1', 's14-1', 's16-1',\n",
       "       's17-1', 's21-1', 's22-1', 's24-1', 's25-1', 's26-1', 's32-1',\n",
       "       's33-1', 's35-1'], dtype=object)"
      ]
     },
     "execution_count": 151,
     "metadata": {},
     "output_type": "execute_result"
    }
   ],
   "source": [
    "annotations['filename'].unique()"
   ]
  },
  {
   "cell_type": "markdown",
   "id": "95078457",
   "metadata": {},
   "source": [
    "#### S14"
   ]
  },
  {
   "cell_type": "code",
   "execution_count": 152,
   "id": "ebb9c3ad",
   "metadata": {
    "scrolled": true
   },
   "outputs": [],
   "source": [
    "predictions = pd.read_table('../emphases/baselines/prominence/test_outputs_buckeye_v1/s14-1.prom', header=None)\n",
    "avail_window = annotations[annotations['filename']==\"s14-1\"].reset_index(drop=True)\n",
    "# manually finding out the window indices\n",
    "target_window = predictions[1:-1].reset_index(drop=True)"
   ]
  },
  {
   "cell_type": "code",
   "execution_count": 153,
   "id": "ba1cd439",
   "metadata": {
    "scrolled": true
   },
   "outputs": [],
   "source": [
    "# predictions = pd.read_table('../emphases/baselines/prominence/test_outputs_buckeye/s1401a.prom', header=None)\n",
    "# avail_window = annotations[annotations['filename']==\"s14-1\"].reset_index(drop=True)\n",
    "# # manually finding out the window indices\n",
    "# target_window = predictions[5:72].reset_index(drop=True)"
   ]
  },
  {
   "cell_type": "code",
   "execution_count": 154,
   "id": "ada29313",
   "metadata": {
    "scrolled": true
   },
   "outputs": [
    {
     "data": {
      "image/png": "[encoded data removed]",
      "text/plain": [
       "<Figure size 288x288 with 1 Axes>"
      ]
     },
     "metadata": {
      "needs_background": "light"
     },
     "output_type": "display_data"
    },
    {
     "data": {
      "text/plain": [
       "0.53939755098918"
      ]
     },
     "execution_count": 154,
     "metadata": {},
     "output_type": "execute_result"
    }
   ],
   "source": [
    "eval_similarity(avail_window, target_window)"
   ]
  },
  {
   "cell_type": "markdown",
   "id": "e67cec48",
   "metadata": {},
   "source": [
    "#### S17"
   ]
  },
  {
   "cell_type": "code",
   "execution_count": 155,
   "id": "178d749b",
   "metadata": {},
   "outputs": [],
   "source": [
    "# predictions = pd.read_table('../emphases/baselines/prominence/test_outputs_buckeye/s1701a.prom', header=None)\n",
    "# avail_window = annotations[annotations['filename']==\"s17-1\"].reset_index(drop=True)\n",
    "# target_window = predictions[606:656].reset_index(drop=True)\n",
    "\n",
    "predictions = pd.read_table('../emphases/baselines/prominence/test_outputs_buckeye_v1/s17-1.prom', header=None)\n",
    "avail_window = annotations[annotations['filename']==\"s17-1\"].reset_index(drop=True)\n",
    "target_window = predictions[1:-1].reset_index(drop=True)"
   ]
  },
  {
   "cell_type": "code",
   "execution_count": 156,
   "id": "1c59754f",
   "metadata": {},
   "outputs": [
    {
     "data": {
      "image/png": "[encoded data removed]",
      "text/plain": [
       "<Figure size 288x288 with 1 Axes>"
      ]
     },
     "metadata": {
      "needs_background": "light"
     },
     "output_type": "display_data"
    },
    {
     "data": {
      "text/plain": [
       "0.5422413115832743"
      ]
     },
     "execution_count": 156,
     "metadata": {},
     "output_type": "execute_result"
    }
   ],
   "source": [
    "eval_similarity(avail_window, target_window)"
   ]
  },
  {
   "cell_type": "markdown",
   "id": "c90ab990",
   "metadata": {},
   "source": [
    "#### S21"
   ]
  },
  {
   "cell_type": "code",
   "execution_count": 157,
   "id": "d8f2cf8f",
   "metadata": {},
   "outputs": [],
   "source": [
    "# predictions = pd.read_table('../emphases/baselines/prominence/test_outputs_buckeye/s2101b.prom', header=None)\n",
    "# avail_window = annotations[annotations['filename']==\"s21-1\"].reset_index(drop=True)\n",
    "# target_window = predictions[537:582].reset_index(drop=True)\n",
    "\n",
    "predictions = pd.read_table('../emphases/baselines/prominence/test_outputs_buckeye_v1/s21-1.prom', header=None)\n",
    "avail_window = annotations[annotations['filename']==\"s21-1\"].reset_index(drop=True)\n",
    "target_window = predictions[1:-1].reset_index(drop=True)"
   ]
  },
  {
   "cell_type": "code",
   "execution_count": 158,
   "id": "fd22c241",
   "metadata": {
    "scrolled": true
   },
   "outputs": [
    {
     "data": {
      "image/png": "[encoded data removed]",
      "text/plain": [
       "<Figure size 288x288 with 1 Axes>"
      ]
     },
     "metadata": {
      "needs_background": "light"
     },
     "output_type": "display_data"
    },
    {
     "data": {
      "text/plain": [
       "0.5021034293274435"
      ]
     },
     "execution_count": 158,
     "metadata": {},
     "output_type": "execute_result"
    }
   ],
   "source": [
    "eval_similarity(avail_window, target_window)"
   ]
  },
  {
   "cell_type": "markdown",
   "id": "4f73c3a6",
   "metadata": {},
   "source": [
    "#### S22"
   ]
  },
  {
   "cell_type": "code",
   "execution_count": 159,
   "id": "fedf5482",
   "metadata": {},
   "outputs": [],
   "source": [
    "# predictions = pd.read_table('../emphases/baselines/prominence/test_outputs_buckeye/s2201a.prom', header=None)\n",
    "# avail_window = annotations[annotations['filename']==\"s22-1\"].reset_index(drop=True)\n",
    "# target_window = predictions[15:48].reset_index(drop=True)\n",
    "\n",
    "predictions = pd.read_table('../emphases/baselines/prominence/test_outputs_buckeye_v1/s22-1.prom', header=None)\n",
    "avail_window = annotations[annotations['filename']==\"s22-1\"].reset_index(drop=True)\n",
    "target_window = predictions[1:-1].reset_index(drop=True)"
   ]
  },
  {
   "cell_type": "code",
   "execution_count": 160,
   "id": "5dac172e",
   "metadata": {
    "scrolled": true
   },
   "outputs": [
    {
     "data": {
      "image/png": "[encoded data removed]",
      "text/plain": [
       "<Figure size 288x288 with 1 Axes>"
      ]
     },
     "metadata": {
      "needs_background": "light"
     },
     "output_type": "display_data"
    },
    {
     "data": {
      "text/plain": [
       "0.5649922680385793"
      ]
     },
     "execution_count": 160,
     "metadata": {},
     "output_type": "execute_result"
    }
   ],
   "source": [
    "eval_similarity(avail_window, target_window)"
   ]
  },
  {
   "cell_type": "markdown",
   "id": "faa4066d",
   "metadata": {},
   "source": [
    "#### S25"
   ]
  },
  {
   "cell_type": "code",
   "execution_count": 161,
   "id": "c5e3cb36",
   "metadata": {},
   "outputs": [],
   "source": [
    "# predictions = pd.read_table('../emphases/baselines/prominence/test_outputs_buckeye/s2501a.prom', header=None)\n",
    "# avail_window = annotations[annotations['filename']==\"s25-1\"].reset_index(drop=True)\n",
    "# target_window = predictions[494:572].reset_index(drop=True)\n",
    "\n",
    "predictions = pd.read_table('../emphases/baselines/prominence/test_outputs_buckeye_v1/s25-1.prom', header=None)\n",
    "avail_window = annotations[annotations['filename']==\"s25-1\"].reset_index(drop=True)\n",
    "target_window = predictions[1:-1].reset_index(drop=True)"
   ]
  },
  {
   "cell_type": "code",
   "execution_count": 162,
   "id": "b6403718",
   "metadata": {
    "scrolled": true
   },
   "outputs": [
    {
     "data": {
      "image/png": "[encoded data removed]",
      "text/plain": [
       "<Figure size 288x288 with 1 Axes>"
      ]
     },
     "metadata": {
      "needs_background": "light"
     },
     "output_type": "display_data"
    },
    {
     "data": {
      "text/plain": [
       "0.42704963872064283"
      ]
     },
     "execution_count": 162,
     "metadata": {},
     "output_type": "execute_result"
    }
   ],
   "source": [
    "eval_similarity(avail_window, target_window)"
   ]
  },
  {
   "cell_type": "markdown",
   "id": "ffdeb7c3",
   "metadata": {},
   "source": [
    "#### S26"
   ]
  },
  {
   "cell_type": "code",
   "execution_count": 163,
   "id": "0bdd8ce5",
   "metadata": {},
   "outputs": [],
   "source": [
    "# predictions = pd.read_table('../emphases/baselines/prominence/test_outputs_buckeye/s2601a.prom', header=None)\n",
    "# avail_window = annotations[annotations['filename']==\"s26-1\"].reset_index(drop=True)\n",
    "# target_window = predictions[427:480].reset_index(drop=True)\n",
    "\n",
    "predictions = pd.read_table('../emphases/baselines/prominence/test_outputs_buckeye_v1/s26-1.prom', header=None)\n",
    "avail_window = annotations[annotations['filename']==\"s26-1\"].reset_index(drop=True)\n",
    "target_window = predictions[1:-1].reset_index(drop=True)"
   ]
  },
  {
   "cell_type": "code",
   "execution_count": 164,
   "id": "401b68c8",
   "metadata": {
    "scrolled": true
   },
   "outputs": [
    {
     "data": {
      "image/png": "[encoded data removed]",
      "text/plain": [
       "<Figure size 288x288 with 1 Axes>"
      ]
     },
     "metadata": {
      "needs_background": "light"
     },
     "output_type": "display_data"
    },
    {
     "data": {
      "text/plain": [
       "0.6256952818119855"
      ]
     },
     "execution_count": 164,
     "metadata": {},
     "output_type": "execute_result"
    }
   ],
   "source": [
    "eval_similarity(avail_window, target_window)"
   ]
  },
  {
   "cell_type": "markdown",
   "id": "4b758450",
   "metadata": {},
   "source": [
    "#### S32"
   ]
  },
  {
   "cell_type": "code",
   "execution_count": 165,
   "id": "bb887ad1",
   "metadata": {},
   "outputs": [],
   "source": [
    "# predictions = pd.read_table('../emphases/baselines/prominence/test_outputs_buckeye/s3201a.prom', header=None)\n",
    "# avail_window = annotations[annotations['filename']==\"s32-1\"].reset_index(drop=True)\n",
    "# target_window = predictions[129:195].reset_index(drop=True)\n",
    "\n",
    "predictions = pd.read_table('../emphases/baselines/prominence/test_outputs_buckeye_v1/s32-1.prom', header=None)\n",
    "avail_window = annotations[annotations['filename']==\"s32-1\"].reset_index(drop=True)\n",
    "target_window = predictions[1:-1].reset_index(drop=True)\n",
    "\n"
   ]
  },
  {
   "cell_type": "code",
   "execution_count": 166,
   "id": "8f5f6651",
   "metadata": {
    "scrolled": false
   },
   "outputs": [
    {
     "data": {
      "image/png": "[encoded data removed]",
      "text/plain": [
       "<Figure size 288x288 with 1 Axes>"
      ]
     },
     "metadata": {
      "needs_background": "light"
     },
     "output_type": "display_data"
    },
    {
     "data": {
      "text/plain": [
       "0.4592244336322495"
      ]
     },
     "execution_count": 166,
     "metadata": {},
     "output_type": "execute_result"
    }
   ],
   "source": [
    "eval_similarity(avail_window, target_window)"
   ]
  },
  {
   "cell_type": "markdown",
   "id": "feceedd6",
   "metadata": {},
   "source": [
    "#### S33"
   ]
  },
  {
   "cell_type": "code",
   "execution_count": 167,
   "id": "d0b9703f",
   "metadata": {},
   "outputs": [],
   "source": [
    "# predictions = pd.read_table('../emphases/baselines/prominence/test_outputs_buckeye/s3301a.prom', header=None)\n",
    "# avail_window = annotations[annotations['filename']==\"s33-1\"].reset_index(drop=True)\n",
    "# target_window = predictions[130:168].reset_index(drop=True)"
   ]
  },
  {
   "cell_type": "code",
   "execution_count": 128,
   "id": "88eb3d66",
   "metadata": {
    "scrolled": true
   },
   "outputs": [],
   "source": [
    "# eval_similarity(avail_window, target_window)"
   ]
  },
  {
   "cell_type": "markdown",
   "id": "b11bf333",
   "metadata": {},
   "source": [
    "#### S35"
   ]
  },
  {
   "cell_type": "code",
   "execution_count": 129,
   "id": "87594a54",
   "metadata": {},
   "outputs": [],
   "source": [
    "# predictions = pd.read_table('../emphases/baselines/prominence/test_outputs_buckeye/s3501a.prom', header=None)\n",
    "# avail_window = annotations[annotations['filename']==\"s35-1\"].reset_index(drop=True)\n",
    "# target_window = predictions[281:337].reset_index(drop=True)"
   ]
  },
  {
   "cell_type": "code",
   "execution_count": 130,
   "id": "2d232070",
   "metadata": {
    "scrolled": true
   },
   "outputs": [],
   "source": [
    "# eval_similarity(avail_window, target_window)"
   ]
  },
  {
   "cell_type": "code",
   "execution_count": null,
   "id": "0d830c64",
   "metadata": {},
   "outputs": [],
   "source": []
  },
  {
   "cell_type": "code",
   "execution_count": null,
   "id": "1ca39bd7",
   "metadata": {},
   "outputs": [],
   "source": []
  }
 ],
 "metadata": {
  "kernelspec": {
   "display_name": "prominence-est-conda-py37",
   "language": "python",
   "name": "prominence-est-conda-py37"
  },
  "language_info": {
   "codemirror_mode": {
    "name": "ipython",
    "version": 3
   },
   "file_extension": ".py",
   "mimetype": "text/x-python",
   "name": "python",
   "nbconvert_exporter": "python",
   "pygments_lexer": "ipython3",
   "version": "3.7.13"
  }
 },
 "nbformat": 4,
 "nbformat_minor": 5
}
