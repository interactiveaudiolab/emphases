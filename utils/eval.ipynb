{
 "cells": [
  {
   "cell_type": "code",
   "execution_count": 1,
   "id": "bcef0053",
   "metadata": {},
   "outputs": [],
   "source": [
    "import os\n",
    "import pandas as pd\n",
    "import numpy as np\n",
    "from scipy import spatial\n",
    "import seaborn as sns\n",
    "import matplotlib.pyplot as plt\n",
    "from scipy import spatial"
   ]
  },
  {
   "cell_type": "code",
   "execution_count": 2,
   "id": "14054de2",
   "metadata": {},
   "outputs": [],
   "source": [
    "import warnings\n",
    "warnings.filterwarnings('ignore')"
   ]
  },
  {
   "cell_type": "code",
   "execution_count": 3,
   "id": "e080cce5",
   "metadata": {},
   "outputs": [],
   "source": [
    "annotations = pd.read_csv('./BuckEye-annotations.csv')"
   ]
  },
  {
   "cell_type": "code",
   "execution_count": 59,
   "id": "f92f3a63",
   "metadata": {
    "scrolled": true
   },
   "outputs": [],
   "source": [
    "speaker_df = annotations[annotations['filename']=='s26-1'][['filename', 'wordmin', 'wordmax', 'word', 'pa.32']]\n",
    "speaker_df.sort_values(by='wordmin').to_csv('tmp', index=False, sep='\\t')\n",
    "\n",
    "speaker_df = speaker_df.sort_values(by='wordmin')\n"
   ]
  },
  {
   "cell_type": "code",
   "execution_count": 60,
   "id": "e41d0be8",
   "metadata": {},
   "outputs": [],
   "source": [
    "def convert_dur(x):\n",
    "    return int(round(x, 4)*16000)"
   ]
  },
  {
   "cell_type": "code",
   "execution_count": 61,
   "id": "2b6c14aa",
   "metadata": {
    "scrolled": true
   },
   "outputs": [
    {
     "data": {
      "text/html": [
       "<div>\n",
       "<style scoped>\n",
       "    .dataframe tbody tr th:only-of-type {\n",
       "        vertical-align: middle;\n",
       "    }\n",
       "\n",
       "    .dataframe tbody tr th {\n",
       "        vertical-align: top;\n",
       "    }\n",
       "\n",
       "    .dataframe thead th {\n",
       "        text-align: right;\n",
       "    }\n",
       "</style>\n",
       "<table border=\"1\" class=\"dataframe\">\n",
       "  <thead>\n",
       "    <tr style=\"text-align: right;\">\n",
       "      <th></th>\n",
       "      <th>filename</th>\n",
       "      <th>wordmin</th>\n",
       "      <th>wordmax</th>\n",
       "      <th>word</th>\n",
       "      <th>pa.32</th>\n",
       "    </tr>\n",
       "  </thead>\n",
       "  <tbody>\n",
       "    <tr>\n",
       "      <th>691</th>\n",
       "      <td>s26-1</td>\n",
       "      <td>0.078187</td>\n",
       "      <td>0.199391</td>\n",
       "      <td>i</td>\n",
       "      <td>0.21875</td>\n",
       "    </tr>\n",
       "    <tr>\n",
       "      <th>692</th>\n",
       "      <td>s26-1</td>\n",
       "      <td>0.199391</td>\n",
       "      <td>0.471469</td>\n",
       "      <td>think</td>\n",
       "      <td>0.46875</td>\n",
       "    </tr>\n",
       "    <tr>\n",
       "      <th>693</th>\n",
       "      <td>s26-1</td>\n",
       "      <td>0.471469</td>\n",
       "      <td>0.607996</td>\n",
       "      <td>that</td>\n",
       "      <td>0.03125</td>\n",
       "    </tr>\n",
       "    <tr>\n",
       "      <th>694</th>\n",
       "      <td>s26-1</td>\n",
       "      <td>0.607996</td>\n",
       "      <td>0.727827</td>\n",
       "      <td>their</td>\n",
       "      <td>0.06250</td>\n",
       "    </tr>\n",
       "    <tr>\n",
       "      <th>695</th>\n",
       "      <td>s26-1</td>\n",
       "      <td>0.727827</td>\n",
       "      <td>1.623617</td>\n",
       "      <td>personalities</td>\n",
       "      <td>0.65625</td>\n",
       "    </tr>\n",
       "    <tr>\n",
       "      <th>696</th>\n",
       "      <td>s26-1</td>\n",
       "      <td>1.623617</td>\n",
       "      <td>1.724787</td>\n",
       "      <td>are</td>\n",
       "      <td>0.00000</td>\n",
       "    </tr>\n",
       "    <tr>\n",
       "      <th>697</th>\n",
       "      <td>s26-1</td>\n",
       "      <td>1.724787</td>\n",
       "      <td>2.198187</td>\n",
       "      <td>different</td>\n",
       "      <td>0.21875</td>\n",
       "    </tr>\n",
       "    <tr>\n",
       "      <th>698</th>\n",
       "      <td>s26-1</td>\n",
       "      <td>2.198187</td>\n",
       "      <td>2.383859</td>\n",
       "      <td>too</td>\n",
       "      <td>0.25000</td>\n",
       "    </tr>\n",
       "    <tr>\n",
       "      <th>699</th>\n",
       "      <td>s26-1</td>\n",
       "      <td>2.383859</td>\n",
       "      <td>2.798188</td>\n",
       "      <td>though</td>\n",
       "      <td>0.15625</td>\n",
       "    </tr>\n",
       "    <tr>\n",
       "      <th>700</th>\n",
       "      <td>s26-1</td>\n",
       "      <td>3.218187</td>\n",
       "      <td>3.608188</td>\n",
       "      <td>so</td>\n",
       "      <td>0.12500</td>\n",
       "    </tr>\n",
       "    <tr>\n",
       "      <th>701</th>\n",
       "      <td>s26-1</td>\n",
       "      <td>3.608188</td>\n",
       "      <td>3.787456</td>\n",
       "      <td>he</td>\n",
       "      <td>0.12500</td>\n",
       "    </tr>\n",
       "    <tr>\n",
       "      <th>702</th>\n",
       "      <td>s26-1</td>\n",
       "      <td>3.787456</td>\n",
       "      <td>4.027120</td>\n",
       "      <td>was</td>\n",
       "      <td>0.03125</td>\n",
       "    </tr>\n",
       "    <tr>\n",
       "      <th>703</th>\n",
       "      <td>s26-1</td>\n",
       "      <td>4.027120</td>\n",
       "      <td>4.459525</td>\n",
       "      <td>very</td>\n",
       "      <td>0.46875</td>\n",
       "    </tr>\n",
       "    <tr>\n",
       "      <th>704</th>\n",
       "      <td>s26-1</td>\n",
       "      <td>4.459525</td>\n",
       "      <td>5.220523</td>\n",
       "      <td>independent</td>\n",
       "      <td>0.65625</td>\n",
       "    </tr>\n",
       "    <tr>\n",
       "      <th>705</th>\n",
       "      <td>s26-1</td>\n",
       "      <td>5.220523</td>\n",
       "      <td>5.318187</td>\n",
       "      <td>but</td>\n",
       "      <td>0.00000</td>\n",
       "    </tr>\n",
       "    <tr>\n",
       "      <th>706</th>\n",
       "      <td>s26-1</td>\n",
       "      <td>5.318187</td>\n",
       "      <td>5.432684</td>\n",
       "      <td>i'm</td>\n",
       "      <td>0.00000</td>\n",
       "    </tr>\n",
       "    <tr>\n",
       "      <th>707</th>\n",
       "      <td>s26-1</td>\n",
       "      <td>5.432684</td>\n",
       "      <td>5.652699</td>\n",
       "      <td>not</td>\n",
       "      <td>0.03125</td>\n",
       "    </tr>\n",
       "    <tr>\n",
       "      <th>708</th>\n",
       "      <td>s26-1</td>\n",
       "      <td>5.652699</td>\n",
       "      <td>6.108187</td>\n",
       "      <td>sure</td>\n",
       "      <td>0.09375</td>\n",
       "    </tr>\n",
       "    <tr>\n",
       "      <th>709</th>\n",
       "      <td>s26-1</td>\n",
       "      <td>6.108187</td>\n",
       "      <td>6.282947</td>\n",
       "      <td>that</td>\n",
       "      <td>0.00000</td>\n",
       "    </tr>\n",
       "    <tr>\n",
       "      <th>710</th>\n",
       "      <td>s26-1</td>\n",
       "      <td>6.282947</td>\n",
       "      <td>6.644749</td>\n",
       "      <td>that's</td>\n",
       "      <td>0.00000</td>\n",
       "    </tr>\n",
       "    <tr>\n",
       "      <th>711</th>\n",
       "      <td>s26-1</td>\n",
       "      <td>6.644749</td>\n",
       "      <td>7.075986</td>\n",
       "      <td>just</td>\n",
       "      <td>0.06250</td>\n",
       "    </tr>\n",
       "    <tr>\n",
       "      <th>712</th>\n",
       "      <td>s26-1</td>\n",
       "      <td>7.530512</td>\n",
       "      <td>7.745821</td>\n",
       "      <td>his</td>\n",
       "      <td>0.03125</td>\n",
       "    </tr>\n",
       "    <tr>\n",
       "      <th>713</th>\n",
       "      <td>s26-1</td>\n",
       "      <td>7.745821</td>\n",
       "      <td>8.738499</td>\n",
       "      <td>personality</td>\n",
       "      <td>0.71875</td>\n",
       "    </tr>\n",
       "    <tr>\n",
       "      <th>714</th>\n",
       "      <td>s26-1</td>\n",
       "      <td>8.738499</td>\n",
       "      <td>8.838893</td>\n",
       "      <td>or</td>\n",
       "      <td>0.00000</td>\n",
       "    </tr>\n",
       "    <tr>\n",
       "      <th>715</th>\n",
       "      <td>s26-1</td>\n",
       "      <td>8.838893</td>\n",
       "      <td>9.003070</td>\n",
       "      <td>if</td>\n",
       "      <td>0.00000</td>\n",
       "    </tr>\n",
       "    <tr>\n",
       "      <th>716</th>\n",
       "      <td>s26-1</td>\n",
       "      <td>9.003070</td>\n",
       "      <td>9.114059</td>\n",
       "      <td>it</td>\n",
       "      <td>0.03125</td>\n",
       "    </tr>\n",
       "    <tr>\n",
       "      <th>717</th>\n",
       "      <td>s26-1</td>\n",
       "      <td>9.114059</td>\n",
       "      <td>9.358500</td>\n",
       "      <td>was</td>\n",
       "      <td>0.00000</td>\n",
       "    </tr>\n",
       "    <tr>\n",
       "      <th>718</th>\n",
       "      <td>s26-1</td>\n",
       "      <td>9.358500</td>\n",
       "      <td>9.699464</td>\n",
       "      <td>just</td>\n",
       "      <td>0.03125</td>\n",
       "    </tr>\n",
       "    <tr>\n",
       "      <th>719</th>\n",
       "      <td>s26-1</td>\n",
       "      <td>9.699464</td>\n",
       "      <td>9.867425</td>\n",
       "      <td>he</td>\n",
       "      <td>0.00000</td>\n",
       "    </tr>\n",
       "    <tr>\n",
       "      <th>720</th>\n",
       "      <td>s26-1</td>\n",
       "      <td>9.867425</td>\n",
       "      <td>10.048500</td>\n",
       "      <td>was</td>\n",
       "      <td>0.00000</td>\n",
       "    </tr>\n",
       "    <tr>\n",
       "      <th>721</th>\n",
       "      <td>s26-1</td>\n",
       "      <td>10.048500</td>\n",
       "      <td>10.679904</td>\n",
       "      <td>adapting</td>\n",
       "      <td>0.56250</td>\n",
       "    </tr>\n",
       "    <tr>\n",
       "      <th>722</th>\n",
       "      <td>s26-1</td>\n",
       "      <td>10.679904</td>\n",
       "      <td>11.006806</td>\n",
       "      <td>to</td>\n",
       "      <td>0.00000</td>\n",
       "    </tr>\n",
       "    <tr>\n",
       "      <th>723</th>\n",
       "      <td>s26-1</td>\n",
       "      <td>11.006806</td>\n",
       "      <td>11.187535</td>\n",
       "      <td>his</td>\n",
       "      <td>0.00000</td>\n",
       "    </tr>\n",
       "    <tr>\n",
       "      <th>724</th>\n",
       "      <td>s26-1</td>\n",
       "      <td>11.187535</td>\n",
       "      <td>11.832588</td>\n",
       "      <td>environment</td>\n",
       "      <td>0.65625</td>\n",
       "    </tr>\n",
       "    <tr>\n",
       "      <th>725</th>\n",
       "      <td>s26-1</td>\n",
       "      <td>11.832588</td>\n",
       "      <td>12.023407</td>\n",
       "      <td>and</td>\n",
       "      <td>0.00000</td>\n",
       "    </tr>\n",
       "    <tr>\n",
       "      <th>726</th>\n",
       "      <td>s26-1</td>\n",
       "      <td>12.023407</td>\n",
       "      <td>12.218500</td>\n",
       "      <td>where</td>\n",
       "      <td>0.34375</td>\n",
       "    </tr>\n",
       "    <tr>\n",
       "      <th>727</th>\n",
       "      <td>s26-1</td>\n",
       "      <td>12.218500</td>\n",
       "      <td>12.280750</td>\n",
       "      <td>he</td>\n",
       "      <td>0.12500</td>\n",
       "    </tr>\n",
       "    <tr>\n",
       "      <th>728</th>\n",
       "      <td>s26-1</td>\n",
       "      <td>12.280750</td>\n",
       "      <td>12.498499</td>\n",
       "      <td>was</td>\n",
       "      <td>0.15625</td>\n",
       "    </tr>\n",
       "    <tr>\n",
       "      <th>729</th>\n",
       "      <td>s26-1</td>\n",
       "      <td>12.498499</td>\n",
       "      <td>12.884816</td>\n",
       "      <td>put</td>\n",
       "      <td>0.50000</td>\n",
       "    </tr>\n",
       "    <tr>\n",
       "      <th>730</th>\n",
       "      <td>s26-1</td>\n",
       "      <td>12.884816</td>\n",
       "      <td>13.268500</td>\n",
       "      <td>being</td>\n",
       "      <td>0.34375</td>\n",
       "    </tr>\n",
       "    <tr>\n",
       "      <th>731</th>\n",
       "      <td>s26-1</td>\n",
       "      <td>13.268500</td>\n",
       "      <td>13.725601</td>\n",
       "      <td>put</td>\n",
       "      <td>0.50000</td>\n",
       "    </tr>\n",
       "    <tr>\n",
       "      <th>732</th>\n",
       "      <td>s26-1</td>\n",
       "      <td>13.725601</td>\n",
       "      <td>14.078499</td>\n",
       "      <td>and</td>\n",
       "      <td>0.03125</td>\n",
       "    </tr>\n",
       "    <tr>\n",
       "      <th>733</th>\n",
       "      <td>s26-1</td>\n",
       "      <td>14.958868</td>\n",
       "      <td>15.191078</td>\n",
       "      <td>being</td>\n",
       "      <td>0.03125</td>\n",
       "    </tr>\n",
       "    <tr>\n",
       "      <th>734</th>\n",
       "      <td>s26-1</td>\n",
       "      <td>15.191078</td>\n",
       "      <td>15.332519</td>\n",
       "      <td>in</td>\n",
       "      <td>0.00000</td>\n",
       "    </tr>\n",
       "    <tr>\n",
       "      <th>735</th>\n",
       "      <td>s26-1</td>\n",
       "      <td>15.332519</td>\n",
       "      <td>16.153658</td>\n",
       "      <td>daycare</td>\n",
       "      <td>0.65625</td>\n",
       "    </tr>\n",
       "    <tr>\n",
       "      <th>736</th>\n",
       "      <td>s26-1</td>\n",
       "      <td>16.153658</td>\n",
       "      <td>16.603517</td>\n",
       "      <td>from</td>\n",
       "      <td>0.03125</td>\n",
       "    </tr>\n",
       "    <tr>\n",
       "      <th>737</th>\n",
       "      <td>s26-1</td>\n",
       "      <td>16.603517</td>\n",
       "      <td>16.780317</td>\n",
       "      <td>a</td>\n",
       "      <td>0.00000</td>\n",
       "    </tr>\n",
       "    <tr>\n",
       "      <th>738</th>\n",
       "      <td>s26-1</td>\n",
       "      <td>16.780317</td>\n",
       "      <td>17.088738</td>\n",
       "      <td>very</td>\n",
       "      <td>0.31250</td>\n",
       "    </tr>\n",
       "    <tr>\n",
       "      <th>909</th>\n",
       "      <td>s26-1</td>\n",
       "      <td>17.088738</td>\n",
       "      <td>17.368669</td>\n",
       "      <td>very</td>\n",
       "      <td>0.31250</td>\n",
       "    </tr>\n",
       "    <tr>\n",
       "      <th>739</th>\n",
       "      <td>s26-1</td>\n",
       "      <td>17.368669</td>\n",
       "      <td>17.598512</td>\n",
       "      <td>young</td>\n",
       "      <td>0.18750</td>\n",
       "    </tr>\n",
       "    <tr>\n",
       "      <th>740</th>\n",
       "      <td>s26-1</td>\n",
       "      <td>17.598512</td>\n",
       "      <td>17.991399</td>\n",
       "      <td>age</td>\n",
       "      <td>0.21875</td>\n",
       "    </tr>\n",
       "    <tr>\n",
       "      <th>741</th>\n",
       "      <td>s26-1</td>\n",
       "      <td>17.991399</td>\n",
       "      <td>18.211420</td>\n",
       "      <td>and</td>\n",
       "      <td>0.00000</td>\n",
       "    </tr>\n",
       "  </tbody>\n",
       "</table>\n",
       "</div>"
      ],
      "text/plain": [
       "    filename    wordmin    wordmax           word    pa.32\n",
       "691    s26-1   0.078187   0.199391              i  0.21875\n",
       "692    s26-1   0.199391   0.471469          think  0.46875\n",
       "693    s26-1   0.471469   0.607996           that  0.03125\n",
       "694    s26-1   0.607996   0.727827          their  0.06250\n",
       "695    s26-1   0.727827   1.623617  personalities  0.65625\n",
       "696    s26-1   1.623617   1.724787            are  0.00000\n",
       "697    s26-1   1.724787   2.198187      different  0.21875\n",
       "698    s26-1   2.198187   2.383859            too  0.25000\n",
       "699    s26-1   2.383859   2.798188         though  0.15625\n",
       "700    s26-1   3.218187   3.608188             so  0.12500\n",
       "701    s26-1   3.608188   3.787456             he  0.12500\n",
       "702    s26-1   3.787456   4.027120            was  0.03125\n",
       "703    s26-1   4.027120   4.459525           very  0.46875\n",
       "704    s26-1   4.459525   5.220523    independent  0.65625\n",
       "705    s26-1   5.220523   5.318187            but  0.00000\n",
       "706    s26-1   5.318187   5.432684            i'm  0.00000\n",
       "707    s26-1   5.432684   5.652699            not  0.03125\n",
       "708    s26-1   5.652699   6.108187           sure  0.09375\n",
       "709    s26-1   6.108187   6.282947           that  0.00000\n",
       "710    s26-1   6.282947   6.644749         that's  0.00000\n",
       "711    s26-1   6.644749   7.075986           just  0.06250\n",
       "712    s26-1   7.530512   7.745821            his  0.03125\n",
       "713    s26-1   7.745821   8.738499    personality  0.71875\n",
       "714    s26-1   8.738499   8.838893             or  0.00000\n",
       "715    s26-1   8.838893   9.003070             if  0.00000\n",
       "716    s26-1   9.003070   9.114059             it  0.03125\n",
       "717    s26-1   9.114059   9.358500            was  0.00000\n",
       "718    s26-1   9.358500   9.699464           just  0.03125\n",
       "719    s26-1   9.699464   9.867425             he  0.00000\n",
       "720    s26-1   9.867425  10.048500            was  0.00000\n",
       "721    s26-1  10.048500  10.679904       adapting  0.56250\n",
       "722    s26-1  10.679904  11.006806             to  0.00000\n",
       "723    s26-1  11.006806  11.187535            his  0.00000\n",
       "724    s26-1  11.187535  11.832588    environment  0.65625\n",
       "725    s26-1  11.832588  12.023407            and  0.00000\n",
       "726    s26-1  12.023407  12.218500          where  0.34375\n",
       "727    s26-1  12.218500  12.280750             he  0.12500\n",
       "728    s26-1  12.280750  12.498499            was  0.15625\n",
       "729    s26-1  12.498499  12.884816            put  0.50000\n",
       "730    s26-1  12.884816  13.268500          being  0.34375\n",
       "731    s26-1  13.268500  13.725601            put  0.50000\n",
       "732    s26-1  13.725601  14.078499            and  0.03125\n",
       "733    s26-1  14.958868  15.191078          being  0.03125\n",
       "734    s26-1  15.191078  15.332519             in  0.00000\n",
       "735    s26-1  15.332519  16.153658        daycare  0.65625\n",
       "736    s26-1  16.153658  16.603517           from  0.03125\n",
       "737    s26-1  16.603517  16.780317              a  0.00000\n",
       "738    s26-1  16.780317  17.088738           very  0.31250\n",
       "909    s26-1  17.088738  17.368669           very  0.31250\n",
       "739    s26-1  17.368669  17.598512          young  0.18750\n",
       "740    s26-1  17.598512  17.991399            age  0.21875\n",
       "741    s26-1  17.991399  18.211420            and  0.00000"
      ]
     },
     "execution_count": 61,
     "metadata": {},
     "output_type": "execute_result"
    }
   ],
   "source": [
    "speaker_df"
   ]
  },
  {
   "cell_type": "code",
   "execution_count": 62,
   "id": "4f878de5",
   "metadata": {
    "scrolled": true
   },
   "outputs": [
    {
     "data": {
      "text/plain": [
       "([0.07819,\n",
       "  0.19939,\n",
       "  0.47147,\n",
       "  0.608,\n",
       "  0.72783,\n",
       "  1.62362,\n",
       "  1.72479,\n",
       "  2.19819,\n",
       "  2.38386,\n",
       "  3.21819,\n",
       "  3.60819,\n",
       "  3.78746,\n",
       "  4.02712,\n",
       "  4.45953,\n",
       "  5.22052,\n",
       "  5.31819,\n",
       "  5.43268,\n",
       "  5.6527,\n",
       "  6.10819,\n",
       "  6.28295,\n",
       "  6.64475,\n",
       "  7.53051,\n",
       "  7.74582,\n",
       "  8.7385,\n",
       "  8.83889,\n",
       "  9.00307,\n",
       "  9.11406,\n",
       "  9.3585,\n",
       "  9.69946,\n",
       "  9.86743,\n",
       "  10.0485,\n",
       "  10.6799,\n",
       "  11.00681,\n",
       "  11.18754,\n",
       "  11.83259,\n",
       "  12.02341,\n",
       "  12.2185,\n",
       "  12.28075,\n",
       "  12.4985,\n",
       "  12.88482,\n",
       "  13.2685,\n",
       "  13.7256,\n",
       "  14.95887,\n",
       "  15.19108,\n",
       "  15.33252,\n",
       "  16.15366,\n",
       "  16.60352,\n",
       "  16.78032,\n",
       "  17.08874,\n",
       "  17.36867,\n",
       "  17.59851,\n",
       "  17.9914],\n",
       " [0.19939,\n",
       "  0.47147,\n",
       "  0.608,\n",
       "  0.72783,\n",
       "  1.62362,\n",
       "  1.72479,\n",
       "  2.19819,\n",
       "  2.38386,\n",
       "  2.79819,\n",
       "  3.60819,\n",
       "  3.78746,\n",
       "  4.02712,\n",
       "  4.45953,\n",
       "  5.22052,\n",
       "  5.31819,\n",
       "  5.43268,\n",
       "  5.6527,\n",
       "  6.10819,\n",
       "  6.28295,\n",
       "  6.64475,\n",
       "  7.07599,\n",
       "  7.74582,\n",
       "  8.7385,\n",
       "  8.83889,\n",
       "  9.00307,\n",
       "  9.11406,\n",
       "  9.3585,\n",
       "  9.69946,\n",
       "  9.86743,\n",
       "  10.0485,\n",
       "  10.6799,\n",
       "  11.00681,\n",
       "  11.18754,\n",
       "  11.83259,\n",
       "  12.02341,\n",
       "  12.2185,\n",
       "  12.28075,\n",
       "  12.4985,\n",
       "  12.88482,\n",
       "  13.2685,\n",
       "  13.7256,\n",
       "  14.0785,\n",
       "  15.19108,\n",
       "  15.33252,\n",
       "  16.15366,\n",
       "  16.60352,\n",
       "  16.78032,\n",
       "  17.08874,\n",
       "  17.36867,\n",
       "  17.59851,\n",
       "  17.9914,\n",
       "  18.21142])"
      ]
     },
     "execution_count": 62,
     "metadata": {},
     "output_type": "execute_result"
    }
   ],
   "source": [
    "# duration_list = speaker_df.apply(lambda x:(convert_dur(x['wordmin']), convert_dur(x['wordmax'])), axis=1).tolist()\n",
    "# duration_list\n",
    "avail_start_times = speaker_df['wordmin'].apply(lambda x: round(x, 5)).tolist()\n",
    "avail_end_times = speaker_df['wordmax'].apply(lambda x: round(x, 5)).tolist()\n",
    "avail_start_times, avail_end_times"
   ]
  },
  {
   "cell_type": "code",
   "execution_count": 63,
   "id": "d95f90b4",
   "metadata": {},
   "outputs": [],
   "source": [
    "import pypar"
   ]
  },
  {
   "cell_type": "code",
   "execution_count": 64,
   "id": "074296eb",
   "metadata": {},
   "outputs": [],
   "source": [
    "alignment = pypar.Alignment('../data/datasets/Buckeye/s26-1.TextGrid')"
   ]
  },
  {
   "cell_type": "code",
   "execution_count": 65,
   "id": "1d6b01f4",
   "metadata": {},
   "outputs": [
    {
     "data": {
      "text/plain": [
       "(52, 5)"
      ]
     },
     "execution_count": 65,
     "metadata": {},
     "output_type": "execute_result"
    }
   ],
   "source": [
    "speaker_df.shape"
   ]
  },
  {
   "cell_type": "code",
   "execution_count": 66,
   "id": "0192e636",
   "metadata": {
    "scrolled": true
   },
   "outputs": [
    {
     "data": {
      "text/plain": [
       "0      0.00000\n",
       "1      0.07819\n",
       "2      0.19939\n",
       "3      0.47147\n",
       "4      0.60800\n",
       "5      0.72783\n",
       "6      1.62362\n",
       "7      1.72479\n",
       "8      2.19819\n",
       "9      2.38386\n",
       "10     2.79819\n",
       "11     3.21819\n",
       "12     3.60819\n",
       "13     3.78746\n",
       "14     4.02712\n",
       "15     4.45953\n",
       "16     5.22052\n",
       "17     5.31819\n",
       "18     5.43268\n",
       "19     5.65270\n",
       "20     6.10819\n",
       "21     6.28295\n",
       "22     6.51018\n",
       "23     7.07599\n",
       "24     7.53051\n",
       "25     7.74582\n",
       "26     8.73850\n",
       "27     8.83889\n",
       "28     9.00307\n",
       "29     9.11406\n",
       "30     9.35850\n",
       "31     9.69946\n",
       "32     9.86743\n",
       "33    10.04850\n",
       "34    10.67990\n",
       "35    11.00681\n",
       "36    11.18754\n",
       "37    11.83259\n",
       "38    12.02341\n",
       "39    12.21850\n",
       "40    12.28075\n",
       "41    12.49850\n",
       "42    12.88482\n",
       "43    13.26850\n",
       "44    13.72560\n",
       "45    14.07850\n",
       "46    14.95887\n",
       "47    15.19108\n",
       "48    15.33252\n",
       "49    16.15366\n",
       "50    16.60352\n",
       "51    16.78032\n",
       "52    17.08874\n",
       "53    17.36867\n",
       "54    17.59851\n",
       "55    17.99140\n",
       "56    18.21142\n",
       "Name: start, dtype: float64"
      ]
     },
     "execution_count": 66,
     "metadata": {},
     "output_type": "execute_result"
    }
   ],
   "source": [
    "alignment_df = pd.DataFrame(alignment.json()['words'])\n",
    "alignment_df['start']"
   ]
  },
  {
   "cell_type": "code",
   "execution_count": 67,
   "id": "54beb079",
   "metadata": {},
   "outputs": [
    {
     "name": "stdout",
     "output_type": "stream",
     "text": [
      "{'alignedWord': '{B_TRANS}', 'start': 0.0, 'end': 0.07819, 'phonemes': [['{B_TRANS}', 0.0, 0.07819]]}\n",
      "{'alignedWord': '<SIL>', 'start': 2.79819, 'end': 3.21819, 'phonemes': [['SIL', 2.79819, 3.21819]]}\n",
      "{'alignedWord': '<SIL>', 'start': 7.07599, 'end': 7.53051, 'phonemes': [['SIL', 7.07599, 7.53051]]}\n",
      "{'alignedWord': '<SIL>', 'start': 14.0785, 'end': 14.95887, 'phonemes': [['SIL', 14.0785, 14.95887]]}\n",
      "{'alignedWord': '{E_TRANS}', 'start': 18.21142, 'end': 18.29381, 'phonemes': [['{E_TRANS}', 18.21142, 18.29381]]}\n"
     ]
    }
   ],
   "source": [
    "json_align = alignment.json()\n",
    "new_json = {'words':[]}\n",
    "for obj in json_align['words']:\n",
    "    if obj['start'] in avail_start_times or obj['end'] in avail_end_times:\n",
    "        new_json['words'].append(obj)\n",
    "    else:\n",
    "        print(obj)\n",
    "    "
   ]
  },
  {
   "cell_type": "code",
   "execution_count": 56,
   "id": "7d87f62d",
   "metadata": {
    "scrolled": true
   },
   "outputs": [
    {
     "data": {
      "text/plain": [
       "66"
      ]
     },
     "execution_count": 56,
     "metadata": {},
     "output_type": "execute_result"
    }
   ],
   "source": [
    "len(new_json['words'])"
   ]
  },
  {
   "cell_type": "code",
   "execution_count": 37,
   "id": "d54569a1",
   "metadata": {},
   "outputs": [],
   "source": [
    "import json\n",
    "with open('new_json_tmp.json', 'w') as f:\n",
    "    json.dump(new_json, f)"
   ]
  },
  {
   "cell_type": "code",
   "execution_count": 15,
   "id": "c26c9541",
   "metadata": {},
   "outputs": [],
   "source": [
    "new_alignment = pypar.Alignment(new_json)"
   ]
  },
  {
   "cell_type": "code",
   "execution_count": 17,
   "id": "4de23f4c",
   "metadata": {},
   "outputs": [],
   "source": [
    "new_alignment.save_json('s02-1.json')"
   ]
  },
  {
   "cell_type": "code",
   "execution_count": 19,
   "id": "c6898b2b",
   "metadata": {},
   "outputs": [],
   "source": [
    "new_json_align = pypar.Alignment('s02-1.json')"
   ]
  },
  {
   "cell_type": "code",
   "execution_count": 30,
   "id": "6985e80a",
   "metadata": {
    "scrolled": true
   },
   "outputs": [
    {
     "data": {
      "text/plain": [
       "72"
      ]
     },
     "execution_count": 30,
     "metadata": {},
     "output_type": "execute_result"
    }
   ],
   "source": [
    "len(new_json_align.word_bounds(16000))"
   ]
  },
  {
   "cell_type": "code",
   "execution_count": 31,
   "id": "f1d26a86",
   "metadata": {},
   "outputs": [
    {
     "data": {
      "text/plain": [
       "73"
      ]
     },
     "execution_count": 31,
     "metadata": {},
     "output_type": "execute_result"
    }
   ],
   "source": [
    "len(new_json_align.words())"
   ]
  },
  {
   "cell_type": "code",
   "execution_count": null,
   "id": "6034382d",
   "metadata": {},
   "outputs": [],
   "source": []
  },
  {
   "cell_type": "code",
   "execution_count": 24,
   "id": "972b0488",
   "metadata": {
    "scrolled": true
   },
   "outputs": [
    {
     "data": {
      "text/plain": [
       "3660.8"
      ]
     },
     "execution_count": 24,
     "metadata": {},
     "output_type": "execute_result"
    }
   ],
   "source": [
    "0.2288*16000"
   ]
  },
  {
   "cell_type": "code",
   "execution_count": 29,
   "id": "0699c11a",
   "metadata": {},
   "outputs": [
    {
     "data": {
      "text/plain": [
       "338748.8"
      ]
     },
     "execution_count": 29,
     "metadata": {},
     "output_type": "execute_result"
    }
   ],
   "source": [
    "16000*21.1718"
   ]
  },
  {
   "cell_type": "markdown",
   "id": "ef53236b",
   "metadata": {},
   "source": [
    "### Single file analysis"
   ]
  },
  {
   "cell_type": "code",
   "execution_count": 4,
   "id": "34c0c308",
   "metadata": {},
   "outputs": [],
   "source": [
    "# predictions = pd.read_table('../emphases/baselines/prominence/test_outputs_buckeye/s0201b.prom', header=None)\n",
    "# predictions = pd.read_table('../emphases/baselines/prominence/test_outputs_buckeye_v1/s02-1.prom', header=None)\n",
    "# predictions = pd.read_table('../eval/sanity_check_cosine/s02-1.prom', header=None)\n",
    "predictions = pd.read_table('../eval/sanity_check_cosine/s17-1.prom', header=None)"
   ]
  },
  {
   "cell_type": "code",
   "execution_count": 5,
   "id": "85cb9e0c",
   "metadata": {
    "scrolled": true
   },
   "outputs": [],
   "source": [
    "# avail_window = annotations[annotations['filename']==\"s02-1\"].reset_index(drop=True)\n",
    "avail_window = annotations[annotations['filename']==\"s17-1\"].reset_index(drop=True)\n",
    "# target_window = predictions[117:189].reset_index(drop=True)\n",
    "target_window = predictions.reset_index(drop=True)\n",
    "\n",
    "avail_tokens = avail_window['word'].tolist()\n",
    "target_tokens = target_window[3].tolist()"
   ]
  },
  {
   "cell_type": "code",
   "execution_count": 6,
   "id": "91a2428e",
   "metadata": {
    "scrolled": true
   },
   "outputs": [
    {
     "data": {
      "text/html": [
       "<div>\n",
       "<style scoped>\n",
       "    .dataframe tbody tr th:only-of-type {\n",
       "        vertical-align: middle;\n",
       "    }\n",
       "\n",
       "    .dataframe tbody tr th {\n",
       "        vertical-align: top;\n",
       "    }\n",
       "\n",
       "    .dataframe thead th {\n",
       "        text-align: right;\n",
       "    }\n",
       "</style>\n",
       "<table border=\"1\" class=\"dataframe\">\n",
       "  <thead>\n",
       "    <tr style=\"text-align: right;\">\n",
       "      <th></th>\n",
       "      <th>token</th>\n",
       "      <th>word</th>\n",
       "      <th>pos</th>\n",
       "      <th>contfunc</th>\n",
       "      <th>tobiaccent</th>\n",
       "      <th>tobiboundary</th>\n",
       "      <th>accented</th>\n",
       "      <th>boundary</th>\n",
       "      <th>prenuclear</th>\n",
       "      <th>nuclear</th>\n",
       "      <th>...</th>\n",
       "      <th>t31.pi</th>\n",
       "      <th>t32.pi</th>\n",
       "      <th>max.f0.sv.st</th>\n",
       "      <th>min.f0.sv.st</th>\n",
       "      <th>range.f0.sv.st</th>\n",
       "      <th>vel.f0.sv.st</th>\n",
       "      <th>mintime</th>\n",
       "      <th>maxtime</th>\n",
       "      <th>jump</th>\n",
       "      <th>max.f0.sv.st.norm</th>\n",
       "    </tr>\n",
       "  </thead>\n",
       "  <tbody>\n",
       "    <tr>\n",
       "      <th>0</th>\n",
       "      <td>471</td>\n",
       "      <td>well</td>\n",
       "      <td>Discourse</td>\n",
       "      <td>Function</td>\n",
       "      <td>H*</td>\n",
       "      <td>L-</td>\n",
       "      <td>1</td>\n",
       "      <td>1</td>\n",
       "      <td>0</td>\n",
       "      <td>1</td>\n",
       "      <td>...</td>\n",
       "      <td>0</td>\n",
       "      <td>0</td>\n",
       "      <td>96.178341</td>\n",
       "      <td>91.568426</td>\n",
       "      <td>-4.609915</td>\n",
       "      <td>-43.083317</td>\n",
       "      <td>0.255063</td>\n",
       "      <td>0.148063</td>\n",
       "      <td>none</td>\n",
       "      <td>-0.947183</td>\n",
       "    </tr>\n",
       "    <tr>\n",
       "      <th>1</th>\n",
       "      <td>472</td>\n",
       "      <td>it</td>\n",
       "      <td>Pronoun</td>\n",
       "      <td>Function</td>\n",
       "      <td>NaN</td>\n",
       "      <td>NaN</td>\n",
       "      <td>0</td>\n",
       "      <td>0</td>\n",
       "      <td>0</td>\n",
       "      <td>0</td>\n",
       "      <td>...</td>\n",
       "      <td>0</td>\n",
       "      <td>0</td>\n",
       "      <td>97.896786</td>\n",
       "      <td>94.541258</td>\n",
       "      <td>3.355528</td>\n",
       "      <td>40.428049</td>\n",
       "      <td>0.326062</td>\n",
       "      <td>0.409062</td>\n",
       "      <td>none</td>\n",
       "      <td>0.045264</td>\n",
       "    </tr>\n",
       "    <tr>\n",
       "      <th>2</th>\n",
       "      <td>473</td>\n",
       "      <td>could</td>\n",
       "      <td>Verb2</td>\n",
       "      <td>Content</td>\n",
       "      <td>H*</td>\n",
       "      <td>NaN</td>\n",
       "      <td>1</td>\n",
       "      <td>0</td>\n",
       "      <td>1</td>\n",
       "      <td>0</td>\n",
       "      <td>...</td>\n",
       "      <td>0</td>\n",
       "      <td>0</td>\n",
       "      <td>100.212648</td>\n",
       "      <td>98.420079</td>\n",
       "      <td>-1.792568</td>\n",
       "      <td>-37.345172</td>\n",
       "      <td>0.617062</td>\n",
       "      <td>0.569063</td>\n",
       "      <td>none</td>\n",
       "      <td>1.373172</td>\n",
       "    </tr>\n",
       "    <tr>\n",
       "      <th>3</th>\n",
       "      <td>474</td>\n",
       "      <td>have</td>\n",
       "      <td>Verb2</td>\n",
       "      <td>Content</td>\n",
       "      <td>NaN</td>\n",
       "      <td>NaN</td>\n",
       "      <td>0</td>\n",
       "      <td>0</td>\n",
       "      <td>0</td>\n",
       "      <td>0</td>\n",
       "      <td>...</td>\n",
       "      <td>0</td>\n",
       "      <td>0</td>\n",
       "      <td>96.983594</td>\n",
       "      <td>93.743035</td>\n",
       "      <td>-3.240559</td>\n",
       "      <td>-63.540370</td>\n",
       "      <td>0.695063</td>\n",
       "      <td>0.644062</td>\n",
       "      <td>none</td>\n",
       "      <td>0.286963</td>\n",
       "    </tr>\n",
       "    <tr>\n",
       "      <th>4</th>\n",
       "      <td>475</td>\n",
       "      <td>been</td>\n",
       "      <td>Verb2</td>\n",
       "      <td>Content</td>\n",
       "      <td>NaN</td>\n",
       "      <td>NaN</td>\n",
       "      <td>0</td>\n",
       "      <td>0</td>\n",
       "      <td>0</td>\n",
       "      <td>0</td>\n",
       "      <td>...</td>\n",
       "      <td>0</td>\n",
       "      <td>0</td>\n",
       "      <td>93.892994</td>\n",
       "      <td>91.899513</td>\n",
       "      <td>-1.993481</td>\n",
       "      <td>-23.180013</td>\n",
       "      <td>0.887062</td>\n",
       "      <td>0.801063</td>\n",
       "      <td>none</td>\n",
       "      <td>-0.026418</td>\n",
       "    </tr>\n",
       "    <tr>\n",
       "      <th>5</th>\n",
       "      <td>476</td>\n",
       "      <td>prevented</td>\n",
       "      <td>Verb</td>\n",
       "      <td>Content</td>\n",
       "      <td>H*</td>\n",
       "      <td>NaN</td>\n",
       "      <td>1</td>\n",
       "      <td>0</td>\n",
       "      <td>0</td>\n",
       "      <td>1</td>\n",
       "      <td>...</td>\n",
       "      <td>1</td>\n",
       "      <td>1</td>\n",
       "      <td>90.537130</td>\n",
       "      <td>88.653722</td>\n",
       "      <td>-1.883408</td>\n",
       "      <td>-20.696787</td>\n",
       "      <td>1.442063</td>\n",
       "      <td>1.351063</td>\n",
       "      <td>none</td>\n",
       "      <td>-0.502023</td>\n",
       "    </tr>\n",
       "    <tr>\n",
       "      <th>6</th>\n",
       "      <td>477</td>\n",
       "      <td>but</td>\n",
       "      <td>Conjunction</td>\n",
       "      <td>Function</td>\n",
       "      <td>NaN</td>\n",
       "      <td>H-</td>\n",
       "      <td>0</td>\n",
       "      <td>1</td>\n",
       "      <td>0</td>\n",
       "      <td>0</td>\n",
       "      <td>...</td>\n",
       "      <td>0</td>\n",
       "      <td>0</td>\n",
       "      <td>88.465621</td>\n",
       "      <td>87.644154</td>\n",
       "      <td>-0.821467</td>\n",
       "      <td>-12.446468</td>\n",
       "      <td>1.634062</td>\n",
       "      <td>1.568062</td>\n",
       "      <td>none</td>\n",
       "      <td>-1.137913</td>\n",
       "    </tr>\n",
       "    <tr>\n",
       "      <th>7</th>\n",
       "      <td>478</td>\n",
       "      <td>we</td>\n",
       "      <td>Pronoun</td>\n",
       "      <td>Function</td>\n",
       "      <td>NaN</td>\n",
       "      <td>NaN</td>\n",
       "      <td>0</td>\n",
       "      <td>0</td>\n",
       "      <td>0</td>\n",
       "      <td>0</td>\n",
       "      <td>...</td>\n",
       "      <td>0</td>\n",
       "      <td>0</td>\n",
       "      <td>91.100089</td>\n",
       "      <td>89.773652</td>\n",
       "      <td>-1.326437</td>\n",
       "      <td>-55.268223</td>\n",
       "      <td>1.797063</td>\n",
       "      <td>1.773062</td>\n",
       "      <td>none</td>\n",
       "      <td>1.226366</td>\n",
       "    </tr>\n",
       "    <tr>\n",
       "      <th>8</th>\n",
       "      <td>479</td>\n",
       "      <td>didn't</td>\n",
       "      <td>Contraction2</td>\n",
       "      <td>Function</td>\n",
       "      <td>NaN</td>\n",
       "      <td>NaN</td>\n",
       "      <td>0</td>\n",
       "      <td>0</td>\n",
       "      <td>0</td>\n",
       "      <td>0</td>\n",
       "      <td>...</td>\n",
       "      <td>0</td>\n",
       "      <td>0</td>\n",
       "      <td>89.782502</td>\n",
       "      <td>89.322608</td>\n",
       "      <td>-0.459894</td>\n",
       "      <td>-13.526301</td>\n",
       "      <td>1.928063</td>\n",
       "      <td>1.894062</td>\n",
       "      <td>none</td>\n",
       "      <td>0.422634</td>\n",
       "    </tr>\n",
       "    <tr>\n",
       "      <th>9</th>\n",
       "      <td>480</td>\n",
       "      <td>know</td>\n",
       "      <td>Verb</td>\n",
       "      <td>Content</td>\n",
       "      <td>NaN</td>\n",
       "      <td>NaN</td>\n",
       "      <td>0</td>\n",
       "      <td>0</td>\n",
       "      <td>0</td>\n",
       "      <td>0</td>\n",
       "      <td>...</td>\n",
       "      <td>1</td>\n",
       "      <td>0</td>\n",
       "      <td>88.978239</td>\n",
       "      <td>88.061693</td>\n",
       "      <td>-0.916546</td>\n",
       "      <td>-8.812944</td>\n",
       "      <td>2.159063</td>\n",
       "      <td>2.055063</td>\n",
       "      <td>none</td>\n",
       "      <td>-0.307881</td>\n",
       "    </tr>\n",
       "    <tr>\n",
       "      <th>10</th>\n",
       "      <td>481</td>\n",
       "      <td>it</td>\n",
       "      <td>Pronoun</td>\n",
       "      <td>Function</td>\n",
       "      <td>NaN</td>\n",
       "      <td>NaN</td>\n",
       "      <td>0</td>\n",
       "      <td>0</td>\n",
       "      <td>0</td>\n",
       "      <td>0</td>\n",
       "      <td>...</td>\n",
       "      <td>0</td>\n",
       "      <td>0</td>\n",
       "      <td>88.016071</td>\n",
       "      <td>82.868268</td>\n",
       "      <td>-5.147803</td>\n",
       "      <td>-116.995525</td>\n",
       "      <td>2.204063</td>\n",
       "      <td>2.160062</td>\n",
       "      <td>none</td>\n",
       "      <td>-1.473736</td>\n",
       "    </tr>\n",
       "    <tr>\n",
       "      <th>11</th>\n",
       "      <td>482</td>\n",
       "      <td>was</td>\n",
       "      <td>Verb2</td>\n",
       "      <td>Content</td>\n",
       "      <td>NaN</td>\n",
       "      <td>NaN</td>\n",
       "      <td>0</td>\n",
       "      <td>0</td>\n",
       "      <td>0</td>\n",
       "      <td>0</td>\n",
       "      <td>...</td>\n",
       "      <td>0</td>\n",
       "      <td>0</td>\n",
       "      <td>88.812163</td>\n",
       "      <td>87.110645</td>\n",
       "      <td>1.701519</td>\n",
       "      <td>29.851203</td>\n",
       "      <td>2.251063</td>\n",
       "      <td>2.308063</td>\n",
       "      <td>none</td>\n",
       "      <td>-0.371673</td>\n",
       "    </tr>\n",
       "    <tr>\n",
       "      <th>12</th>\n",
       "      <td>483</td>\n",
       "      <td>gonna</td>\n",
       "      <td>Verb2</td>\n",
       "      <td>Content</td>\n",
       "      <td>NaN</td>\n",
       "      <td>NaN</td>\n",
       "      <td>0</td>\n",
       "      <td>0</td>\n",
       "      <td>0</td>\n",
       "      <td>0</td>\n",
       "      <td>...</td>\n",
       "      <td>1</td>\n",
       "      <td>0</td>\n",
       "      <td>89.383300</td>\n",
       "      <td>88.285918</td>\n",
       "      <td>-1.097382</td>\n",
       "      <td>-34.293173</td>\n",
       "      <td>2.488062</td>\n",
       "      <td>2.456062</td>\n",
       "      <td>none</td>\n",
       "      <td>0.403577</td>\n",
       "    </tr>\n",
       "    <tr>\n",
       "      <th>13</th>\n",
       "      <td>484</td>\n",
       "      <td>happen</td>\n",
       "      <td>Verb</td>\n",
       "      <td>Content</td>\n",
       "      <td>H*</td>\n",
       "      <td>NaN</td>\n",
       "      <td>1</td>\n",
       "      <td>0</td>\n",
       "      <td>0</td>\n",
       "      <td>1</td>\n",
       "      <td>...</td>\n",
       "      <td>1</td>\n",
       "      <td>0</td>\n",
       "      <td>90.706740</td>\n",
       "      <td>86.784956</td>\n",
       "      <td>-3.921784</td>\n",
       "      <td>-32.145766</td>\n",
       "      <td>2.805063</td>\n",
       "      <td>2.683063</td>\n",
       "      <td>none</td>\n",
       "      <td>1.263359</td>\n",
       "    </tr>\n",
       "    <tr>\n",
       "      <th>14</th>\n",
       "      <td>485</td>\n",
       "      <td>that</td>\n",
       "      <td>Complementizer</td>\n",
       "      <td>Function</td>\n",
       "      <td>NaN</td>\n",
       "      <td>L-</td>\n",
       "      <td>0</td>\n",
       "      <td>1</td>\n",
       "      <td>0</td>\n",
       "      <td>0</td>\n",
       "      <td>...</td>\n",
       "      <td>0</td>\n",
       "      <td>0</td>\n",
       "      <td>87.446705</td>\n",
       "      <td>86.745400</td>\n",
       "      <td>-0.701305</td>\n",
       "      <td>-24.182935</td>\n",
       "      <td>3.090063</td>\n",
       "      <td>3.061062</td>\n",
       "      <td>none</td>\n",
       "      <td>-0.654511</td>\n",
       "    </tr>\n",
       "    <tr>\n",
       "      <th>15</th>\n",
       "      <td>486</td>\n",
       "      <td>our</td>\n",
       "      <td>Determiner</td>\n",
       "      <td>Function</td>\n",
       "      <td>NaN</td>\n",
       "      <td>NaN</td>\n",
       "      <td>0</td>\n",
       "      <td>0</td>\n",
       "      <td>0</td>\n",
       "      <td>0</td>\n",
       "      <td>...</td>\n",
       "      <td>0</td>\n",
       "      <td>0</td>\n",
       "      <td>86.220848</td>\n",
       "      <td>85.282953</td>\n",
       "      <td>0.937895</td>\n",
       "      <td>17.368433</td>\n",
       "      <td>3.844063</td>\n",
       "      <td>3.898062</td>\n",
       "      <td>none</td>\n",
       "      <td>-0.898437</td>\n",
       "    </tr>\n",
       "    <tr>\n",
       "      <th>16</th>\n",
       "      <td>487</td>\n",
       "      <td>society</td>\n",
       "      <td>Noun</td>\n",
       "      <td>Content</td>\n",
       "      <td>H*</td>\n",
       "      <td>NaN</td>\n",
       "      <td>1</td>\n",
       "      <td>0</td>\n",
       "      <td>1</td>\n",
       "      <td>0</td>\n",
       "      <td>...</td>\n",
       "      <td>0</td>\n",
       "      <td>1</td>\n",
       "      <td>89.254163</td>\n",
       "      <td>86.479810</td>\n",
       "      <td>-2.774353</td>\n",
       "      <td>-23.511465</td>\n",
       "      <td>4.398062</td>\n",
       "      <td>4.280062</td>\n",
       "      <td>none</td>\n",
       "      <td>1.395805</td>\n",
       "    </tr>\n",
       "    <tr>\n",
       "      <th>17</th>\n",
       "      <td>488</td>\n",
       "      <td>was</td>\n",
       "      <td>Verb2</td>\n",
       "      <td>Content</td>\n",
       "      <td>NaN</td>\n",
       "      <td>NaN</td>\n",
       "      <td>0</td>\n",
       "      <td>0</td>\n",
       "      <td>0</td>\n",
       "      <td>0</td>\n",
       "      <td>...</td>\n",
       "      <td>0</td>\n",
       "      <td>0</td>\n",
       "      <td>86.274610</td>\n",
       "      <td>83.618185</td>\n",
       "      <td>2.656426</td>\n",
       "      <td>88.547520</td>\n",
       "      <td>4.650062</td>\n",
       "      <td>4.680063</td>\n",
       "      <td>none</td>\n",
       "      <td>-1.018171</td>\n",
       "    </tr>\n",
       "    <tr>\n",
       "      <th>18</th>\n",
       "      <td>489</td>\n",
       "      <td>gonna</td>\n",
       "      <td>Verb2</td>\n",
       "      <td>Content</td>\n",
       "      <td>NaN</td>\n",
       "      <td>NaN</td>\n",
       "      <td>0</td>\n",
       "      <td>0</td>\n",
       "      <td>0</td>\n",
       "      <td>0</td>\n",
       "      <td>...</td>\n",
       "      <td>0</td>\n",
       "      <td>0</td>\n",
       "      <td>88.116244</td>\n",
       "      <td>87.770783</td>\n",
       "      <td>-0.345461</td>\n",
       "      <td>-13.818424</td>\n",
       "      <td>4.853063</td>\n",
       "      <td>4.828062</td>\n",
       "      <td>none</td>\n",
       "      <td>0.260686</td>\n",
       "    </tr>\n",
       "    <tr>\n",
       "      <th>19</th>\n",
       "      <td>490</td>\n",
       "      <td>change</td>\n",
       "      <td>Verb</td>\n",
       "      <td>Content</td>\n",
       "      <td>H*</td>\n",
       "      <td>NaN</td>\n",
       "      <td>1</td>\n",
       "      <td>0</td>\n",
       "      <td>1</td>\n",
       "      <td>0</td>\n",
       "      <td>...</td>\n",
       "      <td>1</td>\n",
       "      <td>1</td>\n",
       "      <td>89.449117</td>\n",
       "      <td>85.842423</td>\n",
       "      <td>-3.606694</td>\n",
       "      <td>-27.743800</td>\n",
       "      <td>5.270062</td>\n",
       "      <td>5.140062</td>\n",
       "      <td>none</td>\n",
       "      <td>1.350479</td>\n",
       "    </tr>\n",
       "    <tr>\n",
       "      <th>20</th>\n",
       "      <td>491</td>\n",
       "      <td>so</td>\n",
       "      <td>Adverb2</td>\n",
       "      <td>Content</td>\n",
       "      <td>NaN</td>\n",
       "      <td>NaN</td>\n",
       "      <td>0</td>\n",
       "      <td>0</td>\n",
       "      <td>0</td>\n",
       "      <td>0</td>\n",
       "      <td>...</td>\n",
       "      <td>0</td>\n",
       "      <td>0</td>\n",
       "      <td>84.943107</td>\n",
       "      <td>84.518285</td>\n",
       "      <td>0.424821</td>\n",
       "      <td>47.202377</td>\n",
       "      <td>5.535063</td>\n",
       "      <td>5.544062</td>\n",
       "      <td>none</td>\n",
       "      <td>-0.896997</td>\n",
       "    </tr>\n",
       "    <tr>\n",
       "      <th>21</th>\n",
       "      <td>492</td>\n",
       "      <td>intensely</td>\n",
       "      <td>Adverb</td>\n",
       "      <td>Content</td>\n",
       "      <td>*</td>\n",
       "      <td>NaN</td>\n",
       "      <td>1</td>\n",
       "      <td>0</td>\n",
       "      <td>0</td>\n",
       "      <td>1</td>\n",
       "      <td>...</td>\n",
       "      <td>1</td>\n",
       "      <td>0</td>\n",
       "      <td>86.770723</td>\n",
       "      <td>84.252238</td>\n",
       "      <td>-2.518485</td>\n",
       "      <td>-22.689056</td>\n",
       "      <td>5.855062</td>\n",
       "      <td>5.744063</td>\n",
       "      <td>none</td>\n",
       "      <td>0.323678</td>\n",
       "    </tr>\n",
       "    <tr>\n",
       "      <th>22</th>\n",
       "      <td>493</td>\n",
       "      <td>and</td>\n",
       "      <td>Conjunction</td>\n",
       "      <td>Function</td>\n",
       "      <td>NaN</td>\n",
       "      <td>NaN</td>\n",
       "      <td>0</td>\n",
       "      <td>0</td>\n",
       "      <td>0</td>\n",
       "      <td>0</td>\n",
       "      <td>...</td>\n",
       "      <td>0</td>\n",
       "      <td>0</td>\n",
       "      <td>84.642391</td>\n",
       "      <td>84.509849</td>\n",
       "      <td>-0.132542</td>\n",
       "      <td>-3.487940</td>\n",
       "      <td>6.215063</td>\n",
       "      <td>6.177062</td>\n",
       "      <td>none</td>\n",
       "      <td>0.022866</td>\n",
       "    </tr>\n",
       "    <tr>\n",
       "      <th>23</th>\n",
       "      <td>494</td>\n",
       "      <td>we</td>\n",
       "      <td>Pronoun</td>\n",
       "      <td>Function</td>\n",
       "      <td>NaN</td>\n",
       "      <td>NaN</td>\n",
       "      <td>0</td>\n",
       "      <td>0</td>\n",
       "      <td>0</td>\n",
       "      <td>0</td>\n",
       "      <td>...</td>\n",
       "      <td>0</td>\n",
       "      <td>0</td>\n",
       "      <td>84.704293</td>\n",
       "      <td>83.673011</td>\n",
       "      <td>-1.031282</td>\n",
       "      <td>-33.267164</td>\n",
       "      <td>6.362063</td>\n",
       "      <td>6.331062</td>\n",
       "      <td>none</td>\n",
       "      <td>0.351223</td>\n",
       "    </tr>\n",
       "    <tr>\n",
       "      <th>24</th>\n",
       "      <td>495</td>\n",
       "      <td>kind</td>\n",
       "      <td>Adverb2</td>\n",
       "      <td>Content</td>\n",
       "      <td>NaN</td>\n",
       "      <td>NaN</td>\n",
       "      <td>0</td>\n",
       "      <td>0</td>\n",
       "      <td>0</td>\n",
       "      <td>0</td>\n",
       "      <td>...</td>\n",
       "      <td>0</td>\n",
       "      <td>0</td>\n",
       "      <td>81.954741</td>\n",
       "      <td>81.398874</td>\n",
       "      <td>-0.555867</td>\n",
       "      <td>-11.826955</td>\n",
       "      <td>6.548063</td>\n",
       "      <td>6.501062</td>\n",
       "      <td>none</td>\n",
       "      <td>-0.753373</td>\n",
       "    </tr>\n",
       "    <tr>\n",
       "      <th>25</th>\n",
       "      <td>496</td>\n",
       "      <td>of</td>\n",
       "      <td>Preposition</td>\n",
       "      <td>Function</td>\n",
       "      <td>NaN</td>\n",
       "      <td>L-</td>\n",
       "      <td>0</td>\n",
       "      <td>1</td>\n",
       "      <td>0</td>\n",
       "      <td>0</td>\n",
       "      <td>...</td>\n",
       "      <td>0</td>\n",
       "      <td>0</td>\n",
       "      <td>81.735530</td>\n",
       "      <td>81.490149</td>\n",
       "      <td>0.245382</td>\n",
       "      <td>12.269076</td>\n",
       "      <td>6.592062</td>\n",
       "      <td>6.612063</td>\n",
       "      <td>none</td>\n",
       "      <td>-0.937382</td>\n",
       "    </tr>\n",
       "    <tr>\n",
       "      <th>26</th>\n",
       "      <td>497</td>\n",
       "      <td>hung</td>\n",
       "      <td>Verb</td>\n",
       "      <td>Content</td>\n",
       "      <td>H*</td>\n",
       "      <td>NaN</td>\n",
       "      <td>1</td>\n",
       "      <td>0</td>\n",
       "      <td>1</td>\n",
       "      <td>0</td>\n",
       "      <td>...</td>\n",
       "      <td>1</td>\n",
       "      <td>0</td>\n",
       "      <td>91.308696</td>\n",
       "      <td>90.037717</td>\n",
       "      <td>-1.270979</td>\n",
       "      <td>-36.313680</td>\n",
       "      <td>7.129062</td>\n",
       "      <td>7.094062</td>\n",
       "      <td>none</td>\n",
       "      <td>1.038719</td>\n",
       "    </tr>\n",
       "    <tr>\n",
       "      <th>27</th>\n",
       "      <td>498</td>\n",
       "      <td>back</td>\n",
       "      <td>Adverb</td>\n",
       "      <td>Content</td>\n",
       "      <td>!H*</td>\n",
       "      <td>NaN</td>\n",
       "      <td>1</td>\n",
       "      <td>0</td>\n",
       "      <td>1</td>\n",
       "      <td>0</td>\n",
       "      <td>...</td>\n",
       "      <td>1</td>\n",
       "      <td>0</td>\n",
       "      <td>89.071007</td>\n",
       "      <td>87.618468</td>\n",
       "      <td>-1.452538</td>\n",
       "      <td>-10.525639</td>\n",
       "      <td>7.521063</td>\n",
       "      <td>7.383063</td>\n",
       "      <td>none</td>\n",
       "      <td>0.309249</td>\n",
       "    </tr>\n",
       "    <tr>\n",
       "      <th>28</th>\n",
       "      <td>499</td>\n",
       "      <td>and</td>\n",
       "      <td>Conjunction</td>\n",
       "      <td>Function</td>\n",
       "      <td>NaN</td>\n",
       "      <td>NaN</td>\n",
       "      <td>0</td>\n",
       "      <td>0</td>\n",
       "      <td>0</td>\n",
       "      <td>0</td>\n",
       "      <td>...</td>\n",
       "      <td>0</td>\n",
       "      <td>0</td>\n",
       "      <td>89.204978</td>\n",
       "      <td>84.847948</td>\n",
       "      <td>-4.357030</td>\n",
       "      <td>-76.439128</td>\n",
       "      <td>7.732062</td>\n",
       "      <td>7.675063</td>\n",
       "      <td>none</td>\n",
       "      <td>-0.196867</td>\n",
       "    </tr>\n",
       "    <tr>\n",
       "      <th>29</th>\n",
       "      <td>500</td>\n",
       "      <td>thought</td>\n",
       "      <td>Verb</td>\n",
       "      <td>Content</td>\n",
       "      <td>NaN</td>\n",
       "      <td>NaN</td>\n",
       "      <td>0</td>\n",
       "      <td>0</td>\n",
       "      <td>0</td>\n",
       "      <td>0</td>\n",
       "      <td>...</td>\n",
       "      <td>0</td>\n",
       "      <td>0</td>\n",
       "      <td>88.409428</td>\n",
       "      <td>86.139473</td>\n",
       "      <td>-2.269955</td>\n",
       "      <td>-31.971201</td>\n",
       "      <td>7.910063</td>\n",
       "      <td>7.839062</td>\n",
       "      <td>none</td>\n",
       "      <td>0.206762</td>\n",
       "    </tr>\n",
       "    <tr>\n",
       "      <th>30</th>\n",
       "      <td>501</td>\n",
       "      <td>things</td>\n",
       "      <td>Noun</td>\n",
       "      <td>Content</td>\n",
       "      <td>NaN</td>\n",
       "      <td>NaN</td>\n",
       "      <td>0</td>\n",
       "      <td>0</td>\n",
       "      <td>0</td>\n",
       "      <td>0</td>\n",
       "      <td>...</td>\n",
       "      <td>0</td>\n",
       "      <td>0</td>\n",
       "      <td>89.114633</td>\n",
       "      <td>86.777261</td>\n",
       "      <td>-2.337372</td>\n",
       "      <td>-29.966311</td>\n",
       "      <td>8.178062</td>\n",
       "      <td>8.100062</td>\n",
       "      <td>none</td>\n",
       "      <td>0.621019</td>\n",
       "    </tr>\n",
       "    <tr>\n",
       "      <th>31</th>\n",
       "      <td>502</td>\n",
       "      <td>would</td>\n",
       "      <td>Verb2</td>\n",
       "      <td>Content</td>\n",
       "      <td>NaN</td>\n",
       "      <td>NaN</td>\n",
       "      <td>0</td>\n",
       "      <td>0</td>\n",
       "      <td>0</td>\n",
       "      <td>0</td>\n",
       "      <td>...</td>\n",
       "      <td>0</td>\n",
       "      <td>0</td>\n",
       "      <td>83.880796</td>\n",
       "      <td>83.334367</td>\n",
       "      <td>-0.546429</td>\n",
       "      <td>-20.238116</td>\n",
       "      <td>8.442063</td>\n",
       "      <td>8.415062</td>\n",
       "      <td>none</td>\n",
       "      <td>-1.421210</td>\n",
       "    </tr>\n",
       "    <tr>\n",
       "      <th>32</th>\n",
       "      <td>503</td>\n",
       "      <td>stay</td>\n",
       "      <td>Verb</td>\n",
       "      <td>Content</td>\n",
       "      <td>NaN</td>\n",
       "      <td>NaN</td>\n",
       "      <td>0</td>\n",
       "      <td>0</td>\n",
       "      <td>0</td>\n",
       "      <td>0</td>\n",
       "      <td>...</td>\n",
       "      <td>1</td>\n",
       "      <td>1</td>\n",
       "      <td>88.105547</td>\n",
       "      <td>84.719416</td>\n",
       "      <td>-3.386131</td>\n",
       "      <td>-29.444617</td>\n",
       "      <td>8.760063</td>\n",
       "      <td>8.645062</td>\n",
       "      <td>none</td>\n",
       "      <td>0.820129</td>\n",
       "    </tr>\n",
       "    <tr>\n",
       "      <th>33</th>\n",
       "      <td>504</td>\n",
       "      <td>the</td>\n",
       "      <td>Determiner</td>\n",
       "      <td>Function</td>\n",
       "      <td>NaN</td>\n",
       "      <td>NaN</td>\n",
       "      <td>0</td>\n",
       "      <td>0</td>\n",
       "      <td>0</td>\n",
       "      <td>0</td>\n",
       "      <td>...</td>\n",
       "      <td>0</td>\n",
       "      <td>0</td>\n",
       "      <td>85.567488</td>\n",
       "      <td>83.045217</td>\n",
       "      <td>2.522272</td>\n",
       "      <td>37.092230</td>\n",
       "      <td>8.820063</td>\n",
       "      <td>8.888063</td>\n",
       "      <td>none</td>\n",
       "      <td>0.353465</td>\n",
       "    </tr>\n",
       "    <tr>\n",
       "      <th>34</th>\n",
       "      <td>506</td>\n",
       "      <td>way</td>\n",
       "      <td>Noun</td>\n",
       "      <td>Content</td>\n",
       "      <td>NaN</td>\n",
       "      <td>NaN</td>\n",
       "      <td>0</td>\n",
       "      <td>0</td>\n",
       "      <td>0</td>\n",
       "      <td>0</td>\n",
       "      <td>...</td>\n",
       "      <td>0</td>\n",
       "      <td>0</td>\n",
       "      <td>84.547354</td>\n",
       "      <td>81.298431</td>\n",
       "      <td>-3.248923</td>\n",
       "      <td>-32.489228</td>\n",
       "      <td>9.349063</td>\n",
       "      <td>9.249063</td>\n",
       "      <td>none</td>\n",
       "      <td>-0.408089</td>\n",
       "    </tr>\n",
       "    <tr>\n",
       "      <th>35</th>\n",
       "      <td>507</td>\n",
       "      <td>they</td>\n",
       "      <td>Pronoun</td>\n",
       "      <td>Function</td>\n",
       "      <td>NaN</td>\n",
       "      <td>NaN</td>\n",
       "      <td>0</td>\n",
       "      <td>0</td>\n",
       "      <td>0</td>\n",
       "      <td>0</td>\n",
       "      <td>...</td>\n",
       "      <td>0</td>\n",
       "      <td>0</td>\n",
       "      <td>81.432352</td>\n",
       "      <td>80.288669</td>\n",
       "      <td>1.143683</td>\n",
       "      <td>40.845832</td>\n",
       "      <td>9.543062</td>\n",
       "      <td>9.571063</td>\n",
       "      <td>none</td>\n",
       "      <td>-1.036172</td>\n",
       "    </tr>\n",
       "    <tr>\n",
       "      <th>36</th>\n",
       "      <td>508</td>\n",
       "      <td>were</td>\n",
       "      <td>Verb2</td>\n",
       "      <td>Content</td>\n",
       "      <td>L+H*</td>\n",
       "      <td>L-</td>\n",
       "      <td>1</td>\n",
       "      <td>1</td>\n",
       "      <td>0</td>\n",
       "      <td>1</td>\n",
       "      <td>...</td>\n",
       "      <td>1</td>\n",
       "      <td>0</td>\n",
       "      <td>89.530329</td>\n",
       "      <td>81.367414</td>\n",
       "      <td>-8.162915</td>\n",
       "      <td>-173.679048</td>\n",
       "      <td>9.729062</td>\n",
       "      <td>9.682063</td>\n",
       "      <td>none</td>\n",
       "      <td>0.915608</td>\n",
       "    </tr>\n",
       "    <tr>\n",
       "      <th>37</th>\n",
       "      <td>509</td>\n",
       "      <td>and</td>\n",
       "      <td>Conjunction</td>\n",
       "      <td>Function</td>\n",
       "      <td>NaN</td>\n",
       "      <td>NaN</td>\n",
       "      <td>0</td>\n",
       "      <td>0</td>\n",
       "      <td>0</td>\n",
       "      <td>0</td>\n",
       "      <td>...</td>\n",
       "      <td>0</td>\n",
       "      <td>0</td>\n",
       "      <td>82.442919</td>\n",
       "      <td>80.662263</td>\n",
       "      <td>-1.780656</td>\n",
       "      <td>-77.419837</td>\n",
       "      <td>9.842063</td>\n",
       "      <td>9.819062</td>\n",
       "      <td>none</td>\n",
       "      <td>-0.904895</td>\n",
       "    </tr>\n",
       "    <tr>\n",
       "      <th>38</th>\n",
       "      <td>511</td>\n",
       "      <td>haven't</td>\n",
       "      <td>Contraction2</td>\n",
       "      <td>Function</td>\n",
       "      <td>H*</td>\n",
       "      <td>NaN</td>\n",
       "      <td>1</td>\n",
       "      <td>0</td>\n",
       "      <td>0</td>\n",
       "      <td>1</td>\n",
       "      <td>...</td>\n",
       "      <td>1</td>\n",
       "      <td>0</td>\n",
       "      <td>90.645912</td>\n",
       "      <td>81.143269</td>\n",
       "      <td>-9.502643</td>\n",
       "      <td>-139.744750</td>\n",
       "      <td>10.243063</td>\n",
       "      <td>10.175062</td>\n",
       "      <td>half</td>\n",
       "      <td>0.234167</td>\n",
       "    </tr>\n",
       "    <tr>\n",
       "      <th>39</th>\n",
       "      <td>512</td>\n",
       "      <td>and</td>\n",
       "      <td>Conjunction</td>\n",
       "      <td>Function</td>\n",
       "      <td>NaN</td>\n",
       "      <td>L-</td>\n",
       "      <td>0</td>\n",
       "      <td>1</td>\n",
       "      <td>0</td>\n",
       "      <td>0</td>\n",
       "      <td>...</td>\n",
       "      <td>0</td>\n",
       "      <td>0</td>\n",
       "      <td>96.731821</td>\n",
       "      <td>95.887057</td>\n",
       "      <td>-0.844764</td>\n",
       "      <td>-16.245466</td>\n",
       "      <td>10.454062</td>\n",
       "      <td>10.402062</td>\n",
       "      <td>none</td>\n",
       "      <td>1.294155</td>\n",
       "    </tr>\n",
       "    <tr>\n",
       "      <th>40</th>\n",
       "      <td>513</td>\n",
       "      <td>everybody's</td>\n",
       "      <td>Contraction</td>\n",
       "      <td>Function</td>\n",
       "      <td>L+H*</td>\n",
       "      <td>NaN</td>\n",
       "      <td>1</td>\n",
       "      <td>0</td>\n",
       "      <td>1</td>\n",
       "      <td>0</td>\n",
       "      <td>...</td>\n",
       "      <td>1</td>\n",
       "      <td>0</td>\n",
       "      <td>87.847714</td>\n",
       "      <td>86.299054</td>\n",
       "      <td>1.548660</td>\n",
       "      <td>19.603289</td>\n",
       "      <td>10.533062</td>\n",
       "      <td>10.612063</td>\n",
       "      <td>none</td>\n",
       "      <td>-0.822389</td>\n",
       "    </tr>\n",
       "    <tr>\n",
       "      <th>41</th>\n",
       "      <td>514</td>\n",
       "      <td>changing</td>\n",
       "      <td>Verb</td>\n",
       "      <td>Content</td>\n",
       "      <td>H*</td>\n",
       "      <td>NaN</td>\n",
       "      <td>1</td>\n",
       "      <td>0</td>\n",
       "      <td>0</td>\n",
       "      <td>1</td>\n",
       "      <td>...</td>\n",
       "      <td>0</td>\n",
       "      <td>1</td>\n",
       "      <td>91.897678</td>\n",
       "      <td>89.948863</td>\n",
       "      <td>-1.948815</td>\n",
       "      <td>-31.947784</td>\n",
       "      <td>11.316062</td>\n",
       "      <td>11.255062</td>\n",
       "      <td>none</td>\n",
       "      <td>0.296637</td>\n",
       "    </tr>\n",
       "    <tr>\n",
       "      <th>42</th>\n",
       "      <td>515</td>\n",
       "      <td>and</td>\n",
       "      <td>Conjunction</td>\n",
       "      <td>Function</td>\n",
       "      <td>NaN</td>\n",
       "      <td>L-</td>\n",
       "      <td>0</td>\n",
       "      <td>1</td>\n",
       "      <td>0</td>\n",
       "      <td>0</td>\n",
       "      <td>...</td>\n",
       "      <td>0</td>\n",
       "      <td>0</td>\n",
       "      <td>87.496483</td>\n",
       "      <td>83.652726</td>\n",
       "      <td>-3.843757</td>\n",
       "      <td>-72.523708</td>\n",
       "      <td>11.751062</td>\n",
       "      <td>11.698063</td>\n",
       "      <td>none</td>\n",
       "      <td>-0.597007</td>\n",
       "    </tr>\n",
       "    <tr>\n",
       "      <th>43</th>\n",
       "      <td>516</td>\n",
       "      <td>especially</td>\n",
       "      <td>Adverb</td>\n",
       "      <td>Content</td>\n",
       "      <td>H*</td>\n",
       "      <td>NaN</td>\n",
       "      <td>1</td>\n",
       "      <td>0</td>\n",
       "      <td>1</td>\n",
       "      <td>0</td>\n",
       "      <td>...</td>\n",
       "      <td>1</td>\n",
       "      <td>0</td>\n",
       "      <td>89.926530</td>\n",
       "      <td>89.254932</td>\n",
       "      <td>-0.671598</td>\n",
       "      <td>-11.383009</td>\n",
       "      <td>12.433063</td>\n",
       "      <td>12.374063</td>\n",
       "      <td>none</td>\n",
       "      <td>0.619079</td>\n",
       "    </tr>\n",
       "    <tr>\n",
       "      <th>44</th>\n",
       "      <td>517</td>\n",
       "      <td>the</td>\n",
       "      <td>Determiner</td>\n",
       "      <td>Function</td>\n",
       "      <td>NaN</td>\n",
       "      <td>NaN</td>\n",
       "      <td>0</td>\n",
       "      <td>0</td>\n",
       "      <td>0</td>\n",
       "      <td>0</td>\n",
       "      <td>...</td>\n",
       "      <td>0</td>\n",
       "      <td>0</td>\n",
       "      <td>86.656566</td>\n",
       "      <td>85.032294</td>\n",
       "      <td>-1.624272</td>\n",
       "      <td>-27.530042</td>\n",
       "      <td>12.838062</td>\n",
       "      <td>12.779063</td>\n",
       "      <td>none</td>\n",
       "      <td>-0.643306</td>\n",
       "    </tr>\n",
       "    <tr>\n",
       "      <th>45</th>\n",
       "      <td>518</td>\n",
       "      <td>younger</td>\n",
       "      <td>Adjective</td>\n",
       "      <td>Content</td>\n",
       "      <td>NaN</td>\n",
       "      <td>NaN</td>\n",
       "      <td>0</td>\n",
       "      <td>0</td>\n",
       "      <td>0</td>\n",
       "      <td>0</td>\n",
       "      <td>...</td>\n",
       "      <td>0</td>\n",
       "      <td>1</td>\n",
       "      <td>86.171683</td>\n",
       "      <td>84.953160</td>\n",
       "      <td>1.218523</td>\n",
       "      <td>21.759339</td>\n",
       "      <td>12.887063</td>\n",
       "      <td>12.943062</td>\n",
       "      <td>none</td>\n",
       "      <td>-0.779057</td>\n",
       "    </tr>\n",
       "    <tr>\n",
       "      <th>46</th>\n",
       "      <td>519</td>\n",
       "      <td>people</td>\n",
       "      <td>Noun</td>\n",
       "      <td>Content</td>\n",
       "      <td>L+H*</td>\n",
       "      <td>L-L%</td>\n",
       "      <td>1</td>\n",
       "      <td>1</td>\n",
       "      <td>0</td>\n",
       "      <td>1</td>\n",
       "      <td>...</td>\n",
       "      <td>0</td>\n",
       "      <td>1</td>\n",
       "      <td>95.920011</td>\n",
       "      <td>92.889204</td>\n",
       "      <td>3.030808</td>\n",
       "      <td>34.054020</td>\n",
       "      <td>13.326063</td>\n",
       "      <td>13.415062</td>\n",
       "      <td>none</td>\n",
       "      <td>1.153576</td>\n",
       "    </tr>\n",
       "    <tr>\n",
       "      <th>47</th>\n",
       "      <td>505</td>\n",
       "      <td>same</td>\n",
       "      <td>Determiner</td>\n",
       "      <td>Function</td>\n",
       "      <td>NaN</td>\n",
       "      <td>NaN</td>\n",
       "      <td>0</td>\n",
       "      <td>0</td>\n",
       "      <td>0</td>\n",
       "      <td>0</td>\n",
       "      <td>...</td>\n",
       "      <td>0</td>\n",
       "      <td>1</td>\n",
       "      <td>NaN</td>\n",
       "      <td>NaN</td>\n",
       "      <td>NaN</td>\n",
       "      <td>NaN</td>\n",
       "      <td>NaN</td>\n",
       "      <td>NaN</td>\n",
       "      <td>none</td>\n",
       "      <td>NaN</td>\n",
       "    </tr>\n",
       "    <tr>\n",
       "      <th>48</th>\n",
       "      <td>510</td>\n",
       "      <td>they</td>\n",
       "      <td>Pronoun</td>\n",
       "      <td>Function</td>\n",
       "      <td>NaN</td>\n",
       "      <td>NaN</td>\n",
       "      <td>0</td>\n",
       "      <td>0</td>\n",
       "      <td>0</td>\n",
       "      <td>0</td>\n",
       "      <td>...</td>\n",
       "      <td>0</td>\n",
       "      <td>0</td>\n",
       "      <td>NaN</td>\n",
       "      <td>NaN</td>\n",
       "      <td>NaN</td>\n",
       "      <td>NaN</td>\n",
       "      <td>NaN</td>\n",
       "      <td>NaN</td>\n",
       "      <td>none</td>\n",
       "      <td>NaN</td>\n",
       "    </tr>\n",
       "  </tbody>\n",
       "</table>\n",
       "<p>49 rows × 278 columns</p>\n",
       "</div>"
      ],
      "text/plain": [
       "    token         word             pos  contfunc tobiaccent tobiboundary  \\\n",
       "0     471         well       Discourse  Function         H*           L-   \n",
       "1     472           it         Pronoun  Function        NaN          NaN   \n",
       "2     473        could           Verb2   Content         H*          NaN   \n",
       "3     474         have           Verb2   Content        NaN          NaN   \n",
       "4     475         been           Verb2   Content        NaN          NaN   \n",
       "5     476    prevented            Verb   Content         H*          NaN   \n",
       "6     477          but     Conjunction  Function        NaN           H-   \n",
       "7     478           we         Pronoun  Function        NaN          NaN   \n",
       "8     479       didn't    Contraction2  Function        NaN          NaN   \n",
       "9     480         know            Verb   Content        NaN          NaN   \n",
       "10    481           it         Pronoun  Function        NaN          NaN   \n",
       "11    482          was           Verb2   Content        NaN          NaN   \n",
       "12    483        gonna           Verb2   Content        NaN          NaN   \n",
       "13    484       happen            Verb   Content         H*          NaN   \n",
       "14    485         that  Complementizer  Function        NaN           L-   \n",
       "15    486          our      Determiner  Function        NaN          NaN   \n",
       "16    487      society            Noun   Content         H*          NaN   \n",
       "17    488          was           Verb2   Content        NaN          NaN   \n",
       "18    489        gonna           Verb2   Content        NaN          NaN   \n",
       "19    490       change            Verb   Content         H*          NaN   \n",
       "20    491           so         Adverb2   Content        NaN          NaN   \n",
       "21    492    intensely          Adverb   Content          *          NaN   \n",
       "22    493          and     Conjunction  Function        NaN          NaN   \n",
       "23    494           we         Pronoun  Function        NaN          NaN   \n",
       "24    495         kind         Adverb2   Content        NaN          NaN   \n",
       "25    496           of     Preposition  Function        NaN           L-   \n",
       "26    497         hung            Verb   Content         H*          NaN   \n",
       "27    498         back          Adverb   Content        !H*          NaN   \n",
       "28    499          and     Conjunction  Function        NaN          NaN   \n",
       "29    500      thought            Verb   Content        NaN          NaN   \n",
       "30    501       things            Noun   Content        NaN          NaN   \n",
       "31    502        would           Verb2   Content        NaN          NaN   \n",
       "32    503         stay            Verb   Content        NaN          NaN   \n",
       "33    504          the      Determiner  Function        NaN          NaN   \n",
       "34    506          way            Noun   Content        NaN          NaN   \n",
       "35    507         they         Pronoun  Function        NaN          NaN   \n",
       "36    508         were           Verb2   Content       L+H*           L-   \n",
       "37    509          and     Conjunction  Function        NaN          NaN   \n",
       "38    511      haven't    Contraction2  Function         H*          NaN   \n",
       "39    512          and     Conjunction  Function        NaN           L-   \n",
       "40    513  everybody's     Contraction  Function       L+H*          NaN   \n",
       "41    514     changing            Verb   Content         H*          NaN   \n",
       "42    515          and     Conjunction  Function        NaN           L-   \n",
       "43    516   especially          Adverb   Content         H*          NaN   \n",
       "44    517          the      Determiner  Function        NaN          NaN   \n",
       "45    518      younger       Adjective   Content        NaN          NaN   \n",
       "46    519       people            Noun   Content       L+H*         L-L%   \n",
       "47    505         same      Determiner  Function        NaN          NaN   \n",
       "48    510         they         Pronoun  Function        NaN          NaN   \n",
       "\n",
       "    accented  boundary  prenuclear  nuclear  ...  t31.pi t32.pi  max.f0.sv.st  \\\n",
       "0          1         1           0        1  ...       0      0     96.178341   \n",
       "1          0         0           0        0  ...       0      0     97.896786   \n",
       "2          1         0           1        0  ...       0      0    100.212648   \n",
       "3          0         0           0        0  ...       0      0     96.983594   \n",
       "4          0         0           0        0  ...       0      0     93.892994   \n",
       "5          1         0           0        1  ...       1      1     90.537130   \n",
       "6          0         1           0        0  ...       0      0     88.465621   \n",
       "7          0         0           0        0  ...       0      0     91.100089   \n",
       "8          0         0           0        0  ...       0      0     89.782502   \n",
       "9          0         0           0        0  ...       1      0     88.978239   \n",
       "10         0         0           0        0  ...       0      0     88.016071   \n",
       "11         0         0           0        0  ...       0      0     88.812163   \n",
       "12         0         0           0        0  ...       1      0     89.383300   \n",
       "13         1         0           0        1  ...       1      0     90.706740   \n",
       "14         0         1           0        0  ...       0      0     87.446705   \n",
       "15         0         0           0        0  ...       0      0     86.220848   \n",
       "16         1         0           1        0  ...       0      1     89.254163   \n",
       "17         0         0           0        0  ...       0      0     86.274610   \n",
       "18         0         0           0        0  ...       0      0     88.116244   \n",
       "19         1         0           1        0  ...       1      1     89.449117   \n",
       "20         0         0           0        0  ...       0      0     84.943107   \n",
       "21         1         0           0        1  ...       1      0     86.770723   \n",
       "22         0         0           0        0  ...       0      0     84.642391   \n",
       "23         0         0           0        0  ...       0      0     84.704293   \n",
       "24         0         0           0        0  ...       0      0     81.954741   \n",
       "25         0         1           0        0  ...       0      0     81.735530   \n",
       "26         1         0           1        0  ...       1      0     91.308696   \n",
       "27         1         0           1        0  ...       1      0     89.071007   \n",
       "28         0         0           0        0  ...       0      0     89.204978   \n",
       "29         0         0           0        0  ...       0      0     88.409428   \n",
       "30         0         0           0        0  ...       0      0     89.114633   \n",
       "31         0         0           0        0  ...       0      0     83.880796   \n",
       "32         0         0           0        0  ...       1      1     88.105547   \n",
       "33         0         0           0        0  ...       0      0     85.567488   \n",
       "34         0         0           0        0  ...       0      0     84.547354   \n",
       "35         0         0           0        0  ...       0      0     81.432352   \n",
       "36         1         1           0        1  ...       1      0     89.530329   \n",
       "37         0         0           0        0  ...       0      0     82.442919   \n",
       "38         1         0           0        1  ...       1      0     90.645912   \n",
       "39         0         1           0        0  ...       0      0     96.731821   \n",
       "40         1         0           1        0  ...       1      0     87.847714   \n",
       "41         1         0           0        1  ...       0      1     91.897678   \n",
       "42         0         1           0        0  ...       0      0     87.496483   \n",
       "43         1         0           1        0  ...       1      0     89.926530   \n",
       "44         0         0           0        0  ...       0      0     86.656566   \n",
       "45         0         0           0        0  ...       0      1     86.171683   \n",
       "46         1         1           0        1  ...       0      1     95.920011   \n",
       "47         0         0           0        0  ...       0      1           NaN   \n",
       "48         0         0           0        0  ...       0      0           NaN   \n",
       "\n",
       "    min.f0.sv.st  range.f0.sv.st  vel.f0.sv.st    mintime    maxtime  jump  \\\n",
       "0      91.568426       -4.609915    -43.083317   0.255063   0.148063  none   \n",
       "1      94.541258        3.355528     40.428049   0.326062   0.409062  none   \n",
       "2      98.420079       -1.792568    -37.345172   0.617062   0.569063  none   \n",
       "3      93.743035       -3.240559    -63.540370   0.695063   0.644062  none   \n",
       "4      91.899513       -1.993481    -23.180013   0.887062   0.801063  none   \n",
       "5      88.653722       -1.883408    -20.696787   1.442063   1.351063  none   \n",
       "6      87.644154       -0.821467    -12.446468   1.634062   1.568062  none   \n",
       "7      89.773652       -1.326437    -55.268223   1.797063   1.773062  none   \n",
       "8      89.322608       -0.459894    -13.526301   1.928063   1.894062  none   \n",
       "9      88.061693       -0.916546     -8.812944   2.159063   2.055063  none   \n",
       "10     82.868268       -5.147803   -116.995525   2.204063   2.160062  none   \n",
       "11     87.110645        1.701519     29.851203   2.251063   2.308063  none   \n",
       "12     88.285918       -1.097382    -34.293173   2.488062   2.456062  none   \n",
       "13     86.784956       -3.921784    -32.145766   2.805063   2.683063  none   \n",
       "14     86.745400       -0.701305    -24.182935   3.090063   3.061062  none   \n",
       "15     85.282953        0.937895     17.368433   3.844063   3.898062  none   \n",
       "16     86.479810       -2.774353    -23.511465   4.398062   4.280062  none   \n",
       "17     83.618185        2.656426     88.547520   4.650062   4.680063  none   \n",
       "18     87.770783       -0.345461    -13.818424   4.853063   4.828062  none   \n",
       "19     85.842423       -3.606694    -27.743800   5.270062   5.140062  none   \n",
       "20     84.518285        0.424821     47.202377   5.535063   5.544062  none   \n",
       "21     84.252238       -2.518485    -22.689056   5.855062   5.744063  none   \n",
       "22     84.509849       -0.132542     -3.487940   6.215063   6.177062  none   \n",
       "23     83.673011       -1.031282    -33.267164   6.362063   6.331062  none   \n",
       "24     81.398874       -0.555867    -11.826955   6.548063   6.501062  none   \n",
       "25     81.490149        0.245382     12.269076   6.592062   6.612063  none   \n",
       "26     90.037717       -1.270979    -36.313680   7.129062   7.094062  none   \n",
       "27     87.618468       -1.452538    -10.525639   7.521063   7.383063  none   \n",
       "28     84.847948       -4.357030    -76.439128   7.732062   7.675063  none   \n",
       "29     86.139473       -2.269955    -31.971201   7.910063   7.839062  none   \n",
       "30     86.777261       -2.337372    -29.966311   8.178062   8.100062  none   \n",
       "31     83.334367       -0.546429    -20.238116   8.442063   8.415062  none   \n",
       "32     84.719416       -3.386131    -29.444617   8.760063   8.645062  none   \n",
       "33     83.045217        2.522272     37.092230   8.820063   8.888063  none   \n",
       "34     81.298431       -3.248923    -32.489228   9.349063   9.249063  none   \n",
       "35     80.288669        1.143683     40.845832   9.543062   9.571063  none   \n",
       "36     81.367414       -8.162915   -173.679048   9.729062   9.682063  none   \n",
       "37     80.662263       -1.780656    -77.419837   9.842063   9.819062  none   \n",
       "38     81.143269       -9.502643   -139.744750  10.243063  10.175062  half   \n",
       "39     95.887057       -0.844764    -16.245466  10.454062  10.402062  none   \n",
       "40     86.299054        1.548660     19.603289  10.533062  10.612063  none   \n",
       "41     89.948863       -1.948815    -31.947784  11.316062  11.255062  none   \n",
       "42     83.652726       -3.843757    -72.523708  11.751062  11.698063  none   \n",
       "43     89.254932       -0.671598    -11.383009  12.433063  12.374063  none   \n",
       "44     85.032294       -1.624272    -27.530042  12.838062  12.779063  none   \n",
       "45     84.953160        1.218523     21.759339  12.887063  12.943062  none   \n",
       "46     92.889204        3.030808     34.054020  13.326063  13.415062  none   \n",
       "47           NaN             NaN           NaN        NaN        NaN  none   \n",
       "48           NaN             NaN           NaN        NaN        NaN  none   \n",
       "\n",
       "    max.f0.sv.st.norm  \n",
       "0           -0.947183  \n",
       "1            0.045264  \n",
       "2            1.373172  \n",
       "3            0.286963  \n",
       "4           -0.026418  \n",
       "5           -0.502023  \n",
       "6           -1.137913  \n",
       "7            1.226366  \n",
       "8            0.422634  \n",
       "9           -0.307881  \n",
       "10          -1.473736  \n",
       "11          -0.371673  \n",
       "12           0.403577  \n",
       "13           1.263359  \n",
       "14          -0.654511  \n",
       "15          -0.898437  \n",
       "16           1.395805  \n",
       "17          -1.018171  \n",
       "18           0.260686  \n",
       "19           1.350479  \n",
       "20          -0.896997  \n",
       "21           0.323678  \n",
       "22           0.022866  \n",
       "23           0.351223  \n",
       "24          -0.753373  \n",
       "25          -0.937382  \n",
       "26           1.038719  \n",
       "27           0.309249  \n",
       "28          -0.196867  \n",
       "29           0.206762  \n",
       "30           0.621019  \n",
       "31          -1.421210  \n",
       "32           0.820129  \n",
       "33           0.353465  \n",
       "34          -0.408089  \n",
       "35          -1.036172  \n",
       "36           0.915608  \n",
       "37          -0.904895  \n",
       "38           0.234167  \n",
       "39           1.294155  \n",
       "40          -0.822389  \n",
       "41           0.296637  \n",
       "42          -0.597007  \n",
       "43           0.619079  \n",
       "44          -0.643306  \n",
       "45          -0.779057  \n",
       "46           1.153576  \n",
       "47                NaN  \n",
       "48                NaN  \n",
       "\n",
       "[49 rows x 278 columns]"
      ]
     },
     "execution_count": 6,
     "metadata": {},
     "output_type": "execute_result"
    }
   ],
   "source": [
    "avail_window"
   ]
  },
  {
   "cell_type": "code",
   "execution_count": 7,
   "id": "bdca693d",
   "metadata": {
    "scrolled": true
   },
   "outputs": [
    {
     "data": {
      "text/html": [
       "<div>\n",
       "<style scoped>\n",
       "    .dataframe tbody tr th:only-of-type {\n",
       "        vertical-align: middle;\n",
       "    }\n",
       "\n",
       "    .dataframe tbody tr th {\n",
       "        vertical-align: top;\n",
       "    }\n",
       "\n",
       "    .dataframe thead th {\n",
       "        text-align: right;\n",
       "    }\n",
       "</style>\n",
       "<table border=\"1\" class=\"dataframe\">\n",
       "  <thead>\n",
       "    <tr style=\"text-align: right;\">\n",
       "      <th></th>\n",
       "      <th>0</th>\n",
       "      <th>1</th>\n",
       "      <th>2</th>\n",
       "      <th>3</th>\n",
       "      <th>4</th>\n",
       "      <th>5</th>\n",
       "    </tr>\n",
       "  </thead>\n",
       "  <tbody>\n",
       "    <tr>\n",
       "      <th>0</th>\n",
       "      <td>s17-1</td>\n",
       "      <td>0.098</td>\n",
       "      <td>0.326</td>\n",
       "      <td>well</td>\n",
       "      <td>1.798</td>\n",
       "      <td>0.224</td>\n",
       "    </tr>\n",
       "    <tr>\n",
       "      <th>1</th>\n",
       "      <td>s17-1</td>\n",
       "      <td>0.326</td>\n",
       "      <td>0.446</td>\n",
       "      <td>it</td>\n",
       "      <td>0.940</td>\n",
       "      <td>1.067</td>\n",
       "    </tr>\n",
       "    <tr>\n",
       "      <th>2</th>\n",
       "      <td>s17-1</td>\n",
       "      <td>0.446</td>\n",
       "      <td>0.644</td>\n",
       "      <td>could</td>\n",
       "      <td>1.746</td>\n",
       "      <td>0.001</td>\n",
       "    </tr>\n",
       "    <tr>\n",
       "      <th>3</th>\n",
       "      <td>s17-1</td>\n",
       "      <td>0.644</td>\n",
       "      <td>0.742</td>\n",
       "      <td>have</td>\n",
       "      <td>0.335</td>\n",
       "      <td>1.351</td>\n",
       "    </tr>\n",
       "    <tr>\n",
       "      <th>4</th>\n",
       "      <td>s17-1</td>\n",
       "      <td>0.742</td>\n",
       "      <td>0.942</td>\n",
       "      <td>been</td>\n",
       "      <td>1.011</td>\n",
       "      <td>1.133</td>\n",
       "    </tr>\n",
       "    <tr>\n",
       "      <th>5</th>\n",
       "      <td>s17-1</td>\n",
       "      <td>0.942</td>\n",
       "      <td>1.503</td>\n",
       "      <td>prevented</td>\n",
       "      <td>1.360</td>\n",
       "      <td>1.244</td>\n",
       "    </tr>\n",
       "    <tr>\n",
       "      <th>6</th>\n",
       "      <td>s17-1</td>\n",
       "      <td>1.503</td>\n",
       "      <td>1.698</td>\n",
       "      <td>but</td>\n",
       "      <td>0.778</td>\n",
       "      <td>0.564</td>\n",
       "    </tr>\n",
       "    <tr>\n",
       "      <th>7</th>\n",
       "      <td>s17-1</td>\n",
       "      <td>1.698</td>\n",
       "      <td>1.798</td>\n",
       "      <td>we</td>\n",
       "      <td>0.792</td>\n",
       "      <td>0.265</td>\n",
       "    </tr>\n",
       "    <tr>\n",
       "      <th>8</th>\n",
       "      <td>s17-1</td>\n",
       "      <td>1.798</td>\n",
       "      <td>2.014</td>\n",
       "      <td>didn't</td>\n",
       "      <td>0.489</td>\n",
       "      <td>0.234</td>\n",
       "    </tr>\n",
       "    <tr>\n",
       "      <th>9</th>\n",
       "      <td>s17-1</td>\n",
       "      <td>2.014</td>\n",
       "      <td>2.159</td>\n",
       "      <td>know</td>\n",
       "      <td>0.607</td>\n",
       "      <td>0.000</td>\n",
       "    </tr>\n",
       "    <tr>\n",
       "      <th>10</th>\n",
       "      <td>s17-1</td>\n",
       "      <td>2.159</td>\n",
       "      <td>2.208</td>\n",
       "      <td>it</td>\n",
       "      <td>0.000</td>\n",
       "      <td>0.522</td>\n",
       "    </tr>\n",
       "    <tr>\n",
       "      <th>11</th>\n",
       "      <td>s17-1</td>\n",
       "      <td>2.208</td>\n",
       "      <td>2.368</td>\n",
       "      <td>was</td>\n",
       "      <td>0.667</td>\n",
       "      <td>0.907</td>\n",
       "    </tr>\n",
       "    <tr>\n",
       "      <th>12</th>\n",
       "      <td>s17-1</td>\n",
       "      <td>2.368</td>\n",
       "      <td>2.610</td>\n",
       "      <td>gonna</td>\n",
       "      <td>0.609</td>\n",
       "      <td>0.709</td>\n",
       "    </tr>\n",
       "    <tr>\n",
       "      <th>13</th>\n",
       "      <td>s17-1</td>\n",
       "      <td>2.610</td>\n",
       "      <td>3.013</td>\n",
       "      <td>happen</td>\n",
       "      <td>1.098</td>\n",
       "      <td>0.683</td>\n",
       "    </tr>\n",
       "    <tr>\n",
       "      <th>14</th>\n",
       "      <td>s17-1</td>\n",
       "      <td>3.013</td>\n",
       "      <td>3.331</td>\n",
       "      <td>that</td>\n",
       "      <td>0.887</td>\n",
       "      <td>0.896</td>\n",
       "    </tr>\n",
       "  </tbody>\n",
       "</table>\n",
       "</div>"
      ],
      "text/plain": [
       "        0      1      2          3      4      5\n",
       "0   s17-1  0.098  0.326       well  1.798  0.224\n",
       "1   s17-1  0.326  0.446         it  0.940  1.067\n",
       "2   s17-1  0.446  0.644      could  1.746  0.001\n",
       "3   s17-1  0.644  0.742       have  0.335  1.351\n",
       "4   s17-1  0.742  0.942       been  1.011  1.133\n",
       "5   s17-1  0.942  1.503  prevented  1.360  1.244\n",
       "6   s17-1  1.503  1.698        but  0.778  0.564\n",
       "7   s17-1  1.698  1.798         we  0.792  0.265\n",
       "8   s17-1  1.798  2.014     didn't  0.489  0.234\n",
       "9   s17-1  2.014  2.159       know  0.607  0.000\n",
       "10  s17-1  2.159  2.208         it  0.000  0.522\n",
       "11  s17-1  2.208  2.368        was  0.667  0.907\n",
       "12  s17-1  2.368  2.610      gonna  0.609  0.709\n",
       "13  s17-1  2.610  3.013     happen  1.098  0.683\n",
       "14  s17-1  3.013  3.331       that  0.887  0.896"
      ]
     },
     "execution_count": 7,
     "metadata": {},
     "output_type": "execute_result"
    }
   ],
   "source": [
    "target_window"
   ]
  },
  {
   "cell_type": "code",
   "execution_count": 8,
   "id": "c78da2ed",
   "metadata": {
    "scrolled": true
   },
   "outputs": [
    {
     "data": {
      "text/plain": [
       "array([0.59375, 0.     , 0.1875 , 0.0625 , 0.03125, 0.5625 , 0.     ,\n",
       "       0.     , 0.03125, 0.0625 , 0.     , 0.     , 0.     , 0.53125,\n",
       "       0.03125])"
      ]
     },
     "execution_count": 8,
     "metadata": {},
     "output_type": "execute_result"
    }
   ],
   "source": [
    "# candidate1 = avail_window[0:15]['pa.32'].values\n",
    "candidate1 = avail_window[0:15]['pa.32'].values\n",
    "candidate1"
   ]
  },
  {
   "cell_type": "code",
   "execution_count": 9,
   "id": "5e342714",
   "metadata": {
    "scrolled": true
   },
   "outputs": [
    {
     "data": {
      "text/plain": [
       "array([1.798, 0.94 , 1.746, 0.335, 1.011, 1.36 , 0.778, 0.792, 0.489,\n",
       "       0.607, 0.   , 0.667, 0.609, 1.098, 0.887])"
      ]
     },
     "execution_count": 9,
     "metadata": {},
     "output_type": "execute_result"
    }
   ],
   "source": [
    "candidate2 = target_window[4].values\n",
    "candidate2"
   ]
  },
  {
   "cell_type": "code",
   "execution_count": 10,
   "id": "5b90ad2f",
   "metadata": {},
   "outputs": [
    {
     "data": {
      "text/plain": [
       "0.7489379035381454"
      ]
     },
     "execution_count": 10,
     "metadata": {},
     "output_type": "execute_result"
    }
   ],
   "source": [
    "1 - spatial.distance.cosine(candidate1, candidate2)"
   ]
  },
  {
   "cell_type": "code",
   "execution_count": null,
   "id": "f9162e0d",
   "metadata": {},
   "outputs": [],
   "source": []
  },
  {
   "cell_type": "code",
   "execution_count": 11,
   "id": "e9c78ea5",
   "metadata": {
    "scrolled": true
   },
   "outputs": [
    {
     "data": {
      "text/plain": [
       "False"
      ]
     },
     "execution_count": 11,
     "metadata": {},
     "output_type": "execute_result"
    }
   ],
   "source": [
    "target_tokens==avail_tokens"
   ]
  },
  {
   "cell_type": "code",
   "execution_count": 12,
   "id": "c0cffdfa",
   "metadata": {
    "scrolled": false
   },
   "outputs": [
    {
     "data": {
      "text/plain": [
       "(15, 49)"
      ]
     },
     "execution_count": 12,
     "metadata": {},
     "output_type": "execute_result"
    }
   ],
   "source": [
    "len(target_tokens), len(avail_tokens)"
   ]
  },
  {
   "cell_type": "code",
   "execution_count": 13,
   "id": "3d0a40fe",
   "metadata": {
    "scrolled": false
   },
   "outputs": [],
   "source": [
    "l, r = 0, 0\n",
    "pairs = []\n",
    "\n",
    "while l<len(target_window) and r<len(avail_window):\n",
    "    if target_window[3][l]==avail_window['word'][r]:\n",
    "        pairs.append([(target_window[3][l], target_window[4][l]), (avail_window['word'][r], avail_window['pa.32'][r])])\n",
    "        l+=1\n",
    "        r+=1\n",
    "    else:\n",
    "        print('mismatched pair', target_window[3][l], avail_window['word'][r], l, r)\n",
    "        l+=1\n"
   ]
  },
  {
   "cell_type": "code",
   "execution_count": 14,
   "id": "4447dd7d",
   "metadata": {
    "scrolled": true
   },
   "outputs": [],
   "source": [
    "v1 = []\n",
    "v2 = []\n",
    "for pair in pairs:\n",
    "    v1.append(pair[0][-1])\n",
    "    v2.append(pair[1][-1])"
   ]
  },
  {
   "cell_type": "code",
   "execution_count": 15,
   "id": "a7d4f316",
   "metadata": {
    "scrolled": false
   },
   "outputs": [
    {
     "data": {
      "text/plain": [
       "(0.887, 0.03125)"
      ]
     },
     "execution_count": 15,
     "metadata": {},
     "output_type": "execute_result"
    }
   ],
   "source": [
    "v1[-1], v2[-1]"
   ]
  },
  {
   "cell_type": "code",
   "execution_count": 16,
   "id": "2058d2c1",
   "metadata": {},
   "outputs": [],
   "source": [
    "v1 = np.asarray(v1)\n",
    "v2 = np.asarray(v2)"
   ]
  },
  {
   "cell_type": "code",
   "execution_count": 17,
   "id": "4f56d489",
   "metadata": {
    "scrolled": true
   },
   "outputs": [
    {
     "data": {
      "text/plain": [
       "(0.887, 0.03125)"
      ]
     },
     "execution_count": 17,
     "metadata": {},
     "output_type": "execute_result"
    }
   ],
   "source": [
    "v1[-1], v2[-1]"
   ]
  },
  {
   "cell_type": "code",
   "execution_count": 18,
   "id": "4b7cbe63",
   "metadata": {
    "scrolled": false
   },
   "outputs": [
    {
     "data": {
      "text/plain": [
       "(array([1.798, 0.94 , 1.746, 0.335, 1.011, 1.36 , 0.778, 0.792, 0.489,\n",
       "        0.607, 0.   , 0.667, 0.609, 1.098, 0.887]),\n",
       " array([0.59375, 0.     , 0.1875 , 0.0625 , 0.03125, 0.5625 , 0.     ,\n",
       "        0.     , 0.03125, 0.0625 , 0.     , 0.     , 0.     , 0.53125,\n",
       "        0.03125]))"
      ]
     },
     "execution_count": 18,
     "metadata": {},
     "output_type": "execute_result"
    }
   ],
   "source": [
    "v1, v2"
   ]
  },
  {
   "cell_type": "code",
   "execution_count": 19,
   "id": "9e9bc031",
   "metadata": {
    "scrolled": true
   },
   "outputs": [
    {
     "data": {
      "text/plain": [
       "0.7489379035381454"
      ]
     },
     "execution_count": 19,
     "metadata": {},
     "output_type": "execute_result"
    }
   ],
   "source": [
    "result = 1 - spatial.distance.cosine(v1, v2)\n",
    "result"
   ]
  },
  {
   "cell_type": "code",
   "execution_count": 20,
   "id": "97dd569f",
   "metadata": {},
   "outputs": [],
   "source": [
    "from scipy.special import rel_entr\n",
    "from scipy.stats import ks_2samp\n",
    "from sklearn import preprocessing"
   ]
  },
  {
   "cell_type": "code",
   "execution_count": 21,
   "id": "ba7b75ca",
   "metadata": {
    "scrolled": true
   },
   "outputs": [],
   "source": [
    "v1_norm = preprocessing.normalize([v1])\n",
    "v2_norm = preprocessing.normalize([v2])\n"
   ]
  },
  {
   "cell_type": "code",
   "execution_count": 22,
   "id": "4877a9b8",
   "metadata": {},
   "outputs": [
    {
     "data": {
      "text/plain": [
       "inf"
      ]
     },
     "execution_count": 22,
     "metadata": {},
     "output_type": "execute_result"
    }
   ],
   "source": [
    "sum(rel_entr(v1_norm[0], v2_norm[0]))\n"
   ]
  },
  {
   "cell_type": "code",
   "execution_count": 23,
   "id": "77e047ff",
   "metadata": {},
   "outputs": [
    {
     "data": {
      "text/plain": [
       "array([[0.59462167, 0.        , 0.18777526, 0.06259175, 0.03129588,\n",
       "        0.56332579, 0.        , 0.        , 0.03129588, 0.06259175,\n",
       "        0.        , 0.        , 0.        , 0.53202991, 0.03129588]])"
      ]
     },
     "execution_count": 23,
     "metadata": {},
     "output_type": "execute_result"
    }
   ],
   "source": [
    "v2_norm"
   ]
  },
  {
   "cell_type": "code",
   "execution_count": 24,
   "id": "22ea2387",
   "metadata": {
    "scrolled": true
   },
   "outputs": [
    {
     "data": {
      "text/plain": [
       "0.7489379035381452"
      ]
     },
     "execution_count": 24,
     "metadata": {},
     "output_type": "execute_result"
    }
   ],
   "source": [
    "1 - spatial.distance.cosine(v1_norm[0], v2_norm[0])"
   ]
  },
  {
   "cell_type": "markdown",
   "id": "cb117b6b",
   "metadata": {},
   "source": [
    "**two-sample Kolmogorov-Smirnov test:** Under the null hypothesis the two distributions are identical. If the K-S statistic is small or the p-value is high (greater than the significance level, say 5%), then we cannot reject the hypothesis that the distributions of the two samples are the same. Conversely, we can reject the null hypothesis if the p-value is low.\n",
    "\n"
   ]
  },
  {
   "cell_type": "code",
   "execution_count": 25,
   "id": "7f925491",
   "metadata": {},
   "outputs": [
    {
     "data": {
      "text/plain": [
       "KstestResult(statistic=0.6666666666666666, pvalue=0.0018373939965002021)"
      ]
     },
     "execution_count": 25,
     "metadata": {},
     "output_type": "execute_result"
    }
   ],
   "source": [
    "ks_2samp(v1_norm[0], v2)"
   ]
  },
  {
   "cell_type": "code",
   "execution_count": 27,
   "id": "47a9c1a2",
   "metadata": {
    "scrolled": true
   },
   "outputs": [
    {
     "data": {
      "image/png": "[encoded data removed]",
      "text/plain": [
       "<Figure size 288x288 with 1 Axes>"
      ]
     },
     "metadata": {
      "needs_background": "light"
     },
     "output_type": "display_data"
    }
   ],
   "source": [
    "plt.figure(figsize=(4,4))\n",
    "sns.distplot(v2_norm[0], hist=False, kde=True)\n",
    "sns.distplot(v1_norm[0], hist=False, kde=True)\n",
    "plt.show()"
   ]
  },
  {
   "cell_type": "code",
   "execution_count": null,
   "id": "929996c7",
   "metadata": {},
   "outputs": [],
   "source": []
  },
  {
   "cell_type": "code",
   "execution_count": null,
   "id": "980a5f0f",
   "metadata": {},
   "outputs": [],
   "source": []
  },
  {
   "cell_type": "code",
   "execution_count": null,
   "id": "65c5569e",
   "metadata": {},
   "outputs": [],
   "source": []
  },
  {
   "cell_type": "markdown",
   "id": "0dee76c7",
   "metadata": {},
   "source": [
    "### Define function"
   ]
  },
  {
   "cell_type": "code",
   "execution_count": 30,
   "id": "19accc7e",
   "metadata": {},
   "outputs": [],
   "source": [
    "from scipy.special import rel_entr\n",
    "from scipy.stats import ks_2samp\n",
    "from sklearn import preprocessing"
   ]
  },
  {
   "cell_type": "code",
   "execution_count": 83,
   "id": "1602e30f",
   "metadata": {},
   "outputs": [],
   "source": [
    "def eval_similarity(avail_window, target_window):\n",
    "\n",
    "    l, r = 0, 0\n",
    "    pairs = []\n",
    "\n",
    "    while l<len(target_window) and r<len(avail_window):\n",
    "        if target_window[3][l]==avail_window['word'][r]:\n",
    "            pairs.append([(target_window[3][l], target_window[4][l]), (avail_window['word'][r], avail_window['pa.32'][r])])\n",
    "            l+=1\n",
    "            r+=1\n",
    "        else:\n",
    "            # print('mismatched pair', target_window[3][l], avail_window['word'][r], l, r)\n",
    "            l+=1\n",
    "\n",
    "    v1 = []\n",
    "    v2 = []\n",
    "    \n",
    "    t1 = []\n",
    "    t2 = []\n",
    "    \n",
    "    for pair in pairs:\n",
    "        v1.append(pair[0][-1])\n",
    "        v2.append(pair[1][-1])\n",
    "        \n",
    "        t1.append(pair[0][0])\n",
    "        t2.append(pair[1][0])\n",
    "\n",
    "    v1 = np.asarray(v1)\n",
    "    v2 = np.asarray(v2)\n",
    "    \n",
    "    # print(t1)\n",
    "    # print(t2)\n",
    "    \n",
    "    assert t1==t2\n",
    "    assert v1.shape[0]==v2.shape[0]\n",
    "    \n",
    "    print(f\"{v1.shape[0]} tokens compared, {len(avail_window)} tokens were available in annotation\")\n",
    "    if len(v1)>0 and len(v2)>0:\n",
    "        result = 1 - spatial.distance.cosine(v1, v2)\n",
    "    else:\n",
    "        result = None\n",
    "\n",
    "    v1_norm = preprocessing.normalize([v1])\n",
    "    v2_norm = preprocessing.normalize([v2])\n",
    "    \n",
    "    plt.figure(figsize=(4,4))\n",
    "    sns.distplot(v2_norm[0], hist=False, kde=True, label='ground_truth', color='green')\n",
    "    sns.distplot(v1_norm[0], hist=False, kde=True, label='wavelet_pred', color='orange')\n",
    "    plt.show()\n",
    "\n",
    "    return result\n",
    "\n"
   ]
  },
  {
   "cell_type": "markdown",
   "id": "bff06e7e",
   "metadata": {},
   "source": [
    "### Multi-file analysis"
   ]
  },
  {
   "cell_type": "code",
   "execution_count": 84,
   "id": "e993b19f",
   "metadata": {
    "scrolled": true
   },
   "outputs": [
    {
     "data": {
      "text/plain": [
       "array(['s02-1', 's03-1', 's04-1', 's10-1', 's11-1', 's14-1', 's16-1',\n",
       "       's17-1', 's21-1', 's22-1', 's24-1', 's25-1', 's26-1', 's32-1',\n",
       "       's33-1', 's35-1'], dtype=object)"
      ]
     },
     "execution_count": 84,
     "metadata": {},
     "output_type": "execute_result"
    }
   ],
   "source": [
    "annotations['filename'].unique()"
   ]
  },
  {
   "cell_type": "markdown",
   "id": "95078457",
   "metadata": {},
   "source": [
    "#### S14"
   ]
  },
  {
   "cell_type": "code",
   "execution_count": 85,
   "id": "ebb9c3ad",
   "metadata": {
    "scrolled": true
   },
   "outputs": [],
   "source": [
    "predictions = pd.read_table('../emphases/baselines/prominence/test_outputs_buckeye_v1/s14-1.prom', header=None)\n",
    "avail_window = annotations[annotations['filename']==\"s14-1\"].reset_index(drop=True)\n",
    "# manually finding out the window indices\n",
    "target_window = predictions.reset_index(drop=True)"
   ]
  },
  {
   "cell_type": "code",
   "execution_count": 86,
   "id": "ba1cd439",
   "metadata": {
    "scrolled": true
   },
   "outputs": [],
   "source": [
    "# predictions = pd.read_table('../emphases/baselines/prominence/test_outputs_buckeye/s1401a.prom', header=None)\n",
    "# avail_window = annotations[annotations['filename']==\"s14-1\"].reset_index(drop=True)\n",
    "# # manually finding out the window indices\n",
    "# target_window = predictions[5:72].reset_index(drop=True)"
   ]
  },
  {
   "cell_type": "code",
   "execution_count": 87,
   "id": "ada29313",
   "metadata": {
    "scrolled": false
   },
   "outputs": [
    {
     "name": "stdout",
     "output_type": "stream",
     "text": [
      "67 tokens compared, 67 tokens were available in annotation\n"
     ]
    },
    {
     "data": {
      "image/png": "[encoded data removed]",
      "text/plain": [
       "<Figure size 288x288 with 1 Axes>"
      ]
     },
     "metadata": {
      "needs_background": "light"
     },
     "output_type": "display_data"
    },
    {
     "data": {
      "text/plain": [
       "0.7682297283068056"
      ]
     },
     "execution_count": 87,
     "metadata": {},
     "output_type": "execute_result"
    }
   ],
   "source": [
    "eval_similarity(avail_window, target_window)"
   ]
  },
  {
   "cell_type": "markdown",
   "id": "e67cec48",
   "metadata": {},
   "source": [
    "#### S17"
   ]
  },
  {
   "cell_type": "code",
   "execution_count": 88,
   "id": "178d749b",
   "metadata": {},
   "outputs": [],
   "source": [
    "# predictions = pd.read_table('../emphases/baselines/prominence/test_outputs_buckeye/s1701a.prom', header=None)\n",
    "# avail_window = annotations[annotations['filename']==\"s17-1\"].reset_index(drop=True)\n",
    "# target_window = predictions[606:656].reset_index(drop=True)\n",
    "\n",
    "predictions = pd.read_table('../emphases/baselines/prominence/test_outputs_buckeye_v1/s17-1.prom', header=None)\n",
    "avail_window = annotations[annotations['filename']==\"s17-1\"].reset_index(drop=True)\n",
    "target_window = predictions.reset_index(drop=True)"
   ]
  },
  {
   "cell_type": "code",
   "execution_count": 89,
   "id": "1c59754f",
   "metadata": {},
   "outputs": [
    {
     "name": "stdout",
     "output_type": "stream",
     "text": [
      "47 tokens compared, 49 tokens were available in annotation\n"
     ]
    },
    {
     "data": {
      "image/png": "[encoded data removed]",
      "text/plain": [
       "<Figure size 288x288 with 1 Axes>"
      ]
     },
     "metadata": {
      "needs_background": "light"
     },
     "output_type": "display_data"
    },
    {
     "data": {
      "text/plain": [
       "0.7665667636078723"
      ]
     },
     "execution_count": 89,
     "metadata": {},
     "output_type": "execute_result"
    }
   ],
   "source": [
    "eval_similarity(avail_window, target_window)"
   ]
  },
  {
   "cell_type": "markdown",
   "id": "c90ab990",
   "metadata": {},
   "source": [
    "#### S21"
   ]
  },
  {
   "cell_type": "code",
   "execution_count": 90,
   "id": "d8f2cf8f",
   "metadata": {},
   "outputs": [],
   "source": [
    "# predictions = pd.read_table('../emphases/baselines/prominence/test_outputs_buckeye/s2101b.prom', header=None)\n",
    "# avail_window = annotations[annotations['filename']==\"s21-1\"].reset_index(drop=True)\n",
    "# target_window = predictions[537:582].reset_index(drop=True)\n",
    "\n",
    "predictions = pd.read_table('../emphases/baselines/prominence/test_outputs_buckeye_v1/s21-1.prom', header=None)\n",
    "avail_window = annotations[annotations['filename']==\"s21-1\"].reset_index(drop=True)\n",
    "target_window = predictions.reset_index(drop=True)"
   ]
  },
  {
   "cell_type": "code",
   "execution_count": 91,
   "id": "fd22c241",
   "metadata": {
    "scrolled": true
   },
   "outputs": [
    {
     "name": "stdout",
     "output_type": "stream",
     "text": [
      "38 tokens compared, 45 tokens were available in annotation\n"
     ]
    },
    {
     "data": {
      "image/png": "[encoded data removed]",
      "text/plain": [
       "<Figure size 288x288 with 1 Axes>"
      ]
     },
     "metadata": {
      "needs_background": "light"
     },
     "output_type": "display_data"
    },
    {
     "data": {
      "text/plain": [
       "0.7316878485143593"
      ]
     },
     "execution_count": 91,
     "metadata": {},
     "output_type": "execute_result"
    }
   ],
   "source": [
    "eval_similarity(avail_window, target_window)"
   ]
  },
  {
   "cell_type": "markdown",
   "id": "4f73c3a6",
   "metadata": {},
   "source": [
    "#### S22"
   ]
  },
  {
   "cell_type": "code",
   "execution_count": 92,
   "id": "fedf5482",
   "metadata": {},
   "outputs": [],
   "source": [
    "# predictions = pd.read_table('../emphases/baselines/prominence/test_outputs_buckeye/s2201a.prom', header=None)\n",
    "# avail_window = annotations[annotations['filename']==\"s22-1\"].reset_index(drop=True)\n",
    "# target_window = predictions[15:48].reset_index(drop=True)\n",
    "\n",
    "predictions = pd.read_table('../emphases/baselines/prominence/test_outputs_buckeye_v1/s22-1.prom', header=None)\n",
    "avail_window = annotations[annotations['filename']==\"s22-1\"].reset_index(drop=True)\n",
    "target_window = predictions.reset_index(drop=True)"
   ]
  },
  {
   "cell_type": "code",
   "execution_count": 93,
   "id": "5dac172e",
   "metadata": {
    "scrolled": true
   },
   "outputs": [
    {
     "name": "stdout",
     "output_type": "stream",
     "text": [
      "33 tokens compared, 33 tokens were available in annotation\n"
     ]
    },
    {
     "data": {
      "image/png": "[encoded data removed]",
      "text/plain": [
       "<Figure size 288x288 with 1 Axes>"
      ]
     },
     "metadata": {
      "needs_background": "light"
     },
     "output_type": "display_data"
    },
    {
     "data": {
      "text/plain": [
       "0.8125833383271772"
      ]
     },
     "execution_count": 93,
     "metadata": {},
     "output_type": "execute_result"
    }
   ],
   "source": [
    "eval_similarity(avail_window, target_window)"
   ]
  },
  {
   "cell_type": "markdown",
   "id": "faa4066d",
   "metadata": {},
   "source": [
    "#### S25"
   ]
  },
  {
   "cell_type": "code",
   "execution_count": 94,
   "id": "c5e3cb36",
   "metadata": {},
   "outputs": [],
   "source": [
    "# predictions = pd.read_table('../emphases/baselines/prominence/test_outputs_buckeye/s2501a.prom', header=None)\n",
    "# avail_window = annotations[annotations['filename']==\"s25-1\"].reset_index(drop=True)\n",
    "# target_window = predictions[494:572].reset_index(drop=True)\n",
    "\n",
    "predictions = pd.read_table('../emphases/baselines/prominence/test_outputs_buckeye_v1/s25-1.prom', header=None)\n",
    "avail_window = annotations[annotations['filename']==\"s25-1\"].reset_index(drop=True)\n",
    "target_window = predictions.reset_index(drop=True)"
   ]
  },
  {
   "cell_type": "code",
   "execution_count": 95,
   "id": "b6403718",
   "metadata": {
    "scrolled": false
   },
   "outputs": [
    {
     "name": "stdout",
     "output_type": "stream",
     "text": [
      "78 tokens compared, 78 tokens were available in annotation\n"
     ]
    },
    {
     "data": {
      "image/png": "[encoded data removed]",
      "text/plain": [
       "<Figure size 288x288 with 1 Axes>"
      ]
     },
     "metadata": {
      "needs_background": "light"
     },
     "output_type": "display_data"
    },
    {
     "data": {
      "text/plain": [
       "0.6198016519175178"
      ]
     },
     "execution_count": 95,
     "metadata": {},
     "output_type": "execute_result"
    }
   ],
   "source": [
    "eval_similarity(avail_window, target_window)"
   ]
  },
  {
   "cell_type": "markdown",
   "id": "ffdeb7c3",
   "metadata": {},
   "source": [
    "#### S26"
   ]
  },
  {
   "cell_type": "code",
   "execution_count": 96,
   "id": "0bdd8ce5",
   "metadata": {},
   "outputs": [],
   "source": [
    "# predictions = pd.read_table('../emphases/baselines/prominence/test_outputs_buckeye/s2601a.prom', header=None)\n",
    "# avail_window = annotations[annotations['filename']==\"s26-1\"].reset_index(drop=True)\n",
    "# target_window = predictions[427:480].reset_index(drop=True)\n",
    "\n",
    "predictions = pd.read_table('../emphases/baselines/prominence/test_outputs_buckeye_v1/s26-1.prom', header=None)\n",
    "avail_window = annotations[annotations['filename']==\"s26-1\"].reset_index(drop=True)\n",
    "target_window = predictions.reset_index(drop=True)"
   ]
  },
  {
   "cell_type": "code",
   "execution_count": 97,
   "id": "401b68c8",
   "metadata": {
    "scrolled": true
   },
   "outputs": [
    {
     "name": "stdout",
     "output_type": "stream",
     "text": [
      "51 tokens compared, 52 tokens were available in annotation\n"
     ]
    },
    {
     "data": {
      "image/png": "[encoded data removed]",
      "text/plain": [
       "<Figure size 288x288 with 1 Axes>"
      ]
     },
     "metadata": {
      "needs_background": "light"
     },
     "output_type": "display_data"
    },
    {
     "data": {
      "text/plain": [
       "0.6479532360482125"
      ]
     },
     "execution_count": 97,
     "metadata": {},
     "output_type": "execute_result"
    }
   ],
   "source": [
    "eval_similarity(avail_window, target_window)"
   ]
  },
  {
   "cell_type": "markdown",
   "id": "4b758450",
   "metadata": {},
   "source": [
    "#### S32"
   ]
  },
  {
   "cell_type": "code",
   "execution_count": 98,
   "id": "bb887ad1",
   "metadata": {},
   "outputs": [],
   "source": [
    "# predictions = pd.read_table('../emphases/baselines/prominence/test_outputs_buckeye/s3201a.prom', header=None)\n",
    "# avail_window = annotations[annotations['filename']==\"s32-1\"].reset_index(drop=True)\n",
    "# target_window = predictions[129:195].reset_index(drop=True)\n",
    "\n",
    "predictions = pd.read_table('../emphases/baselines/prominence/test_outputs_buckeye_v1/s32-1.prom', header=None)\n",
    "avail_window = annotations[annotations['filename']==\"s32-1\"].reset_index(drop=True)\n",
    "target_window = predictions.reset_index(drop=True)\n",
    "\n"
   ]
  },
  {
   "cell_type": "code",
   "execution_count": 99,
   "id": "8f5f6651",
   "metadata": {
    "scrolled": true
   },
   "outputs": [
    {
     "name": "stdout",
     "output_type": "stream",
     "text": [
      "52 tokens compared, 67 tokens were available in annotation\n"
     ]
    },
    {
     "data": {
      "image/png": "[encoded data removed]",
      "text/plain": [
       "<Figure size 288x288 with 1 Axes>"
      ]
     },
     "metadata": {
      "needs_background": "light"
     },
     "output_type": "display_data"
    },
    {
     "data": {
      "text/plain": [
       "0.7394389509867254"
      ]
     },
     "execution_count": 99,
     "metadata": {},
     "output_type": "execute_result"
    }
   ],
   "source": [
    "eval_similarity(avail_window, target_window)"
   ]
  },
  {
   "cell_type": "markdown",
   "id": "feceedd6",
   "metadata": {},
   "source": [
    "#### S33"
   ]
  },
  {
   "cell_type": "code",
   "execution_count": 100,
   "id": "d0b9703f",
   "metadata": {},
   "outputs": [],
   "source": [
    "# predictions = pd.read_table('../emphases/baselines/prominence/test_outputs_buckeye/s3301a.prom', header=None)\n",
    "# avail_window = annotations[annotations['filename']==\"s33-1\"].reset_index(drop=True)\n",
    "# target_window = predictions[130:168].reset_index(drop=True)"
   ]
  },
  {
   "cell_type": "code",
   "execution_count": 101,
   "id": "88eb3d66",
   "metadata": {
    "scrolled": true
   },
   "outputs": [],
   "source": [
    "# eval_similarity(avail_window, target_window)"
   ]
  },
  {
   "cell_type": "markdown",
   "id": "b11bf333",
   "metadata": {},
   "source": [
    "#### S35"
   ]
  },
  {
   "cell_type": "code",
   "execution_count": 129,
   "id": "87594a54",
   "metadata": {},
   "outputs": [],
   "source": [
    "# predictions = pd.read_table('../emphases/baselines/prominence/test_outputs_buckeye/s3501a.prom', header=None)\n",
    "# avail_window = annotations[annotations['filename']==\"s35-1\"].reset_index(drop=True)\n",
    "# target_window = predictions[281:337].reset_index(drop=True)"
   ]
  },
  {
   "cell_type": "code",
   "execution_count": 130,
   "id": "2d232070",
   "metadata": {
    "scrolled": true
   },
   "outputs": [],
   "source": [
    "# eval_similarity(avail_window, target_window)"
   ]
  },
  {
   "cell_type": "code",
   "execution_count": null,
   "id": "0d830c64",
   "metadata": {},
   "outputs": [],
   "source": []
  },
  {
   "cell_type": "code",
   "execution_count": null,
   "id": "1ca39bd7",
   "metadata": {},
   "outputs": [],
   "source": []
  }
 ],
 "metadata": {
  "kernelspec": {
   "display_name": "prominence-est-conda-py37",
   "language": "python",
   "name": "prominence-est-conda-py37"
  },
  "language_info": {
   "codemirror_mode": {
    "name": "ipython",
    "version": 3
   },
   "file_extension": ".py",
   "mimetype": "text/x-python",
   "name": "python",
   "nbconvert_exporter": "python",
   "pygments_lexer": "ipython3",
   "version": "3.7.13"
  }
 },
 "nbformat": 4,
 "nbformat_minor": 5
}
