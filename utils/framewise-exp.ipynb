{
 "cells": [
  {
   "cell_type": "code",
   "execution_count": 1,
   "id": "b7ebdffb",
   "metadata": {},
   "outputs": [],
   "source": [
    "import os\n",
    "import numpy as np\n",
    "import emphases\n",
    "import pypar"
   ]
  },
  {
   "cell_type": "code",
   "execution_count": 2,
   "id": "a1c31ce5",
   "metadata": {},
   "outputs": [],
   "source": [
    "import torch\n",
    "import torchaudio\n",
    "import torchaudio.functional as F\n",
    "import torchaudio.transforms as T\n"
   ]
  },
  {
   "cell_type": "code",
   "execution_count": 3,
   "id": "8dbbf88d",
   "metadata": {},
   "outputs": [],
   "source": [
    "s3_audio = emphases.load.audio('../data/cache/buckeye/wavs/s03-1.wav')\n",
    "s11_audio = emphases.load.audio('../data/cache/buckeye/wavs/s11-1.wav')\n",
    "\n",
    "s32_audio = emphases.load.audio('../data/cache/buckeye/wavs/s32-1.wav')\n"
   ]
  },
  {
   "cell_type": "code",
   "execution_count": 4,
   "id": "11c60c3d",
   "metadata": {
    "scrolled": false
   },
   "outputs": [
    {
     "data": {
      "text/plain": [
       "torch.Size([1, 304455])"
      ]
     },
     "execution_count": 4,
     "metadata": {},
     "output_type": "execute_result"
    }
   ],
   "source": [
    "s32_audio.shape"
   ]
  },
  {
   "cell_type": "markdown",
   "id": "0d9f0091",
   "metadata": {},
   "source": [
    "#### Get Mel"
   ]
  },
  {
   "cell_type": "code",
   "execution_count": 5,
   "id": "b0670b48",
   "metadata": {},
   "outputs": [],
   "source": [
    "n_fft = 1024\n",
    "win_length = 1024\n",
    "hop_length = 160\n",
    "n_mels = 80\n",
    "\n",
    "mel_spectrogram = T.MelSpectrogram(\n",
    "    sample_rate=16000,\n",
    "    n_fft=n_fft,\n",
    "    win_length=win_length,\n",
    "    hop_length=hop_length,\n",
    "    center=True,\n",
    "    pad_mode=\"reflect\",\n",
    "    power=2.0,\n",
    "    norm=\"slaney\",\n",
    "    onesided=True,\n",
    "    n_mels=n_mels,\n",
    "    mel_scale=\"htk\",\n",
    ")"
   ]
  },
  {
   "cell_type": "code",
   "execution_count": 6,
   "id": "6838c898",
   "metadata": {
    "scrolled": false
   },
   "outputs": [
    {
     "data": {
      "text/plain": [
       "torch.Size([1, 346223])"
      ]
     },
     "execution_count": 6,
     "metadata": {},
     "output_type": "execute_result"
    }
   ],
   "source": [
    "s3_audio.shape"
   ]
  },
  {
   "cell_type": "code",
   "execution_count": 7,
   "id": "ac872030",
   "metadata": {
    "scrolled": true
   },
   "outputs": [
    {
     "data": {
      "text/plain": [
       "2163"
      ]
     },
     "execution_count": 7,
     "metadata": {},
     "output_type": "execute_result"
    }
   ],
   "source": [
    "346223//160"
   ]
  },
  {
   "cell_type": "code",
   "execution_count": 8,
   "id": "aecf03b8",
   "metadata": {
    "scrolled": true
   },
   "outputs": [
    {
     "data": {
      "text/plain": [
       "torch.Size([1, 80, 2164])"
      ]
     },
     "execution_count": 8,
     "metadata": {},
     "output_type": "execute_result"
    }
   ],
   "source": [
    "melspec = mel_spectrogram(s3_audio)\n",
    "melspec.shape"
   ]
  },
  {
   "cell_type": "code",
   "execution_count": 9,
   "id": "5257cded",
   "metadata": {
    "scrolled": true
   },
   "outputs": [
    {
     "data": {
      "text/plain": [
       "torch.Size([1, 80, 2404])"
      ]
     },
     "execution_count": 9,
     "metadata": {},
     "output_type": "execute_result"
    }
   ],
   "source": [
    "melspec_s11 = mel_spectrogram(s11_audio)\n",
    "melspec_s11.shape"
   ]
  },
  {
   "cell_type": "code",
   "execution_count": 10,
   "id": "79b097cf",
   "metadata": {},
   "outputs": [
    {
     "data": {
      "text/plain": [
       "torch.Size([1, 80, 1903])"
      ]
     },
     "execution_count": 10,
     "metadata": {},
     "output_type": "execute_result"
    }
   ],
   "source": [
    "melspec_s32 = mel_spectrogram(s32_audio)\n",
    "melspec_s32.shape"
   ]
  },
  {
   "cell_type": "code",
   "execution_count": 11,
   "id": "f30e7cb1",
   "metadata": {},
   "outputs": [
    {
     "data": {
      "text/plain": [
       "2397.2568578553614"
      ]
     },
     "execution_count": 11,
     "metadata": {},
     "output_type": "execute_result"
    }
   ],
   "source": [
    "s11_audio.shape[-1]/160.4"
   ]
  },
  {
   "cell_type": "markdown",
   "id": "046dcc54",
   "metadata": {},
   "source": [
    "#### Get prom and alignment"
   ]
  },
  {
   "cell_type": "code",
   "execution_count": 12,
   "id": "80571c72",
   "metadata": {},
   "outputs": [],
   "source": [
    "# alignment = pypar.Alignment('../data/cache/buckeye/alignment/s03-1.json')\n",
    "\n",
    "alignment = pypar.Alignment('../data/cache/buckeye/alignment/s32-1.json')\n",
    "word_bounds = alignment.word_bounds(emphases.SAMPLE_RATE, emphases.HOPSIZE)\n",
    "\n",
    "# prominence = emphases.load.prominence('../data/cache/buckeye/annotation/s03-1.prom')\n",
    "prominence = emphases.load.prominence('../data/cache/buckeye/annotation/s32-1.prom')"
   ]
  },
  {
   "cell_type": "code",
   "execution_count": 13,
   "id": "39460b56",
   "metadata": {},
   "outputs": [
    {
     "data": {
      "text/plain": [
       "torch.Size([1, 80, 1903])"
      ]
     },
     "execution_count": 13,
     "metadata": {},
     "output_type": "execute_result"
    }
   ],
   "source": [
    "melspec_s32.shape"
   ]
  },
  {
   "cell_type": "code",
   "execution_count": 14,
   "id": "c47ca373",
   "metadata": {
    "scrolled": false
   },
   "outputs": [
    {
     "data": {
      "text/plain": [
       "(tensor([0.0000, 0.0000, 0.0000, 0.0000, 0.0000, 0.0000, 0.1562, 0.2812, 0.3125,\n",
       "         0.0312, 0.0000, 0.8125, 0.3750, 0.0938, 0.0000, 0.0000, 0.0625, 0.0000,\n",
       "         0.0000, 0.1562, 0.0312, 0.0000, 0.0312, 0.5625, 0.1562, 0.3125, 0.3750,\n",
       "         0.0000, 0.0000, 0.0312, 0.0000, 0.0000, 0.0312, 0.0000, 0.5625, 0.5312,\n",
       "         0.0000, 0.0000, 0.0000, 0.9062, 0.0312, 0.1250, 0.0000, 0.0000, 0.0000,\n",
       "         0.9062, 0.0312, 0.3750, 0.0938, 0.0938, 0.8750, 0.0312, 0.0000, 0.4062,\n",
       "         0.0000, 0.0000, 0.0000, 0.1250, 0.1250, 0.0000, 0.0000, 0.0312, 0.0000,\n",
       "         0.0938, 0.0000, 0.5312, 0.3125]),\n",
       " torch.Size([67]))"
      ]
     },
     "execution_count": 14,
     "metadata": {},
     "output_type": "execute_result"
    }
   ],
   "source": [
    "prominence, prominence.shape"
   ]
  },
  {
   "cell_type": "code",
   "execution_count": 15,
   "id": "836def43",
   "metadata": {
    "scrolled": true
   },
   "outputs": [
    {
     "data": {
      "text/plain": [
       "[(13, 27),\n",
       " (27, 33),\n",
       " (33, 47),\n",
       " (47, 52),\n",
       " (52, 61),\n",
       " (61, 68),\n",
       " (68, 90),\n",
       " (90, 139),\n",
       " (139, 181),\n",
       " (181, 209),\n",
       " (209, 239),\n",
       " (239, 275),\n",
       " (275, 284),\n",
       " (284, 317),\n",
       " (317, 325),\n",
       " (325, 342),\n",
       " (342, 362),\n",
       " (362, 395),\n",
       " (395, 404),\n",
       " (404, 419),\n",
       " (419, 432),\n",
       " (432, 451),\n",
       " (451, 477),\n",
       " (477, 529),\n",
       " (529, 571),\n",
       " (577, 595),\n",
       " (595, 654),\n",
       " (739, 779),\n",
       " (807, 820),\n",
       " (820, 840),\n",
       " (840, 855),\n",
       " (855, 884),\n",
       " (884, 906),\n",
       " (906, 917),\n",
       " (917, 940),\n",
       " (940, 976),\n",
       " (1002, 1030),\n",
       " (1030, 1042),\n",
       " (1042, 1068),\n",
       " (1068, 1102),\n",
       " (1102, 1111),\n",
       " (1111, 1165),\n",
       " (1165, 1189),\n",
       " (1189, 1200),\n",
       " (1226, 1239),\n",
       " (1239, 1274),\n",
       " (1274, 1287),\n",
       " (1287, 1313),\n",
       " (1504, 1510),\n",
       " (1510, 1522),\n",
       " (1522, 1570),\n",
       " (1642, 1644),\n",
       " (1644, 1657),\n",
       " (1657, 1674),\n",
       " (1674, 1677),\n",
       " (1677, 1686),\n",
       " (1686, 1694),\n",
       " (1694, 1713),\n",
       " (1713, 1739),\n",
       " (1739, 1745),\n",
       " (1745, 1750),\n",
       " (1750, 1774),\n",
       " (1774, 1787),\n",
       " (1787, 1810),\n",
       " (1810, 1815),\n",
       " (1815, 1837),\n",
       " (1837, 1869)]"
      ]
     },
     "execution_count": 15,
     "metadata": {},
     "output_type": "execute_result"
    }
   ],
   "source": [
    "word_bounds"
   ]
  },
  {
   "cell_type": "markdown",
   "id": "928949b6",
   "metadata": {},
   "source": [
    "### Interpolate"
   ]
  },
  {
   "cell_type": "markdown",
   "id": "b913304c",
   "metadata": {},
   "source": [
    "#### Prepare grid"
   ]
  },
  {
   "cell_type": "code",
   "execution_count": 16,
   "id": "0a523537",
   "metadata": {
    "scrolled": false
   },
   "outputs": [
    {
     "data": {
      "text/plain": [
       "304455"
      ]
     },
     "execution_count": 16,
     "metadata": {},
     "output_type": "execute_result"
    }
   ],
   "source": [
    "# audio_len = s3_audio.shape[-1]\n",
    "audio_len = s32_audio.shape[-1]\n",
    "audio_len"
   ]
  },
  {
   "cell_type": "code",
   "execution_count": 17,
   "id": "6efe3b8a",
   "metadata": {},
   "outputs": [],
   "source": [
    "# # this is a sample function to create constant ratio grid\n",
    "# def constant(tensor, ratio):\n",
    "#     \"\"\"Create a grid for constant-ratio time-stretching\"\"\"\n",
    "#     return torch.linspace(\n",
    "#         0.,\n",
    "#         tensor.shape[-1] - 1,\n",
    "# #         round((tensor.shape[-1]) / ratio + 1e-4),\n",
    "#         round((tensor.shape[-1]) / (ratio)),\n",
    "#         dtype=torch.float,\n",
    "#         device=tensor.device)"
   ]
  },
  {
   "cell_type": "code",
   "execution_count": 18,
   "id": "67dbabe5",
   "metadata": {
    "scrolled": true
   },
   "outputs": [],
   "source": [
    "# grid = constant(s3_audio, 160.4)\n",
    "# grid, grid[-1]"
   ]
  },
  {
   "cell_type": "code",
   "execution_count": 19,
   "id": "bd73cea6",
   "metadata": {},
   "outputs": [],
   "source": [
    "def grid_sample(sequence, grid, method='linear'):\n",
    "    \"\"\"Perform 1D grid-based sampling\"\"\"\n",
    "    # Require interpolation method to be defined\n",
    "    if method not in ['linear', 'nearest']:\n",
    "        raise ValueError(\n",
    "            f'Interpolation mode {emphases.PPG_INTERP_METHOD} is not defined')\n",
    "\n",
    "    # Setup grid parameters\n",
    "    x = grid\n",
    "    fp = sequence\n",
    "\n",
    "    # Linear grid interpolation\n",
    "    if method == 'linear':\n",
    "        xp = torch.arange(sequence.shape[-1], device=sequence.device)\n",
    "        i = torch.clip(torch.searchsorted(xp, x, right=True), 1, len(xp) - 1)\n",
    "        return (\n",
    "            (fp[..., i - 1] * (xp[i] - x) + fp[..., i] * (x - xp[i - 1])) /\n",
    "            (xp[i] - xp[i - 1]))\n",
    "\n",
    "    # Nearest neighbors grid interpolation\n",
    "    elif method == 'nearest':\n",
    "        return fp[..., torch.round(x).to(torch.long)]\n",
    "\n",
    "    else:\n",
    "        raise ValueError(f'Grid sampling method {method} is not defined')\n"
   ]
  },
  {
   "cell_type": "code",
   "execution_count": 20,
   "id": "ecec6206",
   "metadata": {
    "scrolled": true
   },
   "outputs": [],
   "source": [
    "# interpolated_val = grid_sample(prominence, grid)\n",
    "# xp = torch.arange(prominence.shape[-1], device=prominence.device)\n",
    "# i = torch.clip(torch.searchsorted(xp, grid, right=True), 1, len(xp) - 1)"
   ]
  },
  {
   "cell_type": "markdown",
   "id": "31d76329",
   "metadata": {},
   "source": [
    "#### Using Numpy"
   ]
  },
  {
   "cell_type": "code",
   "execution_count": 21,
   "id": "6bbfe14b",
   "metadata": {},
   "outputs": [],
   "source": [
    "# s3_audio.shape\n",
    "\n",
    "# 19*160 - 0\n",
    "\n",
    "# s3_audio.shape[-1] - 2149*160\n",
    "\n",
    "# 346223//160, 346223/160\n",
    "\n",
    "# 346080//160, 346080/160"
   ]
  },
  {
   "cell_type": "code",
   "execution_count": 23,
   "id": "f8cacc8c",
   "metadata": {},
   "outputs": [],
   "source": [
    "def nearest_neighbour_interpolation(audio, word_bounds, prominence):\n",
    "    wb_prom_pairs = []\n",
    "    audio_len = audio.shape[-1]\n",
    "\n",
    "    if word_bounds[0][0]!=0:\n",
    "        wb_prom_pairs.append([(0, word_bounds[0][0]), 0])\n",
    "\n",
    "    for idx in range(len(word_bounds)):\n",
    "        wb_prom_pairs.append([word_bounds[idx], prominence[idx].item()])\n",
    "        if idx+1<len(word_bounds):\n",
    "            if word_bounds[idx][-1]!=word_bounds[idx+1][0]:\n",
    "                start = word_bounds[idx][-1]\n",
    "                end = word_bounds[idx+1][0]\n",
    "                wb_prom_pairs.append([(start, end), 0])\n",
    "                \n",
    "    prom_extended = []\n",
    "\n",
    "    for wb in wb_prom_pairs:\n",
    "        start, end = wb[0][0], wb[0][1]\n",
    "        # prom_extended.extend([wb[-1]]*(end-start)*160)\n",
    "        prom_extended.extend([wb[-1]]*(end-start))\n",
    "\n",
    "    if word_bounds[-1][-1]!=(audio_len//160 + 1):\n",
    "        pad_len = (audio_len//160 + 1) - len(prom_extended)\n",
    "        prom_extended.extend([0]*pad_len)\n",
    "\n",
    "    prom_extended = torch.tensor(prom_extended)\n",
    "    \n",
    "    return prom_extended"
   ]
  },
  {
   "cell_type": "code",
   "execution_count": 24,
   "id": "a7203ed3",
   "metadata": {},
   "outputs": [],
   "source": [
    "# alignment = pypar.Alignment('../data/cache/buckeye/alignment/s03-1.json')\n",
    "# alignment = pypar.Alignment('../data/cache/buckeye/alignment/s32-1.json')\n",
    "alignment = pypar.Alignment('../data/cache/buckeye/alignment/s11-1.json')\n",
    "\n",
    "word_bounds = alignment.word_bounds(emphases.SAMPLE_RATE, emphases.HOPSIZE)\n",
    "\n",
    "# prominence = emphases.load.prominence('../data/cache/buckeye/annotation/s03-1.prom')\n",
    "# prominence = emphases.load.prominence('../data/cache/buckeye/annotation/s32-1.prom')\n",
    "prominence = emphases.load.prominence('../data/cache/buckeye/annotation/s11-1.prom')"
   ]
  },
  {
   "cell_type": "code",
   "execution_count": 47,
   "id": "12a9a37d",
   "metadata": {},
   "outputs": [
    {
     "data": {
      "text/plain": [
       "torch.Size([2404])"
      ]
     },
     "execution_count": 47,
     "metadata": {},
     "output_type": "execute_result"
    }
   ],
   "source": [
    "nearest_neighbour_interpolation(s11_audio, word_bounds, prominence).shape"
   ]
  },
  {
   "cell_type": "code",
   "execution_count": 27,
   "id": "22dd4492",
   "metadata": {
    "scrolled": false
   },
   "outputs": [
    {
     "data": {
      "text/plain": [
       "torch.Size([1, 80, 2164])"
      ]
     },
     "execution_count": 27,
     "metadata": {},
     "output_type": "execute_result"
    }
   ],
   "source": [
    "melspec.shape"
   ]
  },
  {
   "cell_type": "code",
   "execution_count": 28,
   "id": "5ead0d2c",
   "metadata": {
    "scrolled": true
   },
   "outputs": [
    {
     "data": {
      "text/plain": [
       "torch.Size([1, 80, 1903])"
      ]
     },
     "execution_count": 28,
     "metadata": {},
     "output_type": "execute_result"
    }
   ],
   "source": [
    "melspec_s32.shape"
   ]
  },
  {
   "cell_type": "code",
   "execution_count": 29,
   "id": "db40b742",
   "metadata": {
    "scrolled": true
   },
   "outputs": [
    {
     "data": {
      "text/plain": [
       "torch.Size([1, 80, 2404])"
      ]
     },
     "execution_count": 29,
     "metadata": {},
     "output_type": "execute_result"
    }
   ],
   "source": [
    "melspec_s11.shape"
   ]
  },
  {
   "cell_type": "markdown",
   "id": "aaa3ac15",
   "metadata": {},
   "source": [
    "### Linear Interpolation"
   ]
  },
  {
   "cell_type": "code",
   "execution_count": 30,
   "id": "62780d34",
   "metadata": {},
   "outputs": [],
   "source": [
    "# audio = emphases.load.audio('../data/cache/buckeye/wavs/s32-1.wav')\n",
    "audio = emphases.load.audio('../data/cache/buckeye/wavs/s11-1.wav')\n",
    "\n",
    "# alignment = pypar.Alignment('../data/cache/buckeye/alignment/s03-1.json')\n",
    "# alignment = pypar.Alignment('../data/cache/buckeye/alignment/s32-1.json')\n",
    "alignment = pypar.Alignment('../data/cache/buckeye/alignment/s11-1.json')\n",
    "\n",
    "word_bounds = alignment.word_bounds(emphases.SAMPLE_RATE, emphases.HOPSIZE)\n",
    "\n",
    "# prominence = emphases.load.prominence('../data/cache/buckeye/annotation/s03-1.prom')\n",
    "# prominence = emphases.load.prominence('../data/cache/buckeye/annotation/s32-1.prom')\n",
    "prominence = emphases.load.prominence('../data/cache/buckeye/annotation/s11-1.prom')"
   ]
  },
  {
   "cell_type": "code",
   "execution_count": 40,
   "id": "b6926e3a",
   "metadata": {
    "scrolled": true
   },
   "outputs": [
    {
     "data": {
      "text/plain": [
       "(tensor([0.0000, 0.2500, 0.0938, 0.7812, 0.2188, 0.1875, 0.0000, 0.0000, 0.0312,\n",
       "         0.4062, 0.5625, 0.0000, 0.0625, 0.0625, 0.0312, 0.0625, 0.4688, 0.6875,\n",
       "         0.1562, 0.0000, 0.4062, 0.0000, 0.0938, 0.0312, 0.4062, 0.0000, 0.3438,\n",
       "         0.1875, 0.6250, 0.2188, 0.1250, 0.0000, 0.5000, 0.1875, 0.0000, 0.0000,\n",
       "         0.0938, 0.1250, 0.4062, 0.5000, 0.0312, 0.7500, 0.0312, 0.0312, 0.3125,\n",
       "         0.0000, 0.0312, 0.1250, 0.1562, 0.0625, 0.0938, 0.1562]),\n",
       " torch.Size([52]))"
      ]
     },
     "execution_count": 40,
     "metadata": {},
     "output_type": "execute_result"
    }
   ],
   "source": [
    "prominence, prominence.shape"
   ]
  },
  {
   "cell_type": "code",
   "execution_count": 34,
   "id": "f4a1e565",
   "metadata": {},
   "outputs": [],
   "source": [
    "# wb_idx_prom_pairs = []\n",
    "# audio_len = audio.shape[-1]\n",
    "\n",
    "# # if word_bounds[0][0]!=0:\n",
    "# #     wb_idx_prom_pairs.append([0, 0])\n",
    "# #     wb_idx_prom_pairs.append([word_bounds[0][0], 0])\n",
    "\n",
    "# for idx in range(1, len(word_bounds)):\n",
    "#     # wb_prom_pairs.append([word_bounds[idx], prominence[idx].item()])\n",
    "#     wb_idx_prom_pairs.append([word_bounds[idx][0], prominence[idx-1].item()])\n",
    "#     wb_idx_prom_pairs.append([word_bounds[idx][1], prominence[idx].item()])\n",
    "\n",
    "#     if idx+1<len(word_bounds):\n",
    "#         if word_bounds[idx][-1]!=word_bounds[idx+1][0]:\n",
    "#             start = word_bounds[idx][-1]\n",
    "#             end = word_bounds[idx+1][0]\n",
    "#             # wb_prom_pairs.append([(start, end), 0])\n",
    "#             wb_idx_prom_pairs.append([start, prominence[idx-1].item()])\n",
    "#             wb_idx_prom_pairs.append([end, prominence[idx+1].item()])\n",
    "\n",
    "\n",
    "# # prom_extended = []\n",
    "\n",
    "# # for wb in wb_prom_pairs:\n",
    "# #     start, end = wb[0][0], wb[0][1]\n",
    "# #     # prom_extended.extend([wb[-1]]*(end-start)*160)\n",
    "# #     prom_extended.extend([wb[-1]]*(end-start))\n",
    "\n",
    "# # if word_bounds[-1][-1]!=(audio_len//160 + 1):\n",
    "# #     pad_len = (audio_len//160 + 1) - len(prom_extended)\n",
    "# #     prom_extended.extend([0]*pad_len)\n",
    "\n",
    "# # prom_extended = torch.tensor(prom_extended)\n"
   ]
  },
  {
   "cell_type": "markdown",
   "id": "6b535cd1",
   "metadata": {},
   "source": [
    "### Interpolation Corrected"
   ]
  },
  {
   "cell_type": "code",
   "execution_count": 75,
   "id": "7fb0bcae",
   "metadata": {},
   "outputs": [],
   "source": [
    "import matplotlib.pyplot as plt\n",
    "import pandas as pd\n",
    "import seaborn as sns"
   ]
  },
  {
   "cell_type": "code",
   "execution_count": 74,
   "id": "79ca1167",
   "metadata": {},
   "outputs": [],
   "source": [
    "def interpolate_numpy(sequence, positions, pred_grid):\n",
    "    fp = sequence\n",
    "    xp = positions\n",
    "    return torch.tensor(np.interp(pred_grid, xp, fp))"
   ]
  },
  {
   "cell_type": "code",
   "execution_count": 97,
   "id": "4187de9f",
   "metadata": {},
   "outputs": [],
   "source": [
    "def linear_interp(audio, word_bounds, prominence):\n",
    "    positions = []\n",
    "    for bound in word_bounds:\n",
    "        mid = (bound[0] + bound [1])//2\n",
    "        positions.append(mid)\n",
    "    \n",
    "    audio_len = audio.shape[-1]\n",
    "    pred_grid = list(range(0, audio_len//160 + 1))\n",
    "    interp_prom = interpolate_numpy(prominence, positions, pred_grid)\n",
    "    return interp_prom"
   ]
  },
  {
   "cell_type": "code",
   "execution_count": 98,
   "id": "2dcd0cba",
   "metadata": {
    "scrolled": true
   },
   "outputs": [
    {
     "data": {
      "text/plain": [
       "torch.Size([2404])"
      ]
     },
     "execution_count": 98,
     "metadata": {},
     "output_type": "execute_result"
    }
   ],
   "source": [
    "interp_prom = linear_interp(audio, word_bounds, prominence)\n",
    "interp_prom.shape"
   ]
  },
  {
   "cell_type": "code",
   "execution_count": 102,
   "id": "e9f500aa",
   "metadata": {
    "scrolled": false
   },
   "outputs": [
    {
     "data": {
      "text/plain": [
       "torch.Size([1, 80, 2404])"
      ]
     },
     "execution_count": 102,
     "metadata": {},
     "output_type": "execute_result"
    }
   ],
   "source": [
    "melspec_s11.shape"
   ]
  },
  {
   "cell_type": "code",
   "execution_count": 103,
   "id": "67831571",
   "metadata": {
    "scrolled": true
   },
   "outputs": [
    {
     "data": {
      "text/plain": [
       "[<matplotlib.lines.Line2D at 0x7f843e25db90>]"
      ]
     },
     "execution_count": 103,
     "metadata": {},
     "output_type": "execute_result"
    },
    {
     "data": {
      "image/png": "[encoded data removed]",
      "text/plain": [
       "<Figure size 432x288 with 1 Axes>"
      ]
     },
     "metadata": {
      "needs_background": "light"
     },
     "output_type": "display_data"
    }
   ],
   "source": [
    "plt.plot(interp_prom.cpu().numpy())"
   ]
  },
  {
   "cell_type": "code",
   "execution_count": null,
   "id": "fe4fa01c",
   "metadata": {},
   "outputs": [],
   "source": []
  }
 ],
 "metadata": {
  "kernelspec": {
   "display_name": "prominence-est-conda-py37",
   "language": "python",
   "name": "prominence-est-conda-py37"
  },
  "language_info": {
   "codemirror_mode": {
    "name": "ipython",
    "version": 3
   },
   "file_extension": ".py",
   "mimetype": "text/x-python",
   "name": "python",
   "nbconvert_exporter": "python",
   "pygments_lexer": "ipython3",
   "version": "3.7.13"
  }
 },
 "nbformat": 4,
 "nbformat_minor": 5
}
