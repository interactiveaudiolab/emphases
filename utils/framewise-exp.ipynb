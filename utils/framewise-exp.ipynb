{
 "cells": [
  {
   "cell_type": "code",
   "execution_count": 1,
   "id": "b7ebdffb",
   "metadata": {},
   "outputs": [],
   "source": [
    "import os\n",
    "import numpy as np\n",
    "import emphases\n",
    "import pypar"
   ]
  },
  {
   "cell_type": "code",
   "execution_count": 2,
   "id": "a1c31ce5",
   "metadata": {},
   "outputs": [],
   "source": [
    "import torch\n",
    "import torchaudio\n",
    "import torchaudio.functional as F\n",
    "import torchaudio.transforms as T\n"
   ]
  },
  {
   "cell_type": "code",
   "execution_count": 3,
   "id": "8dbbf88d",
   "metadata": {},
   "outputs": [],
   "source": [
    "s3_audio = emphases.load.audio('../data/cache/Buckeye/wavs/s03-1.wav')\n",
    "s11_audio = emphases.load.audio('../data/cache/Buckeye/wavs/s11-1.wav')"
   ]
  },
  {
   "cell_type": "markdown",
   "id": "0d9f0091",
   "metadata": {},
   "source": [
    "#### Get Mel"
   ]
  },
  {
   "cell_type": "code",
   "execution_count": 4,
   "id": "b0670b48",
   "metadata": {},
   "outputs": [],
   "source": [
    "n_fft = 1024\n",
    "win_length = 1024\n",
    "hop_length = 160\n",
    "n_mels = 80\n",
    "\n",
    "mel_spectrogram = T.MelSpectrogram(\n",
    "    sample_rate=16000,\n",
    "    n_fft=n_fft,\n",
    "    win_length=win_length,\n",
    "    hop_length=hop_length,\n",
    "    center=False,\n",
    "    pad_mode=\"reflect\",\n",
    "    power=2.0,\n",
    "    norm=\"slaney\",\n",
    "    onesided=True,\n",
    "    n_mels=n_mels,\n",
    "    mel_scale=\"htk\",\n",
    ")"
   ]
  },
  {
   "cell_type": "code",
   "execution_count": 5,
   "id": "6838c898",
   "metadata": {
    "scrolled": false
   },
   "outputs": [
    {
     "data": {
      "text/plain": [
       "torch.Size([1, 346223])"
      ]
     },
     "execution_count": 5,
     "metadata": {},
     "output_type": "execute_result"
    }
   ],
   "source": [
    "s3_audio.shape"
   ]
  },
  {
   "cell_type": "code",
   "execution_count": 6,
   "id": "ac872030",
   "metadata": {},
   "outputs": [
    {
     "data": {
      "text/plain": [
       "2163"
      ]
     },
     "execution_count": 6,
     "metadata": {},
     "output_type": "execute_result"
    }
   ],
   "source": [
    "346223//160"
   ]
  },
  {
   "cell_type": "code",
   "execution_count": 7,
   "id": "aecf03b8",
   "metadata": {
    "scrolled": true
   },
   "outputs": [
    {
     "data": {
      "text/plain": [
       "torch.Size([1, 80, 2158])"
      ]
     },
     "execution_count": 7,
     "metadata": {},
     "output_type": "execute_result"
    }
   ],
   "source": [
    "melspec = mel_spectrogram(s3_audio)\n",
    "melspec.shape"
   ]
  },
  {
   "cell_type": "code",
   "execution_count": 8,
   "id": "5257cded",
   "metadata": {},
   "outputs": [
    {
     "data": {
      "text/plain": [
       "torch.Size([1, 80, 2397])"
      ]
     },
     "execution_count": 8,
     "metadata": {},
     "output_type": "execute_result"
    }
   ],
   "source": [
    "melspec_s11 = mel_spectrogram(s11_audio)\n",
    "melspec_s11.shape"
   ]
  },
  {
   "cell_type": "code",
   "execution_count": 9,
   "id": "f30e7cb1",
   "metadata": {},
   "outputs": [
    {
     "data": {
      "text/plain": [
       "2397.2568578553614"
      ]
     },
     "execution_count": 9,
     "metadata": {},
     "output_type": "execute_result"
    }
   ],
   "source": [
    "s11_audio.shape[-1]/160.4"
   ]
  },
  {
   "cell_type": "markdown",
   "id": "046dcc54",
   "metadata": {},
   "source": [
    "#### Get prom and alignment"
   ]
  },
  {
   "cell_type": "code",
   "execution_count": 10,
   "id": "80571c72",
   "metadata": {},
   "outputs": [],
   "source": [
    "alignment = pypar.Alignment('../data/cache/Buckeye/alignment/s03-1.json')\n",
    "\n",
    "word_bounds = alignment.word_bounds(emphases.SAMPLE_RATE, emphases.HOPSIZE)\n"
   ]
  },
  {
   "cell_type": "code",
   "execution_count": 11,
   "id": "f93c6bb9",
   "metadata": {},
   "outputs": [],
   "source": [
    "prominence = emphases.load.load_prominence('../data/cache/Buckeye/annotation/s03-1.prom')"
   ]
  },
  {
   "cell_type": "code",
   "execution_count": 12,
   "id": "c47ca373",
   "metadata": {
    "scrolled": false
   },
   "outputs": [
    {
     "data": {
      "text/plain": [
       "(tensor([0.0312, 0.4375, 0.1250, 0.4688, 0.0312, 0.4062, 0.1562, 0.0938, 0.1250,\n",
       "         0.0000, 0.0938, 0.0000, 0.0312, 0.0000, 0.0000, 0.0938, 0.0938, 0.0000,\n",
       "         0.3125, 0.0000, 0.1562, 0.4062, 0.0625, 0.0000, 0.0000, 0.0000, 0.0000,\n",
       "         0.5312, 0.0000, 0.0000, 0.0000, 0.1250, 0.1250, 0.0312, 0.0625, 0.3750,\n",
       "         0.0312, 0.0312, 0.0000, 0.0312, 0.2188, 0.5312, 0.0000, 0.0938, 0.6250,\n",
       "         0.0000, 0.0000, 0.0625, 0.0312, 0.1875, 0.3438, 0.1562, 0.0000, 0.0312,\n",
       "         0.3438, 0.3125, 0.0000, 0.1875, 0.0312, 0.0000, 0.2812, 0.0000, 0.0938,\n",
       "         0.5938, 0.2812, 0.0312, 0.7188, 0.1875, 0.0938, 0.7812, 0.2812]),\n",
       " torch.Size([71]))"
      ]
     },
     "execution_count": 12,
     "metadata": {},
     "output_type": "execute_result"
    }
   ],
   "source": [
    "prominence, prominence.shape"
   ]
  },
  {
   "cell_type": "markdown",
   "id": "928949b6",
   "metadata": {},
   "source": [
    "### Interpolate"
   ]
  },
  {
   "cell_type": "markdown",
   "id": "b913304c",
   "metadata": {},
   "source": [
    "#### Prepare grid"
   ]
  },
  {
   "cell_type": "code",
   "execution_count": 13,
   "id": "0a523537",
   "metadata": {
    "scrolled": false
   },
   "outputs": [
    {
     "data": {
      "text/plain": [
       "346223"
      ]
     },
     "execution_count": 13,
     "metadata": {},
     "output_type": "execute_result"
    }
   ],
   "source": [
    "audio_len = s3_audio.shape[-1]\n",
    "audio_len"
   ]
  },
  {
   "cell_type": "code",
   "execution_count": 169,
   "id": "6efe3b8a",
   "metadata": {},
   "outputs": [],
   "source": [
    "def constant(tensor, ratio):\n",
    "    \"\"\"Create a grid for constant-ratio time-stretching\"\"\"\n",
    "    return torch.linspace(\n",
    "        0.,\n",
    "        tensor.shape[-1] - 1,\n",
    "#         round((tensor.shape[-1]) / ratio + 1e-4),\n",
    "        round((tensor.shape[-1]) / (ratio)),\n",
    "        dtype=torch.float,\n",
    "        device=tensor.device)"
   ]
  },
  {
   "cell_type": "code",
   "execution_count": 170,
   "id": "e65cee10",
   "metadata": {
    "scrolled": false
   },
   "outputs": [],
   "source": [
    "# s3_audio.shape[-1] / 160.4"
   ]
  },
  {
   "cell_type": "code",
   "execution_count": 171,
   "id": "e60d2bfa",
   "metadata": {
    "scrolled": true
   },
   "outputs": [
    {
     "data": {
      "text/plain": [
       "torch.Size([1, 80, 2158])"
      ]
     },
     "execution_count": 171,
     "metadata": {},
     "output_type": "execute_result"
    }
   ],
   "source": [
    "melspec.shape"
   ]
  },
  {
   "cell_type": "code",
   "execution_count": 172,
   "id": "67dbabe5",
   "metadata": {
    "scrolled": true
   },
   "outputs": [
    {
     "data": {
      "text/plain": [
       "(tensor([0.0000e+00, 1.6051e+02, 3.2102e+02,  ..., 3.4590e+05, 3.4606e+05,\n",
       "         3.4622e+05]),\n",
       " tensor(346222.))"
      ]
     },
     "execution_count": 172,
     "metadata": {},
     "output_type": "execute_result"
    }
   ],
   "source": [
    "grid = constant(s3_audio, 160.4)\n",
    "grid, grid[-1]"
   ]
  },
  {
   "cell_type": "code",
   "execution_count": 173,
   "id": "82796aaf",
   "metadata": {
    "scrolled": false
   },
   "outputs": [
    {
     "data": {
      "text/plain": [
       "torch.Size([2158])"
      ]
     },
     "execution_count": 173,
     "metadata": {},
     "output_type": "execute_result"
    }
   ],
   "source": [
    "grid.shape"
   ]
  },
  {
   "cell_type": "code",
   "execution_count": 174,
   "id": "bd73cea6",
   "metadata": {},
   "outputs": [],
   "source": [
    "def grid_sample(sequence, grid, method='linear'):\n",
    "    \"\"\"Perform 1D grid-based sampling\"\"\"\n",
    "    # Require interpolation method to be defined\n",
    "    if method not in ['linear', 'nearest']:\n",
    "        raise ValueError(\n",
    "            f'Interpolation mode {emphases.PPG_INTERP_METHOD} is not defined')\n",
    "\n",
    "    # Setup grid parameters\n",
    "    x = grid\n",
    "    fp = sequence\n",
    "\n",
    "    # Linear grid interpolation\n",
    "    if method == 'linear':\n",
    "        xp = torch.arange(sequence.shape[-1], device=sequence.device)\n",
    "        i = torch.clip(torch.searchsorted(xp, x, right=True), 1, len(xp) - 1)\n",
    "        return (\n",
    "            (fp[..., i - 1] * (xp[i] - x) + fp[..., i] * (x - xp[i - 1])) /\n",
    "            (xp[i] - xp[i - 1]))\n",
    "\n",
    "    # Nearest neighbors grid interpolation\n",
    "    elif method == 'nearest':\n",
    "        return fp[..., torch.round(x).to(torch.long)]\n",
    "\n",
    "    else:\n",
    "        raise ValueError(f'Grid sampling method {method} is not defined')\n"
   ]
  },
  {
   "cell_type": "code",
   "execution_count": 175,
   "id": "ecec6206",
   "metadata": {
    "scrolled": true
   },
   "outputs": [],
   "source": [
    "# interpolated_val = grid_sample(prominence, grid)\n",
    "# xp = torch.arange(prominence.shape[-1], device=prominence.device)\n",
    "# i = torch.clip(torch.searchsorted(xp, grid, right=True), 1, len(xp) - 1)"
   ]
  },
  {
   "cell_type": "markdown",
   "id": "31d76329",
   "metadata": {},
   "source": [
    "#### Using Numpy"
   ]
  },
  {
   "cell_type": "code",
   "execution_count": 176,
   "id": "974a1498",
   "metadata": {},
   "outputs": [],
   "source": [
    "# s3_audio.shape\n",
    "\n",
    "# 19*160 - 0\n",
    "\n",
    "# s3_audio.shape[-1] - 2149*160\n",
    "\n",
    "# 346223//160, 346223/160\n",
    "\n",
    "# 346080//160, 346080/160"
   ]
  },
  {
   "cell_type": "code",
   "execution_count": 177,
   "id": "866e9a49",
   "metadata": {},
   "outputs": [],
   "source": [
    "def interpolate_numpy(sequence, grid):\n",
    "    xp = torch.arange(sequence.shape[-1], device=sequence.device)\n",
    "    fp = sequence\n",
    "    return torch.tensor(np.interp(grid, xp, fp), )"
   ]
  },
  {
   "cell_type": "code",
   "execution_count": 178,
   "id": "09e38458",
   "metadata": {},
   "outputs": [],
   "source": [
    "wb_prom_pairs = []\n",
    "audio_len = s3_audio.shape[-1]\n",
    "\n",
    "if word_bounds[0][0]!=0:\n",
    "    wb_prom_pairs.append([(0, word_bounds[0][0]), 0])\n",
    "\n",
    "for idx in range(len(word_bounds)):\n",
    "    wb_prom_pairs.append([word_bounds[idx], prominence[idx].item()])\n",
    "    if idx+1<len(word_bounds):\n",
    "        if word_bounds[idx][-1]!=word_bounds[idx+1][0]:\n",
    "            start = word_bounds[idx][-1]\n",
    "            end = word_bounds[idx+1][0]\n",
    "            wb_prom_pairs.append([(start, end), 0])"
   ]
  },
  {
   "cell_type": "code",
   "execution_count": 203,
   "id": "8ec330eb",
   "metadata": {},
   "outputs": [],
   "source": [
    "prom_extended = []\n",
    "\n",
    "for wb in wb_prom_pairs:\n",
    "    start, end = wb[0][0], wb[0][1]\n",
    "    prom_extended.extend([wb[-1]]*(end-start)*160)\n",
    "    \n",
    "if word_bounds[-1][-1]!=audio_len//160:\n",
    "    pad_len = audio_len - len(prom_extended)\n",
    "    prom_extended.extend([0]*pad_len)\n",
    "\n",
    "    \n",
    "prom_extended = torch.tensor(prom_extended)"
   ]
  },
  {
   "cell_type": "code",
   "execution_count": 204,
   "id": "8a484b07",
   "metadata": {
    "scrolled": false
   },
   "outputs": [
    {
     "data": {
      "text/plain": [
       "346223"
      ]
     },
     "execution_count": 204,
     "metadata": {},
     "output_type": "execute_result"
    }
   ],
   "source": [
    "len(prom_extended)"
   ]
  },
  {
   "cell_type": "code",
   "execution_count": 205,
   "id": "6d9bd30b",
   "metadata": {},
   "outputs": [
    {
     "data": {
      "text/plain": [
       "346223"
      ]
     },
     "execution_count": 205,
     "metadata": {},
     "output_type": "execute_result"
    }
   ],
   "source": [
    "audio_len"
   ]
  },
  {
   "cell_type": "code",
   "execution_count": 206,
   "id": "9e7b2b26",
   "metadata": {
    "scrolled": true
   },
   "outputs": [
    {
     "data": {
      "text/plain": [
       "0"
      ]
     },
     "execution_count": 206,
     "metadata": {},
     "output_type": "execute_result"
    }
   ],
   "source": [
    "audio_len - len(prom_extended)"
   ]
  },
  {
   "cell_type": "markdown",
   "id": "2b121afd",
   "metadata": {},
   "source": [
    "### Interpolation Corrected"
   ]
  },
  {
   "cell_type": "code",
   "execution_count": 207,
   "id": "4aaa320c",
   "metadata": {},
   "outputs": [],
   "source": [
    "import matplotlib.pyplot as plt\n",
    "import pandas as pd\n",
    "import seaborn as sns"
   ]
  },
  {
   "cell_type": "code",
   "execution_count": 208,
   "id": "e9ee950e",
   "metadata": {},
   "outputs": [],
   "source": [
    "grid = constant(s3_audio, 160.4)"
   ]
  },
  {
   "cell_type": "code",
   "execution_count": 209,
   "id": "0649b71f",
   "metadata": {
    "scrolled": false
   },
   "outputs": [],
   "source": [
    "interp_prom = interpolate_numpy(prom_extended, grid)"
   ]
  },
  {
   "cell_type": "code",
   "execution_count": 210,
   "id": "464ae2f5",
   "metadata": {},
   "outputs": [
    {
     "data": {
      "text/plain": [
       "[<matplotlib.lines.Line2D at 0x7f094dd5b7d0>]"
      ]
     },
     "execution_count": 210,
     "metadata": {},
     "output_type": "execute_result"
    },
    {
     "data": {
      "image/png": "[encoded data removed]",
      "text/plain": [
       "<Figure size 432x288 with 1 Axes>"
      ]
     },
     "metadata": {
      "needs_background": "light"
     },
     "output_type": "display_data"
    }
   ],
   "source": [
    "plt.plot(interp_prom.cpu().numpy())"
   ]
  },
  {
   "cell_type": "code",
   "execution_count": null,
   "id": "250d7bce",
   "metadata": {},
   "outputs": [],
   "source": []
  }
 ],
 "metadata": {
  "kernelspec": {
   "display_name": "prominence-est-conda-py37",
   "language": "python",
   "name": "prominence-est-conda-py37"
  },
  "language_info": {
   "codemirror_mode": {
    "name": "ipython",
    "version": 3
   },
   "file_extension": ".py",
   "mimetype": "text/x-python",
   "name": "python",
   "nbconvert_exporter": "python",
   "pygments_lexer": "ipython3",
   "version": "3.7.13"
  }
 },
 "nbformat": 4,
 "nbformat_minor": 5
}
