{
 "cells": [
  {
   "cell_type": "code",
   "execution_count": 89,
   "id": "046c4481",
   "metadata": {},
   "outputs": [],
   "source": [
    "import torch"
   ]
  },
  {
   "cell_type": "code",
   "execution_count": 107,
   "id": "02531a54",
   "metadata": {
    "scrolled": true
   },
   "outputs": [],
   "source": [
    "import numpy as np\n",
    "from  matplotlib import pyplot as plt\n",
    "import librosa\n",
    "from ipywidgets import interact, fixed, FloatSlider\n",
    "%matplotlib inline"
   ]
  },
  {
   "cell_type": "code",
   "execution_count": 108,
   "id": "bcf6518b",
   "metadata": {},
   "outputs": [],
   "source": [
    "# Fs = 16000\n",
    "# duration = 10\n",
    "# omega1 = 1\n",
    "# omega2 = 5\n",
    "# N_dur = int(duration * Fs)\n",
    "# t = np.arange(N_dur) / Fs\n",
    "# t1 = t[:N//2]\n",
    "# t2 = t[N//2:]\n",
    "\n",
    "# x1 = 1.0 * np.sin(2 * np.pi * omega1 * t1)\n",
    "# x2 = 0.7 * np.sin(2 * np.pi * omega2 * t2)\n",
    "# x = np.concatenate((x1, x2))\n",
    "\n",
    "# def pad_and_plot(t, x, Fs, pad_len_sec, pad_mode):\n",
    "    \n",
    "#     pad_len = int(pad_len_sec * Fs)\n",
    "    \n",
    "#     t = np.concatenate((np.arange(-pad_len, 0) / Fs, t, \n",
    "#                         np.arange(len(x), len(x) + pad_len) / Fs))\n",
    "#     x = np.pad(x, pad_len, pad_mode)\n",
    "#     N = len(x)\n",
    "        \n",
    "#     plt.figure(figsize=(8, 1.5))\n",
    "#     ax1 = plt.subplot(1, 2, 1)\n",
    "#     plt.plot(t, x, c='k')\n",
    "#     #plt.xlim([t[0], t[-1]])\n",
    "#     plt.xlim([-1.0, 11.0])\n",
    "#     plt.xlabel('Time (seconds)')\n",
    "#     plt.ylabel('Amplitude')\n",
    "\n",
    "#     ax2 = plt.subplot(1, 2, 2)\n",
    "#     X = np.abs(np.fft.fft(x)) / Fs\n",
    "#     freq = np.fft.fftfreq(N, d=1/Fs)\n",
    "#     X = X[:N//2]\n",
    "#     freq = freq[:N//2]\n",
    "#     plt.plot(freq, X, c='k')\n",
    "#     plt.xlim([0, 7])\n",
    "#     plt.ylim([0, 3])\n",
    "#     plt.xlabel('Frequency (Hz)')\n",
    "#     plt.ylabel('Magnitude')\n",
    "#     plt.tight_layout()\n",
    "#     plt.show()\n",
    "    \n",
    "#     return ax1, ax2, x\n",
    "    \n",
    "# print('No padding:')\n",
    "# ax1, ax2, padded_x = pad_and_plot(t, x, Fs, 0.0, 'constant')\n",
    "\n",
    "# print('Zero padding:')\n",
    "# ax1, ax2, padded_x = pad_and_plot(t, x, Fs, 1.0, 'constant')\n",
    "\n",
    "# print('Reflect padding:');\n",
    "# ax1, ax2, padded_x = pad_and_plot(t, x, Fs, 1.0, 'reflect')\n"
   ]
  },
  {
   "cell_type": "markdown",
   "id": "bddcf19c",
   "metadata": {},
   "source": [
    "### Edge"
   ]
  },
  {
   "cell_type": "code",
   "execution_count": 110,
   "id": "d6ee8635",
   "metadata": {},
   "outputs": [],
   "source": [
    "def compute_stft(x, Fs, N, H, pad_mode='constant', center=True, color='gray_r'):    \n",
    "    X = librosa.stft(x, n_fft=N, hop_length=H, win_length=N, \n",
    "                     window='hann', pad_mode=pad_mode, center=center)\n",
    "    Y = np.abs(X) ** 2\n",
    "    Y = Y / np.max(Y)\n",
    "    return Y\n",
    "\n",
    "def plot_stft(Y, Fs, N, H, time_offset=0, time_unit='frames', xlim=None, ylim=None, title='', xlabel='', color='hot'):\n",
    "    time_samples =  np.arange(Y.shape[1])\n",
    "    if time_unit == 'sec':\n",
    "        time_sec = np.arange(Y.shape[1]) * (H / Fs) + time_offset\n",
    "        extent=[time_sec[0]-H/(2*Fs), time_sec[-1]+H/(2*Fs), 0, Fs/2]\n",
    "        xlabel='Time (seconds)'\n",
    "    else:\n",
    "        time_samples = np.arange(Y.shape[1])\n",
    "        extent=[time_samples[0]-1/2, time_samples[-1]+1/2, 0, Fs/2]                     \n",
    "        xlabel='Time (frames)'    \n",
    "    plt.imshow(Y, cmap=color, aspect='auto', origin='lower', extent=extent)\n",
    "    plt.ylim(ylim)\n",
    "    plt.xlim(xlim)\n",
    "    plt.xlabel(xlabel)\n",
    "    plt.ylabel('Frequency (Hz)')\n",
    "    plt.title(title)\n",
    "    plt.colorbar()"
   ]
  },
  {
   "cell_type": "code",
   "execution_count": 111,
   "id": "b7e01abf",
   "metadata": {},
   "outputs": [],
   "source": [
    "x = np.random.random_sample(9870)\n",
    "Fs = 16000\n",
    "\n",
    "# N = 512\n",
    "# H = 128\n",
    "N = 1024\n",
    "H = 160\n"
   ]
  },
  {
   "cell_type": "code",
   "execution_count": 112,
   "id": "1a9e93be",
   "metadata": {},
   "outputs": [],
   "source": [
    "xlim_frame = [-2, 22]\n",
    "xlim_sec = [-1, 11]\n",
    "ylim_hz = [0, 8]"
   ]
  },
  {
   "cell_type": "code",
   "execution_count": 113,
   "id": "78c0a219",
   "metadata": {
    "scrolled": true
   },
   "outputs": [
    {
     "data": {
      "image/png": "[encoded data removed]",
      "text/plain": [
       "<Figure size 720x432 with 4 Axes>"
      ]
     },
     "metadata": {
      "needs_background": "light"
     },
     "output_type": "display_data"
    }
   ],
   "source": [
    "plt.figure(figsize=(10, 6))\n",
    "\n",
    "# No padding\n",
    "Y = compute_stft(x, Fs, N, H, pad_mode=None, center=False)\n",
    "plt.subplot(3, 2, 1)\n",
    "plot_stft(Y, Fs, N, H, xlim=xlim_frame, ylim=ylim_hz, title='No padding')\n",
    "\n",
    "plt.subplot(3, 2, 2)\n",
    "plot_stft(Y, Fs, N, H, time_offset=N / (2 * Fs), time_unit='sec', xlim=xlim_sec, ylim=ylim_hz, title='No padding')\n"
   ]
  },
  {
   "cell_type": "code",
   "execution_count": 114,
   "id": "1cff99b7",
   "metadata": {},
   "outputs": [
    {
     "data": {
      "text/plain": [
       "(9870,)"
      ]
     },
     "execution_count": 114,
     "metadata": {},
     "output_type": "execute_result"
    }
   ],
   "source": [
    "x.shape"
   ]
  },
  {
   "cell_type": "code",
   "execution_count": 115,
   "id": "0cdebafc",
   "metadata": {},
   "outputs": [
    {
     "data": {
      "text/plain": [
       "61"
      ]
     },
     "execution_count": 115,
     "metadata": {},
     "output_type": "execute_result"
    }
   ],
   "source": [
    "9870//160"
   ]
  },
  {
   "cell_type": "code",
   "execution_count": 120,
   "id": "d057db11",
   "metadata": {},
   "outputs": [
    {
     "data": {
      "text/plain": [
       "(513, 56)"
      ]
     },
     "execution_count": 120,
     "metadata": {},
     "output_type": "execute_result"
    }
   ],
   "source": [
    "Y.shape"
   ]
  },
  {
   "cell_type": "code",
   "execution_count": 121,
   "id": "94edb723",
   "metadata": {},
   "outputs": [
    {
     "data": {
      "image/png": "[encoded data removed]",
      "text/plain": [
       "<Figure size 720x432 with 4 Axes>"
      ]
     },
     "metadata": {
      "needs_background": "light"
     },
     "output_type": "display_data"
    }
   ],
   "source": [
    "plt.figure(figsize=(10, 6))\n",
    "\n",
    "# Zero padding\n",
    "Y = compute_stft(x, Fs, N, H, pad_mode='constant', center=True)\n",
    "plt.subplot(3, 2, 3)\n",
    "plot_stft(Y, Fs, N, H, xlim=xlim_frame, ylim=ylim_hz, title='Zero padding')\n",
    "\n",
    "plt.subplot(3, 2, 4)\n",
    "plot_stft(Y, Fs, N, H, time_unit='sec', xlim=xlim_sec, ylim=ylim_hz, title='Zero padding')\n",
    "\n"
   ]
  },
  {
   "cell_type": "code",
   "execution_count": 122,
   "id": "82d4c0ac",
   "metadata": {},
   "outputs": [
    {
     "data": {
      "text/plain": [
       "(9870,)"
      ]
     },
     "execution_count": 122,
     "metadata": {},
     "output_type": "execute_result"
    }
   ],
   "source": [
    "x.shape"
   ]
  },
  {
   "cell_type": "code",
   "execution_count": 123,
   "id": "602ccc33",
   "metadata": {},
   "outputs": [
    {
     "data": {
      "text/plain": [
       "(1024, 160)"
      ]
     },
     "execution_count": 123,
     "metadata": {},
     "output_type": "execute_result"
    }
   ],
   "source": [
    "N, H"
   ]
  },
  {
   "cell_type": "code",
   "execution_count": 124,
   "id": "be986677",
   "metadata": {},
   "outputs": [
    {
     "data": {
      "text/plain": [
       "(513, 62)"
      ]
     },
     "execution_count": 124,
     "metadata": {},
     "output_type": "execute_result"
    }
   ],
   "source": [
    "Y.shape"
   ]
  },
  {
   "cell_type": "code",
   "execution_count": 125,
   "id": "20aef6ff",
   "metadata": {
    "scrolled": false
   },
   "outputs": [
    {
     "data": {
      "image/png": "[encoded data removed]",
      "text/plain": [
       "<Figure size 720x432 with 4 Axes>"
      ]
     },
     "metadata": {
      "needs_background": "light"
     },
     "output_type": "display_data"
    }
   ],
   "source": [
    "plt.figure(figsize=(10, 6))\n",
    "\n",
    "# Reflect padding\n",
    "Y = compute_stft(x, Fs, N, H, pad_mode='reflect', center=True)\n",
    "plt.subplot(3, 2, 5)\n",
    "plot_stft(Y, Fs, N, H, xlim=xlim_frame, ylim=ylim_hz, title='Reflect padding')\n",
    "\n",
    "plt.subplot(3, 2, 6)\n",
    "time_sec = np.arange(Y.shape[1]) * (H / Fs) \n",
    "plot_stft(Y, Fs, N, H, time_unit='sec', xlim=xlim_sec, ylim=ylim_hz, title='Reflect padding')\n",
    "\n",
    "plt.tight_layout()\n"
   ]
  },
  {
   "cell_type": "code",
   "execution_count": 126,
   "id": "ee44d273",
   "metadata": {},
   "outputs": [
    {
     "data": {
      "text/plain": [
       "(9870,)"
      ]
     },
     "execution_count": 126,
     "metadata": {},
     "output_type": "execute_result"
    }
   ],
   "source": [
    "x.shape"
   ]
  },
  {
   "cell_type": "code",
   "execution_count": 131,
   "id": "d8bfe061",
   "metadata": {},
   "outputs": [
    {
     "data": {
      "text/plain": [
       "61"
      ]
     },
     "execution_count": 131,
     "metadata": {},
     "output_type": "execute_result"
    }
   ],
   "source": [
    "9870//160"
   ]
  },
  {
   "cell_type": "code",
   "execution_count": 129,
   "id": "ff2b0fb8",
   "metadata": {
    "scrolled": true
   },
   "outputs": [
    {
     "data": {
      "text/plain": [
       "(513, 62)"
      ]
     },
     "execution_count": 129,
     "metadata": {},
     "output_type": "execute_result"
    }
   ],
   "source": [
    "Y.shape"
   ]
  },
  {
   "cell_type": "code",
   "execution_count": null,
   "id": "49a1a134",
   "metadata": {},
   "outputs": [],
   "source": []
  },
  {
   "cell_type": "code",
   "execution_count": null,
   "id": "0df7a596",
   "metadata": {},
   "outputs": [],
   "source": []
  },
  {
   "cell_type": "markdown",
   "id": "3dd0da16",
   "metadata": {},
   "source": [
    "###"
   ]
  },
  {
   "cell_type": "code",
   "execution_count": 2,
   "id": "a44dcb3b",
   "metadata": {},
   "outputs": [],
   "source": [
    "import numpy as np"
   ]
  },
  {
   "cell_type": "code",
   "execution_count": 31,
   "id": "5d363868",
   "metadata": {},
   "outputs": [],
   "source": [
    "from scipy.special import softmax"
   ]
  },
  {
   "cell_type": "code",
   "execution_count": 3,
   "id": "ae313dcb",
   "metadata": {},
   "outputs": [],
   "source": [
    "x = np.array([0.5, 0.35, 0.20])\n"
   ]
  },
  {
   "cell_type": "code",
   "execution_count": 4,
   "id": "37c16c4a",
   "metadata": {},
   "outputs": [],
   "source": [
    "V = np.array([[0.1490, 0.9857, 0.5839], [0.4866, 0.1684, 0.6936]])"
   ]
  },
  {
   "cell_type": "code",
   "execution_count": 8,
   "id": "e5b0e16f",
   "metadata": {
    "scrolled": true
   },
   "outputs": [
    {
     "data": {
      "text/plain": [
       "array([0.536275, 0.44096 ])"
      ]
     },
     "execution_count": 8,
     "metadata": {},
     "output_type": "execute_result"
    }
   ],
   "source": [
    "np.dot(x, V.T)"
   ]
  },
  {
   "cell_type": "code",
   "execution_count": 27,
   "id": "b0a81b42",
   "metadata": {},
   "outputs": [
    {
     "data": {
      "text/plain": [
       "(0.6309454631254338, 0.6084877557408354)"
      ]
     },
     "execution_count": 27,
     "metadata": {},
     "output_type": "execute_result"
    }
   ],
   "source": [
    "1/(1+np.exp(-0.536275)), 1/(1+np.exp(-0.44096))"
   ]
  },
  {
   "cell_type": "code",
   "execution_count": 25,
   "id": "a66c88ce",
   "metadata": {},
   "outputs": [],
   "source": [
    "h = np.array([0.6309, 0.6084])\n",
    "W = np.array([[0.58311, 0.1284, 0.5721], [0.9248, 0.2693, 0.7825]])"
   ]
  },
  {
   "cell_type": "code",
   "execution_count": 26,
   "id": "cd6b571c",
   "metadata": {},
   "outputs": [
    {
     "data": {
      "text/plain": [
       "array([0.93053242, 0.24484968, 0.83701089])"
      ]
     },
     "execution_count": 26,
     "metadata": {},
     "output_type": "execute_result"
    }
   ],
   "source": [
    "np.dot(h, W)"
   ]
  },
  {
   "cell_type": "code",
   "execution_count": 32,
   "id": "698c7fda",
   "metadata": {},
   "outputs": [
    {
     "data": {
      "text/plain": [
       "array([0.4141705 , 0.20863681, 0.3771927 ])"
      ]
     },
     "execution_count": 32,
     "metadata": {},
     "output_type": "execute_result"
    }
   ],
   "source": [
    "softmax([0.93053242, 0.24484968, 0.83701089])"
   ]
  },
  {
   "cell_type": "code",
   "execution_count": null,
   "id": "ac7980c0",
   "metadata": {},
   "outputs": [],
   "source": []
  }
 ],
 "metadata": {
  "kernelspec": {
   "display_name": "prominence-est-conda-py37",
   "language": "python",
   "name": "prominence-est-conda-py37"
  },
  "language_info": {
   "codemirror_mode": {
    "name": "ipython",
    "version": 3
   },
   "file_extension": ".py",
   "mimetype": "text/x-python",
   "name": "python",
   "nbconvert_exporter": "python",
   "pygments_lexer": "ipython3",
   "version": "3.7.13"
  }
 },
 "nbformat": 4,
 "nbformat_minor": 5
}
