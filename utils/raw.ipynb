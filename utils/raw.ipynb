{
 "cells": [
  {
   "cell_type": "markdown",
   "id": "7737045a",
   "metadata": {},
   "source": [
    "s1301a - 10:03 min file\n",
    "\n",
    "s02-1 - 22 sec file"
   ]
  },
  {
   "cell_type": "markdown",
   "id": "e5e72003",
   "metadata": {},
   "source": [
    "Window size is the amount of time over which a waveform is sampled, known as time record, expressed in samples. For example, a window size of 128 samples at a sample rate of 48 kHz. Equals a time record of 128 samples x 1/48000 seconds = 0.0027 seconds or 2.7 milliseconds.\n",
    "\n",
    "Window length is the length of the fixed intervals in which STFT divides the signal. Hop length is the length of the non-intersecting portion of window length. Overlap length is the length of the intersecting portion of the window length."
   ]
  },
  {
   "cell_type": "code",
   "execution_count": 44,
   "id": "b9bbee56",
   "metadata": {},
   "outputs": [
    {
     "data": {
      "text/plain": [
       "(603, 9648000)"
      ]
     },
     "execution_count": 44,
     "metadata": {},
     "output_type": "execute_result"
    }
   ],
   "source": [
    "10*60+3, 603*16000"
   ]
  },
  {
   "cell_type": "code",
   "execution_count": 45,
   "id": "da5a4ec6",
   "metadata": {},
   "outputs": [
    {
     "data": {
      "text/plain": [
       "(22, 352000)"
      ]
     },
     "execution_count": 45,
     "metadata": {},
     "output_type": "execute_result"
    }
   ],
   "source": [
    "22, 22*16000"
   ]
  },
  {
   "cell_type": "code",
   "execution_count": 40,
   "id": "b68c1ee3",
   "metadata": {
    "scrolled": true
   },
   "outputs": [],
   "source": [
    "# !pip install librosa"
   ]
  },
  {
   "cell_type": "code",
   "execution_count": 41,
   "id": "213b03ad",
   "metadata": {},
   "outputs": [],
   "source": [
    "import soundfile as sf\n",
    "import os\n",
    "import pyfoal\n",
    "import pypar\n",
    "import librosa\n",
    "import torchaudio\n",
    "from scipy.io import wavfile\n"
   ]
  },
  {
   "cell_type": "code",
   "execution_count": 42,
   "id": "2d04edb9",
   "metadata": {},
   "outputs": [],
   "source": [
    "# filename = './s1301a.wav'\n",
    "filename = './s02-1.wav'"
   ]
  },
  {
   "cell_type": "markdown",
   "id": "dd9f48c1",
   "metadata": {},
   "source": [
    "### Soundfile"
   ]
  },
  {
   "cell_type": "code",
   "execution_count": 47,
   "id": "debd6805",
   "metadata": {},
   "outputs": [],
   "source": [
    "data, sr = sf.read(filename)\n"
   ]
  },
  {
   "cell_type": "code",
   "execution_count": 65,
   "id": "09cdde7e",
   "metadata": {
    "scrolled": true
   },
   "outputs": [
    {
     "data": {
      "text/plain": [
       "array([3.05175781e-04, 2.44140625e-04, 9.15527344e-05, ...,\n",
       "       5.49316406e-04, 4.88281250e-04, 3.96728516e-04])"
      ]
     },
     "execution_count": 65,
     "metadata": {},
     "output_type": "execute_result"
    }
   ],
   "source": [
    "data"
   ]
  },
  {
   "cell_type": "code",
   "execution_count": 57,
   "id": "2ff0424d",
   "metadata": {},
   "outputs": [
    {
     "data": {
      "text/plain": [
       "((348026,), 16000)"
      ]
     },
     "execution_count": 57,
     "metadata": {},
     "output_type": "execute_result"
    }
   ],
   "source": [
    "data.shape, sr"
   ]
  },
  {
   "cell_type": "markdown",
   "id": "0b880784",
   "metadata": {},
   "source": [
    "### Size"
   ]
  },
  {
   "cell_type": "code",
   "execution_count": 50,
   "id": "eeacee3e",
   "metadata": {},
   "outputs": [
    {
     "data": {
      "text/plain": [
       "348048"
      ]
     },
     "execution_count": 50,
     "metadata": {},
     "output_type": "execute_result"
    }
   ],
   "source": [
    "os.path.getsize(filename) // 2"
   ]
  },
  {
   "cell_type": "markdown",
   "id": "255d9d08",
   "metadata": {},
   "source": [
    "### Librosa"
   ]
  },
  {
   "cell_type": "code",
   "execution_count": 53,
   "id": "2db4fcf5",
   "metadata": {
    "scrolled": true
   },
   "outputs": [],
   "source": [
    "data_librosa, sr = librosa.load(filename, sr=16000)"
   ]
  },
  {
   "cell_type": "code",
   "execution_count": 54,
   "id": "7fa8647b",
   "metadata": {},
   "outputs": [
    {
     "data": {
      "text/plain": [
       "(348026,)"
      ]
     },
     "execution_count": 54,
     "metadata": {},
     "output_type": "execute_result"
    }
   ],
   "source": [
    "data_librosa.shape"
   ]
  },
  {
   "cell_type": "code",
   "execution_count": 64,
   "id": "77d10ae5",
   "metadata": {},
   "outputs": [
    {
     "data": {
      "text/plain": [
       "array([3.0517578e-04, 2.4414062e-04, 9.1552734e-05, ..., 5.4931641e-04,\n",
       "       4.8828125e-04, 3.9672852e-04], dtype=float32)"
      ]
     },
     "execution_count": 64,
     "metadata": {},
     "output_type": "execute_result"
    }
   ],
   "source": [
    "data_librosa"
   ]
  },
  {
   "cell_type": "code",
   "execution_count": 55,
   "id": "5c762b54",
   "metadata": {},
   "outputs": [
    {
     "name": "stderr",
     "output_type": "stream",
     "text": [
      "/home/pranav/conda/envs/prominence-est-conda-py37/lib/python3.7/site-packages/ipykernel_launcher.py:1: FutureWarning: Pass y=[3.0517578e-04 2.4414062e-04 9.1552734e-05 ... 5.4931641e-04 4.8828125e-04\n",
      " 3.9672852e-04] as keyword args. From version 0.10 passing these as positional arguments will result in an error\n",
      "  \"\"\"Entry point for launching an IPython kernel.\n"
     ]
    },
    {
     "data": {
      "text/plain": [
       "15.783492063492064"
      ]
     },
     "execution_count": 55,
     "metadata": {},
     "output_type": "execute_result"
    }
   ],
   "source": [
    "librosa.get_duration(data_librosa)"
   ]
  },
  {
   "cell_type": "markdown",
   "id": "d40c14c3",
   "metadata": {},
   "source": [
    "### Torchaudio"
   ]
  },
  {
   "cell_type": "code",
   "execution_count": 58,
   "id": "f6b0144c",
   "metadata": {},
   "outputs": [],
   "source": [
    "data_torch, sr = torchaudio.load(filename)"
   ]
  },
  {
   "cell_type": "code",
   "execution_count": 63,
   "id": "b42a56ef",
   "metadata": {},
   "outputs": [
    {
     "data": {
      "text/plain": [
       "tensor([[3.0518e-04, 2.4414e-04, 9.1553e-05,  ..., 5.4932e-04, 4.8828e-04,\n",
       "         3.9673e-04]])"
      ]
     },
     "execution_count": 63,
     "metadata": {},
     "output_type": "execute_result"
    }
   ],
   "source": [
    "data_torch"
   ]
  },
  {
   "cell_type": "code",
   "execution_count": 59,
   "id": "14ec722e",
   "metadata": {
    "scrolled": true
   },
   "outputs": [
    {
     "data": {
      "text/plain": [
       "torch.Size([1, 348026])"
      ]
     },
     "execution_count": 59,
     "metadata": {},
     "output_type": "execute_result"
    }
   ],
   "source": [
    "data_torch.shape"
   ]
  },
  {
   "cell_type": "markdown",
   "id": "81960aa9",
   "metadata": {},
   "source": [
    "### Scipy wavefile"
   ]
  },
  {
   "cell_type": "code",
   "execution_count": 60,
   "id": "625c82d5",
   "metadata": {},
   "outputs": [],
   "source": [
    "sr, data_scipy = wavfile.read(filename)"
   ]
  },
  {
   "cell_type": "code",
   "execution_count": 61,
   "id": "a212ae30",
   "metadata": {
    "scrolled": true
   },
   "outputs": [
    {
     "data": {
      "text/plain": [
       "(array([10,  8,  3, ..., 18, 16, 13], dtype=int16), (348026,))"
      ]
     },
     "execution_count": 61,
     "metadata": {},
     "output_type": "execute_result"
    }
   ],
   "source": [
    "data_scipy, data_scipy.shape"
   ]
  },
  {
   "cell_type": "code",
   "execution_count": 62,
   "id": "90398d03",
   "metadata": {
    "scrolled": false
   },
   "outputs": [
    {
     "name": "stdout",
     "output_type": "stream",
     "text": [
      "Window length in samples 160\n"
     ]
    }
   ],
   "source": [
    "window_length_ms = 10\n",
    "\n",
    "window_length = int((window_length_ms/1000)*sr)\n",
    "print('Window length in samples ' + str(window_length))\n"
   ]
  },
  {
   "cell_type": "code",
   "execution_count": null,
   "id": "969fb582",
   "metadata": {},
   "outputs": [],
   "source": []
  },
  {
   "cell_type": "markdown",
   "id": "72e71f78",
   "metadata": {},
   "source": [
    "### Mel Exp"
   ]
  },
  {
   "cell_type": "code",
   "execution_count": 1,
   "id": "6d8385d5",
   "metadata": {},
   "outputs": [],
   "source": [
    "import emphases\n",
    "import torch"
   ]
  },
  {
   "cell_type": "code",
   "execution_count": 2,
   "id": "9003de1f",
   "metadata": {},
   "outputs": [
    {
     "name": "stderr",
     "output_type": "stream",
     "text": [
      "/home/pranav/prominence-estimation-exp/emphases/emphases/load.py:56: FutureWarning: Pass sr=16000, n_fft=1024, n_mels=80 as keyword args. From version 0.10 passing these as positional arguments will result in an error\n",
      "  emphases.NUM_MELS\n"
     ]
    }
   ],
   "source": [
    "mel_loader = emphases.load.MelSpectrogram()\n"
   ]
  },
  {
   "cell_type": "code",
   "execution_count": 3,
   "id": "80d947d4",
   "metadata": {},
   "outputs": [],
   "source": [
    "audio = emphases.load.audio('../data/cache/Buckeye/wavs/s03-1.wav')\n",
    "audio2 = emphases.load.audio('../data/cache/Buckeye/wavs/s11-1.wav')"
   ]
  },
  {
   "cell_type": "code",
   "execution_count": 4,
   "id": "7a47a91e",
   "metadata": {},
   "outputs": [
    {
     "data": {
      "text/plain": [
       "torch.Size([1, 80, 1352])"
      ]
     },
     "execution_count": 4,
     "metadata": {},
     "output_type": "execute_result"
    }
   ],
   "source": [
    "mel_spectrogram1 = mel_loader.forward(audio)\n",
    "mel_spectrogram1.shape"
   ]
  },
  {
   "cell_type": "code",
   "execution_count": 5,
   "id": "83891938",
   "metadata": {},
   "outputs": [
    {
     "data": {
      "text/plain": [
       "torch.Size([1, 80, 1502])"
      ]
     },
     "execution_count": 5,
     "metadata": {},
     "output_type": "execute_result"
    }
   ],
   "source": [
    "mel_spectrogram2 = mel_loader.forward(audio2)\n",
    "mel_spectrogram2.shape"
   ]
  },
  {
   "cell_type": "code",
   "execution_count": 6,
   "id": "14df8e4b",
   "metadata": {},
   "outputs": [
    {
     "data": {
      "text/plain": [
       "1352"
      ]
     },
     "execution_count": 6,
     "metadata": {},
     "output_type": "execute_result"
    }
   ],
   "source": [
    "mel_spectrogram1.shape[-1]"
   ]
  },
  {
   "cell_type": "code",
   "execution_count": 7,
   "id": "74e0f728",
   "metadata": {
    "scrolled": false
   },
   "outputs": [],
   "source": [
    "mel_spectrogram = [mel_spectrogram1, mel_spectrogram2]"
   ]
  },
  {
   "cell_type": "code",
   "execution_count": 8,
   "id": "09ef7a63",
   "metadata": {},
   "outputs": [],
   "source": [
    "mel_lengths = torch.tensor(\n",
    "    [mel.shape[-1] for mel in mel_spectrogram], \n",
    "    dtype=torch.long)\n",
    "\n",
    "max_mel_lengths = mel_lengths.max()"
   ]
  },
  {
   "cell_type": "code",
   "execution_count": 9,
   "id": "fd904e8d",
   "metadata": {
    "scrolled": true
   },
   "outputs": [
    {
     "data": {
      "text/plain": [
       "1502"
      ]
     },
     "execution_count": 9,
     "metadata": {},
     "output_type": "execute_result"
    }
   ],
   "source": [
    "mel_lengths.max().item()"
   ]
  },
  {
   "cell_type": "code",
   "execution_count": null,
   "id": "4a463698",
   "metadata": {},
   "outputs": [],
   "source": []
  },
  {
   "cell_type": "markdown",
   "id": "01e76af8",
   "metadata": {},
   "source": [
    "### Checks"
   ]
  },
  {
   "cell_type": "code",
   "execution_count": 1,
   "id": "7a2704bd",
   "metadata": {},
   "outputs": [],
   "source": [
    "# import emphases\n",
    "# import pypar\n",
    "# import os\n",
    "# import torch\n",
    "# import functools"
   ]
  },
  {
   "cell_type": "code",
   "execution_count": 2,
   "id": "04f843e5",
   "metadata": {},
   "outputs": [],
   "source": [
    "# train_stems = emphases.load.partition('Buckeye')['train']"
   ]
  },
  {
   "cell_type": "code",
   "execution_count": 3,
   "id": "48ad4f06",
   "metadata": {},
   "outputs": [],
   "source": [
    "# with open('../data/cache/Buckeye/annotation/s11-1.prom', 'r') as f:\n",
    "#     data = f.read()\n",
    "# # first line is header, skip it\n",
    "# lines = [x.split('\\t') for x in data.split('\\n')[1:]]\n",
    "# proms = torch.tensor([float(x[4]) for x in lines[:-1]])\n"
   ]
  },
  {
   "cell_type": "code",
   "execution_count": 4,
   "id": "6497aedb",
   "metadata": {
    "scrolled": true
   },
   "outputs": [],
   "source": [
    "# cache = emphases.CACHE_DIR / 'Buckeye'\n",
    "# for stem in train_stems:\n",
    "#     alignment = pypar.Alignment(\n",
    "#         cache / 'alignment' / f'{stem}.TextGrid')\n",
    "#     prominence = emphases.load.load_prominence(cache / 'annotation' / f'{stem}.prom')\n",
    "# #     assert (len(alignment.word_bounds(emphases.SAMPLE_RATE)) == prominence.shape[0]), f'{stem} array length mismatch b/w input and ground truth'\n"
   ]
  },
  {
   "cell_type": "code",
   "execution_count": 5,
   "id": "ccab8fdf",
   "metadata": {},
   "outputs": [],
   "source": [
    "# input_channels = emphases.NUM_MELS\n",
    "# output_channels = 1\n",
    "# hidden_channels = 128\n",
    "\n",
    "# conv_fn = functools.partial(\n",
    "#     torch.nn.Conv1d,\n",
    "#     kernel_size=5,\n",
    "#     padding='same')\n",
    "# layers = torch.nn.Sequential(\n",
    "#             conv_fn(input_channels, hidden_channels),\n",
    "#             torch.nn.ReLU(),\n",
    "#             conv_fn(hidden_channels, hidden_channels),\n",
    "#             torch.nn.ReLU(),\n",
    "#             conv_fn(hidden_channels, output_channels))\n",
    "# sample_input = torch.randn(32, 80, 1300)\n",
    "# layers(sample_input).shape"
   ]
  },
  {
   "cell_type": "code",
   "execution_count": 2,
   "id": "a13bf4bd",
   "metadata": {},
   "outputs": [],
   "source": [
    "import emphases\n",
    "import pypar\n",
    "import os\n",
    "import torch\n",
    "import functools"
   ]
  },
  {
   "cell_type": "code",
   "execution_count": 3,
   "id": "53ab84fc",
   "metadata": {
    "scrolled": true
   },
   "outputs": [],
   "source": [
    "train_loader, valid_loader = emphases.data.loaders('Buckeye', 'train', 'valid',gpu=None)"
   ]
  },
  {
   "cell_type": "code",
   "execution_count": 4,
   "id": "d9bdc8e7",
   "metadata": {
    "scrolled": false
   },
   "outputs": [
    {
     "data": {
      "text/plain": [
       "([769069, 456913, 559939, 408149, 585433, 438593, 654307, 696081, 608939],\n",
       " [1502, 892, 1093, 797, 1143, 856, 1278, 1359, 1189])"
      ]
     },
     "execution_count": 4,
     "metadata": {},
     "output_type": "execute_result"
    }
   ],
   "source": [
    "train_loader.dataset.lengths, train_loader.dataset.spectrogram_lengths"
   ]
  },
  {
   "cell_type": "code",
   "execution_count": 5,
   "id": "6a8adc15",
   "metadata": {
    "scrolled": true
   },
   "outputs": [],
   "source": [
    "# dir(train_loader)"
   ]
  },
  {
   "cell_type": "code",
   "execution_count": 6,
   "id": "3850b9ac",
   "metadata": {},
   "outputs": [
    {
     "data": {
      "text/plain": [
       "9"
      ]
     },
     "execution_count": 6,
     "metadata": {},
     "output_type": "execute_result"
    }
   ],
   "source": [
    "len(train_loader.dataset)"
   ]
  },
  {
   "cell_type": "code",
   "execution_count": 7,
   "id": "034e8c1a",
   "metadata": {},
   "outputs": [],
   "source": [
    "train_loader.batch_sampler.set_epoch(0// len(train_loader.dataset))"
   ]
  },
  {
   "cell_type": "code",
   "execution_count": 8,
   "id": "20469feb",
   "metadata": {
    "scrolled": true
   },
   "outputs": [
    {
     "name": "stderr",
     "output_type": "stream",
     "text": [
      "34it [00:00, 15430.25it/s]\n",
      "53it [00:00, 8256.20it/s]\n"
     ]
    },
    {
     "ename": "IndexError",
     "evalue": "Caught IndexError in DataLoader worker process 0.\nOriginal Traceback (most recent call last):\n  File \"/home/pranav/conda/envs/prominence-est-conda-py37/lib/python3.7/site-packages/torch/utils/data/_utils/worker.py\", line 302, in _worker_loop\n    data = fetcher.fetch(index)\n  File \"/home/pranav/conda/envs/prominence-est-conda-py37/lib/python3.7/site-packages/torch/utils/data/_utils/fetch.py\", line 52, in fetch\n    return self.collate_fn(data)\n  File \"/home/pranav/prominence-estimation-exp/emphases/emphases/data/collate.py\", line 49, in collate\n    padded_prominence[i, :, :wl] = p[i]\nIndexError: index 53 is out of bounds for dimension 0 with size 52\n",
     "output_type": "error",
     "traceback": [
      "\u001b[0;31m---------------------------------------------------------------------------\u001b[0m",
      "\u001b[0;31mIndexError\u001b[0m                                Traceback (most recent call last)",
      "\u001b[0;32m/tmp/ipykernel_93106/2121711545.py\u001b[0m in \u001b[0;36m<module>\u001b[0;34m\u001b[0m\n\u001b[0;32m----> 1\u001b[0;31m \u001b[0;32mfor\u001b[0m \u001b[0mbatch\u001b[0m \u001b[0;32min\u001b[0m \u001b[0mtrain_loader\u001b[0m\u001b[0;34m:\u001b[0m\u001b[0;34m\u001b[0m\u001b[0;34m\u001b[0m\u001b[0m\n\u001b[0m\u001b[1;32m      2\u001b[0m     \u001b[0mprint\u001b[0m\u001b[0;34m(\u001b[0m\u001b[0mbatch\u001b[0m\u001b[0;34m)\u001b[0m\u001b[0;34m\u001b[0m\u001b[0;34m\u001b[0m\u001b[0m\n",
      "\u001b[0;32m~/conda/envs/prominence-est-conda-py37/lib/python3.7/site-packages/torch/utils/data/dataloader.py\u001b[0m in \u001b[0;36m__next__\u001b[0;34m(self)\u001b[0m\n\u001b[1;32m    679\u001b[0m                 \u001b[0;31m# TODO(https://github.com/pytorch/pytorch/issues/76750)\u001b[0m\u001b[0;34m\u001b[0m\u001b[0;34m\u001b[0m\u001b[0;34m\u001b[0m\u001b[0m\n\u001b[1;32m    680\u001b[0m                 \u001b[0mself\u001b[0m\u001b[0;34m.\u001b[0m\u001b[0m_reset\u001b[0m\u001b[0;34m(\u001b[0m\u001b[0;34m)\u001b[0m  \u001b[0;31m# type: ignore[call-arg]\u001b[0m\u001b[0;34m\u001b[0m\u001b[0;34m\u001b[0m\u001b[0m\n\u001b[0;32m--> 681\u001b[0;31m             \u001b[0mdata\u001b[0m \u001b[0;34m=\u001b[0m \u001b[0mself\u001b[0m\u001b[0;34m.\u001b[0m\u001b[0m_next_data\u001b[0m\u001b[0;34m(\u001b[0m\u001b[0;34m)\u001b[0m\u001b[0;34m\u001b[0m\u001b[0;34m\u001b[0m\u001b[0m\n\u001b[0m\u001b[1;32m    682\u001b[0m             \u001b[0mself\u001b[0m\u001b[0;34m.\u001b[0m\u001b[0m_num_yielded\u001b[0m \u001b[0;34m+=\u001b[0m \u001b[0;36m1\u001b[0m\u001b[0;34m\u001b[0m\u001b[0;34m\u001b[0m\u001b[0m\n\u001b[1;32m    683\u001b[0m             \u001b[0;32mif\u001b[0m \u001b[0mself\u001b[0m\u001b[0;34m.\u001b[0m\u001b[0m_dataset_kind\u001b[0m \u001b[0;34m==\u001b[0m \u001b[0m_DatasetKind\u001b[0m\u001b[0;34m.\u001b[0m\u001b[0mIterable\u001b[0m \u001b[0;32mand\u001b[0m\u001b[0;31m \u001b[0m\u001b[0;31m\\\u001b[0m\u001b[0;34m\u001b[0m\u001b[0;34m\u001b[0m\u001b[0m\n",
      "\u001b[0;32m~/conda/envs/prominence-est-conda-py37/lib/python3.7/site-packages/torch/utils/data/dataloader.py\u001b[0m in \u001b[0;36m_next_data\u001b[0;34m(self)\u001b[0m\n\u001b[1;32m   1374\u001b[0m             \u001b[0;32melse\u001b[0m\u001b[0;34m:\u001b[0m\u001b[0;34m\u001b[0m\u001b[0;34m\u001b[0m\u001b[0m\n\u001b[1;32m   1375\u001b[0m                 \u001b[0;32mdel\u001b[0m \u001b[0mself\u001b[0m\u001b[0;34m.\u001b[0m\u001b[0m_task_info\u001b[0m\u001b[0;34m[\u001b[0m\u001b[0midx\u001b[0m\u001b[0;34m]\u001b[0m\u001b[0;34m\u001b[0m\u001b[0;34m\u001b[0m\u001b[0m\n\u001b[0;32m-> 1376\u001b[0;31m                 \u001b[0;32mreturn\u001b[0m \u001b[0mself\u001b[0m\u001b[0;34m.\u001b[0m\u001b[0m_process_data\u001b[0m\u001b[0;34m(\u001b[0m\u001b[0mdata\u001b[0m\u001b[0;34m)\u001b[0m\u001b[0;34m\u001b[0m\u001b[0;34m\u001b[0m\u001b[0m\n\u001b[0m\u001b[1;32m   1377\u001b[0m \u001b[0;34m\u001b[0m\u001b[0m\n\u001b[1;32m   1378\u001b[0m     \u001b[0;32mdef\u001b[0m \u001b[0m_try_put_index\u001b[0m\u001b[0;34m(\u001b[0m\u001b[0mself\u001b[0m\u001b[0;34m)\u001b[0m\u001b[0;34m:\u001b[0m\u001b[0;34m\u001b[0m\u001b[0;34m\u001b[0m\u001b[0m\n",
      "\u001b[0;32m~/conda/envs/prominence-est-conda-py37/lib/python3.7/site-packages/torch/utils/data/dataloader.py\u001b[0m in \u001b[0;36m_process_data\u001b[0;34m(self, data)\u001b[0m\n\u001b[1;32m   1400\u001b[0m         \u001b[0mself\u001b[0m\u001b[0;34m.\u001b[0m\u001b[0m_try_put_index\u001b[0m\u001b[0;34m(\u001b[0m\u001b[0;34m)\u001b[0m\u001b[0;34m\u001b[0m\u001b[0;34m\u001b[0m\u001b[0m\n\u001b[1;32m   1401\u001b[0m         \u001b[0;32mif\u001b[0m \u001b[0misinstance\u001b[0m\u001b[0;34m(\u001b[0m\u001b[0mdata\u001b[0m\u001b[0;34m,\u001b[0m \u001b[0mExceptionWrapper\u001b[0m\u001b[0;34m)\u001b[0m\u001b[0;34m:\u001b[0m\u001b[0;34m\u001b[0m\u001b[0;34m\u001b[0m\u001b[0m\n\u001b[0;32m-> 1402\u001b[0;31m             \u001b[0mdata\u001b[0m\u001b[0;34m.\u001b[0m\u001b[0mreraise\u001b[0m\u001b[0;34m(\u001b[0m\u001b[0;34m)\u001b[0m\u001b[0;34m\u001b[0m\u001b[0;34m\u001b[0m\u001b[0m\n\u001b[0m\u001b[1;32m   1403\u001b[0m         \u001b[0;32mreturn\u001b[0m \u001b[0mdata\u001b[0m\u001b[0;34m\u001b[0m\u001b[0;34m\u001b[0m\u001b[0m\n\u001b[1;32m   1404\u001b[0m \u001b[0;34m\u001b[0m\u001b[0m\n",
      "\u001b[0;32m~/conda/envs/prominence-est-conda-py37/lib/python3.7/site-packages/torch/_utils.py\u001b[0m in \u001b[0;36mreraise\u001b[0;34m(self)\u001b[0m\n\u001b[1;32m    459\u001b[0m             \u001b[0;31m# instantiate since we don't know how to\u001b[0m\u001b[0;34m\u001b[0m\u001b[0;34m\u001b[0m\u001b[0;34m\u001b[0m\u001b[0m\n\u001b[1;32m    460\u001b[0m             \u001b[0;32mraise\u001b[0m \u001b[0mRuntimeError\u001b[0m\u001b[0;34m(\u001b[0m\u001b[0mmsg\u001b[0m\u001b[0;34m)\u001b[0m \u001b[0;32mfrom\u001b[0m \u001b[0;32mNone\u001b[0m\u001b[0;34m\u001b[0m\u001b[0;34m\u001b[0m\u001b[0m\n\u001b[0;32m--> 461\u001b[0;31m         \u001b[0;32mraise\u001b[0m \u001b[0mexception\u001b[0m\u001b[0;34m\u001b[0m\u001b[0;34m\u001b[0m\u001b[0m\n\u001b[0m\u001b[1;32m    462\u001b[0m \u001b[0;34m\u001b[0m\u001b[0m\n\u001b[1;32m    463\u001b[0m \u001b[0;34m\u001b[0m\u001b[0m\n",
      "\u001b[0;31mIndexError\u001b[0m: Caught IndexError in DataLoader worker process 0.\nOriginal Traceback (most recent call last):\n  File \"/home/pranav/conda/envs/prominence-est-conda-py37/lib/python3.7/site-packages/torch/utils/data/_utils/worker.py\", line 302, in _worker_loop\n    data = fetcher.fetch(index)\n  File \"/home/pranav/conda/envs/prominence-est-conda-py37/lib/python3.7/site-packages/torch/utils/data/_utils/fetch.py\", line 52, in fetch\n    return self.collate_fn(data)\n  File \"/home/pranav/prominence-estimation-exp/emphases/emphases/data/collate.py\", line 49, in collate\n    padded_prominence[i, :, :wl] = p[i]\nIndexError: index 53 is out of bounds for dimension 0 with size 52\n"
     ]
    }
   ],
   "source": [
    "for batch in train_loader:\n",
    "    print(batch)"
   ]
  },
  {
   "cell_type": "code",
   "execution_count": null,
   "id": "28e2c01d",
   "metadata": {},
   "outputs": [],
   "source": []
  },
  {
   "cell_type": "code",
   "execution_count": null,
   "id": "18edc0aa",
   "metadata": {},
   "outputs": [],
   "source": []
  }
 ],
 "metadata": {
  "kernelspec": {
   "display_name": "prominence-est-conda-py37",
   "language": "python",
   "name": "prominence-est-conda-py37"
  },
  "language_info": {
   "codemirror_mode": {
    "name": "ipython",
    "version": 3
   },
   "file_extension": ".py",
   "mimetype": "text/x-python",
   "name": "python",
   "nbconvert_exporter": "python",
   "pygments_lexer": "ipython3",
   "version": "3.7.13"
  }
 },
 "nbformat": 4,
 "nbformat_minor": 5
}
