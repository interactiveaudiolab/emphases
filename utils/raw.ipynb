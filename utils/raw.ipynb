{
 "cells": [
  {
   "cell_type": "markdown",
   "id": "7737045a",
   "metadata": {},
   "source": [
    "s1301a - 10:03 min file\n",
    "\n",
    "s02-1 - 22 sec file"
   ]
  },
  {
   "cell_type": "markdown",
   "id": "e5e72003",
   "metadata": {},
   "source": [
    "Window size is the amount of time over which a waveform is sampled, known as time record, expressed in samples. For example, a window size of 128 samples at a sample rate of 48 kHz. Equals a time record of 128 samples x 1/48000 seconds = 0.0027 seconds or 2.7 milliseconds.\n",
    "\n",
    "Window length is the length of the fixed intervals in which STFT divides the signal. Hop length is the length of the non-intersecting portion of window length. Overlap length is the length of the intersecting portion of the window length."
   ]
  },
  {
   "cell_type": "code",
   "execution_count": 44,
   "id": "b9bbee56",
   "metadata": {},
   "outputs": [
    {
     "data": {
      "text/plain": [
       "(603, 9648000)"
      ]
     },
     "execution_count": 44,
     "metadata": {},
     "output_type": "execute_result"
    }
   ],
   "source": [
    "10*60+3, 603*16000"
   ]
  },
  {
   "cell_type": "code",
   "execution_count": 45,
   "id": "da5a4ec6",
   "metadata": {},
   "outputs": [
    {
     "data": {
      "text/plain": [
       "(22, 352000)"
      ]
     },
     "execution_count": 45,
     "metadata": {},
     "output_type": "execute_result"
    }
   ],
   "source": [
    "22, 22*16000"
   ]
  },
  {
   "cell_type": "code",
   "execution_count": 40,
   "id": "b68c1ee3",
   "metadata": {
    "scrolled": true
   },
   "outputs": [],
   "source": [
    "# !pip install librosa"
   ]
  },
  {
   "cell_type": "code",
   "execution_count": 41,
   "id": "213b03ad",
   "metadata": {},
   "outputs": [],
   "source": [
    "import soundfile as sf\n",
    "import os\n",
    "import pyfoal\n",
    "import pypar\n",
    "import librosa\n",
    "import torchaudio\n",
    "from scipy.io import wavfile\n"
   ]
  },
  {
   "cell_type": "code",
   "execution_count": 42,
   "id": "2d04edb9",
   "metadata": {},
   "outputs": [],
   "source": [
    "# filename = './s1301a.wav'\n",
    "filename = './s02-1.wav'"
   ]
  },
  {
   "cell_type": "markdown",
   "id": "dd9f48c1",
   "metadata": {},
   "source": [
    "### Soundfile"
   ]
  },
  {
   "cell_type": "code",
   "execution_count": 47,
   "id": "debd6805",
   "metadata": {},
   "outputs": [],
   "source": [
    "data, sr = sf.read(filename)\n"
   ]
  },
  {
   "cell_type": "code",
   "execution_count": 65,
   "id": "09cdde7e",
   "metadata": {
    "scrolled": true
   },
   "outputs": [
    {
     "data": {
      "text/plain": [
       "array([3.05175781e-04, 2.44140625e-04, 9.15527344e-05, ...,\n",
       "       5.49316406e-04, 4.88281250e-04, 3.96728516e-04])"
      ]
     },
     "execution_count": 65,
     "metadata": {},
     "output_type": "execute_result"
    }
   ],
   "source": [
    "data"
   ]
  },
  {
   "cell_type": "code",
   "execution_count": 57,
   "id": "2ff0424d",
   "metadata": {},
   "outputs": [
    {
     "data": {
      "text/plain": [
       "((348026,), 16000)"
      ]
     },
     "execution_count": 57,
     "metadata": {},
     "output_type": "execute_result"
    }
   ],
   "source": [
    "data.shape, sr"
   ]
  },
  {
   "cell_type": "markdown",
   "id": "0b880784",
   "metadata": {},
   "source": [
    "### Size"
   ]
  },
  {
   "cell_type": "code",
   "execution_count": 50,
   "id": "eeacee3e",
   "metadata": {},
   "outputs": [
    {
     "data": {
      "text/plain": [
       "348048"
      ]
     },
     "execution_count": 50,
     "metadata": {},
     "output_type": "execute_result"
    }
   ],
   "source": [
    "os.path.getsize(filename) // 2"
   ]
  },
  {
   "cell_type": "markdown",
   "id": "255d9d08",
   "metadata": {},
   "source": [
    "### Librosa"
   ]
  },
  {
   "cell_type": "code",
   "execution_count": 53,
   "id": "2db4fcf5",
   "metadata": {
    "scrolled": true
   },
   "outputs": [],
   "source": [
    "data_librosa, sr = librosa.load(filename, sr=16000)"
   ]
  },
  {
   "cell_type": "code",
   "execution_count": 54,
   "id": "7fa8647b",
   "metadata": {},
   "outputs": [
    {
     "data": {
      "text/plain": [
       "(348026,)"
      ]
     },
     "execution_count": 54,
     "metadata": {},
     "output_type": "execute_result"
    }
   ],
   "source": [
    "data_librosa.shape"
   ]
  },
  {
   "cell_type": "code",
   "execution_count": 64,
   "id": "77d10ae5",
   "metadata": {},
   "outputs": [
    {
     "data": {
      "text/plain": [
       "array([3.0517578e-04, 2.4414062e-04, 9.1552734e-05, ..., 5.4931641e-04,\n",
       "       4.8828125e-04, 3.9672852e-04], dtype=float32)"
      ]
     },
     "execution_count": 64,
     "metadata": {},
     "output_type": "execute_result"
    }
   ],
   "source": [
    "data_librosa"
   ]
  },
  {
   "cell_type": "code",
   "execution_count": 55,
   "id": "5c762b54",
   "metadata": {},
   "outputs": [
    {
     "name": "stderr",
     "output_type": "stream",
     "text": [
      "/home/pranav/conda/envs/prominence-est-conda-py37/lib/python3.7/site-packages/ipykernel_launcher.py:1: FutureWarning: Pass y=[3.0517578e-04 2.4414062e-04 9.1552734e-05 ... 5.4931641e-04 4.8828125e-04\n",
      " 3.9672852e-04] as keyword args. From version 0.10 passing these as positional arguments will result in an error\n",
      "  \"\"\"Entry point for launching an IPython kernel.\n"
     ]
    },
    {
     "data": {
      "text/plain": [
       "15.783492063492064"
      ]
     },
     "execution_count": 55,
     "metadata": {},
     "output_type": "execute_result"
    }
   ],
   "source": [
    "librosa.get_duration(data_librosa)"
   ]
  },
  {
   "cell_type": "markdown",
   "id": "d40c14c3",
   "metadata": {},
   "source": [
    "### Torchaudio"
   ]
  },
  {
   "cell_type": "code",
   "execution_count": 58,
   "id": "f6b0144c",
   "metadata": {},
   "outputs": [],
   "source": [
    "data_torch, sr = torchaudio.load(filename)"
   ]
  },
  {
   "cell_type": "code",
   "execution_count": 63,
   "id": "b42a56ef",
   "metadata": {},
   "outputs": [
    {
     "data": {
      "text/plain": [
       "tensor([[3.0518e-04, 2.4414e-04, 9.1553e-05,  ..., 5.4932e-04, 4.8828e-04,\n",
       "         3.9673e-04]])"
      ]
     },
     "execution_count": 63,
     "metadata": {},
     "output_type": "execute_result"
    }
   ],
   "source": [
    "data_torch"
   ]
  },
  {
   "cell_type": "code",
   "execution_count": 59,
   "id": "14ec722e",
   "metadata": {
    "scrolled": true
   },
   "outputs": [
    {
     "data": {
      "text/plain": [
       "torch.Size([1, 348026])"
      ]
     },
     "execution_count": 59,
     "metadata": {},
     "output_type": "execute_result"
    }
   ],
   "source": [
    "data_torch.shape"
   ]
  },
  {
   "cell_type": "markdown",
   "id": "81960aa9",
   "metadata": {},
   "source": [
    "### Scipy wavefile"
   ]
  },
  {
   "cell_type": "code",
   "execution_count": 60,
   "id": "625c82d5",
   "metadata": {},
   "outputs": [],
   "source": [
    "sr, data_scipy = wavfile.read(filename)"
   ]
  },
  {
   "cell_type": "code",
   "execution_count": 61,
   "id": "a212ae30",
   "metadata": {
    "scrolled": true
   },
   "outputs": [
    {
     "data": {
      "text/plain": [
       "(array([10,  8,  3, ..., 18, 16, 13], dtype=int16), (348026,))"
      ]
     },
     "execution_count": 61,
     "metadata": {},
     "output_type": "execute_result"
    }
   ],
   "source": [
    "data_scipy, data_scipy.shape"
   ]
  },
  {
   "cell_type": "code",
   "execution_count": 62,
   "id": "90398d03",
   "metadata": {
    "scrolled": false
   },
   "outputs": [
    {
     "name": "stdout",
     "output_type": "stream",
     "text": [
      "Window length in samples 160\n"
     ]
    }
   ],
   "source": [
    "window_length_ms = 10\n",
    "\n",
    "window_length = int((window_length_ms/1000)*sr)\n",
    "print('Window length in samples ' + str(window_length))\n"
   ]
  },
  {
   "cell_type": "markdown",
   "id": "5086e277",
   "metadata": {},
   "source": [
    "### Audio load"
   ]
  },
  {
   "cell_type": "code",
   "execution_count": 9,
   "id": "a7306c44",
   "metadata": {},
   "outputs": [],
   "source": [
    "import emphases"
   ]
  },
  {
   "cell_type": "code",
   "execution_count": 10,
   "id": "499bf761",
   "metadata": {},
   "outputs": [],
   "source": [
    "audio = emphases.load.audio('../data/cache/Buckeye/wavs/s02-1.wav')"
   ]
  },
  {
   "cell_type": "code",
   "execution_count": 13,
   "id": "0dc23246",
   "metadata": {},
   "outputs": [
    {
     "data": {
      "text/plain": [
       "(torch.Size([1, 348026]), 2175)"
      ]
     },
     "execution_count": 13,
     "metadata": {},
     "output_type": "execute_result"
    }
   ],
   "source": [
    "audio.shape, audio.shape[-1] // emphases.HOPSIZE"
   ]
  },
  {
   "cell_type": "code",
   "execution_count": null,
   "id": "ada267c0",
   "metadata": {},
   "outputs": [],
   "source": []
  },
  {
   "cell_type": "code",
   "execution_count": null,
   "id": "030b5c98",
   "metadata": {},
   "outputs": [],
   "source": []
  },
  {
   "cell_type": "markdown",
   "id": "72e71f78",
   "metadata": {},
   "source": [
    "### Mel Exp"
   ]
  },
  {
   "cell_type": "code",
   "execution_count": 57,
   "id": "ea0b6a39",
   "metadata": {},
   "outputs": [],
   "source": [
    "from IPython.display import Audio\n",
    "import librosa\n",
    "import matplotlib.pyplot as plt\n"
   ]
  },
  {
   "cell_type": "code",
   "execution_count": 58,
   "id": "359754dc",
   "metadata": {},
   "outputs": [],
   "source": [
    "def plot_waveform(waveform, sr, title=\"Waveform\"):\n",
    "    waveform = waveform.numpy()\n",
    "\n",
    "    num_channels, num_frames = waveform.shape\n",
    "    time_axis = torch.arange(0, num_frames) / sr\n",
    "\n",
    "    figure, axes = plt.subplots(num_channels, 1)\n",
    "    axes.plot(time_axis, waveform[0], linewidth=1)\n",
    "    axes.grid(True)\n",
    "    figure.suptitle(title)\n",
    "    plt.show(block=False)\n",
    "\n",
    "\n",
    "def plot_spectrogram(specgram, title=None, ylabel=\"freq_bin\"):\n",
    "    fig, axs = plt.subplots(1, 1)\n",
    "    axs.set_title(title or \"Spectrogram (db)\")\n",
    "    axs.set_ylabel(ylabel)\n",
    "    axs.set_xlabel(\"frame\")\n",
    "    im = axs.imshow(librosa.power_to_db(specgram), origin=\"lower\", aspect=\"auto\")\n",
    "    fig.colorbar(im, ax=axs)\n",
    "    plt.show(block=False)\n"
   ]
  },
  {
   "cell_type": "code",
   "execution_count": 59,
   "id": "6d8385d5",
   "metadata": {},
   "outputs": [],
   "source": [
    "import emphases\n",
    "import torch"
   ]
  },
  {
   "cell_type": "markdown",
   "id": "55d0abd1",
   "metadata": {},
   "source": [
    "### Custom Mel"
   ]
  },
  {
   "cell_type": "code",
   "execution_count": 60,
   "id": "9003de1f",
   "metadata": {
    "scrolled": true
   },
   "outputs": [
    {
     "name": "stderr",
     "output_type": "stream",
     "text": [
      "/home/pranav/prominence-estimation-exp/emphases/emphases/load.py:56: FutureWarning: Pass sr=16000, n_fft=1024, n_mels=80 as keyword args. From version 0.10 passing these as positional arguments will result in an error\n",
      "  emphases.NUM_MELS\n"
     ]
    }
   ],
   "source": [
    "mel_loader = emphases.load.MelSpectrogram()\n"
   ]
  },
  {
   "cell_type": "code",
   "execution_count": 61,
   "id": "80d947d4",
   "metadata": {},
   "outputs": [],
   "source": [
    "audio = emphases.load.audio('../data/cache/Buckeye/wavs/s03-1.wav')\n",
    "audio2 = emphases.load.audio('../data/cache/Buckeye/wavs/s11-1.wav')"
   ]
  },
  {
   "cell_type": "code",
   "execution_count": 62,
   "id": "7a47a91e",
   "metadata": {},
   "outputs": [
    {
     "data": {
      "text/plain": [
       "torch.Size([1, 80, 1352])"
      ]
     },
     "execution_count": 62,
     "metadata": {},
     "output_type": "execute_result"
    }
   ],
   "source": [
    "mel_spectrogram1 = mel_loader.forward(audio)\n",
    "mel_spectrogram1.shape"
   ]
  },
  {
   "cell_type": "code",
   "execution_count": 84,
   "id": "0e6617f3",
   "metadata": {},
   "outputs": [
    {
     "data": {
      "text/plain": [
       "2163"
      ]
     },
     "execution_count": 84,
     "metadata": {},
     "output_type": "execute_result"
    }
   ],
   "source": [
    "audio.shape[-1]//160"
   ]
  },
  {
   "cell_type": "code",
   "execution_count": 63,
   "id": "3c887f7a",
   "metadata": {},
   "outputs": [
    {
     "data": {
      "image/png": "[encoded data removed]",
      "text/plain": [
       "<Figure size 432x288 with 1 Axes>"
      ]
     },
     "metadata": {
      "needs_background": "light"
     },
     "output_type": "display_data"
    }
   ],
   "source": [
    "plot_waveform(audio, 16000)"
   ]
  },
  {
   "cell_type": "markdown",
   "id": "42362945",
   "metadata": {},
   "source": [
    "### Torch Mel"
   ]
  },
  {
   "cell_type": "code",
   "execution_count": 72,
   "id": "37843a92",
   "metadata": {},
   "outputs": [],
   "source": [
    "import torch\n",
    "import torchaudio\n",
    "import torchaudio.functional as F\n",
    "import torchaudio.transforms as T\n"
   ]
  },
  {
   "cell_type": "code",
   "execution_count": 73,
   "id": "8a353393",
   "metadata": {},
   "outputs": [],
   "source": [
    "n_fft = 1024\n",
    "win_length = None\n",
    "hop_length = 512\n",
    "\n",
    "# Define transform\n",
    "spectrogram = T.Spectrogram(\n",
    "    n_fft=n_fft,\n",
    "    win_length=win_length,\n",
    "    hop_length=hop_length,\n",
    "    center=True,\n",
    "    pad_mode=\"reflect\",\n",
    "    power=2.0,\n",
    ")\n"
   ]
  },
  {
   "cell_type": "code",
   "execution_count": 85,
   "id": "baca6e24",
   "metadata": {},
   "outputs": [],
   "source": [
    "spec = spectrogram(audio2)"
   ]
  },
  {
   "cell_type": "code",
   "execution_count": 97,
   "id": "b2e8b391",
   "metadata": {},
   "outputs": [
    {
     "data": {
      "text/plain": [
       "torch.Size([1, 384520])"
      ]
     },
     "execution_count": 97,
     "metadata": {},
     "output_type": "execute_result"
    }
   ],
   "source": [
    "audio2.shape"
   ]
  },
  {
   "cell_type": "code",
   "execution_count": 89,
   "id": "8e51089f",
   "metadata": {},
   "outputs": [
    {
     "data": {
      "text/plain": [
       "511.32978723404256"
      ]
     },
     "execution_count": 89,
     "metadata": {},
     "output_type": "execute_result"
    }
   ],
   "source": [
    "audio2.shape[-1]/752"
   ]
  },
  {
   "cell_type": "code",
   "execution_count": 88,
   "id": "a1c3b905",
   "metadata": {},
   "outputs": [
    {
     "data": {
      "text/plain": [
       "torch.Size([1, 513, 752])"
      ]
     },
     "execution_count": 88,
     "metadata": {},
     "output_type": "execute_result"
    }
   ],
   "source": [
    "spec.shape"
   ]
  },
  {
   "cell_type": "code",
   "execution_count": 101,
   "id": "ef01a740",
   "metadata": {
    "scrolled": true
   },
   "outputs": [],
   "source": [
    "n_fft = 1024\n",
    "win_length = None\n",
    "hop_length = 160\n",
    "n_mels = 80\n",
    "\n",
    "mel_spectrogram = T.MelSpectrogram(\n",
    "    sample_rate=16000,\n",
    "    n_fft=n_fft,\n",
    "    win_length=win_length,\n",
    "    hop_length=hop_length,\n",
    "    center=True,\n",
    "    pad_mode=\"reflect\",\n",
    "    power=2.0,\n",
    "    norm=\"slaney\",\n",
    "    onesided=True,\n",
    "    n_mels=n_mels,\n",
    "    mel_scale=\"htk\",\n",
    ")"
   ]
  },
  {
   "cell_type": "code",
   "execution_count": 102,
   "id": "d3a252b3",
   "metadata": {},
   "outputs": [],
   "source": [
    "melspec = mel_spectrogram(audio2)"
   ]
  },
  {
   "cell_type": "code",
   "execution_count": 103,
   "id": "5b187eb7",
   "metadata": {
    "scrolled": true
   },
   "outputs": [
    {
     "data": {
      "text/plain": [
       "torch.Size([1, 80, 2404])"
      ]
     },
     "execution_count": 103,
     "metadata": {},
     "output_type": "execute_result"
    }
   ],
   "source": [
    "melspec.shape"
   ]
  },
  {
   "cell_type": "code",
   "execution_count": 104,
   "id": "0b9e6bf1",
   "metadata": {
    "scrolled": false
   },
   "outputs": [
    {
     "data": {
      "image/png": "[encoded data removed]",
      "text/plain": [
       "<Figure size 432x288 with 2 Axes>"
      ]
     },
     "metadata": {
      "needs_background": "light"
     },
     "output_type": "display_data"
    }
   ],
   "source": [
    "plot_spectrogram(spec[0], title=None, ylabel=\"freq_bin\")"
   ]
  },
  {
   "cell_type": "code",
   "execution_count": null,
   "id": "c0400998",
   "metadata": {},
   "outputs": [],
   "source": []
  },
  {
   "cell_type": "code",
   "execution_count": 49,
   "id": "ad9f59e7",
   "metadata": {},
   "outputs": [
    {
     "data": {
      "text/plain": [
       "0.25008017635909763"
      ]
     },
     "execution_count": 49,
     "metadata": {},
     "output_type": "execute_result"
    }
   ],
   "source": [
    "audio.shape[-1]/(1352*1024)"
   ]
  },
  {
   "cell_type": "code",
   "execution_count": 39,
   "id": "5682bf76",
   "metadata": {},
   "outputs": [
    {
     "data": {
      "text/plain": [
       "torch.Size([1, 346223])"
      ]
     },
     "execution_count": 39,
     "metadata": {},
     "output_type": "execute_result"
    }
   ],
   "source": [
    "audio.shape"
   ]
  },
  {
   "cell_type": "code",
   "execution_count": 34,
   "id": "23ad79ba",
   "metadata": {
    "scrolled": true
   },
   "outputs": [
    {
     "data": {
      "text/plain": [
       "torch.Size([1, 494])"
      ]
     },
     "execution_count": 34,
     "metadata": {},
     "output_type": "execute_result"
    }
   ],
   "source": [
    "audio[:, :494].shape"
   ]
  },
  {
   "cell_type": "code",
   "execution_count": 53,
   "id": "83891938",
   "metadata": {},
   "outputs": [
    {
     "data": {
      "text/plain": [
       "torch.Size([1, 80, 1502])"
      ]
     },
     "execution_count": 53,
     "metadata": {},
     "output_type": "execute_result"
    }
   ],
   "source": [
    "mel_spectrogram2 = mel_loader.forward(audio2)\n",
    "mel_spectrogram2.shape"
   ]
  },
  {
   "cell_type": "code",
   "execution_count": 54,
   "id": "14df8e4b",
   "metadata": {},
   "outputs": [
    {
     "data": {
      "text/plain": [
       "1352"
      ]
     },
     "execution_count": 54,
     "metadata": {},
     "output_type": "execute_result"
    }
   ],
   "source": [
    "mel_spectrogram1.shape[-1]"
   ]
  },
  {
   "cell_type": "code",
   "execution_count": 55,
   "id": "74e0f728",
   "metadata": {
    "scrolled": false
   },
   "outputs": [],
   "source": [
    "mel_spectrogram = [mel_spectrogram1, mel_spectrogram2]"
   ]
  },
  {
   "cell_type": "code",
   "execution_count": 56,
   "id": "09ef7a63",
   "metadata": {},
   "outputs": [],
   "source": [
    "mel_lengths = torch.tensor(\n",
    "    [mel.shape[-1] for mel in mel_spectrogram], \n",
    "    dtype=torch.long)\n",
    "\n",
    "max_mel_lengths = mel_lengths.max()"
   ]
  },
  {
   "cell_type": "code",
   "execution_count": 57,
   "id": "fd904e8d",
   "metadata": {
    "scrolled": true
   },
   "outputs": [
    {
     "data": {
      "text/plain": [
       "1502"
      ]
     },
     "execution_count": 57,
     "metadata": {},
     "output_type": "execute_result"
    }
   ],
   "source": [
    "mel_lengths.max().item()"
   ]
  },
  {
   "cell_type": "code",
   "execution_count": null,
   "id": "4a463698",
   "metadata": {},
   "outputs": [],
   "source": []
  },
  {
   "cell_type": "markdown",
   "id": "01e76af8",
   "metadata": {},
   "source": [
    "### Checks"
   ]
  },
  {
   "cell_type": "code",
   "execution_count": 1,
   "id": "7840928a",
   "metadata": {},
   "outputs": [],
   "source": [
    "import emphases\n",
    "import pypar\n",
    "import os\n",
    "import torch\n",
    "import functools\n",
    "import numpy as np\n",
    "import seaborn as sns\n",
    "import tqdm"
   ]
  },
  {
   "cell_type": "code",
   "execution_count": 14,
   "id": "53ab84fc",
   "metadata": {
    "scrolled": true
   },
   "outputs": [],
   "source": [
    "train_loader, valid_loader = emphases.data.loaders('Buckeye', 'train', 'valid', gpu=None)"
   ]
  },
  {
   "cell_type": "code",
   "execution_count": 15,
   "id": "89c40310",
   "metadata": {},
   "outputs": [],
   "source": [
    "# audio, mel_spectrogram, prominence, word_bounds = train_loader.dataset.__getitem__(0)\n",
    "# train_loader.dataset.lengths\n",
    "# audio.shape[-1], audio.shape[-1]//emphases.HOPSIZE"
   ]
  },
  {
   "cell_type": "code",
   "execution_count": 16,
   "id": "707793d6",
   "metadata": {},
   "outputs": [],
   "source": [
    "# np.histogram(train_loader.dataset.spectrogram_lengths)"
   ]
  },
  {
   "cell_type": "code",
   "execution_count": 17,
   "id": "d9bdc8e7",
   "metadata": {
    "scrolled": true
   },
   "outputs": [],
   "source": [
    "# train_loader.dataset.lengths, train_loader.dataset.spectrogram_lengths\n",
    "# sns.histplot(train_loader.dataset.spectrogram_lengths)"
   ]
  },
  {
   "cell_type": "code",
   "execution_count": 18,
   "id": "034e8c1a",
   "metadata": {},
   "outputs": [],
   "source": [
    "train_loader.batch_sampler.set_epoch(0// len(train_loader.dataset))"
   ]
  },
  {
   "cell_type": "code",
   "execution_count": 19,
   "id": "20469feb",
   "metadata": {
    "scrolled": false
   },
   "outputs": [
    {
     "name": "stderr",
     "output_type": "stream",
     "text": [
      "64it [00:00, 311.03it/s]\n"
     ]
    }
   ],
   "source": [
    "all_batches = []\n",
    "for batch in train_loader:\n",
    "    all_batches.append(batch)"
   ]
  },
  {
   "cell_type": "code",
   "execution_count": 20,
   "id": "14ea2278",
   "metadata": {
    "scrolled": true
   },
   "outputs": [
    {
     "data": {
      "text/plain": [
       "torch.Size([64, 1, 228320])"
      ]
     },
     "execution_count": 20,
     "metadata": {},
     "output_type": "execute_result"
    }
   ],
   "source": [
    "batch[0].shape"
   ]
  },
  {
   "cell_type": "code",
   "execution_count": 21,
   "id": "14ce5794",
   "metadata": {
    "scrolled": true
   },
   "outputs": [
    {
     "data": {
      "text/plain": [
       "tensor([[1.1056e-03, 6.3663e-04, 8.9659e-05,  ..., 0.0000e+00, 0.0000e+00,\n",
       "         0.0000e+00],\n",
       "        [1.1177e-03, 6.9092e-04, 1.2387e-04,  ..., 0.0000e+00, 0.0000e+00,\n",
       "         0.0000e+00],\n",
       "        [1.0182e-03, 6.0388e-04, 8.7518e-05,  ..., 0.0000e+00, 0.0000e+00,\n",
       "         0.0000e+00],\n",
       "        ...,\n",
       "        [3.0827e-08, 3.6659e-08, 4.5093e-08,  ..., 0.0000e+00, 0.0000e+00,\n",
       "         0.0000e+00],\n",
       "        [2.9969e-08, 3.4506e-08, 4.7271e-08,  ..., 0.0000e+00, 0.0000e+00,\n",
       "         0.0000e+00],\n",
       "        [2.5464e-08, 2.4083e-08, 2.0766e-08,  ..., 0.0000e+00, 0.0000e+00,\n",
       "         0.0000e+00]])"
      ]
     },
     "execution_count": 21,
     "metadata": {},
     "output_type": "execute_result"
    }
   ],
   "source": [
    "batch[1][11]"
   ]
  },
  {
   "cell_type": "code",
   "execution_count": 22,
   "id": "0bd5bd83",
   "metadata": {
    "scrolled": true
   },
   "outputs": [
    {
     "data": {
      "text/plain": [
       "torch.Size([64, 80, 1428])"
      ]
     },
     "execution_count": 22,
     "metadata": {},
     "output_type": "execute_result"
    }
   ],
   "source": [
    "batch[1].shape"
   ]
  },
  {
   "cell_type": "code",
   "execution_count": 23,
   "id": "1902fc99",
   "metadata": {
    "scrolled": true
   },
   "outputs": [
    {
     "data": {
      "text/plain": [
       "(tensor([[0.5938, 0.0000, 0.1875, 0.0625, 0.0312, 0.5625, 0.0000, 0.0000, 0.0312,\n",
       "          0.0625, 0.0000, 0.0000, 0.0000, 0.5312, 0.0312, 0.0312, 0.1875, 0.0000,\n",
       "          0.0312, 0.2812, 0.0000, 0.2500, 0.0000, 0.0000, 0.0312, 0.0312, 0.5938,\n",
       "          0.4375, 0.0000, 0.0938, 0.0000, 0.0000, 0.0938, 0.0000, 0.1562, 0.1250,\n",
       "          0.0312, 0.3750, 0.0000, 0.0625, 0.6562, 0.0000, 0.2500, 0.5938, 0.0000,\n",
       "          0.2812, 0.0312, 0.3438, 0.6875]]),\n",
       " torch.Size([64, 1, 49]))"
      ]
     },
     "execution_count": 23,
     "metadata": {},
     "output_type": "execute_result"
    }
   ],
   "source": [
    "batch[2][0], batch[2].shape"
   ]
  },
  {
   "cell_type": "code",
   "execution_count": 24,
   "id": "8407f907",
   "metadata": {},
   "outputs": [
    {
     "data": {
      "text/plain": [
       "64"
      ]
     },
     "execution_count": 24,
     "metadata": {},
     "output_type": "execute_result"
    }
   ],
   "source": [
    "len(batch[3])"
   ]
  },
  {
   "cell_type": "code",
   "execution_count": 25,
   "id": "49544ce2",
   "metadata": {
    "scrolled": true
   },
   "outputs": [
    {
     "data": {
      "text/plain": [
       "False"
      ]
     },
     "execution_count": 25,
     "metadata": {},
     "output_type": "execute_result"
    }
   ],
   "source": [
    "torch.is_tensor(batch[3])"
   ]
  },
  {
   "cell_type": "code",
   "execution_count": 26,
   "id": "7654ba35",
   "metadata": {},
   "outputs": [],
   "source": [
    "s = (item.to('cpu') if torch.is_tensor(item) else item for item in batch)"
   ]
  },
  {
   "cell_type": "code",
   "execution_count": 27,
   "id": "fafb48c2",
   "metadata": {},
   "outputs": [],
   "source": [
    "(padded_audio,\n",
    "padded_mel_spectrogram,\n",
    "padded_prominence,\n",
    "word_bounds,\n",
    "word_lengths,\n",
    "frame_lengths) = s"
   ]
  },
  {
   "cell_type": "code",
   "execution_count": 28,
   "id": "9eda4e20",
   "metadata": {
    "scrolled": true
   },
   "outputs": [
    {
     "data": {
      "text/plain": [
       "torch.Size([64, 1, 228320])"
      ]
     },
     "execution_count": 28,
     "metadata": {},
     "output_type": "execute_result"
    }
   ],
   "source": [
    "padded_audio.shape"
   ]
  },
  {
   "cell_type": "code",
   "execution_count": 29,
   "id": "ba02ee48",
   "metadata": {
    "scrolled": false
   },
   "outputs": [
    {
     "data": {
      "text/plain": [
       "torch.Size([64, 80, 1428])"
      ]
     },
     "execution_count": 29,
     "metadata": {},
     "output_type": "execute_result"
    }
   ],
   "source": [
    "padded_mel_spectrogram.shape"
   ]
  },
  {
   "cell_type": "code",
   "execution_count": 30,
   "id": "671e4fec",
   "metadata": {
    "scrolled": true
   },
   "outputs": [
    {
     "data": {
      "text/plain": [
       "torch.Size([80, 1428])"
      ]
     },
     "execution_count": 30,
     "metadata": {},
     "output_type": "execute_result"
    }
   ],
   "source": [
    "padded_mel_spectrogram[0].shape"
   ]
  },
  {
   "cell_type": "code",
   "execution_count": 31,
   "id": "90e5a6b9",
   "metadata": {},
   "outputs": [
    {
     "data": {
      "text/plain": [
       "49"
      ]
     },
     "execution_count": 31,
     "metadata": {},
     "output_type": "execute_result"
    }
   ],
   "source": [
    "len(word_bounds[0])"
   ]
  },
  {
   "cell_type": "code",
   "execution_count": 32,
   "id": "a849d1d8",
   "metadata": {
    "scrolled": false
   },
   "outputs": [
    {
     "data": {
      "text/plain": [
       "torch.Size([1, 49])"
      ]
     },
     "execution_count": 32,
     "metadata": {},
     "output_type": "execute_result"
    }
   ],
   "source": [
    "padded_prominence[0].shape"
   ]
  },
  {
   "cell_type": "code",
   "execution_count": 33,
   "id": "f2e09eea",
   "metadata": {
    "scrolled": true
   },
   "outputs": [],
   "source": [
    "model = emphases.model.BaselineModel()"
   ]
  },
  {
   "cell_type": "code",
   "execution_count": 34,
   "id": "027e603a",
   "metadata": {},
   "outputs": [],
   "source": [
    "# model_input = (padded_mel_spectrogram)\n",
    "model_input = (padded_audio[0:4], word_bounds[0:4], padded_prominence[0:4])"
   ]
  },
  {
   "cell_type": "code",
   "execution_count": 35,
   "id": "4bd721f5",
   "metadata": {
    "collapsed": true
   },
   "outputs": [
    {
     "ename": "RuntimeError",
     "evalue": "Given groups=1, weight of size [128, 80, 5], expected input[4, 1, 228320] to have 80 channels, but got 1 channels instead",
     "output_type": "error",
     "traceback": [
      "\u001b[0;31m---------------------------------------------------------------------------\u001b[0m",
      "\u001b[0;31mRuntimeError\u001b[0m                              Traceback (most recent call last)",
      "\u001b[0;32m/tmp/ipykernel_68058/390388583.py\u001b[0m in \u001b[0;36m<module>\u001b[0;34m\u001b[0m\n\u001b[0;32m----> 1\u001b[0;31m \u001b[0moutput\u001b[0m \u001b[0;34m=\u001b[0m \u001b[0mmodel\u001b[0m\u001b[0;34m(\u001b[0m\u001b[0mmodel_input\u001b[0m\u001b[0;34m)\u001b[0m\u001b[0;34m\u001b[0m\u001b[0;34m\u001b[0m\u001b[0m\n\u001b[0m",
      "\u001b[0;32m~/conda/envs/prominence-est-conda-py37/lib/python3.7/site-packages/torch/nn/modules/module.py\u001b[0m in \u001b[0;36m_call_impl\u001b[0;34m(self, *input, **kwargs)\u001b[0m\n\u001b[1;32m   1128\u001b[0m         if not (self._backward_hooks or self._forward_hooks or self._forward_pre_hooks or _global_backward_hooks\n\u001b[1;32m   1129\u001b[0m                 or _global_forward_hooks or _global_forward_pre_hooks):\n\u001b[0;32m-> 1130\u001b[0;31m             \u001b[0;32mreturn\u001b[0m \u001b[0mforward_call\u001b[0m\u001b[0;34m(\u001b[0m\u001b[0;34m*\u001b[0m\u001b[0minput\u001b[0m\u001b[0;34m,\u001b[0m \u001b[0;34m**\u001b[0m\u001b[0mkwargs\u001b[0m\u001b[0;34m)\u001b[0m\u001b[0;34m\u001b[0m\u001b[0;34m\u001b[0m\u001b[0m\n\u001b[0m\u001b[1;32m   1131\u001b[0m         \u001b[0;31m# Do not call functions when jit is used\u001b[0m\u001b[0;34m\u001b[0m\u001b[0;34m\u001b[0m\u001b[0;34m\u001b[0m\u001b[0m\n\u001b[1;32m   1132\u001b[0m         \u001b[0mfull_backward_hooks\u001b[0m\u001b[0;34m,\u001b[0m \u001b[0mnon_full_backward_hooks\u001b[0m \u001b[0;34m=\u001b[0m \u001b[0;34m[\u001b[0m\u001b[0;34m]\u001b[0m\u001b[0;34m,\u001b[0m \u001b[0;34m[\u001b[0m\u001b[0;34m]\u001b[0m\u001b[0;34m\u001b[0m\u001b[0;34m\u001b[0m\u001b[0m\n",
      "\u001b[0;32m~/prominence-estimation-exp/emphases/emphases/model.py\u001b[0m in \u001b[0;36mforward\u001b[0;34m(self, features)\u001b[0m\n\u001b[1;32m     41\u001b[0m         \u001b[0;31m# then form a padded tensor from all the slice tensors, and further pass down the network\u001b[0m\u001b[0;34m\u001b[0m\u001b[0;34m\u001b[0m\u001b[0;34m\u001b[0m\u001b[0m\n\u001b[1;32m     42\u001b[0m         \u001b[0mpadded_audio\u001b[0m\u001b[0;34m,\u001b[0m \u001b[0mword_bounds\u001b[0m\u001b[0;34m,\u001b[0m \u001b[0mpadded_prominence\u001b[0m \u001b[0;34m=\u001b[0m \u001b[0mfeatures\u001b[0m\u001b[0;34m\u001b[0m\u001b[0;34m\u001b[0m\u001b[0m\n\u001b[0;32m---> 43\u001b[0;31m         \u001b[0mintermid_output\u001b[0m \u001b[0;34m=\u001b[0m \u001b[0mself\u001b[0m\u001b[0;34m.\u001b[0m\u001b[0mlayers\u001b[0m\u001b[0;34m(\u001b[0m\u001b[0mpadded_audio\u001b[0m\u001b[0;34m)\u001b[0m\u001b[0;34m\u001b[0m\u001b[0;34m\u001b[0m\u001b[0m\n\u001b[0m\u001b[1;32m     44\u001b[0m \u001b[0;34m\u001b[0m\u001b[0m\n\u001b[1;32m     45\u001b[0m         \u001b[0mfeat_lens\u001b[0m \u001b[0;34m=\u001b[0m \u001b[0;34m[\u001b[0m\u001b[0;34m]\u001b[0m\u001b[0;34m\u001b[0m\u001b[0;34m\u001b[0m\u001b[0m\n",
      "\u001b[0;32m~/conda/envs/prominence-est-conda-py37/lib/python3.7/site-packages/torch/nn/modules/module.py\u001b[0m in \u001b[0;36m_call_impl\u001b[0;34m(self, *input, **kwargs)\u001b[0m\n\u001b[1;32m   1128\u001b[0m         if not (self._backward_hooks or self._forward_hooks or self._forward_pre_hooks or _global_backward_hooks\n\u001b[1;32m   1129\u001b[0m                 or _global_forward_hooks or _global_forward_pre_hooks):\n\u001b[0;32m-> 1130\u001b[0;31m             \u001b[0;32mreturn\u001b[0m \u001b[0mforward_call\u001b[0m\u001b[0;34m(\u001b[0m\u001b[0;34m*\u001b[0m\u001b[0minput\u001b[0m\u001b[0;34m,\u001b[0m \u001b[0;34m**\u001b[0m\u001b[0mkwargs\u001b[0m\u001b[0;34m)\u001b[0m\u001b[0;34m\u001b[0m\u001b[0;34m\u001b[0m\u001b[0m\n\u001b[0m\u001b[1;32m   1131\u001b[0m         \u001b[0;31m# Do not call functions when jit is used\u001b[0m\u001b[0;34m\u001b[0m\u001b[0;34m\u001b[0m\u001b[0;34m\u001b[0m\u001b[0m\n\u001b[1;32m   1132\u001b[0m         \u001b[0mfull_backward_hooks\u001b[0m\u001b[0;34m,\u001b[0m \u001b[0mnon_full_backward_hooks\u001b[0m \u001b[0;34m=\u001b[0m \u001b[0;34m[\u001b[0m\u001b[0;34m]\u001b[0m\u001b[0;34m,\u001b[0m \u001b[0;34m[\u001b[0m\u001b[0;34m]\u001b[0m\u001b[0;34m\u001b[0m\u001b[0;34m\u001b[0m\u001b[0m\n",
      "\u001b[0;32m~/conda/envs/prominence-est-conda-py37/lib/python3.7/site-packages/torch/nn/modules/container.py\u001b[0m in \u001b[0;36mforward\u001b[0;34m(self, input)\u001b[0m\n\u001b[1;32m    137\u001b[0m     \u001b[0;32mdef\u001b[0m \u001b[0mforward\u001b[0m\u001b[0;34m(\u001b[0m\u001b[0mself\u001b[0m\u001b[0;34m,\u001b[0m \u001b[0minput\u001b[0m\u001b[0;34m)\u001b[0m\u001b[0;34m:\u001b[0m\u001b[0;34m\u001b[0m\u001b[0;34m\u001b[0m\u001b[0m\n\u001b[1;32m    138\u001b[0m         \u001b[0;32mfor\u001b[0m \u001b[0mmodule\u001b[0m \u001b[0;32min\u001b[0m \u001b[0mself\u001b[0m\u001b[0;34m:\u001b[0m\u001b[0;34m\u001b[0m\u001b[0;34m\u001b[0m\u001b[0m\n\u001b[0;32m--> 139\u001b[0;31m             \u001b[0minput\u001b[0m \u001b[0;34m=\u001b[0m \u001b[0mmodule\u001b[0m\u001b[0;34m(\u001b[0m\u001b[0minput\u001b[0m\u001b[0;34m)\u001b[0m\u001b[0;34m\u001b[0m\u001b[0;34m\u001b[0m\u001b[0m\n\u001b[0m\u001b[1;32m    140\u001b[0m         \u001b[0;32mreturn\u001b[0m \u001b[0minput\u001b[0m\u001b[0;34m\u001b[0m\u001b[0;34m\u001b[0m\u001b[0m\n\u001b[1;32m    141\u001b[0m \u001b[0;34m\u001b[0m\u001b[0m\n",
      "\u001b[0;32m~/conda/envs/prominence-est-conda-py37/lib/python3.7/site-packages/torch/nn/modules/module.py\u001b[0m in \u001b[0;36m_call_impl\u001b[0;34m(self, *input, **kwargs)\u001b[0m\n\u001b[1;32m   1128\u001b[0m         if not (self._backward_hooks or self._forward_hooks or self._forward_pre_hooks or _global_backward_hooks\n\u001b[1;32m   1129\u001b[0m                 or _global_forward_hooks or _global_forward_pre_hooks):\n\u001b[0;32m-> 1130\u001b[0;31m             \u001b[0;32mreturn\u001b[0m \u001b[0mforward_call\u001b[0m\u001b[0;34m(\u001b[0m\u001b[0;34m*\u001b[0m\u001b[0minput\u001b[0m\u001b[0;34m,\u001b[0m \u001b[0;34m**\u001b[0m\u001b[0mkwargs\u001b[0m\u001b[0;34m)\u001b[0m\u001b[0;34m\u001b[0m\u001b[0;34m\u001b[0m\u001b[0m\n\u001b[0m\u001b[1;32m   1131\u001b[0m         \u001b[0;31m# Do not call functions when jit is used\u001b[0m\u001b[0;34m\u001b[0m\u001b[0;34m\u001b[0m\u001b[0;34m\u001b[0m\u001b[0m\n\u001b[1;32m   1132\u001b[0m         \u001b[0mfull_backward_hooks\u001b[0m\u001b[0;34m,\u001b[0m \u001b[0mnon_full_backward_hooks\u001b[0m \u001b[0;34m=\u001b[0m \u001b[0;34m[\u001b[0m\u001b[0;34m]\u001b[0m\u001b[0;34m,\u001b[0m \u001b[0;34m[\u001b[0m\u001b[0;34m]\u001b[0m\u001b[0;34m\u001b[0m\u001b[0;34m\u001b[0m\u001b[0m\n",
      "\u001b[0;32m~/conda/envs/prominence-est-conda-py37/lib/python3.7/site-packages/torch/nn/modules/conv.py\u001b[0m in \u001b[0;36mforward\u001b[0;34m(self, input)\u001b[0m\n\u001b[1;32m    305\u001b[0m \u001b[0;34m\u001b[0m\u001b[0m\n\u001b[1;32m    306\u001b[0m     \u001b[0;32mdef\u001b[0m \u001b[0mforward\u001b[0m\u001b[0;34m(\u001b[0m\u001b[0mself\u001b[0m\u001b[0;34m,\u001b[0m \u001b[0minput\u001b[0m\u001b[0;34m:\u001b[0m \u001b[0mTensor\u001b[0m\u001b[0;34m)\u001b[0m \u001b[0;34m->\u001b[0m \u001b[0mTensor\u001b[0m\u001b[0;34m:\u001b[0m\u001b[0;34m\u001b[0m\u001b[0;34m\u001b[0m\u001b[0m\n\u001b[0;32m--> 307\u001b[0;31m         \u001b[0;32mreturn\u001b[0m \u001b[0mself\u001b[0m\u001b[0;34m.\u001b[0m\u001b[0m_conv_forward\u001b[0m\u001b[0;34m(\u001b[0m\u001b[0minput\u001b[0m\u001b[0;34m,\u001b[0m \u001b[0mself\u001b[0m\u001b[0;34m.\u001b[0m\u001b[0mweight\u001b[0m\u001b[0;34m,\u001b[0m \u001b[0mself\u001b[0m\u001b[0;34m.\u001b[0m\u001b[0mbias\u001b[0m\u001b[0;34m)\u001b[0m\u001b[0;34m\u001b[0m\u001b[0;34m\u001b[0m\u001b[0m\n\u001b[0m\u001b[1;32m    308\u001b[0m \u001b[0;34m\u001b[0m\u001b[0m\n\u001b[1;32m    309\u001b[0m \u001b[0;34m\u001b[0m\u001b[0m\n",
      "\u001b[0;32m~/conda/envs/prominence-est-conda-py37/lib/python3.7/site-packages/torch/nn/modules/conv.py\u001b[0m in \u001b[0;36m_conv_forward\u001b[0;34m(self, input, weight, bias)\u001b[0m\n\u001b[1;32m    302\u001b[0m                             _single(0), self.dilation, self.groups)\n\u001b[1;32m    303\u001b[0m         return F.conv1d(input, weight, bias, self.stride,\n\u001b[0;32m--> 304\u001b[0;31m                         self.padding, self.dilation, self.groups)\n\u001b[0m\u001b[1;32m    305\u001b[0m \u001b[0;34m\u001b[0m\u001b[0m\n\u001b[1;32m    306\u001b[0m     \u001b[0;32mdef\u001b[0m \u001b[0mforward\u001b[0m\u001b[0;34m(\u001b[0m\u001b[0mself\u001b[0m\u001b[0;34m,\u001b[0m \u001b[0minput\u001b[0m\u001b[0;34m:\u001b[0m \u001b[0mTensor\u001b[0m\u001b[0;34m)\u001b[0m \u001b[0;34m->\u001b[0m \u001b[0mTensor\u001b[0m\u001b[0;34m:\u001b[0m\u001b[0;34m\u001b[0m\u001b[0;34m\u001b[0m\u001b[0m\n",
      "\u001b[0;31mRuntimeError\u001b[0m: Given groups=1, weight of size [128, 80, 5], expected input[4, 1, 228320] to have 80 channels, but got 1 channels instead"
     ]
    }
   ],
   "source": [
    "output = model(model_input)"
   ]
  },
  {
   "cell_type": "code",
   "execution_count": 27,
   "id": "3b734ba3",
   "metadata": {},
   "outputs": [
    {
     "data": {
      "text/plain": [
       "False"
      ]
     },
     "execution_count": 27,
     "metadata": {},
     "output_type": "execute_result"
    }
   ],
   "source": [
    "output.is_cuda"
   ]
  },
  {
   "cell_type": "code",
   "execution_count": 64,
   "id": "4a0a436b",
   "metadata": {
    "scrolled": true
   },
   "outputs": [
    {
     "data": {
      "text/plain": [
       "torch.Size([64, 56])"
      ]
     },
     "execution_count": 64,
     "metadata": {},
     "output_type": "execute_result"
    }
   ],
   "source": [
    "# output_reshaped = output.reshape(64, 1, -1)\n",
    "# output_reshaped\n",
    "\n",
    "output.squeeze().shape"
   ]
  },
  {
   "cell_type": "code",
   "execution_count": 67,
   "id": "88ccaf40",
   "metadata": {
    "scrolled": false
   },
   "outputs": [
    {
     "data": {
      "text/plain": [
       "torch.Size([64, 56])"
      ]
     },
     "execution_count": 67,
     "metadata": {},
     "output_type": "execute_result"
    }
   ],
   "source": [
    "padded_prominence.reshape(64, -1, 1).squeeze(-1).shape"
   ]
  },
  {
   "cell_type": "code",
   "execution_count": 78,
   "id": "09f295fd",
   "metadata": {
    "scrolled": true
   },
   "outputs": [],
   "source": [
    "# loss_fn = torch.nn.MSELoss()\n",
    "loss_fn = torch.nn.SmoothL1Loss()\n"
   ]
  },
  {
   "cell_type": "code",
   "execution_count": 79,
   "id": "2c2c9536",
   "metadata": {},
   "outputs": [
    {
     "data": {
      "text/plain": [
       "tensor(0.0354, grad_fn=<SmoothL1LossBackward0>)"
      ]
     },
     "execution_count": 79,
     "metadata": {},
     "output_type": "execute_result"
    }
   ],
   "source": [
    "loss_fn(output_reshaped, padded_prominence)"
   ]
  },
  {
   "cell_type": "code",
   "execution_count": null,
   "id": "d6ef8640",
   "metadata": {},
   "outputs": [],
   "source": []
  },
  {
   "cell_type": "code",
   "execution_count": null,
   "id": "8c983487",
   "metadata": {},
   "outputs": [],
   "source": []
  },
  {
   "cell_type": "markdown",
   "id": "58c35da7",
   "metadata": {},
   "source": [
    "### Slice the inputs wrt word bounds"
   ]
  },
  {
   "cell_type": "markdown",
   "id": "2e9b0c92",
   "metadata": {},
   "source": [
    "Process the word bounds, split the torch tensor into chunks and then pass further into the network, grad true"
   ]
  },
  {
   "cell_type": "code",
   "execution_count": 36,
   "id": "3466bdf1",
   "metadata": {
    "scrolled": false
   },
   "outputs": [
    {
     "data": {
      "text/plain": [
       "tensor([49, 33, 45, 49, 33, 45, 49, 33, 45, 49, 33, 45, 49, 33, 45, 49, 33, 45,\n",
       "        49, 33, 45, 49, 33, 45, 49, 33, 45, 49, 33, 45, 49, 33, 45, 49, 33, 45,\n",
       "        49, 33, 45, 49, 33, 45, 49, 33, 45, 49, 33, 45, 49, 33, 45, 49, 33, 45,\n",
       "        49, 33, 45, 49, 33, 45, 49, 33, 45, 49])"
      ]
     },
     "execution_count": 36,
     "metadata": {},
     "output_type": "execute_result"
    }
   ],
   "source": [
    "word_lengths"
   ]
  },
  {
   "cell_type": "code",
   "execution_count": 37,
   "id": "04089c3b",
   "metadata": {},
   "outputs": [
    {
     "data": {
      "text/plain": [
       "tensor([[0.5938, 0.0000, 0.1875, 0.0625, 0.0312, 0.5625, 0.0000, 0.0000, 0.0312,\n",
       "         0.0625, 0.0000, 0.0000, 0.0000, 0.5312, 0.0312, 0.0312, 0.1875, 0.0000,\n",
       "         0.0312, 0.2812, 0.0000, 0.2500, 0.0000, 0.0000, 0.0312, 0.0312, 0.5938,\n",
       "         0.4375, 0.0000, 0.0938, 0.0000, 0.0000, 0.0938, 0.0000, 0.1562, 0.1250,\n",
       "         0.0312, 0.3750, 0.0000, 0.0625, 0.6562, 0.0000, 0.2500, 0.5938, 0.0000,\n",
       "         0.2812, 0.0312, 0.3438, 0.6875]])"
      ]
     },
     "execution_count": 37,
     "metadata": {},
     "output_type": "execute_result"
    }
   ],
   "source": [
    "padded_prominence[0]"
   ]
  },
  {
   "cell_type": "code",
   "execution_count": 38,
   "id": "987810f3",
   "metadata": {},
   "outputs": [],
   "source": [
    "# word_bounds[0][1][0]*emphases.HOPSIZE, word_bounds[0][1][1]*emphases.HOPSIZE"
   ]
  },
  {
   "cell_type": "code",
   "execution_count": 39,
   "id": "6864be79",
   "metadata": {
    "scrolled": true
   },
   "outputs": [
    {
     "data": {
      "text/plain": [
       "-7680"
      ]
     },
     "execution_count": 39,
     "metadata": {},
     "output_type": "execute_result"
    }
   ],
   "source": [
    "(1376-1424)*emphases.HOPSIZE"
   ]
  },
  {
   "cell_type": "code",
   "execution_count": null,
   "id": "90137267",
   "metadata": {},
   "outputs": [],
   "source": []
  },
  {
   "cell_type": "code",
   "execution_count": 37,
   "id": "f8c622ba",
   "metadata": {},
   "outputs": [],
   "source": [
    "input_features = padded_audio[1, :, :][0]\n",
    "wb = word_bounds[1]"
   ]
  },
  {
   "cell_type": "code",
   "execution_count": 38,
   "id": "785cef02",
   "metadata": {
    "scrolled": true
   },
   "outputs": [],
   "source": [
    "def get_slices(input_features, wb):\n",
    "    \"\"\"\n",
    "    Generate framewise slices as per word bounds\n",
    "    return a padded tensor for given input_features\n",
    "\n",
    "    \"\"\"\n",
    "    duration_slices = []\n",
    "    for bound in wb:\n",
    "        dur = (bound[1] - bound[0])*emphases.HOPSIZE\n",
    "        duration_slices.append(dur)\n",
    "    \n",
    "    extra_noise = False\n",
    "    \n",
    "    if sum(duration_slices)!=input_features.shape[-1]:\n",
    "        extra_noise = True\n",
    "        duration_slices.append(input_features.shape[-1] - sum(duration_slices))\n",
    "\n",
    "    slices = torch.split(input_features, duration_slices)\n",
    "\n",
    "    if extra_noise:\n",
    "        # get rid of the extra noise duration\n",
    "        duration_slices = duration_slices[:-1]\n",
    "        slices = slices[:-1]\n",
    "\n",
    "    padded_features = torch.zeros(\n",
    "            (1, len(duration_slices), max(duration_slices)))\n",
    "\n",
    "    for idx, sl in enumerate(slices):\n",
    "        padded_features[:, idx, :len(sl)] = sl\n",
    "\n",
    "    feat_len = padded_features.shape[-1]\n",
    "\n",
    "    return padded_features, feat_len\n"
   ]
  },
  {
   "cell_type": "code",
   "execution_count": 42,
   "id": "0bcff3a1",
   "metadata": {
    "scrolled": true
   },
   "outputs": [],
   "source": [
    "# f1, f1_len = get_slices(padded_audio[0, :, :][0], word_bounds[0])\n",
    "# f2, f2_len = get_slices(padded_audio[1, :, :][0], word_bounds[1])\n",
    "\n",
    "# f1.shape\n",
    "# f2.shape\n",
    "\n",
    "# f_lens = [f1_len, f2_len]\n",
    "# f = [f1, f2]\n",
    "\n",
    "# max_flen = max(f_lens)\n",
    "\n",
    "# padded_features_2 = torch.zeros((batch_size, padded_prominence.shape[-1], max_flen))\n",
    "\n",
    "# for idx, (f_len, f_item) in enumerate(zip(f_lens, f)):\n",
    "#     padded_features_2[idx, :f_item.shape[1], :f_item.shape[-1]] = f_item[:]\n"
   ]
  },
  {
   "cell_type": "code",
   "execution_count": 58,
   "id": "ab743c93",
   "metadata": {},
   "outputs": [
    {
     "data": {
      "text/plain": [
       "torch.Size([64, 1, 292640])"
      ]
     },
     "execution_count": 58,
     "metadata": {},
     "output_type": "execute_result"
    }
   ],
   "source": [
    "padded_audio.shape"
   ]
  },
  {
   "cell_type": "code",
   "execution_count": 40,
   "id": "6586f145",
   "metadata": {},
   "outputs": [
    {
     "data": {
      "text/plain": [
       "(torch.Size([292640]), torch.Size([292640]))"
      ]
     },
     "execution_count": 40,
     "metadata": {},
     "output_type": "execute_result"
    }
   ],
   "source": [
    "padded_audio[0, :, :][0].shape, input_features.reshape(-1).shape"
   ]
  },
  {
   "cell_type": "code",
   "execution_count": 41,
   "id": "dcf28425",
   "metadata": {
    "scrolled": true
   },
   "outputs": [],
   "source": [
    "feat_lens = []\n",
    "feats = []\n",
    "for idx, (input_features, wb) in enumerate(zip(padded_audio, word_bounds)):\n",
    "    feat, feat_length = get_slices(input_features.reshape(-1), wb)\n",
    "    feats.append(feat)\n",
    "    feat_lens.append(feat_length)"
   ]
  },
  {
   "cell_type": "code",
   "execution_count": 48,
   "id": "cc307f74",
   "metadata": {},
   "outputs": [],
   "source": [
    "max_flen = max(feat_lens)\n",
    "\n",
    "padded_features_2 = torch.zeros((emphases.BATCH_SIZE, padded_prominence.shape[-1], max_flen))\n",
    "\n",
    "for idx, (f_len, f_item) in enumerate(zip(feat_lens, feats)):\n",
    "    padded_features_2[idx, :f_item.shape[1], :f_item.shape[-1]] = f_item[:]\n"
   ]
  },
  {
   "cell_type": "code",
   "execution_count": 73,
   "id": "2d539909",
   "metadata": {},
   "outputs": [
    {
     "data": {
      "text/plain": [
       "56"
      ]
     },
     "execution_count": 73,
     "metadata": {},
     "output_type": "execute_result"
    }
   ],
   "source": [
    "padded_features_2.shape[1]"
   ]
  },
  {
   "cell_type": "code",
   "execution_count": 65,
   "id": "af70ceb5",
   "metadata": {
    "scrolled": false
   },
   "outputs": [
    {
     "data": {
      "text/plain": [
       "torch.Size([64, 1, 56])"
      ]
     },
     "execution_count": 65,
     "metadata": {},
     "output_type": "execute_result"
    }
   ],
   "source": [
    "padded_prominence.shape"
   ]
  },
  {
   "cell_type": "code",
   "execution_count": 66,
   "id": "5f8d275c",
   "metadata": {},
   "outputs": [
    {
     "data": {
      "text/plain": [
       "torch.Size([64, 1, 292640])"
      ]
     },
     "execution_count": 66,
     "metadata": {},
     "output_type": "execute_result"
    }
   ],
   "source": [
    "padded_audio.shape"
   ]
  },
  {
   "cell_type": "code",
   "execution_count": 67,
   "id": "27175031",
   "metadata": {
    "scrolled": true
   },
   "outputs": [
    {
     "data": {
      "text/plain": [
       "torch.Size([64, 56, 15840])"
      ]
     },
     "execution_count": 67,
     "metadata": {},
     "output_type": "execute_result"
    }
   ],
   "source": [
    "padded_features_2.shape"
   ]
  },
  {
   "cell_type": "code",
   "execution_count": null,
   "id": "b524b61f",
   "metadata": {},
   "outputs": [],
   "source": []
  },
  {
   "cell_type": "code",
   "execution_count": null,
   "id": "fad836a2",
   "metadata": {},
   "outputs": [],
   "source": []
  },
  {
   "cell_type": "markdown",
   "id": "4ffa38ae",
   "metadata": {},
   "source": [
    "### Model forward pass"
   ]
  }
 ],
 "metadata": {
  "kernelspec": {
   "display_name": "prominence-est-conda-py37",
   "language": "python",
   "name": "prominence-est-conda-py37"
  },
  "language_info": {
   "codemirror_mode": {
    "name": "ipython",
    "version": 3
   },
   "file_extension": ".py",
   "mimetype": "text/x-python",
   "name": "python",
   "nbconvert_exporter": "python",
   "pygments_lexer": "ipython3",
   "version": "3.7.13"
  }
 },
 "nbformat": 4,
 "nbformat_minor": 5
}
