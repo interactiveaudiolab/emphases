{
 "cells": [
  {
   "cell_type": "markdown",
   "id": "7737045a",
   "metadata": {},
   "source": [
    "s1301a - 10:03 min file\n",
    "\n",
    "s02-1 - 22 sec file"
   ]
  },
  {
   "cell_type": "markdown",
   "id": "e5e72003",
   "metadata": {},
   "source": [
    "Window size is the amount of time over which a waveform is sampled, known as time record, expressed in samples. For example, a window size of 128 samples at a sample rate of 48 kHz. Equals a time record of 128 samples x 1/48000 seconds = 0.0027 seconds or 2.7 milliseconds.\n",
    "\n",
    "Window length is the length of the fixed intervals in which STFT divides the signal. Hop length is the length of the non-intersecting portion of window length. Overlap length is the length of the intersecting portion of the window length."
   ]
  },
  {
   "cell_type": "code",
   "execution_count": 42,
   "id": "b9bbee56",
   "metadata": {},
   "outputs": [
    {
     "data": {
      "text/plain": [
       "(603, 9648000)"
      ]
     },
     "execution_count": 42,
     "metadata": {},
     "output_type": "execute_result"
    }
   ],
   "source": [
    "10*60+3, 603*16000"
   ]
  },
  {
   "cell_type": "code",
   "execution_count": 13,
   "id": "da5a4ec6",
   "metadata": {},
   "outputs": [
    {
     "data": {
      "text/plain": [
       "(22, 352000)"
      ]
     },
     "execution_count": 13,
     "metadata": {},
     "output_type": "execute_result"
    }
   ],
   "source": [
    "22, 22*16000"
   ]
  },
  {
   "cell_type": "code",
   "execution_count": 14,
   "id": "b68c1ee3",
   "metadata": {
    "scrolled": true
   },
   "outputs": [],
   "source": [
    "# !pip install librosa"
   ]
  },
  {
   "cell_type": "code",
   "execution_count": 15,
   "id": "213b03ad",
   "metadata": {},
   "outputs": [],
   "source": [
    "import soundfile as sf\n",
    "import os\n",
    "import pyfoal\n",
    "import pypar\n",
    "import librosa\n",
    "import torchaudio\n",
    "from scipy.io import wavfile\n"
   ]
  },
  {
   "cell_type": "code",
   "execution_count": 16,
   "id": "2d04edb9",
   "metadata": {},
   "outputs": [],
   "source": [
    "# filename = './s1301a.wav'\n",
    "filename = './s02-1.wav'"
   ]
  },
  {
   "cell_type": "markdown",
   "id": "dd9f48c1",
   "metadata": {},
   "source": [
    "### Soundfile"
   ]
  },
  {
   "cell_type": "code",
   "execution_count": 17,
   "id": "debd6805",
   "metadata": {},
   "outputs": [],
   "source": [
    "data, sr = sf.read(filename)\n"
   ]
  },
  {
   "cell_type": "code",
   "execution_count": 18,
   "id": "09cdde7e",
   "metadata": {
    "scrolled": true
   },
   "outputs": [
    {
     "data": {
      "text/plain": [
       "array([3.05175781e-04, 2.44140625e-04, 9.15527344e-05, ...,\n",
       "       5.49316406e-04, 4.88281250e-04, 3.96728516e-04])"
      ]
     },
     "execution_count": 18,
     "metadata": {},
     "output_type": "execute_result"
    }
   ],
   "source": [
    "data"
   ]
  },
  {
   "cell_type": "code",
   "execution_count": 19,
   "id": "2ff0424d",
   "metadata": {},
   "outputs": [
    {
     "data": {
      "text/plain": [
       "((348026,), 16000)"
      ]
     },
     "execution_count": 19,
     "metadata": {},
     "output_type": "execute_result"
    }
   ],
   "source": [
    "data.shape, sr"
   ]
  },
  {
   "cell_type": "markdown",
   "id": "0b880784",
   "metadata": {},
   "source": [
    "### Size"
   ]
  },
  {
   "cell_type": "code",
   "execution_count": 20,
   "id": "eeacee3e",
   "metadata": {},
   "outputs": [
    {
     "data": {
      "text/plain": [
       "348048"
      ]
     },
     "execution_count": 20,
     "metadata": {},
     "output_type": "execute_result"
    }
   ],
   "source": [
    "os.path.getsize(filename) // 2"
   ]
  },
  {
   "cell_type": "markdown",
   "id": "255d9d08",
   "metadata": {},
   "source": [
    "### Librosa"
   ]
  },
  {
   "cell_type": "code",
   "execution_count": 21,
   "id": "2db4fcf5",
   "metadata": {
    "scrolled": true
   },
   "outputs": [],
   "source": [
    "data_librosa, sr = librosa.load(filename, sr=16000)"
   ]
  },
  {
   "cell_type": "code",
   "execution_count": 22,
   "id": "7fa8647b",
   "metadata": {},
   "outputs": [
    {
     "data": {
      "text/plain": [
       "(348026,)"
      ]
     },
     "execution_count": 22,
     "metadata": {},
     "output_type": "execute_result"
    }
   ],
   "source": [
    "data_librosa.shape"
   ]
  },
  {
   "cell_type": "code",
   "execution_count": 23,
   "id": "77d10ae5",
   "metadata": {},
   "outputs": [
    {
     "data": {
      "text/plain": [
       "array([3.0517578e-04, 2.4414062e-04, 9.1552734e-05, ..., 5.4931641e-04,\n",
       "       4.8828125e-04, 3.9672852e-04], dtype=float32)"
      ]
     },
     "execution_count": 23,
     "metadata": {},
     "output_type": "execute_result"
    }
   ],
   "source": [
    "data_librosa"
   ]
  },
  {
   "cell_type": "code",
   "execution_count": 24,
   "id": "5c762b54",
   "metadata": {},
   "outputs": [
    {
     "name": "stderr",
     "output_type": "stream",
     "text": [
      "/home/pranav/conda/envs/prominence-est-conda-py37/lib/python3.7/site-packages/ipykernel_launcher.py:1: FutureWarning: Pass y=[3.0517578e-04 2.4414062e-04 9.1552734e-05 ... 5.4931641e-04 4.8828125e-04\n",
      " 3.9672852e-04] as keyword args. From version 0.10 passing these as positional arguments will result in an error\n",
      "  \"\"\"Entry point for launching an IPython kernel.\n"
     ]
    },
    {
     "data": {
      "text/plain": [
       "15.783492063492064"
      ]
     },
     "execution_count": 24,
     "metadata": {},
     "output_type": "execute_result"
    }
   ],
   "source": [
    "librosa.get_duration(data_librosa)"
   ]
  },
  {
   "cell_type": "markdown",
   "id": "d40c14c3",
   "metadata": {},
   "source": [
    "### Torchaudio"
   ]
  },
  {
   "cell_type": "code",
   "execution_count": 25,
   "id": "f6b0144c",
   "metadata": {},
   "outputs": [],
   "source": [
    "data_torch, sr = torchaudio.load(filename)"
   ]
  },
  {
   "cell_type": "code",
   "execution_count": 26,
   "id": "b42a56ef",
   "metadata": {},
   "outputs": [
    {
     "data": {
      "text/plain": [
       "tensor([[3.0518e-04, 2.4414e-04, 9.1553e-05,  ..., 5.4932e-04, 4.8828e-04,\n",
       "         3.9673e-04]])"
      ]
     },
     "execution_count": 26,
     "metadata": {},
     "output_type": "execute_result"
    }
   ],
   "source": [
    "data_torch"
   ]
  },
  {
   "cell_type": "code",
   "execution_count": 27,
   "id": "14ec722e",
   "metadata": {
    "scrolled": true
   },
   "outputs": [
    {
     "data": {
      "text/plain": [
       "torch.Size([1, 348026])"
      ]
     },
     "execution_count": 27,
     "metadata": {},
     "output_type": "execute_result"
    }
   ],
   "source": [
    "data_torch.shape"
   ]
  },
  {
   "cell_type": "markdown",
   "id": "81960aa9",
   "metadata": {},
   "source": [
    "### Scipy wavefile"
   ]
  },
  {
   "cell_type": "code",
   "execution_count": 28,
   "id": "625c82d5",
   "metadata": {},
   "outputs": [],
   "source": [
    "sr, data_scipy = wavfile.read(filename)"
   ]
  },
  {
   "cell_type": "code",
   "execution_count": 29,
   "id": "a212ae30",
   "metadata": {
    "scrolled": true
   },
   "outputs": [
    {
     "data": {
      "text/plain": [
       "(array([10,  8,  3, ..., 18, 16, 13], dtype=int16), (348026,))"
      ]
     },
     "execution_count": 29,
     "metadata": {},
     "output_type": "execute_result"
    }
   ],
   "source": [
    "data_scipy, data_scipy.shape"
   ]
  },
  {
   "cell_type": "code",
   "execution_count": 30,
   "id": "90398d03",
   "metadata": {
    "scrolled": false
   },
   "outputs": [
    {
     "name": "stdout",
     "output_type": "stream",
     "text": [
      "Window length in samples 160\n"
     ]
    }
   ],
   "source": [
    "window_length_ms = 10\n",
    "\n",
    "window_length = int((window_length_ms/1000)*sr)\n",
    "print('Window length in samples ' + str(window_length))\n"
   ]
  },
  {
   "cell_type": "markdown",
   "id": "5086e277",
   "metadata": {},
   "source": [
    "### Audio load"
   ]
  },
  {
   "cell_type": "code",
   "execution_count": 31,
   "id": "a7306c44",
   "metadata": {},
   "outputs": [],
   "source": [
    "import emphases"
   ]
  },
  {
   "cell_type": "code",
   "execution_count": 32,
   "id": "499bf761",
   "metadata": {},
   "outputs": [],
   "source": [
    "audio = emphases.load.audio('../data/cache/Buckeye/wavs/s02-1.wav')"
   ]
  },
  {
   "cell_type": "code",
   "execution_count": 33,
   "id": "0dc23246",
   "metadata": {},
   "outputs": [
    {
     "data": {
      "text/plain": [
       "(torch.Size([1, 348026]), 2175)"
      ]
     },
     "execution_count": 33,
     "metadata": {},
     "output_type": "execute_result"
    }
   ],
   "source": [
    "audio.shape, audio.shape[-1] // emphases.HOPSIZE"
   ]
  },
  {
   "cell_type": "code",
   "execution_count": null,
   "id": "ada267c0",
   "metadata": {},
   "outputs": [],
   "source": []
  },
  {
   "cell_type": "code",
   "execution_count": null,
   "id": "030b5c98",
   "metadata": {},
   "outputs": [],
   "source": []
  },
  {
   "cell_type": "markdown",
   "id": "72e71f78",
   "metadata": {},
   "source": [
    "### Mel Exp"
   ]
  },
  {
   "cell_type": "code",
   "execution_count": 43,
   "id": "74a0b58e",
   "metadata": {},
   "outputs": [],
   "source": [
    "from IPython.display import Audio\n",
    "import librosa\n",
    "import matplotlib.pyplot as plt\n"
   ]
  },
  {
   "cell_type": "code",
   "execution_count": 44,
   "id": "4bf06d0f",
   "metadata": {},
   "outputs": [],
   "source": [
    "def plot_waveform(waveform, sr, title=\"Waveform\"):\n",
    "    waveform = waveform.numpy()\n",
    "\n",
    "    num_channels, num_frames = waveform.shape\n",
    "    time_axis = torch.arange(0, num_frames) / sr\n",
    "\n",
    "    figure, axes = plt.subplots(num_channels, 1)\n",
    "    axes.plot(time_axis, waveform[0], linewidth=1)\n",
    "    axes.grid(True)\n",
    "    figure.suptitle(title)\n",
    "    plt.show(block=False)\n",
    "\n",
    "\n",
    "def plot_spectrogram(specgram, title=None, ylabel=\"freq_bin\"):\n",
    "    fig, axs = plt.subplots(1, 1)\n",
    "    axs.set_title(title or \"Spectrogram (db)\")\n",
    "    axs.set_ylabel(ylabel)\n",
    "    axs.set_xlabel(\"frame\")\n",
    "    im = axs.imshow(librosa.power_to_db(specgram), origin=\"lower\", aspect=\"auto\")\n",
    "    fig.colorbar(im, ax=axs)\n",
    "    plt.show(block=False)\n"
   ]
  },
  {
   "cell_type": "markdown",
   "id": "45369baf",
   "metadata": {},
   "source": [
    "### Custom Mel"
   ]
  },
  {
   "cell_type": "code",
   "execution_count": 45,
   "id": "6d8385d5",
   "metadata": {},
   "outputs": [],
   "source": [
    "import emphases\n",
    "import torch"
   ]
  },
  {
   "cell_type": "code",
   "execution_count": 46,
   "id": "9003de1f",
   "metadata": {
    "scrolled": true
   },
   "outputs": [
    {
     "name": "stderr",
     "output_type": "stream",
     "text": [
      "/home/pranav/prominence-estimation-exp/emphases/emphases/load.py:78: FutureWarning: Pass sr=16000, n_fft=1024, n_mels=80 as keyword args. From version 0.10 passing these as positional arguments will result in an error\n",
      "  emphases.NUM_MELS\n"
     ]
    }
   ],
   "source": [
    "mel_loader = emphases.load.MelSpectrogram()\n"
   ]
  },
  {
   "cell_type": "code",
   "execution_count": 47,
   "id": "80d947d4",
   "metadata": {},
   "outputs": [],
   "source": [
    "audio = emphases.load.audio('../data/cache/Buckeye/wavs/s03-1.wav')\n",
    "audio2 = emphases.load.audio('../data/cache/Buckeye/wavs/s11-1.wav')"
   ]
  },
  {
   "cell_type": "code",
   "execution_count": 48,
   "id": "7a47a91e",
   "metadata": {},
   "outputs": [
    {
     "data": {
      "text/plain": [
       "torch.Size([1, 80, 1352])"
      ]
     },
     "execution_count": 48,
     "metadata": {},
     "output_type": "execute_result"
    }
   ],
   "source": [
    "mel_spectrogram1 = mel_loader.forward(audio)\n",
    "mel_spectrogram1.shape"
   ]
  },
  {
   "cell_type": "code",
   "execution_count": 49,
   "id": "183e94df",
   "metadata": {},
   "outputs": [
    {
     "data": {
      "text/plain": [
       "2163"
      ]
     },
     "execution_count": 49,
     "metadata": {},
     "output_type": "execute_result"
    }
   ],
   "source": [
    "audio.shape[-1]//160"
   ]
  },
  {
   "cell_type": "code",
   "execution_count": 50,
   "id": "cdec668a",
   "metadata": {},
   "outputs": [
    {
     "data": {
      "image/png": "[encoded data removed]",
      "text/plain": [
       "<Figure size 432x288 with 1 Axes>"
      ]
     },
     "metadata": {
      "needs_background": "light"
     },
     "output_type": "display_data"
    }
   ],
   "source": [
    "plot_waveform(audio, 16000)"
   ]
  },
  {
   "cell_type": "markdown",
   "id": "4938a487",
   "metadata": {},
   "source": [
    "### Torch Mel"
   ]
  },
  {
   "cell_type": "code",
   "execution_count": 51,
   "id": "ee15b4e3",
   "metadata": {},
   "outputs": [],
   "source": [
    "import torch\n",
    "import torchaudio\n",
    "import torchaudio.functional as F\n",
    "import torchaudio.transforms as T\n"
   ]
  },
  {
   "cell_type": "code",
   "execution_count": 52,
   "id": "3c1504fd",
   "metadata": {},
   "outputs": [],
   "source": [
    "sample_audio = torch.rand(9870)"
   ]
  },
  {
   "cell_type": "code",
   "execution_count": 53,
   "id": "75d69b0f",
   "metadata": {},
   "outputs": [],
   "source": [
    "# n_fft = 1024\n",
    "# win_length = 1024\n",
    "# hop_length = 512\n",
    "\n",
    "# # Define transform\n",
    "# spectrogram = T.Spectrogram(\n",
    "#     n_fft=n_fft,\n",
    "#     win_length=win_length,\n",
    "#     hop_length=hop_length,\n",
    "#     center=True,\n",
    "#     pad_mode=\"reflect\",\n",
    "#     power=2.0,\n",
    "# )\n"
   ]
  },
  {
   "cell_type": "code",
   "execution_count": 54,
   "id": "69d02d9c",
   "metadata": {
    "scrolled": true
   },
   "outputs": [],
   "source": [
    "# spec = spectrogram(audio2)\n",
    "# spec = spectrogram(sample_audio)"
   ]
  },
  {
   "cell_type": "code",
   "execution_count": 55,
   "id": "054a1336",
   "metadata": {
    "scrolled": false
   },
   "outputs": [
    {
     "data": {
      "text/plain": [
       "torch.Size([1, 384520])"
      ]
     },
     "execution_count": 55,
     "metadata": {},
     "output_type": "execute_result"
    }
   ],
   "source": [
    "audio2.shape"
   ]
  },
  {
   "cell_type": "code",
   "execution_count": 56,
   "id": "4f014295",
   "metadata": {},
   "outputs": [
    {
     "data": {
      "text/plain": [
       "511.32978723404256"
      ]
     },
     "execution_count": 56,
     "metadata": {},
     "output_type": "execute_result"
    }
   ],
   "source": [
    "audio2.shape[-1]/752"
   ]
  },
  {
   "cell_type": "code",
   "execution_count": 60,
   "id": "1bb81af4",
   "metadata": {
    "scrolled": true
   },
   "outputs": [],
   "source": [
    "n_fft = 1024\n",
    "win_length = 1024\n",
    "hop_length = 160\n",
    "n_mels = 80\n",
    "\n",
    "mel_spectrogram = T.MelSpectrogram(\n",
    "    sample_rate=16000,\n",
    "    n_fft=n_fft,\n",
    "    win_length=win_length,\n",
    "    hop_length=hop_length,\n",
    "    center=False,\n",
    "    pad_mode=\"reflect\",\n",
    "    power=2.0,\n",
    "    norm=\"slaney\",\n",
    "    onesided=True,\n",
    "    n_mels=n_mels,\n",
    "    mel_scale=\"htk\",\n",
    ")"
   ]
  },
  {
   "cell_type": "code",
   "execution_count": 61,
   "id": "e876dc57",
   "metadata": {},
   "outputs": [
    {
     "data": {
      "text/plain": [
       "torch.Size([9870])"
      ]
     },
     "execution_count": 61,
     "metadata": {},
     "output_type": "execute_result"
    }
   ],
   "source": [
    "sample_audio.shape"
   ]
  },
  {
   "cell_type": "code",
   "execution_count": 62,
   "id": "812bd0d5",
   "metadata": {
    "scrolled": true
   },
   "outputs": [
    {
     "data": {
      "text/plain": [
       "torch.Size([80, 56])"
      ]
     },
     "execution_count": 62,
     "metadata": {},
     "output_type": "execute_result"
    }
   ],
   "source": [
    "# melspec = mel_spectrogram(audio2)\n",
    "melspec = mel_spectrogram(sample_audio)\n",
    "melspec.shape"
   ]
  },
  {
   "cell_type": "code",
   "execution_count": 63,
   "id": "b3db362b",
   "metadata": {},
   "outputs": [
    {
     "data": {
      "text/plain": [
       "61"
      ]
     },
     "execution_count": 63,
     "metadata": {},
     "output_type": "execute_result"
    }
   ],
   "source": [
    "(9870//160)"
   ]
  },
  {
   "cell_type": "code",
   "execution_count": 64,
   "id": "ddbb9f71",
   "metadata": {
    "scrolled": true
   },
   "outputs": [
    {
     "data": {
      "text/plain": [
       "55"
      ]
     },
     "execution_count": 64,
     "metadata": {},
     "output_type": "execute_result"
    }
   ],
   "source": [
    "(9870-1024)//160"
   ]
  },
  {
   "cell_type": "code",
   "execution_count": 65,
   "id": "51910362",
   "metadata": {
    "scrolled": false
   },
   "outputs": [
    {
     "data": {
      "text/plain": [
       "384520"
      ]
     },
     "execution_count": 65,
     "metadata": {},
     "output_type": "execute_result"
    }
   ],
   "source": [
    "audio2.shape[-1]"
   ]
  },
  {
   "cell_type": "code",
   "execution_count": 66,
   "id": "c4afd605",
   "metadata": {},
   "outputs": [
    {
     "data": {
      "text/plain": [
       "2403"
      ]
     },
     "execution_count": 66,
     "metadata": {},
     "output_type": "execute_result"
    }
   ],
   "source": [
    "(384520)//160"
   ]
  },
  {
   "cell_type": "code",
   "execution_count": 67,
   "id": "213e625b",
   "metadata": {},
   "outputs": [
    {
     "data": {
      "text/plain": [
       "160"
      ]
     },
     "execution_count": 67,
     "metadata": {},
     "output_type": "execute_result"
    }
   ],
   "source": [
    "384520//2397"
   ]
  },
  {
   "cell_type": "markdown",
   "id": "14d1fdda",
   "metadata": {},
   "source": [
    "center (bool, optional) – whether to pad waveform on both sides so that the t-th frame is centered at time t×hop_length. (Default: True)\n"
   ]
  },
  {
   "cell_type": "code",
   "execution_count": 68,
   "id": "76c68b0d",
   "metadata": {},
   "outputs": [
    {
     "data": {
      "text/plain": [
       "1120"
      ]
     },
     "execution_count": 68,
     "metadata": {},
     "output_type": "execute_result"
    }
   ],
   "source": [
    "160*7"
   ]
  },
  {
   "cell_type": "code",
   "execution_count": 69,
   "id": "92c45857",
   "metadata": {
    "scrolled": true
   },
   "outputs": [
    {
     "data": {
      "text/plain": [
       "torch.Size([80, 56])"
      ]
     },
     "execution_count": 69,
     "metadata": {},
     "output_type": "execute_result"
    }
   ],
   "source": [
    "melspec.shape"
   ]
  },
  {
   "cell_type": "code",
   "execution_count": 70,
   "id": "0bedd90e",
   "metadata": {},
   "outputs": [
    {
     "data": {
      "text/plain": [
       "2404"
      ]
     },
     "execution_count": 70,
     "metadata": {},
     "output_type": "execute_result"
    }
   ],
   "source": [
    "2397\n",
    "2404"
   ]
  },
  {
   "cell_type": "code",
   "execution_count": 74,
   "id": "ad9f59e7",
   "metadata": {},
   "outputs": [
    {
     "data": {
      "text/plain": [
       "0.25008017635909763"
      ]
     },
     "execution_count": 74,
     "metadata": {},
     "output_type": "execute_result"
    }
   ],
   "source": [
    "audio.shape[-1]/(1352*1024)"
   ]
  },
  {
   "cell_type": "code",
   "execution_count": 75,
   "id": "5682bf76",
   "metadata": {
    "scrolled": true
   },
   "outputs": [
    {
     "data": {
      "text/plain": [
       "torch.Size([1, 346223])"
      ]
     },
     "execution_count": 75,
     "metadata": {},
     "output_type": "execute_result"
    }
   ],
   "source": [
    "audio.shape"
   ]
  },
  {
   "cell_type": "code",
   "execution_count": 76,
   "id": "23ad79ba",
   "metadata": {
    "scrolled": true
   },
   "outputs": [
    {
     "data": {
      "text/plain": [
       "torch.Size([1, 494])"
      ]
     },
     "execution_count": 76,
     "metadata": {},
     "output_type": "execute_result"
    }
   ],
   "source": [
    "audio[:, :494].shape"
   ]
  },
  {
   "cell_type": "code",
   "execution_count": 77,
   "id": "83891938",
   "metadata": {},
   "outputs": [
    {
     "data": {
      "text/plain": [
       "torch.Size([1, 80, 1502])"
      ]
     },
     "execution_count": 77,
     "metadata": {},
     "output_type": "execute_result"
    }
   ],
   "source": [
    "mel_spectrogram2 = mel_loader.forward(audio2)\n",
    "mel_spectrogram2.shape"
   ]
  },
  {
   "cell_type": "code",
   "execution_count": 78,
   "id": "14df8e4b",
   "metadata": {},
   "outputs": [
    {
     "data": {
      "text/plain": [
       "1352"
      ]
     },
     "execution_count": 78,
     "metadata": {},
     "output_type": "execute_result"
    }
   ],
   "source": [
    "mel_spectrogram1.shape[-1]"
   ]
  },
  {
   "cell_type": "code",
   "execution_count": 79,
   "id": "74e0f728",
   "metadata": {
    "scrolled": false
   },
   "outputs": [],
   "source": [
    "mel_spectrogram = [mel_spectrogram1, mel_spectrogram2]"
   ]
  },
  {
   "cell_type": "code",
   "execution_count": 80,
   "id": "09ef7a63",
   "metadata": {},
   "outputs": [],
   "source": [
    "mel_lengths = torch.tensor(\n",
    "    [mel.shape[-1] for mel in mel_spectrogram], \n",
    "    dtype=torch.long)\n",
    "\n",
    "max_mel_lengths = mel_lengths.max()"
   ]
  },
  {
   "cell_type": "code",
   "execution_count": 81,
   "id": "fd904e8d",
   "metadata": {
    "scrolled": true
   },
   "outputs": [
    {
     "data": {
      "text/plain": [
       "1502"
      ]
     },
     "execution_count": 81,
     "metadata": {},
     "output_type": "execute_result"
    }
   ],
   "source": [
    "mel_lengths.max().item()"
   ]
  },
  {
   "cell_type": "markdown",
   "id": "01e76af8",
   "metadata": {},
   "source": [
    "### Checks"
   ]
  },
  {
   "cell_type": "code",
   "execution_count": 1,
   "id": "7840928a",
   "metadata": {
    "scrolled": true
   },
   "outputs": [],
   "source": [
    "import emphases\n",
    "import pypar\n",
    "import os\n",
    "import torch\n",
    "import functools\n",
    "import numpy as np\n",
    "import seaborn as sns\n",
    "import tqdm"
   ]
  },
  {
   "cell_type": "code",
   "execution_count": 2,
   "id": "108598aa",
   "metadata": {},
   "outputs": [],
   "source": [
    "emphases.BATCH_SIZE = 2"
   ]
  },
  {
   "cell_type": "code",
   "execution_count": 3,
   "id": "53ab84fc",
   "metadata": {
    "scrolled": true
   },
   "outputs": [],
   "source": [
    "train_loader, valid_loader = emphases.data.loaders('Buckeye', 'train', 'valid', gpu=None)"
   ]
  },
  {
   "cell_type": "code",
   "execution_count": 4,
   "id": "89c40310",
   "metadata": {},
   "outputs": [],
   "source": [
    "# audio, mel_spectrogram, prominence, word_bounds = train_loader.dataset.__getitem__(0)\n",
    "# train_loader.dataset.lengths\n",
    "# audio.shape[-1], audio.shape[-1]//emphases.HOPSIZE"
   ]
  },
  {
   "cell_type": "code",
   "execution_count": 5,
   "id": "cb5c75e6",
   "metadata": {},
   "outputs": [],
   "source": [
    "# np.histogram(train_loader.dataset.spectrogram_lengths)"
   ]
  },
  {
   "cell_type": "code",
   "execution_count": 6,
   "id": "d9bdc8e7",
   "metadata": {
    "scrolled": true
   },
   "outputs": [],
   "source": [
    "# train_loader.dataset.lengths, train_loader.dataset.spectrogram_lengths\n",
    "# sns.histplot(train_loader.dataset.spectrogram_lengths)"
   ]
  },
  {
   "cell_type": "code",
   "execution_count": 7,
   "id": "034e8c1a",
   "metadata": {},
   "outputs": [],
   "source": [
    "train_loader.batch_sampler.set_epoch(0// len(train_loader.dataset))"
   ]
  },
  {
   "cell_type": "code",
   "execution_count": 8,
   "id": "20469feb",
   "metadata": {
    "scrolled": true
   },
   "outputs": [
    {
     "name": "stderr",
     "output_type": "stream",
     "text": [
      "2it [00:00, 212.04it/s]\n",
      "2it [00:00, 182.25it/s]\n",
      "2it [00:00, 264.03it/s]\n",
      "2it [00:00, 270.77it/s]\n"
     ]
    }
   ],
   "source": [
    "all_batches = []\n",
    "for batch in train_loader:\n",
    "    all_batches.append(batch)"
   ]
  },
  {
   "cell_type": "code",
   "execution_count": 9,
   "id": "14ea2278",
   "metadata": {
    "scrolled": true
   },
   "outputs": [
    {
     "data": {
      "text/plain": [
       "torch.Size([2, 1, 292640])"
      ]
     },
     "execution_count": 9,
     "metadata": {},
     "output_type": "execute_result"
    }
   ],
   "source": [
    "batch[0].shape"
   ]
  },
  {
   "cell_type": "code",
   "execution_count": 10,
   "id": "14ce5794",
   "metadata": {
    "scrolled": true
   },
   "outputs": [],
   "source": [
    "# batch[1][11]"
   ]
  },
  {
   "cell_type": "code",
   "execution_count": 11,
   "id": "0bd5bd83",
   "metadata": {
    "scrolled": true
   },
   "outputs": [
    {
     "data": {
      "text/plain": [
       "torch.Size([2, 80, 1830])"
      ]
     },
     "execution_count": 11,
     "metadata": {},
     "output_type": "execute_result"
    }
   ],
   "source": [
    "batch[1].shape"
   ]
  },
  {
   "cell_type": "code",
   "execution_count": 12,
   "id": "1902fc99",
   "metadata": {
    "scrolled": true
   },
   "outputs": [],
   "source": [
    "# batch[2][0], batch[2].shape"
   ]
  },
  {
   "cell_type": "code",
   "execution_count": 13,
   "id": "8407f907",
   "metadata": {
    "scrolled": true
   },
   "outputs": [
    {
     "data": {
      "text/plain": [
       "2"
      ]
     },
     "execution_count": 13,
     "metadata": {},
     "output_type": "execute_result"
    }
   ],
   "source": [
    "len(batch[3])"
   ]
  },
  {
   "cell_type": "code",
   "execution_count": 14,
   "id": "49544ce2",
   "metadata": {
    "scrolled": true
   },
   "outputs": [
    {
     "data": {
      "text/plain": [
       "True"
      ]
     },
     "execution_count": 14,
     "metadata": {},
     "output_type": "execute_result"
    }
   ],
   "source": [
    "torch.is_tensor(batch[3])"
   ]
  },
  {
   "cell_type": "code",
   "execution_count": 15,
   "id": "7654ba35",
   "metadata": {},
   "outputs": [],
   "source": [
    "# s = (item.to('cuda') if torch.is_tensor(item) else item for item in batch)\n",
    "s = (item.to('cpu') if torch.is_tensor(item) else item for item in batch)"
   ]
  },
  {
   "cell_type": "code",
   "execution_count": 16,
   "id": "fafb48c2",
   "metadata": {},
   "outputs": [],
   "source": [
    "(padded_audio,\n",
    "padded_mel_spectrogram,\n",
    "padded_prominence,\n",
    "padded_interpolated_prominence,\n",
    "word_bounds,\n",
    "word_lengths,\n",
    "frame_lengths, \n",
    "interpolated_prom_lengths) = s"
   ]
  },
  {
   "cell_type": "code",
   "execution_count": 17,
   "id": "3dc9cd1d",
   "metadata": {},
   "outputs": [
    {
     "data": {
      "text/plain": [
       "torch.Size([2, 80, 1830])"
      ]
     },
     "execution_count": 17,
     "metadata": {},
     "output_type": "execute_result"
    }
   ],
   "source": [
    "padded_mel_spectrogram.shape"
   ]
  },
  {
   "cell_type": "code",
   "execution_count": 18,
   "id": "5e82c01c",
   "metadata": {
    "scrolled": true
   },
   "outputs": [
    {
     "data": {
      "text/plain": [
       "tensor([1367, 1825])"
      ]
     },
     "execution_count": 18,
     "metadata": {},
     "output_type": "execute_result"
    }
   ],
   "source": [
    "interpolated_prom_lengths"
   ]
  },
  {
   "cell_type": "code",
   "execution_count": 19,
   "id": "21826570",
   "metadata": {
    "scrolled": true
   },
   "outputs": [
    {
     "data": {
      "text/plain": [
       "torch.Size([2, 1, 1825])"
      ]
     },
     "execution_count": 19,
     "metadata": {},
     "output_type": "execute_result"
    }
   ],
   "source": [
    "padded_interpolated_prominence.shape"
   ]
  },
  {
   "cell_type": "code",
   "execution_count": 21,
   "id": "5ec1d667",
   "metadata": {},
   "outputs": [
    {
     "data": {
      "text/plain": [
       "tensor([0.3438, 0.3438, 0.3438, 0.3438, 0.3438, 0.3438, 0.3438, 0.3438, 0.3438,\n",
       "        0.3438, 0.3438, 0.3438, 0.3438, 0.3438, 0.3438, 0.3438, 0.3438, 0.3438,\n",
       "        0.3438, 0.3438, 0.3438, 0.3438, 0.3438, 0.5000, 0.5000, 0.5000, 0.5000,\n",
       "        0.5000, 0.5000, 0.5000, 0.5000, 0.5000, 0.5000, 0.5000, 0.5000, 0.5000,\n",
       "        0.5000, 0.5000, 0.5000, 0.5000, 0.5000, 0.5000, 0.5000, 0.5000, 0.5000,\n",
       "        0.5000, 0.5000, 0.5000, 0.5000, 0.5000, 0.5000, 0.5000, 0.5000, 0.5000,\n",
       "        0.5000, 0.5000, 0.5000, 0.5000, 0.5000, 0.5000, 0.5000, 0.5000, 0.5000,\n",
       "        0.5000, 0.5000, 0.5000, 0.5000, 0.5000, 0.0312, 0.0312, 0.0312, 0.0312,\n",
       "        0.0312, 0.0312, 0.0312, 0.0312, 0.0312, 0.0312, 0.0312, 0.0312, 0.0312,\n",
       "        0.0312, 0.0312, 0.0312, 0.0312, 0.0312, 0.0312, 0.0312, 0.0312, 0.0312,\n",
       "        0.0312, 0.0312, 0.0312, 0.0312, 0.0312, 0.0312, 0.0312, 0.0312, 0.0312,\n",
       "        0.0312])"
      ]
     },
     "execution_count": 21,
     "metadata": {},
     "output_type": "execute_result"
    }
   ],
   "source": [
    "padded_interpolated_prominence[1, 0, 1300:1400]"
   ]
  },
  {
   "cell_type": "code",
   "execution_count": 22,
   "id": "83a2f424",
   "metadata": {},
   "outputs": [
    {
     "data": {
      "text/plain": [
       "tensor([0.0002, 0.0000, 0.0000, 0.0000, 0.0000])"
      ]
     },
     "execution_count": 22,
     "metadata": {},
     "output_type": "execute_result"
    }
   ],
   "source": [
    "padded_mel_spectrogram[0, 0, 1370:1375]"
   ]
  },
  {
   "cell_type": "code",
   "execution_count": 23,
   "id": "1d02a9d7",
   "metadata": {},
   "outputs": [
    {
     "data": {
      "text/plain": [
       "49"
      ]
     },
     "execution_count": 23,
     "metadata": {},
     "output_type": "execute_result"
    }
   ],
   "source": [
    "len(word_bounds[0])"
   ]
  },
  {
   "cell_type": "code",
   "execution_count": 24,
   "id": "6da8a9ee",
   "metadata": {
    "scrolled": true
   },
   "outputs": [
    {
     "data": {
      "text/plain": [
       "torch.Size([2, 80, 1830])"
      ]
     },
     "execution_count": 24,
     "metadata": {},
     "output_type": "execute_result"
    }
   ],
   "source": [
    "padded_mel_spectrogram.shape"
   ]
  },
  {
   "cell_type": "code",
   "execution_count": 25,
   "id": "f2e09eea",
   "metadata": {
    "scrolled": false
   },
   "outputs": [],
   "source": [
    "model = emphases.model.BaselineModel()\n",
    "\n",
    "model_framewise = emphases.model.FramewiseModel()\n",
    "# model = emphases.model.BaselineModel(device='cuda').to('cuda')"
   ]
  },
  {
   "cell_type": "code",
   "execution_count": 26,
   "id": "027e603a",
   "metadata": {},
   "outputs": [],
   "source": [
    "# model_input = (padded_mel_spectrogram)\n",
    "# model_input = (padded_audio[0:4], word_bounds[0:4], padded_prominence[0:4])\n",
    "\n",
    "model_input = (padded_mel_spectrogram, word_bounds, padded_prominence)\n",
    "\n",
    "model_input_framewise = padded_mel_spectrogram"
   ]
  },
  {
   "cell_type": "code",
   "execution_count": 27,
   "id": "4bd721f5",
   "metadata": {
    "scrolled": true
   },
   "outputs": [],
   "source": [
    "outputs = model(model_input)\n",
    "\n",
    "outputs_framewise = model_framewise(model_input_framewise)"
   ]
  },
  {
   "cell_type": "code",
   "execution_count": 28,
   "id": "1032b606",
   "metadata": {
    "scrolled": false
   },
   "outputs": [
    {
     "data": {
      "text/plain": [
       "torch.Size([2, 1, 56, 1])"
      ]
     },
     "execution_count": 28,
     "metadata": {},
     "output_type": "execute_result"
    }
   ],
   "source": [
    "outputs.shape"
   ]
  },
  {
   "cell_type": "code",
   "execution_count": 29,
   "id": "191e6877",
   "metadata": {},
   "outputs": [
    {
     "data": {
      "text/plain": [
       "torch.Size([2, 1, 1830])"
      ]
     },
     "execution_count": 29,
     "metadata": {},
     "output_type": "execute_result"
    }
   ],
   "source": [
    "outputs_framewise.shape"
   ]
  },
  {
   "cell_type": "code",
   "execution_count": 30,
   "id": "1082efaf",
   "metadata": {
    "scrolled": true
   },
   "outputs": [
    {
     "data": {
      "text/plain": [
       "tensor([49, 52])"
      ]
     },
     "execution_count": 30,
     "metadata": {},
     "output_type": "execute_result"
    }
   ],
   "source": [
    "word_lengths"
   ]
  },
  {
   "cell_type": "code",
   "execution_count": 31,
   "id": "b5904407",
   "metadata": {
    "scrolled": true
   },
   "outputs": [
    {
     "data": {
      "text/plain": [
       "torch.Size([2, 1, 56])"
      ]
     },
     "execution_count": 31,
     "metadata": {},
     "output_type": "execute_result"
    }
   ],
   "source": [
    "padded_prominence.shape"
   ]
  },
  {
   "cell_type": "code",
   "execution_count": 32,
   "id": "80e9ba96",
   "metadata": {},
   "outputs": [
    {
     "data": {
      "text/plain": [
       "torch.Size([2, 1, 1825])"
      ]
     },
     "execution_count": 32,
     "metadata": {},
     "output_type": "execute_result"
    }
   ],
   "source": [
    "padded_interpolated_prominence.shape"
   ]
  },
  {
   "cell_type": "markdown",
   "id": "eff8ebb8",
   "metadata": {},
   "source": []
  },
  {
   "cell_type": "code",
   "execution_count": 34,
   "id": "a6e65d96",
   "metadata": {
    "scrolled": true
   },
   "outputs": [
    {
     "data": {
      "text/plain": [
       "torch.Size([2, 1, 64, 1])"
      ]
     },
     "execution_count": 34,
     "metadata": {},
     "output_type": "execute_result"
    }
   ],
   "source": [
    "vec = torch.zeros(2, 80, 64, 96)\n",
    "linear = torch.nn.Linear(96, 1)\n",
    "flat = torch.nn.Flatten(start_dim=2)\n",
    "\n",
    "out = linear(vec)\n",
    "out.shape\n",
    "\n",
    "conv = torch.nn.Conv2d(80, 1, kernel_size=5, padding='same')\n",
    "conv(out).shape"
   ]
  },
  {
   "cell_type": "code",
   "execution_count": 35,
   "id": "4ff1dd41",
   "metadata": {
    "scrolled": true
   },
   "outputs": [],
   "source": [
    "# linear = torch.nn.LazyLinear(1)\n",
    "# linear_output = linear(output)\n",
    "# linear_output.shape\n",
    "\n",
    "# linear = torch.nn.Linear(99, 1)\n",
    "# linear_output = linear(torch.zeros((2, 80, 64, 99)))\n",
    "# linear_output.shape"
   ]
  },
  {
   "cell_type": "code",
   "execution_count": 36,
   "id": "4a0a436b",
   "metadata": {
    "scrolled": true
   },
   "outputs": [
    {
     "data": {
      "text/plain": [
       "torch.Size([2, 56])"
      ]
     },
     "execution_count": 36,
     "metadata": {},
     "output_type": "execute_result"
    }
   ],
   "source": [
    "# output_reshaped = output.reshape(64, 1, -1)\n",
    "# output_reshaped\n",
    "\n",
    "outputs.squeeze().shape"
   ]
  },
  {
   "cell_type": "code",
   "execution_count": 37,
   "id": "88ccaf40",
   "metadata": {
    "scrolled": true
   },
   "outputs": [],
   "source": [
    "# padded_prominence.reshape(64, -1, 1).squeeze(-1).shape"
   ]
  },
  {
   "cell_type": "code",
   "execution_count": 38,
   "id": "09f295fd",
   "metadata": {
    "scrolled": true
   },
   "outputs": [],
   "source": [
    "# loss_fn = torch.nn.MSELoss()\n",
    "loss_fn = torch.nn.SmoothL1Loss()\n"
   ]
  },
  {
   "cell_type": "code",
   "execution_count": 39,
   "id": "71faa947",
   "metadata": {},
   "outputs": [
    {
     "data": {
      "text/plain": [
       "torch.Size([2, 56])"
      ]
     },
     "execution_count": 39,
     "metadata": {},
     "output_type": "execute_result"
    }
   ],
   "source": [
    "padded_prominence.squeeze().shape"
   ]
  },
  {
   "cell_type": "code",
   "execution_count": 40,
   "id": "2c2c9536",
   "metadata": {
    "scrolled": false
   },
   "outputs": [
    {
     "data": {
      "text/plain": [
       "tensor(0.0294, grad_fn=<SmoothL1LossBackward0>)"
      ]
     },
     "execution_count": 40,
     "metadata": {},
     "output_type": "execute_result"
    }
   ],
   "source": [
    "loss_fn(outputs.squeeze(), padded_prominence.squeeze())"
   ]
  },
  {
   "cell_type": "code",
   "execution_count": 41,
   "id": "a131ef6c",
   "metadata": {},
   "outputs": [],
   "source": [
    "from emphases.evaluate.metrics import cosine_sim"
   ]
  },
  {
   "cell_type": "code",
   "execution_count": 42,
   "id": "36b37703",
   "metadata": {},
   "outputs": [],
   "source": [
    "outputs_numpy = outputs.squeeze().detach().numpy()\n",
    "padded_prominence_numpy = padded_prominence.squeeze().detach().numpy()"
   ]
  },
  {
   "cell_type": "code",
   "execution_count": 43,
   "id": "72d5c96c",
   "metadata": {},
   "outputs": [],
   "source": [
    "cosine = torch.nn.CosineSimilarity()"
   ]
  },
  {
   "cell_type": "code",
   "execution_count": 44,
   "id": "4d50dc20",
   "metadata": {
    "scrolled": true
   },
   "outputs": [
    {
     "data": {
      "text/plain": [
       "tensor([0.5609, 0.6134], grad_fn=<SumBackward1>)"
      ]
     },
     "execution_count": 44,
     "metadata": {},
     "output_type": "execute_result"
    }
   ],
   "source": [
    "cosine(outputs.squeeze(), padded_prominence.squeeze())"
   ]
  },
  {
   "cell_type": "code",
   "execution_count": 45,
   "id": "47ff7e57",
   "metadata": {
    "scrolled": false
   },
   "outputs": [
    {
     "data": {
      "text/plain": [
       "0.6134058833122253"
      ]
     },
     "execution_count": 45,
     "metadata": {},
     "output_type": "execute_result"
    }
   ],
   "source": [
    "cosine_sim(outputs_numpy[1], padded_prominence_numpy[1])"
   ]
  },
  {
   "cell_type": "markdown",
   "id": "68fb6eb8",
   "metadata": {},
   "source": [
    "### Eval"
   ]
  },
  {
   "cell_type": "code",
   "execution_count": 36,
   "id": "1eefb3ee",
   "metadata": {},
   "outputs": [],
   "source": [
    "# device = 'cpu'\n",
    "# with torch.no_grad():\n",
    "#     for batch in valid_loader:\n",
    "#         (\n",
    "#         padded_audio_eval,\n",
    "#         padded_mel_spectrogram_eval,\n",
    "#         padded_prominence_eval,\n",
    "#         word_bounds_eval,\n",
    "#         word_lengths_eval,\n",
    "#         frame_lengths_eval\n",
    "#         ) = (item.to(device) if torch.is_tensor(item) else item for item in batch)\n",
    "\n",
    "#         # Bundle training input\n",
    "#         model_input = (padded_mel_spectrogram_eval, word_bounds_eval, padded_prominence_eval)\n",
    "\n",
    "#         valid_outputs = model(model_input)\n",
    "#         valid_outputs = valid_outputs.to(device)\n",
    "\n",
    "#         cosine = torch.nn.CosineSimilarity()\n",
    "#         val_sim = cosine(valid_outputs.squeeze(), padded_prominence_eval.squeeze())\n",
    "\n",
    "#         print('similarity values for validation set:', val_sim, '\\n', \n",
    "#                 'mean similarity:', torch.mean(val_sim))\n"
   ]
  },
  {
   "cell_type": "code",
   "execution_count": 77,
   "id": "59f8b08f",
   "metadata": {},
   "outputs": [
    {
     "data": {
      "text/plain": [
       "tensor([[0.0625, 0.0625, 0.3125, 0.0312, 0.7812, 0.5938, 0.0000, 0.0312, 0.0312,\n",
       "         0.0000, 0.5000, 0.5000, 0.4688, 0.0000, 0.0625, 0.0000, 0.4062, 0.0000,\n",
       "         0.2188, 0.2500, 0.5000, 0.0000, 0.0625, 0.0312, 0.0000, 0.2812, 0.2500,\n",
       "         0.2188, 0.0000, 0.5312, 0.4062, 0.0000, 0.0312, 0.0312, 0.5938, 0.0000,\n",
       "         0.2812, 0.1875, 0.2188, 0.0312, 0.2188, 0.1250, 0.0625, 0.0625, 0.0625,\n",
       "         0.4375, 0.0000, 0.0625, 0.0000, 0.0000, 0.0000, 0.2188, 0.0625, 0.6875,\n",
       "         0.0000, 0.0312],\n",
       "        [0.9062, 0.0000, 0.0000, 0.0000, 0.5625, 0.0000, 0.0312, 0.7812, 0.0000,\n",
       "         0.1562, 0.1875, 0.0000, 0.0000, 0.0938, 0.0312, 0.0000, 0.1250, 0.0312,\n",
       "         0.5000, 0.8750, 0.3125, 0.0000, 0.0000, 0.0000, 0.0000, 0.0625, 0.0000,\n",
       "         0.2812, 0.0312, 0.2500, 0.0000, 0.2812, 0.0000, 0.5312, 0.0625, 0.0312,\n",
       "         0.0000, 0.2812, 0.1562, 0.0000, 0.4688, 0.1250, 0.0000, 0.0000, 0.0000,\n",
       "         0.0000, 0.0000, 0.0000, 0.0000, 0.0000, 0.0000, 0.0000, 0.0000, 0.0000,\n",
       "         0.0000, 0.0000]])"
      ]
     },
     "execution_count": 77,
     "metadata": {},
     "output_type": "execute_result"
    }
   ],
   "source": [
    "padded_prominence_eval.squeeze()"
   ]
  },
  {
   "cell_type": "code",
   "execution_count": 85,
   "id": "bfeb95e3",
   "metadata": {},
   "outputs": [
    {
     "data": {
      "text/plain": [
       "tensor([0.6463])"
      ]
     },
     "execution_count": 85,
     "metadata": {},
     "output_type": "execute_result"
    }
   ],
   "source": [
    "cosine(valid_outputs.squeeze()[idx, 0:word_lengths_eval[idx]].reshape(1, -1), padded_prominence_eval.squeeze()[idx, 0:word_lengths_eval[idx]].reshape(1, -1))\n",
    "\n",
    "\n"
   ]
  },
  {
   "cell_type": "code",
   "execution_count": 90,
   "id": "f7fcaf77",
   "metadata": {
    "scrolled": true
   },
   "outputs": [
    {
     "name": "stderr",
     "output_type": "stream",
     "text": [
      "2it [00:00, 231.03it/s]\n"
     ]
    },
    {
     "name": "stdout",
     "output_type": "stream",
     "text": [
      ">>>>> cosine similarity values for validation set: [tensor([0.6463]), tensor([0.5665])] \n",
      ">>>>> mean cosine similarity: tensor(0.6064)\n"
     ]
    }
   ],
   "source": [
    "device = 'cpu'\n",
    "with torch.no_grad():\n",
    "    for batch in valid_loader:\n",
    "        (\n",
    "        padded_audio_eval,\n",
    "        padded_mel_spectrogram_eval,\n",
    "        padded_prominence_eval,\n",
    "        padded_interpolated_prominence_eval,\n",
    "        word_bounds_eval,\n",
    "        word_lengths_eval,\n",
    "        frame_lengths_eval,\n",
    "        interpolated_prom_lengths_eval\n",
    "        ) = (item.to(device) if torch.is_tensor(item) else item for item in batch)\n",
    "        \n",
    "        # Bundle training input\n",
    "        model_input_eval = (padded_mel_spectrogram_eval, word_bounds_eval, padded_prominence_eval)\n",
    "\n",
    "        valid_outputs = model(model_input_eval)\n",
    "        valid_outputs = valid_outputs.to(device)\n",
    "\n",
    "#         cosine = torch.nn.CosineSimilarity()\n",
    "#         val_sim = cosine(valid_outputs.squeeze(), padded_prominence_eval.squeeze())\n",
    "\n",
    "#         print('>>>>> cosine similarity values for validation set:', val_sim, '\\n>>>>> mean cosine similarity:', torch.mean(val_sim))\n",
    "        \n",
    "        cosine = torch.nn.CosineSimilarity()\n",
    "        val_sim = []\n",
    "        for idx in range(len(valid_outputs)):\n",
    "            val_sim.append(\n",
    "                cosine(\n",
    "                valid_outputs.squeeze()[idx, 0:word_lengths_eval[idx]].reshape(1, -1), \n",
    "                padded_prominence_eval.squeeze()[idx, 0:word_lengths_eval[idx]].reshape(1, -1)\n",
    "                )\n",
    "                )\n",
    "\n",
    "        print('>>>>> cosine similarity values for validation set:', val_sim, '\\n>>>>> mean cosine similarity:', torch.tensor(val_sim).mean())\n",
    "\n",
    "        losses = 0\n",
    "        for idx in range(len(valid_outputs)):\n",
    "            # masking the loss\n",
    "            # print(padded_prominence, valid_outputs, word_lengths, idx)\n",
    "\n",
    "            losses += loss_fn(\n",
    "                valid_outputs.squeeze()[idx, 0:word_lengths_eval[idx]], \n",
    "                padded_prominence_eval.squeeze()[idx, 0:word_lengths_eval[idx]]\n",
    "                )\n",
    "\n"
   ]
  },
  {
   "cell_type": "markdown",
   "id": "6f694d1a",
   "metadata": {},
   "source": [
    "### Loss per sample"
   ]
  },
  {
   "cell_type": "code",
   "execution_count": 190,
   "id": "1d7f03c7",
   "metadata": {},
   "outputs": [],
   "source": [
    "losses = 0\n",
    "for idx in range(len(outputs)):\n",
    "    # clipping the ground truth vectors and output vectors to available words per sample\n",
    "    losses += loss_fn(\n",
    "        outputs.squeeze()[idx, 0:word_lengths[idx]], \n",
    "        padded_prominence.squeeze()[idx, 0:word_lengths[idx]]\n",
    "        )"
   ]
  },
  {
   "cell_type": "code",
   "execution_count": 191,
   "id": "778556a3",
   "metadata": {
    "scrolled": false
   },
   "outputs": [
    {
     "data": {
      "text/plain": [
       "tensor(0.0532, grad_fn=<AddBackward0>)"
      ]
     },
     "execution_count": 191,
     "metadata": {},
     "output_type": "execute_result"
    }
   ],
   "source": [
    "losses"
   ]
  },
  {
   "cell_type": "markdown",
   "id": "58c35da7",
   "metadata": {},
   "source": [
    "### Slice the inputs wrt word bounds"
   ]
  },
  {
   "cell_type": "markdown",
   "id": "2e9b0c92",
   "metadata": {},
   "source": [
    "Process the word bounds, split the torch tensor into chunks and then pass further into the network, grad true"
   ]
  },
  {
   "cell_type": "code",
   "execution_count": 193,
   "id": "3466bdf1",
   "metadata": {
    "scrolled": true
   },
   "outputs": [
    {
     "data": {
      "text/plain": [
       "tensor([49, 52])"
      ]
     },
     "execution_count": 193,
     "metadata": {},
     "output_type": "execute_result"
    }
   ],
   "source": [
    "word_lengths"
   ]
  },
  {
   "cell_type": "code",
   "execution_count": 194,
   "id": "04089c3b",
   "metadata": {},
   "outputs": [
    {
     "data": {
      "text/plain": [
       "tensor([[0.5938, 0.0000, 0.1875, 0.0625, 0.0312, 0.5625, 0.0000, 0.0000, 0.0312,\n",
       "         0.0625, 0.0000, 0.0000, 0.0000, 0.5312, 0.0312, 0.0312, 0.1875, 0.0000,\n",
       "         0.0312, 0.2812, 0.0000, 0.2500, 0.0000, 0.0000, 0.0312, 0.0312, 0.5938,\n",
       "         0.4375, 0.0000, 0.0938, 0.0000, 0.0000, 0.0938, 0.0000, 0.1562, 0.1250,\n",
       "         0.0312, 0.3750, 0.0000, 0.0625, 0.6562, 0.0000, 0.2500, 0.5938, 0.0000,\n",
       "         0.2812, 0.0312, 0.3438, 0.6875, 0.0000, 0.0000, 0.0000, 0.0000, 0.0000,\n",
       "         0.0000, 0.0000]])"
      ]
     },
     "execution_count": 194,
     "metadata": {},
     "output_type": "execute_result"
    }
   ],
   "source": [
    "padded_prominence[0]"
   ]
  },
  {
   "cell_type": "code",
   "execution_count": 195,
   "id": "987810f3",
   "metadata": {},
   "outputs": [],
   "source": [
    "# word_bounds[0][1][0]*emphases.HOPSIZE, word_bounds[0][1][1]*emphases.HOPSIZE"
   ]
  },
  {
   "cell_type": "code",
   "execution_count": 196,
   "id": "6864be79",
   "metadata": {
    "scrolled": true
   },
   "outputs": [
    {
     "data": {
      "text/plain": [
       "-7680"
      ]
     },
     "execution_count": 196,
     "metadata": {},
     "output_type": "execute_result"
    }
   ],
   "source": [
    "(1376-1424)*emphases.HOPSIZE"
   ]
  },
  {
   "cell_type": "code",
   "execution_count": 197,
   "id": "3fca6925",
   "metadata": {
    "scrolled": true
   },
   "outputs": [
    {
     "data": {
      "text/plain": [
       "tensor(1370)"
      ]
     },
     "execution_count": 197,
     "metadata": {},
     "output_type": "execute_result"
    }
   ],
   "source": [
    "frame_lengths[0]"
   ]
  },
  {
   "cell_type": "code",
   "execution_count": 198,
   "id": "4fa9986f",
   "metadata": {
    "scrolled": true
   },
   "outputs": [
    {
     "data": {
      "text/plain": [
       "[(9, 32),\n",
       " (32, 44),\n",
       " (44, 64),\n",
       " (64, 74),\n",
       " (74, 94),\n",
       " (94, 150),\n",
       " (150, 169),\n",
       " (169, 179),\n",
       " (179, 201),\n",
       " (201, 215),\n",
       " (215, 220),\n",
       " (220, 236),\n",
       " (236, 260),\n",
       " (260, 301),\n",
       " (301, 333),\n",
       " (380, 398),\n",
       " (398, 456),\n",
       " (456, 474),\n",
       " (474, 498),\n",
       " (498, 539),\n",
       " (539, 556),\n",
       " (556, 615),\n",
       " (615, 627),\n",
       " (627, 636),\n",
       " (636, 658),\n",
       " (658, 662),\n",
       " (704, 731),\n",
       " (731, 767),\n",
       " (767, 778),\n",
       " (778, 802),\n",
       " (802, 834),\n",
       " (834, 846),\n",
       " (846, 876),\n",
       " (876, 888),\n",
       " (888, 918),\n",
       " (918, 943),\n",
       " (943, 957),\n",
       " (957, 981),\n",
       " (981, 994),\n",
       " (994, 1000),\n",
       " (1000, 1040),\n",
       " (1040, 1047),\n",
       " (1047, 1112),\n",
       " (1112, 1169),\n",
       " (1169, 1178),\n",
       " (1216, 1269),\n",
       " (1269, 1283),\n",
       " (1283, 1318),\n",
       " (1318, 1367)]"
      ]
     },
     "execution_count": 198,
     "metadata": {},
     "output_type": "execute_result"
    }
   ],
   "source": [
    "word_bounds[0]"
   ]
  },
  {
   "cell_type": "code",
   "execution_count": 199,
   "id": "cb3c09e9",
   "metadata": {},
   "outputs": [
    {
     "data": {
      "text/plain": [
       "tensor([3.8642e-05, 4.3528e-05, 3.3849e-05,  ..., 0.0000e+00, 0.0000e+00,\n",
       "        0.0000e+00])"
      ]
     },
     "execution_count": 199,
     "metadata": {},
     "output_type": "execute_result"
    }
   ],
   "source": [
    "padded_mel_spectrogram[0][0][0:1430]"
   ]
  },
  {
   "cell_type": "code",
   "execution_count": 200,
   "id": "f8c622ba",
   "metadata": {},
   "outputs": [],
   "source": [
    "# input_features = padded_audio[1, :, :][0]\n",
    "# wb = word_bounds[1]"
   ]
  },
  {
   "cell_type": "code",
   "execution_count": 201,
   "id": "785cef02",
   "metadata": {
    "scrolled": true
   },
   "outputs": [],
   "source": [
    "# def get_slices(input_features, wb):\n",
    "#     \"\"\"\n",
    "#     Generate framewise slices as per word bounds\n",
    "#     return a padded tensor for given input_features\n",
    "\n",
    "#     \"\"\"\n",
    "#     duration_slices = []\n",
    "#     for bound in wb:\n",
    "#         # dur = (bound[1] - bound[0])*emphases.HOPSIZE # for audio inputs\n",
    "#         dur = (bound[1] - bound[0]) # for mel spectro inputs\n",
    "#         duration_slices.append(dur)\n",
    "\n",
    "#     extra_noise = False\n",
    "\n",
    "#     if sum(duration_slices)!=input_features.shape[-1]:\n",
    "#         extra_noise = True\n",
    "#         duration_slices.append(input_features.shape[-1] - sum(duration_slices))\n",
    "\n",
    "#     slices = torch.split(input_features, duration_slices)\n",
    "\n",
    "#     if extra_noise:\n",
    "#         # get rid of the extra noise duration\n",
    "#         duration_slices = duration_slices[:-1]\n",
    "#         slices = slices[:-1]\n",
    "\n",
    "#     padded_features = torch.zeros(\n",
    "#             (1, len(duration_slices), max(duration_slices)))\n",
    "\n",
    "#     for idx, sl in enumerate(slices):\n",
    "#         padded_features[:, idx, :len(sl)] = sl\n",
    "\n",
    "#     feat_len = padded_features.shape[-1]\n",
    "\n",
    "#     return padded_features, feat_len\n"
   ]
  },
  {
   "cell_type": "code",
   "execution_count": 286,
   "id": "634c12e2",
   "metadata": {},
   "outputs": [],
   "source": [
    "def get_slices_spectro_channels(input_features_channels, wb):\n",
    "    \"\"\"\n",
    "    Generate framewise slices as per word bounds\n",
    "    return a padded tensor for given input_features\n",
    "\n",
    "    \"\"\"\n",
    "    duration_slices = []\n",
    "\n",
    "    for bound in wb:\n",
    "        # dur = (bound[1] - bound[0])*emphases.HOPSIZE # for audio inputs\n",
    "        dur = (bound[1] - bound[0]) # for mel spectro inputs\n",
    "        duration_slices.append(dur)\n",
    "\n",
    "    extra_noise = False\n",
    "\n",
    "    if sum(duration_slices)!=input_features_channels.shape[-1]:\n",
    "        extra_noise = True\n",
    "        duration_slices.append(input_features_channels.shape[-1] - sum(duration_slices))\n",
    "\n",
    "    # if extra_noise:\n",
    "        # padded_features = torch.zeros(\n",
    "        #         (len(input_features_channels), len(duration_slices[:-1]), max(duration_slices[:-1])))\n",
    "\n",
    "    # else:\n",
    "        # padded_features = torch.zeros(\n",
    "        #         (len(input_features_channels), len(duration_slices), max(duration_slices)))\n",
    "        \n",
    "    padded_features = torch.zeros(\n",
    "            (len(input_features_channels), emphases.MAX_NUM_OF_WORDS, emphases.MAX_WORD_DURATION))\n",
    "        \n",
    "\n",
    "    for channel_idx, input_features in enumerate(input_features_channels):\n",
    "\n",
    "        slices = torch.split(input_features, duration_slices)\n",
    "\n",
    "        if extra_noise:\n",
    "            slices = slices[:-1]\n",
    "\n",
    "        for idx, sl in enumerate(slices[:emphases.MAX_NUM_OF_WORDS]):\n",
    "\n",
    "            if len(sl)<=emphases.MAX_WORD_DURATION:\n",
    "                padded_features[channel_idx, idx, :len(sl)] = sl[:emphases.MAX_WORD_DURATION]\n",
    "\n",
    "            else:\n",
    "                padded_features[channel_idx, idx, :emphases.MAX_WORD_DURATION] = sl[:emphases.MAX_WORD_DURATION]\n",
    "\n",
    "    return padded_features, padded_features.shape[-1]\n"
   ]
  },
  {
   "cell_type": "code",
   "execution_count": 287,
   "id": "44da4ca3",
   "metadata": {},
   "outputs": [],
   "source": [
    "emphases.MAX_NUM_OF_WORDS, emphases.MAX_WORD_DURATION = 64, 96"
   ]
  },
  {
   "cell_type": "code",
   "execution_count": 305,
   "id": "96bb3ef4",
   "metadata": {},
   "outputs": [],
   "source": [
    "def temp(input_features_channels, wb):\n",
    "    duration_slices = []\n",
    "\n",
    "    for bound in wb:\n",
    "        # dur = (bound[1] - bound[0])*emphases.HOPSIZE # for audio inputs\n",
    "        dur = (bound[1] - bound[0]) # for mel spectro inputs\n",
    "        duration_slices.append(dur)\n",
    "\n",
    "    extra_noise = False\n",
    "\n",
    "    if sum(duration_slices)!=input_features_channels.shape[-1]:\n",
    "        extra_noise = True\n",
    "        duration_slices.append(input_features_channels.shape[-1] - sum(duration_slices))\n",
    "\n",
    "    if extra_noise:\n",
    "        padded_features = torch.zeros(\n",
    "                (len(input_features_channels), len(duration_slices[:-1]), emphases.MAX_WORD_DURATION))\n",
    "\n",
    "    #     padded_features = torch.zeros(\n",
    "    #             (len(input_features_channels), emphases.MAX_NUM_OF_WORDS, emphases.MAX_WORD_DURATION))\n",
    "    else:\n",
    "        padded_features = torch.zeros(\n",
    "                (len(input_features_channels), len(duration_slices), emphases.MAX_WORD_DURATION))\n",
    "    #     padded_features = torch.zeros(\n",
    "    #             (len(input_features_channels), emphases.MAX_NUM_OF_WORDS, emphases.MAX_WORD_DURATION))\n",
    "\n",
    "    for channel_idx, input_features in enumerate(input_features_channels):\n",
    "\n",
    "        slices = torch.split(input_features, duration_slices)\n",
    "\n",
    "        if extra_noise:\n",
    "            slices = slices[:-1]\n",
    "\n",
    "        for idx, sl in enumerate(slices):\n",
    "\n",
    "            if len(sl)<=emphases.MAX_WORD_DURATION:\n",
    "                padded_features[channel_idx, idx, :len(sl)] = sl[:emphases.MAX_WORD_DURATION]\n",
    "\n",
    "            else:\n",
    "                padded_features[channel_idx, idx, :emphases.MAX_WORD_DURATION] = sl[:emphases.MAX_WORD_DURATION]\n",
    "    return padded_features, padded_features.shape[-1]"
   ]
  },
  {
   "cell_type": "code",
   "execution_count": 306,
   "id": "c9d798cf",
   "metadata": {
    "scrolled": true
   },
   "outputs": [
    {
     "data": {
      "text/plain": [
       "torch.Size([80, 1830])"
      ]
     },
     "execution_count": 306,
     "metadata": {},
     "output_type": "execute_result"
    }
   ],
   "source": [
    "input_features_channels.shape"
   ]
  },
  {
   "cell_type": "code",
   "execution_count": 307,
   "id": "e2bb7201",
   "metadata": {},
   "outputs": [
    {
     "data": {
      "text/plain": [
       "(tensor([4.5897e-07, 3.0385e-07, 9.3541e-08, 3.5620e-08, 2.4244e-08, 2.7282e-08,\n",
       "         3.4638e-08, 3.2626e-08, 3.0356e-08, 3.6985e-08, 4.3889e-08, 6.0753e-08,\n",
       "         1.0595e-07, 1.7636e-07, 2.3484e-07, 3.2549e-07, 4.9561e-07, 5.5244e-07,\n",
       "         4.3493e-07, 3.3783e-07, 3.0608e-07, 2.9839e-07, 3.6899e-07]),\n",
       " tensor([4.2301e-07, 4.8168e-07, 9.6200e-07, 1.6958e-06, 1.9030e-06, 1.5162e-06,\n",
       "         1.0018e-06, 5.7999e-07, 2.9254e-07, 1.5839e-07, 1.6590e-07, 4.2603e-07]),\n",
       " tensor([8.5473e-07, 9.1436e-07, 5.8354e-07, 4.2786e-07, 5.5613e-07, 5.2673e-07,\n",
       "         2.3672e-07, 4.4370e-08, 1.2861e-08, 1.1623e-08, 1.1741e-08, 2.8170e-08,\n",
       "         4.2891e-07, 1.8711e-06, 4.2655e-06, 8.5143e-06, 1.1772e-05, 9.8230e-06,\n",
       "         6.0230e-06, 4.1689e-06]),\n",
       " tensor([3.8809e-06, 4.5726e-06, 4.1688e-06, 3.1178e-06, 2.8415e-06, 1.9968e-06,\n",
       "         6.7901e-07, 1.4809e-07, 1.1849e-07, 1.5050e-07]),\n",
       " tensor([1.6533e-07, 1.4158e-07, 1.1711e-07, 9.7300e-08, 6.5521e-08, 3.5699e-08,\n",
       "         2.2482e-08, 1.8161e-08, 1.8002e-08, 2.1672e-08, 2.5668e-08, 2.7720e-08,\n",
       "         4.4557e-08, 1.7942e-07, 3.3739e-07, 2.9972e-07, 2.3138e-07, 4.3010e-07,\n",
       "         7.4253e-07, 8.0737e-07]),\n",
       " tensor([5.8084e-07, 3.0589e-07, 1.1996e-07, 4.0830e-08, 2.8356e-08, 3.2092e-08,\n",
       "         3.7497e-08, 3.7359e-08, 3.6788e-08, 3.8740e-08, 4.8411e-08, 1.4024e-07,\n",
       "         3.6973e-07, 5.3366e-07, 3.9960e-07, 1.6017e-07, 7.8294e-08, 1.2195e-07,\n",
       "         2.0159e-07, 2.5423e-07, 2.5911e-07, 2.4432e-07, 2.0106e-07, 2.8576e-07,\n",
       "         1.2417e-06, 4.6085e-06, 1.3906e-05, 2.1591e-05, 2.0831e-05, 2.6293e-05,\n",
       "         3.8412e-05, 3.5122e-05, 1.9879e-05, 8.8733e-06, 3.1481e-06, 5.3724e-07,\n",
       "         9.0564e-08, 7.0718e-08, 1.0783e-07, 1.4880e-07, 1.6325e-07, 1.5932e-07,\n",
       "         1.3368e-07, 1.0647e-07, 9.3280e-08, 7.5100e-08, 5.3998e-08, 3.6304e-08,\n",
       "         2.9118e-08, 3.4118e-08, 4.6564e-08, 6.6101e-08, 8.1284e-08, 7.8433e-08,\n",
       "         8.6043e-08, 1.2093e-07]),\n",
       " tensor([1.5169e-07, 1.4332e-07, 9.0487e-08, 3.8622e-08, 2.2732e-08, 2.2625e-08,\n",
       "         2.2512e-08, 2.6847e-08, 2.9308e-08, 2.1859e-08, 1.4117e-08, 1.4207e-08,\n",
       "         1.6979e-08, 3.7450e-08, 1.0131e-07, 1.4618e-07, 1.5069e-07, 1.6557e-07,\n",
       "         1.8853e-07]),\n",
       " tensor([2.0896e-07, 2.0207e-07, 1.6485e-07, 1.3055e-07, 8.4136e-08, 3.4813e-08,\n",
       "         1.5590e-08, 1.6675e-08, 2.9268e-08, 3.8068e-08]),\n",
       " tensor([3.8175e-08, 4.7601e-08, 7.5015e-08, 1.1854e-07, 1.8193e-07, 2.4958e-07,\n",
       "         2.8232e-07, 2.7353e-07, 2.0205e-07, 9.0190e-08, 2.8069e-08, 1.5172e-08,\n",
       "         1.3213e-08, 1.1805e-08, 1.6094e-08, 2.9136e-08, 3.8982e-08, 3.7363e-08,\n",
       "         4.0573e-08, 6.0472e-08, 7.0685e-08, 6.1913e-08]),\n",
       " tensor([5.1174e-08, 3.7741e-08, 3.2537e-08, 4.4254e-08, 4.7639e-08, 4.1948e-08,\n",
       "         4.5224e-08, 5.8368e-08, 7.5950e-08, 7.5271e-08, 6.3203e-08, 6.5047e-08,\n",
       "         1.1371e-07, 2.2963e-07]),\n",
       " tensor([2.4801e-07, 1.2799e-07, 4.9033e-08, 4.1502e-08, 5.6060e-08]),\n",
       " tensor([6.3281e-08, 5.8497e-08, 7.9793e-08, 1.1403e-07, 1.0946e-07, 7.1581e-08,\n",
       "         4.3356e-08, 3.6761e-08, 3.7042e-08, 3.7112e-08, 2.9658e-08, 1.8817e-08,\n",
       "         1.4697e-08, 1.4811e-08, 2.2590e-08, 7.7120e-08]),\n",
       " tensor([2.8023e-07, 5.4061e-07, 7.1469e-07, 1.9080e-06, 6.0511e-06, 1.8546e-05,\n",
       "         3.7247e-05, 4.2758e-05, 2.9653e-05, 1.3808e-05, 4.4901e-06, 1.0764e-06,\n",
       "         2.1792e-07, 4.2336e-08, 9.6684e-08, 2.7340e-06, 1.1213e-05, 1.5316e-05,\n",
       "         8.2452e-06, 1.5341e-06, 3.4262e-07, 1.6226e-07, 5.8358e-08, 4.5549e-08]),\n",
       " tensor([4.0025e-08, 9.8293e-08, 3.1712e-07, 4.1576e-07, 2.2552e-07, 7.2049e-08,\n",
       "         5.7148e-08, 5.1594e-08, 7.1439e-08, 1.1049e-07, 1.6190e-07, 2.0729e-07,\n",
       "         1.8315e-07, 1.1957e-07, 9.1145e-08, 1.2262e-07, 1.8767e-07, 2.6097e-07,\n",
       "         3.8157e-07, 5.6050e-07, 7.6160e-07, 7.1238e-07, 4.2557e-07, 2.7300e-07,\n",
       "         2.1550e-07, 1.4814e-07, 1.1302e-07, 8.5193e-08, 4.9554e-08, 2.8989e-08,\n",
       "         2.5045e-08, 2.4543e-08, 2.2845e-08, 2.2316e-08, 2.2510e-08, 2.0250e-08,\n",
       "         1.8323e-08, 4.4461e-08, 2.0539e-07, 3.6333e-07, 2.7885e-07]),\n",
       " tensor([1.1447e-07, 8.3550e-08, 1.3390e-07, 1.4527e-07, 8.1570e-08, 3.2069e-08,\n",
       "         2.2402e-08, 2.5192e-08, 3.3243e-08, 3.9706e-08, 3.6595e-08, 3.2726e-08,\n",
       "         7.5741e-08, 2.2104e-07, 3.4086e-07, 3.6358e-07, 3.5728e-07, 3.0135e-07,\n",
       "         2.4654e-07, 2.5041e-07, 2.1027e-07, 1.2231e-07, 6.0936e-08, 3.5191e-08,\n",
       "         3.2046e-08, 3.4630e-08, 3.2076e-08, 2.7077e-08, 2.2230e-08, 2.3307e-08,\n",
       "         2.8105e-08, 2.3770e-08]),\n",
       " tensor([1.4208e-08, 1.3065e-08, 1.7748e-08, 2.1363e-08, 1.5126e-07, 7.7895e-07,\n",
       "         1.5951e-06, 1.8572e-06, 1.5984e-06, 1.0141e-06, 4.3476e-07, 2.7680e-07,\n",
       "         2.4449e-07, 1.7992e-07, 2.5540e-07, 3.6462e-07, 3.6866e-07, 3.4279e-07]),\n",
       " tensor([3.5510e-07, 3.2610e-07, 2.0082e-07, 8.6696e-08, 3.7695e-08, 2.0729e-08,\n",
       "         1.7427e-08, 2.4908e-08, 4.4407e-08, 5.5098e-08, 5.2338e-08, 4.9916e-08,\n",
       "         4.4036e-08, 3.5426e-08, 3.6445e-08, 4.1370e-08, 3.8842e-08, 3.0785e-08,\n",
       "         2.3115e-08, 1.7569e-08, 1.5737e-08, 1.3626e-08, 1.3782e-08, 1.8759e-08,\n",
       "         2.1447e-08, 2.2499e-08, 3.0358e-08, 6.4827e-08, 1.0889e-07, 1.3419e-07,\n",
       "         1.8619e-07, 2.5908e-07, 3.7659e-07, 5.1296e-07, 5.4307e-07, 5.2338e-07,\n",
       "         5.8115e-07, 6.2475e-07, 5.3724e-07, 3.7219e-07, 2.6697e-07, 3.2153e-07,\n",
       "         4.1385e-07, 4.3308e-07, 4.7310e-07, 6.1390e-07, 7.9834e-07, 8.8990e-07,\n",
       "         8.3967e-07, 7.1830e-07, 5.0604e-07, 2.7237e-07, 1.6346e-07, 1.1001e-07,\n",
       "         5.1653e-08, 2.8246e-08, 6.1909e-08, 3.0577e-07]),\n",
       " tensor([2.7748e-06, 1.2848e-05, 3.4927e-05, 6.5630e-05, 8.5633e-05, 8.5355e-05,\n",
       "         6.8971e-05, 4.9467e-05, 4.2688e-05, 3.9368e-05, 2.8542e-05, 1.9055e-05,\n",
       "         1.1972e-05, 5.3432e-06, 1.9880e-06, 1.7372e-06, 4.6097e-06, 8.7347e-06]),\n",
       " tensor([1.5348e-05, 2.9145e-05, 3.5865e-05, 2.7888e-05, 2.0526e-05, 1.5838e-05,\n",
       "         1.0467e-05, 8.3465e-06, 8.4070e-06, 7.3897e-06, 4.1461e-06, 1.1022e-06,\n",
       "         2.9195e-07, 2.1151e-07, 1.3223e-07, 7.9039e-08, 5.1777e-08, 4.4370e-08,\n",
       "         4.1439e-08, 3.6258e-08, 3.5727e-08, 3.4076e-08, 2.6444e-08, 2.6544e-08]),\n",
       " tensor([4.6043e-08, 7.1047e-08, 8.0043e-08, 8.5500e-08, 9.0346e-08, 7.3005e-08,\n",
       "         6.3003e-08, 9.2672e-08, 1.0321e-07, 8.0235e-08, 1.0289e-07, 1.8473e-07,\n",
       "         2.3315e-07, 1.9173e-07, 1.1422e-07, 6.0810e-08, 3.7101e-08, 3.0504e-08,\n",
       "         3.4896e-08, 4.3670e-08, 4.6278e-08, 5.4744e-08, 8.1972e-08, 1.0728e-07,\n",
       "         1.4708e-07, 1.2526e-06, 6.3067e-06, 1.4119e-05, 2.2173e-05, 2.8939e-05,\n",
       "         2.6595e-05, 1.4239e-05, 4.2417e-06, 1.0482e-06, 3.0345e-07, 5.2610e-08,\n",
       "         1.4413e-07, 1.1263e-06, 2.4718e-06, 2.2848e-06, 9.9731e-07]),\n",
       " tensor([2.6520e-07, 7.2462e-08, 4.8533e-08, 4.5622e-08, 3.6057e-08, 2.6681e-08,\n",
       "         2.5617e-08, 4.5237e-08, 8.6468e-08, 1.1639e-07, 1.6472e-07, 2.6810e-07,\n",
       "         3.9384e-07, 4.5636e-07, 3.4711e-07, 1.6043e-07, 6.6801e-08]),\n",
       " tensor([3.8634e-08, 2.3726e-08, 2.1173e-08, 2.1710e-08, 1.7371e-08, 2.5145e-08,\n",
       "         7.9275e-08, 3.7588e-07, 1.8843e-06, 5.5720e-06, 7.9337e-06, 6.3760e-06,\n",
       "         3.6260e-06, 1.5601e-06, 3.7761e-07, 1.5010e-07, 1.0260e-07, 7.1422e-08,\n",
       "         7.6425e-08, 1.2058e-07, 2.7689e-07, 5.6290e-07, 6.7944e-07, 4.6176e-07,\n",
       "         2.3098e-07, 1.5594e-07, 1.0875e-07, 5.9204e-08, 3.1129e-08, 2.1251e-08,\n",
       "         2.3514e-08, 2.9688e-08, 2.3130e-07, 2.6655e-06, 1.0954e-05, 2.7095e-05,\n",
       "         3.9343e-05, 4.3604e-05, 5.0506e-05, 5.5741e-05, 6.0015e-05, 6.3200e-05,\n",
       "         5.7885e-05, 4.1689e-05, 1.7495e-05, 2.6506e-06, 1.9775e-07, 5.6597e-08,\n",
       "         5.6864e-08, 9.2263e-08, 9.2181e-08, 5.3719e-08, 2.7944e-08, 2.1719e-08,\n",
       "         2.3044e-08, 2.7449e-08, 3.5252e-08, 4.8276e-08, 5.7899e-08]),\n",
       " tensor([5.0261e-08, 4.0339e-08, 3.9546e-08, 3.8175e-08, 3.7505e-08, 3.3827e-08,\n",
       "         3.1883e-08, 5.4414e-08, 1.6179e-07, 2.6424e-07, 1.9294e-07, 6.4372e-07]),\n",
       " tensor([2.6326e-06, 3.5735e-06, 1.8368e-06, 2.9842e-07, 8.5505e-08, 7.9646e-08,\n",
       "         1.0012e-07, 1.2064e-07, 1.0700e-07]),\n",
       " tensor([1.1085e-07, 1.3997e-07, 1.1454e-07, 5.6044e-08, 3.5686e-08, 6.0611e-08,\n",
       "         1.2298e-07, 1.3396e-07, 8.8930e-08, 1.7486e-07, 1.2105e-06, 1.0337e-05,\n",
       "         4.1078e-05, 6.8356e-05, 6.1948e-05, 3.9985e-05, 2.2239e-05, 9.9017e-06,\n",
       "         4.5717e-06, 1.9910e-06, 8.0047e-07, 3.2238e-07]),\n",
       " tensor([1.1192e-07, 4.5674e-08, 4.3829e-08, 9.8832e-08]),\n",
       " tensor([2.3602e-07, 3.9998e-07, 4.5664e-07, 3.7144e-07, 3.0914e-07, 2.9142e-07,\n",
       "         2.2613e-07, 1.9318e-07, 2.1513e-07, 2.1016e-07, 1.7164e-07, 1.2683e-07,\n",
       "         1.1499e-07, 9.4006e-08, 4.9409e-08, 2.5317e-08, 2.6629e-08, 3.3082e-08,\n",
       "         3.3067e-08, 3.2955e-08, 3.4689e-08, 4.2511e-08, 5.3005e-08, 5.6407e-08,\n",
       "         5.9305e-08, 6.2138e-08, 7.2178e-08]),\n",
       " tensor([9.8518e-08, 1.0731e-07, 8.5406e-08, 6.7538e-08, 5.3826e-08, 3.4115e-08,\n",
       "         2.7526e-08, 3.5900e-08, 3.9401e-07, 2.2119e-06, 5.4214e-06, 6.0497e-06,\n",
       "         3.0100e-06, 5.5184e-07, 1.0515e-07, 8.7973e-08, 6.5905e-08, 4.0183e-08,\n",
       "         3.3458e-08, 3.9841e-08, 4.2185e-08, 3.5780e-08, 2.7861e-08, 2.0786e-08,\n",
       "         3.5343e-08, 8.7556e-08, 1.0407e-07, 5.8483e-08, 2.4649e-08, 2.0431e-08,\n",
       "         1.6344e-08, 9.0413e-09, 6.8311e-09, 1.2481e-08, 1.9410e-08, 3.1682e-08]),\n",
       " tensor([5.3336e-08, 1.2811e-07, 3.3225e-07, 5.7541e-07, 7.3951e-07, 9.1381e-07,\n",
       "         9.7375e-07, 8.6897e-07, 9.4552e-07, 1.1562e-06, 1.0148e-06]),\n",
       " tensor([6.3792e-07, 4.5699e-07, 5.5310e-07, 7.3363e-07, 9.0638e-07, 9.0254e-07,\n",
       "         6.6000e-07, 4.5591e-07, 5.7009e-07, 8.7228e-07, 9.5220e-07, 7.0445e-07,\n",
       "         4.8350e-07, 4.3685e-07, 4.0003e-07, 3.3324e-07, 2.9920e-07, 2.1619e-07,\n",
       "         1.1159e-07, 6.9600e-08, 5.0994e-08, 3.4655e-08, 3.4654e-08, 3.5452e-08]),\n",
       " tensor([2.5379e-08, 2.8182e-08, 5.3865e-08, 7.9704e-08, 9.5107e-08, 1.5174e-07,\n",
       "         2.7058e-07, 3.0900e-07, 2.1547e-07, 1.2310e-07, 7.4164e-08, 6.1575e-08,\n",
       "         8.6353e-08, 1.1908e-07, 1.8424e-07, 3.0229e-07, 3.6762e-07, 3.2721e-07,\n",
       "         2.3959e-07, 1.6233e-07, 1.2234e-07, 1.1857e-07, 1.1239e-07, 7.8560e-08,\n",
       "         4.6776e-08, 3.5684e-08, 3.0234e-08, 2.5032e-08, 2.1353e-08, 2.1170e-08,\n",
       "         2.3497e-08, 2.4924e-08]),\n",
       " tensor([3.5071e-08, 1.0342e-07, 2.6774e-07, 4.0053e-07, 3.8585e-07, 2.9328e-07,\n",
       "         1.9615e-07, 1.1887e-07, 1.0983e-07, 1.4684e-07, 1.7285e-07, 2.3773e-07]),\n",
       " tensor([3.3567e-07, 3.9947e-07, 4.8231e-07, 6.2715e-07, 7.4970e-07, 7.9230e-07,\n",
       "         7.5376e-07, 5.9516e-07, 3.5939e-07, 1.9053e-07, 1.0805e-07, 6.5695e-08,\n",
       "         3.5734e-08, 2.3372e-08, 6.1643e-08, 1.3312e-06, 6.5602e-06, 1.1043e-05,\n",
       "         7.9564e-06, 2.4651e-06, 5.9630e-07, 3.7977e-07, 2.0340e-07, 5.1167e-08,\n",
       "         1.7010e-08, 2.1148e-08, 2.3003e-08, 2.3946e-08, 3.0179e-08, 3.9322e-08]),\n",
       " tensor([4.9375e-08, 6.7546e-08, 1.1305e-07, 2.4702e-07, 4.4077e-07, 4.3275e-07,\n",
       "         2.2301e-07, 9.2249e-08, 5.2755e-08, 2.9311e-08, 3.2669e-08, 3.9428e-08]),\n",
       " tensor([3.9297e-08, 3.5577e-08, 3.8396e-08, 4.8949e-08, 5.3841e-08, 5.0219e-08,\n",
       "         3.7490e-08, 2.6985e-08, 3.3415e-08, 4.5887e-08, 4.6121e-08, 5.1344e-08,\n",
       "         1.2871e-07, 2.5998e-07, 2.9075e-07, 1.7892e-07, 7.7099e-08, 7.4866e-08,\n",
       "         2.0723e-07, 3.9729e-07, 6.1544e-07, 1.1222e-06, 1.4541e-06, 1.1524e-06,\n",
       "         7.5486e-07, 5.3181e-07, 3.3561e-07, 3.3471e-07, 6.8215e-07, 9.0133e-07]),\n",
       " tensor([6.4267e-07, 3.0877e-07, 1.5361e-07, 6.8836e-08, 3.0598e-08, 6.5532e-08,\n",
       "         8.1215e-07, 3.2335e-06, 5.6404e-06, 7.6923e-06, 1.0630e-05, 9.8625e-06,\n",
       "         5.1464e-06, 2.0789e-06, 8.2736e-07, 1.8239e-07, 4.6122e-08, 2.7181e-08,\n",
       "         2.6494e-08, 2.9983e-08, 3.0844e-08, 2.7160e-08, 2.5350e-08, 2.9996e-08,\n",
       "         3.5235e-08]),\n",
       " tensor([1.5626e-07, 1.0533e-06, 2.7348e-06, 5.4999e-06, 1.0211e-05, 1.5064e-05,\n",
       "         1.8516e-05, 2.1872e-05, 2.6105e-05, 2.9119e-05, 2.9499e-05, 2.1812e-05,\n",
       "         8.0120e-06, 9.1998e-07]),\n",
       " tensor([9.1616e-08, 5.1438e-08, 7.1240e-08, 4.3156e-07, 9.4643e-07, 8.1849e-07,\n",
       "         3.0773e-07, 1.3554e-07, 1.5157e-07, 1.9584e-07, 2.4196e-07, 2.3172e-07,\n",
       "         1.9463e-07, 2.6028e-07, 4.5479e-07, 5.8271e-07, 4.5829e-07, 2.0685e-07,\n",
       "         6.8795e-08, 6.4354e-08, 7.6145e-08, 8.5039e-08, 1.4188e-07, 3.0931e-07]),\n",
       " tensor([4.9016e-07, 4.6131e-07, 2.7207e-07, 1.4616e-07, 1.2570e-07, 1.1339e-06,\n",
       "         6.3770e-06, 1.4738e-05, 2.2811e-05, 3.4728e-05, 4.6397e-05, 5.2570e-05,\n",
       "         6.5124e-05]),\n",
       " tensor([9.5628e-05, 1.2528e-04, 1.0843e-04, 5.3014e-05, 1.5177e-05, 3.9173e-06]),\n",
       " tensor([6.2308e-07, 1.0088e-07, 1.7723e-07, 3.9084e-07, 6.1532e-07, 6.6516e-07,\n",
       "         4.6021e-07, 1.9054e-07, 7.4563e-08, 4.7567e-08, 2.7483e-08, 1.7954e-08,\n",
       "         1.6206e-08, 1.8640e-08, 2.1952e-08, 2.1951e-08, 2.3128e-08, 2.7051e-08,\n",
       "         2.7380e-08, 2.8020e-08, 3.2870e-08, 3.2339e-08, 2.7731e-08, 3.0535e-08,\n",
       "         3.4100e-08, 3.2818e-08, 4.2750e-08, 1.1143e-07, 2.4203e-07, 3.0169e-07,\n",
       "         2.8823e-07, 2.7184e-07, 2.2864e-07, 2.1370e-07, 2.4090e-07, 2.3445e-07,\n",
       "         2.5288e-07, 2.8951e-07, 2.4812e-07, 1.8962e-07]),\n",
       " tensor([1.4836e-07, 8.1846e-08, 3.4860e-08, 2.3186e-08, 2.1672e-08, 2.5026e-08,\n",
       "         3.1273e-08]),\n",
       " tensor([3.8393e-08, 4.5778e-08, 6.8474e-08, 1.1439e-07, 1.2851e-07, 8.9734e-08,\n",
       "         5.4069e-08, 3.8791e-08, 2.6250e-08, 2.1094e-08, 2.5473e-08, 2.8259e-08,\n",
       "         2.6333e-08, 2.4368e-08, 2.3194e-08, 2.3978e-08, 3.1138e-08, 3.7014e-08,\n",
       "         3.1826e-08, 2.7003e-08, 2.8977e-08, 2.6834e-08, 1.9232e-08, 1.4632e-08,\n",
       "         1.7359e-08, 2.0968e-08, 2.1520e-08, 2.2705e-08, 2.2802e-08, 1.8320e-08,\n",
       "         1.5482e-08, 1.6887e-08, 1.6190e-08, 1.4561e-08, 2.4145e-08, 4.6792e-08,\n",
       "         7.9159e-08, 1.0728e-07, 1.1479e-07, 8.8092e-08, 4.3373e-08, 1.9004e-08,\n",
       "         1.8446e-08, 1.9122e-08, 3.3395e-08, 1.2548e-07, 2.2535e-07, 1.9553e-07,\n",
       "         1.2003e-07, 9.9315e-08, 7.7078e-08, 4.9812e-08, 3.8874e-08, 3.2199e-08,\n",
       "         2.8677e-08, 4.1034e-08, 8.3638e-08, 1.2587e-07, 1.3306e-07, 1.4490e-07,\n",
       "         1.8136e-07, 2.1582e-07, 2.4991e-07, 2.7825e-07, 2.8731e-07]),\n",
       " tensor([2.6610e-07, 2.2025e-07, 1.8234e-07, 1.4220e-07, 9.4002e-08, 5.7221e-08,\n",
       "         3.8906e-08, 3.2367e-08, 2.8761e-08, 3.1579e-08, 4.6563e-08, 5.3768e-08,\n",
       "         4.9732e-08, 4.5434e-08, 3.4406e-08, 2.7932e-08, 3.7534e-08, 4.1354e-08,\n",
       "         3.8800e-08, 4.6325e-08, 4.5926e-08, 2.7644e-08, 1.3765e-08, 1.4985e-08,\n",
       "         1.9690e-08, 1.7424e-08, 1.2538e-08, 1.4892e-08, 2.4046e-08, 2.5656e-08,\n",
       "         2.1768e-08, 4.5176e-08, 9.5236e-08, 1.1563e-07, 1.1643e-07, 1.5562e-07,\n",
       "         1.7586e-07, 1.5403e-07, 1.4716e-07, 1.3686e-07, 1.2245e-07, 1.3416e-07,\n",
       "         1.3841e-07, 1.0881e-07, 6.5905e-08, 3.9217e-08, 2.6282e-08, 1.8997e-08,\n",
       "         1.7052e-08, 1.8647e-08, 2.7536e-08, 3.9325e-08, 5.2438e-08, 5.9481e-08,\n",
       "         5.3366e-08, 4.0230e-08, 2.9989e-08]),\n",
       " tensor([2.7876e-08, 2.8470e-08, 2.4695e-08, 1.9017e-08, 1.6103e-08, 1.5831e-08,\n",
       "         1.4281e-08, 1.1517e-08, 1.1431e-08]),\n",
       " tensor([1.8367e-08, 2.9005e-08, 6.4413e-08, 1.2475e-07, 1.8117e-07, 2.1054e-07,\n",
       "         1.6539e-07, 8.3199e-08, 5.4498e-08, 7.1771e-08, 1.2500e-07, 1.6300e-07,\n",
       "         1.2647e-07, 7.4083e-08, 6.9801e-08, 7.2361e-08, 5.3689e-08, 4.7255e-08,\n",
       "         6.2558e-08, 8.6086e-08, 1.0016e-07, 9.4632e-08, 3.0048e-07, 1.4661e-06,\n",
       "         4.7542e-06, 1.1692e-05, 1.6474e-05, 1.3150e-05, 6.8828e-06, 2.8724e-06,\n",
       "         9.0326e-07, 4.6543e-07, 2.7764e-07, 1.1148e-07, 3.8044e-08, 1.8679e-08,\n",
       "         1.4475e-08, 3.5071e-08, 2.7901e-07, 3.0235e-06, 1.2680e-05, 2.0571e-05,\n",
       "         1.5305e-05, 5.7701e-06, 1.6597e-06, 4.1670e-07, 1.2455e-07, 1.1936e-07,\n",
       "         1.1231e-07, 8.3681e-08, 4.9904e-08, 4.5555e-08, 6.6136e-08]),\n",
       " tensor([9.9468e-08, 1.7958e-07, 3.0789e-07, 3.6920e-07, 3.2097e-07, 2.4140e-07,\n",
       "         1.7938e-07, 1.2754e-07, 6.4129e-08, 2.0473e-08, 1.0917e-08, 1.1491e-08,\n",
       "         1.5059e-08, 2.8630e-08]),\n",
       " tensor([1.0598e-07, 4.2212e-07, 1.6165e-06, 3.4633e-06, 3.6731e-06, 1.9469e-06,\n",
       "         5.6260e-07, 1.3114e-07, 4.0675e-08, 3.2695e-08, 4.4412e-08, 5.6545e-08,\n",
       "         7.1720e-08, 1.4945e-07, 2.6961e-07, 2.4152e-07, 9.4600e-08, 2.9593e-08,\n",
       "         3.9512e-08, 5.0823e-08, 5.4134e-08, 6.5530e-08, 8.4369e-08, 1.0870e-07,\n",
       "         1.4594e-07, 1.6262e-07, 1.3170e-07, 8.3782e-08, 4.9608e-08, 3.3589e-08,\n",
       "         3.1624e-08, 2.8450e-08, 3.0334e-08, 3.9412e-08, 3.9911e-08]),\n",
       " tensor([4.5528e-08, 6.3141e-08, 6.0967e-08, 8.6319e-08, 1.9126e-07, 3.2039e-07,\n",
       "         4.4071e-07, 6.9114e-07, 1.1401e-06, 1.3841e-06, 1.2621e-06, 1.0253e-06,\n",
       "         8.0789e-07, 7.3409e-07, 6.9034e-07, 5.5372e-07, 5.9409e-07, 7.8961e-07,\n",
       "         8.2375e-07, 7.0907e-07, 5.8189e-07, 5.3269e-07, 5.4210e-07, 4.2121e-07,\n",
       "         2.2956e-07, 1.2813e-07, 8.5956e-08, 5.5404e-08, 2.9588e-08, 2.1067e-08,\n",
       "         2.1867e-08, 2.1382e-08, 1.7506e-08, 1.9260e-08, 3.0968e-08, 3.8831e-08,\n",
       "         3.2436e-08, 2.5876e-08, 4.0303e-08, 5.5264e-07, 4.5479e-06, 1.2883e-05,\n",
       "         1.9187e-05, 1.7434e-05, 1.2112e-05, 8.1125e-06, 4.1591e-06, 9.8423e-07,\n",
       "         2.0302e-07]),\n",
       " tensor([8.5996e-08, 3.9322e-08, 3.4671e-08, 8.9563e-08, 4.0902e-07, 7.1293e-07,\n",
       "         4.9437e-07, 1.2479e-07, 3.2966e-08, 4.8670e-08, 9.7239e-08, 1.5705e-07,\n",
       "         1.6564e-07, 1.0825e-07, 5.7624e-08, 1.3284e-07, 6.4348e-07, 2.0824e-06,\n",
       "         5.6898e-06, 1.0039e-05, 1.0874e-05, 8.5065e-06, 6.0490e-06, 3.6328e-06,\n",
       "         1.5075e-06, 4.7779e-07, 1.6550e-07, 6.2079e-08, 3.5738e-08, 2.6333e-08,\n",
       "         2.9658e-08, 6.2822e-08, 1.3367e-07, 2.6306e-07, 4.5301e-07, 6.3416e-07,\n",
       "         6.6631e-07, 4.9481e-07, 2.5058e-07, 9.4366e-08, 5.2984e-08, 1.0441e-07,\n",
       "         1.8644e-07, 2.5720e-07, 3.7113e-07, 4.3381e-07, 3.8386e-07, 5.0529e-07,\n",
       "         8.1898e-07, 8.0952e-07, 4.6780e-07, 2.2173e-07, 1.2007e-07, 6.8688e-08,\n",
       "         4.9296e-08, 5.4909e-08, 9.2303e-08, 1.5546e-07, 2.5844e-07, 3.1607e-07,\n",
       "         2.4257e-07, 1.6518e-07, 2.0345e-07, 2.4317e-07, 1.6747e-07, 6.8845e-08,\n",
       "         3.6121e-08, 3.1151e-08, 3.0595e-08, 2.4329e-08, 1.7988e-08, 1.6084e-08,\n",
       "         1.6721e-08, 2.1412e-08, 2.6619e-08, 4.0369e-08, 1.6843e-07, 3.3459e-07,\n",
       "         2.6827e-07, 8.5520e-08, 2.6152e-08, 2.4642e-08, 2.2042e-08, 1.7579e-08,\n",
       "         1.4964e-08, 1.6623e-08, 2.3721e-08, 2.6928e-08, 2.0614e-08, 1.3870e-08,\n",
       "         1.3793e-08, 1.8005e-08, 2.1787e-08, 2.1969e-08, 1.9181e-08, 9.6785e-08,\n",
       "         8.3898e-07, 1.7780e-06, 1.3918e-06, 3.6242e-07, 3.5576e-08, 2.6868e-08,\n",
       "         2.7420e-08, 2.5831e-08, 2.9890e-08, 4.4977e-08, 4.8833e-08, 3.5807e-08,\n",
       "         3.0717e-08, 3.5595e-08, 3.6784e-08, 3.5221e-08, 3.1823e-08, 2.6074e-08,\n",
       "         2.0311e-08, 1.7105e-08, 2.0744e-08, 2.7064e-08, 2.5679e-08, 2.2750e-08,\n",
       "         1.2339e-07, 4.1723e-07, 5.0570e-07, 2.3181e-07, 3.2755e-08, 1.5135e-08,\n",
       "         2.0895e-08, 3.0516e-08, 3.1950e-08, 2.3349e-08, 2.3968e-08, 3.3093e-08,\n",
       "         3.6380e-08, 3.3774e-08, 3.1587e-08, 2.8251e-08, 2.0464e-08, 1.4903e-08,\n",
       "         1.4673e-08, 1.5449e-08, 0.0000e+00, 0.0000e+00, 0.0000e+00, 0.0000e+00,\n",
       "         0.0000e+00, 0.0000e+00, 0.0000e+00, 0.0000e+00, 0.0000e+00, 0.0000e+00,\n",
       "         0.0000e+00, 0.0000e+00, 0.0000e+00, 0.0000e+00, 0.0000e+00, 0.0000e+00,\n",
       "         0.0000e+00, 0.0000e+00, 0.0000e+00, 0.0000e+00, 0.0000e+00, 0.0000e+00,\n",
       "         0.0000e+00, 0.0000e+00, 0.0000e+00, 0.0000e+00, 0.0000e+00, 0.0000e+00,\n",
       "         0.0000e+00, 0.0000e+00, 0.0000e+00, 0.0000e+00, 0.0000e+00, 0.0000e+00,\n",
       "         0.0000e+00, 0.0000e+00, 0.0000e+00, 0.0000e+00, 0.0000e+00, 0.0000e+00,\n",
       "         0.0000e+00, 0.0000e+00, 0.0000e+00, 0.0000e+00, 0.0000e+00, 0.0000e+00,\n",
       "         0.0000e+00, 0.0000e+00, 0.0000e+00, 0.0000e+00, 0.0000e+00, 0.0000e+00,\n",
       "         0.0000e+00, 0.0000e+00, 0.0000e+00, 0.0000e+00, 0.0000e+00, 0.0000e+00,\n",
       "         0.0000e+00, 0.0000e+00, 0.0000e+00, 0.0000e+00, 0.0000e+00, 0.0000e+00,\n",
       "         0.0000e+00, 0.0000e+00, 0.0000e+00, 0.0000e+00, 0.0000e+00, 0.0000e+00,\n",
       "         0.0000e+00, 0.0000e+00, 0.0000e+00, 0.0000e+00, 0.0000e+00, 0.0000e+00,\n",
       "         0.0000e+00, 0.0000e+00, 0.0000e+00, 0.0000e+00, 0.0000e+00, 0.0000e+00,\n",
       "         0.0000e+00, 0.0000e+00, 0.0000e+00, 0.0000e+00, 0.0000e+00, 0.0000e+00,\n",
       "         0.0000e+00, 0.0000e+00, 0.0000e+00, 0.0000e+00, 0.0000e+00, 0.0000e+00,\n",
       "         0.0000e+00, 0.0000e+00, 0.0000e+00, 0.0000e+00, 0.0000e+00, 0.0000e+00,\n",
       "         0.0000e+00, 0.0000e+00, 0.0000e+00, 0.0000e+00, 0.0000e+00, 0.0000e+00,\n",
       "         0.0000e+00, 0.0000e+00, 0.0000e+00, 0.0000e+00, 0.0000e+00, 0.0000e+00,\n",
       "         0.0000e+00, 0.0000e+00, 0.0000e+00, 0.0000e+00, 0.0000e+00, 0.0000e+00,\n",
       "         0.0000e+00, 0.0000e+00, 0.0000e+00, 0.0000e+00, 0.0000e+00, 0.0000e+00,\n",
       "         0.0000e+00, 0.0000e+00, 0.0000e+00, 0.0000e+00, 0.0000e+00, 0.0000e+00,\n",
       "         0.0000e+00, 0.0000e+00, 0.0000e+00, 0.0000e+00, 0.0000e+00, 0.0000e+00,\n",
       "         0.0000e+00, 0.0000e+00, 0.0000e+00, 0.0000e+00, 0.0000e+00, 0.0000e+00,\n",
       "         0.0000e+00, 0.0000e+00, 0.0000e+00, 0.0000e+00, 0.0000e+00, 0.0000e+00,\n",
       "         0.0000e+00, 0.0000e+00, 0.0000e+00, 0.0000e+00, 0.0000e+00, 0.0000e+00,\n",
       "         0.0000e+00, 0.0000e+00, 0.0000e+00, 0.0000e+00, 0.0000e+00, 0.0000e+00,\n",
       "         0.0000e+00, 0.0000e+00, 0.0000e+00, 0.0000e+00, 0.0000e+00, 0.0000e+00,\n",
       "         0.0000e+00, 0.0000e+00, 0.0000e+00, 0.0000e+00, 0.0000e+00, 0.0000e+00,\n",
       "         0.0000e+00, 0.0000e+00, 0.0000e+00, 0.0000e+00, 0.0000e+00, 0.0000e+00,\n",
       "         0.0000e+00, 0.0000e+00, 0.0000e+00, 0.0000e+00, 0.0000e+00, 0.0000e+00,\n",
       "         0.0000e+00, 0.0000e+00, 0.0000e+00, 0.0000e+00, 0.0000e+00, 0.0000e+00,\n",
       "         0.0000e+00, 0.0000e+00, 0.0000e+00, 0.0000e+00, 0.0000e+00, 0.0000e+00,\n",
       "         0.0000e+00, 0.0000e+00, 0.0000e+00, 0.0000e+00, 0.0000e+00, 0.0000e+00,\n",
       "         0.0000e+00, 0.0000e+00, 0.0000e+00, 0.0000e+00, 0.0000e+00, 0.0000e+00,\n",
       "         0.0000e+00, 0.0000e+00, 0.0000e+00, 0.0000e+00, 0.0000e+00, 0.0000e+00,\n",
       "         0.0000e+00, 0.0000e+00, 0.0000e+00, 0.0000e+00, 0.0000e+00, 0.0000e+00,\n",
       "         0.0000e+00, 0.0000e+00, 0.0000e+00, 0.0000e+00, 0.0000e+00, 0.0000e+00,\n",
       "         0.0000e+00, 0.0000e+00, 0.0000e+00, 0.0000e+00, 0.0000e+00, 0.0000e+00,\n",
       "         0.0000e+00, 0.0000e+00, 0.0000e+00, 0.0000e+00, 0.0000e+00, 0.0000e+00,\n",
       "         0.0000e+00, 0.0000e+00, 0.0000e+00, 0.0000e+00, 0.0000e+00, 0.0000e+00,\n",
       "         0.0000e+00, 0.0000e+00, 0.0000e+00, 0.0000e+00, 0.0000e+00, 0.0000e+00,\n",
       "         0.0000e+00, 0.0000e+00, 0.0000e+00, 0.0000e+00, 0.0000e+00, 0.0000e+00,\n",
       "         0.0000e+00, 0.0000e+00, 0.0000e+00, 0.0000e+00, 0.0000e+00, 0.0000e+00,\n",
       "         0.0000e+00, 0.0000e+00, 0.0000e+00, 0.0000e+00, 0.0000e+00, 0.0000e+00,\n",
       "         0.0000e+00, 0.0000e+00, 0.0000e+00, 0.0000e+00, 0.0000e+00, 0.0000e+00,\n",
       "         0.0000e+00, 0.0000e+00, 0.0000e+00, 0.0000e+00, 0.0000e+00, 0.0000e+00,\n",
       "         0.0000e+00, 0.0000e+00, 0.0000e+00, 0.0000e+00, 0.0000e+00, 0.0000e+00,\n",
       "         0.0000e+00, 0.0000e+00, 0.0000e+00, 0.0000e+00, 0.0000e+00, 0.0000e+00,\n",
       "         0.0000e+00, 0.0000e+00, 0.0000e+00, 0.0000e+00, 0.0000e+00, 0.0000e+00,\n",
       "         0.0000e+00, 0.0000e+00, 0.0000e+00, 0.0000e+00, 0.0000e+00, 0.0000e+00,\n",
       "         0.0000e+00, 0.0000e+00, 0.0000e+00, 0.0000e+00, 0.0000e+00, 0.0000e+00,\n",
       "         0.0000e+00, 0.0000e+00, 0.0000e+00, 0.0000e+00, 0.0000e+00, 0.0000e+00,\n",
       "         0.0000e+00, 0.0000e+00, 0.0000e+00, 0.0000e+00, 0.0000e+00, 0.0000e+00,\n",
       "         0.0000e+00, 0.0000e+00, 0.0000e+00, 0.0000e+00, 0.0000e+00, 0.0000e+00,\n",
       "         0.0000e+00, 0.0000e+00, 0.0000e+00, 0.0000e+00, 0.0000e+00, 0.0000e+00,\n",
       "         0.0000e+00, 0.0000e+00, 0.0000e+00, 0.0000e+00, 0.0000e+00, 0.0000e+00,\n",
       "         0.0000e+00, 0.0000e+00, 0.0000e+00, 0.0000e+00, 0.0000e+00, 0.0000e+00,\n",
       "         0.0000e+00, 0.0000e+00, 0.0000e+00, 0.0000e+00, 0.0000e+00, 0.0000e+00,\n",
       "         0.0000e+00, 0.0000e+00, 0.0000e+00, 0.0000e+00, 0.0000e+00, 0.0000e+00,\n",
       "         0.0000e+00, 0.0000e+00, 0.0000e+00, 0.0000e+00, 0.0000e+00, 0.0000e+00,\n",
       "         0.0000e+00, 0.0000e+00, 0.0000e+00, 0.0000e+00, 0.0000e+00, 0.0000e+00,\n",
       "         0.0000e+00, 0.0000e+00, 0.0000e+00, 0.0000e+00, 0.0000e+00, 0.0000e+00,\n",
       "         0.0000e+00, 0.0000e+00, 0.0000e+00, 0.0000e+00, 0.0000e+00, 0.0000e+00,\n",
       "         0.0000e+00, 0.0000e+00, 0.0000e+00, 0.0000e+00, 0.0000e+00, 0.0000e+00,\n",
       "         0.0000e+00, 0.0000e+00, 0.0000e+00, 0.0000e+00, 0.0000e+00, 0.0000e+00,\n",
       "         0.0000e+00, 0.0000e+00, 0.0000e+00, 0.0000e+00, 0.0000e+00, 0.0000e+00,\n",
       "         0.0000e+00, 0.0000e+00, 0.0000e+00, 0.0000e+00, 0.0000e+00, 0.0000e+00,\n",
       "         0.0000e+00, 0.0000e+00, 0.0000e+00, 0.0000e+00, 0.0000e+00, 0.0000e+00,\n",
       "         0.0000e+00, 0.0000e+00, 0.0000e+00, 0.0000e+00, 0.0000e+00, 0.0000e+00,\n",
       "         0.0000e+00, 0.0000e+00, 0.0000e+00, 0.0000e+00, 0.0000e+00, 0.0000e+00,\n",
       "         0.0000e+00, 0.0000e+00, 0.0000e+00, 0.0000e+00, 0.0000e+00, 0.0000e+00,\n",
       "         0.0000e+00, 0.0000e+00, 0.0000e+00, 0.0000e+00, 0.0000e+00, 0.0000e+00,\n",
       "         0.0000e+00, 0.0000e+00, 0.0000e+00, 0.0000e+00, 0.0000e+00, 0.0000e+00,\n",
       "         0.0000e+00, 0.0000e+00, 0.0000e+00, 0.0000e+00, 0.0000e+00, 0.0000e+00,\n",
       "         0.0000e+00, 0.0000e+00, 0.0000e+00, 0.0000e+00, 0.0000e+00, 0.0000e+00,\n",
       "         0.0000e+00, 0.0000e+00, 0.0000e+00, 0.0000e+00, 0.0000e+00]))"
      ]
     },
     "execution_count": 307,
     "metadata": {},
     "output_type": "execute_result"
    }
   ],
   "source": [
    "torch.split(input_features, duration_slices)"
   ]
  },
  {
   "cell_type": "code",
   "execution_count": null,
   "id": "d69f85ab",
   "metadata": {
    "scrolled": false
   },
   "outputs": [],
   "source": [
    "padded_features.shape"
   ]
  },
  {
   "cell_type": "code",
   "execution_count": 309,
   "id": "1abc30ed",
   "metadata": {
    "scrolled": false
   },
   "outputs": [],
   "source": [
    "# padded_features.shape"
   ]
  },
  {
   "cell_type": "code",
   "execution_count": 310,
   "id": "292b4234",
   "metadata": {},
   "outputs": [],
   "source": [
    "input_features_channels = padded_mel_spectrogram[0]\n",
    "wb = word_bounds[0]"
   ]
  },
  {
   "cell_type": "code",
   "execution_count": 311,
   "id": "f0ad94a8",
   "metadata": {
    "scrolled": true
   },
   "outputs": [
    {
     "data": {
      "text/plain": [
       "torch.Size([80, 1830])"
      ]
     },
     "execution_count": 311,
     "metadata": {},
     "output_type": "execute_result"
    }
   ],
   "source": [
    "padded_mel_spectrogram[1].shape"
   ]
  },
  {
   "cell_type": "code",
   "execution_count": 312,
   "id": "0bcff3a1",
   "metadata": {
    "scrolled": true
   },
   "outputs": [],
   "source": [
    "batch_size = 2\n",
    "\n",
    "# f1, f1_len = get_slices_spectro_channels(padded_mel_spectrogram[0], word_bounds[0])\n",
    "# f2, f2_len = get_slices_spectro_channels(padded_mel_spectrogram[1], word_bounds[1])\n",
    "\n",
    "f1, f1_len = temp(padded_mel_spectrogram[0], word_bounds[0])\n",
    "f2, f2_len = temp(padded_mel_spectrogram[1], word_bounds[1])\n",
    "\n",
    "f1.shape\n",
    "f2.shape\n",
    "\n",
    "f_lens = [f1_len, f2_len]\n",
    "f = [f1, f2]\n",
    "\n",
    "max_flen = max(f_lens)\n",
    "\n",
    "padded_features_2 = torch.zeros((batch_size, padded_mel_spectrogram.shape[1], \n",
    "                                 emphases.MAX_NUM_OF_WORDS, emphases.MAX_WORD_DURATION))\n",
    "\n",
    "for idx, (f_len, f_item) in enumerate(zip(f_lens, f)):\n",
    "    padded_features_2[idx, :, :f_item.shape[1], :f_item.shape[-1]] = f_item[:]\n"
   ]
  },
  {
   "cell_type": "code",
   "execution_count": 314,
   "id": "c759c09b",
   "metadata": {
    "scrolled": true
   },
   "outputs": [
    {
     "data": {
      "text/plain": [
       "torch.Size([80, 52, 96])"
      ]
     },
     "execution_count": 314,
     "metadata": {},
     "output_type": "execute_result"
    }
   ],
   "source": [
    "f2.shape"
   ]
  },
  {
   "cell_type": "code",
   "execution_count": 316,
   "id": "bae11572",
   "metadata": {},
   "outputs": [
    {
     "data": {
      "text/plain": [
       "torch.Size([2, 80, 64, 96])"
      ]
     },
     "execution_count": 316,
     "metadata": {},
     "output_type": "execute_result"
    }
   ],
   "source": [
    "padded_features_2.shape"
   ]
  },
  {
   "cell_type": "code",
   "execution_count": 297,
   "id": "d32b59d3",
   "metadata": {
    "scrolled": true
   },
   "outputs": [
    {
     "data": {
      "text/plain": [
       "torch.Size([2, 80, 64, 96])"
      ]
     },
     "execution_count": 297,
     "metadata": {},
     "output_type": "execute_result"
    }
   ],
   "source": [
    "padded_features_2.shape"
   ]
  },
  {
   "cell_type": "code",
   "execution_count": 214,
   "id": "8d237b57",
   "metadata": {},
   "outputs": [],
   "source": [
    "# padded_features_2.shape"
   ]
  },
  {
   "cell_type": "code",
   "execution_count": 215,
   "id": "ab743c93",
   "metadata": {
    "scrolled": true
   },
   "outputs": [],
   "source": [
    "# padded_audio.shape"
   ]
  },
  {
   "cell_type": "code",
   "execution_count": 216,
   "id": "6586f145",
   "metadata": {},
   "outputs": [],
   "source": [
    "# padded_audio[0, :, :][0].shape, input_features.reshape(-1).shape"
   ]
  },
  {
   "cell_type": "code",
   "execution_count": 217,
   "id": "dcf28425",
   "metadata": {
    "scrolled": true
   },
   "outputs": [],
   "source": [
    "feat_lens = []\n",
    "feats = []\n",
    "for idx, (input_features, wb) in enumerate(zip(padded_mel_spectrogram, word_bounds)):\n",
    "    feat, feat_length = get_slices_spectro_channels(input_features, wb)\n",
    "    feats.append(feat)\n",
    "    feat_lens.append(feat_length)"
   ]
  },
  {
   "cell_type": "code",
   "execution_count": 218,
   "id": "f28d8d7b",
   "metadata": {
    "scrolled": true
   },
   "outputs": [
    {
     "data": {
      "text/plain": [
       "torch.Size([80, 64, 96])"
      ]
     },
     "execution_count": 218,
     "metadata": {},
     "output_type": "execute_result"
    }
   ],
   "source": [
    "feats[0].shape"
   ]
  },
  {
   "cell_type": "code",
   "execution_count": 219,
   "id": "cc307f74",
   "metadata": {
    "scrolled": true
   },
   "outputs": [],
   "source": [
    "max_flen = max(feat_lens)\n",
    "\n",
    "padded_features_2 = torch.zeros((emphases.BATCH_SIZE, padded_mel_spectrogram.shape[1], \n",
    "                                 emphases.MAX_NUM_OF_WORDS, emphases.MAX_WORD_DURATION))\n",
    "\n",
    "for idx, (f_len, f_item) in enumerate(zip(feat_lens, feats)):\n",
    "    padded_features_2[idx, :, :f_item.shape[1], :f_item.shape[-1]] = f_item[:]\n"
   ]
  },
  {
   "cell_type": "code",
   "execution_count": 220,
   "id": "928c3ac7",
   "metadata": {},
   "outputs": [
    {
     "data": {
      "text/plain": [
       "torch.Size([80, 64, 96])"
      ]
     },
     "execution_count": 220,
     "metadata": {},
     "output_type": "execute_result"
    }
   ],
   "source": [
    "f_item.shape"
   ]
  },
  {
   "cell_type": "code",
   "execution_count": 221,
   "id": "9f15a2d3",
   "metadata": {},
   "outputs": [
    {
     "data": {
      "text/plain": [
       "torch.Size([2, 80, 64, 96])"
      ]
     },
     "execution_count": 221,
     "metadata": {},
     "output_type": "execute_result"
    }
   ],
   "source": [
    "padded_features_2.shape"
   ]
  },
  {
   "cell_type": "code",
   "execution_count": null,
   "id": "f7e591d1",
   "metadata": {},
   "outputs": [],
   "source": []
  },
  {
   "cell_type": "code",
   "execution_count": null,
   "id": "90ab8208",
   "metadata": {},
   "outputs": [],
   "source": []
  }
 ],
 "metadata": {
  "kernelspec": {
   "display_name": "prominence-est-conda-py37",
   "language": "python",
   "name": "prominence-est-conda-py37"
  },
  "language_info": {
   "codemirror_mode": {
    "name": "ipython",
    "version": 3
   },
   "file_extension": ".py",
   "mimetype": "text/x-python",
   "name": "python",
   "nbconvert_exporter": "python",
   "pygments_lexer": "ipython3",
   "version": "3.7.13"
  }
 },
 "nbformat": 4,
 "nbformat_minor": 5
}
