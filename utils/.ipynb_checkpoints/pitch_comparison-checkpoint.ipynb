{
 "cells": [
  {
   "cell_type": "code",
   "execution_count": 1,
   "id": "ca30a38e",
   "metadata": {},
   "outputs": [],
   "source": [
    "import numpy as np\n",
    "import soundfile"
   ]
  },
  {
   "cell_type": "code",
   "execution_count": 26,
   "id": "99e72f53",
   "metadata": {},
   "outputs": [],
   "source": [
    "audio, sample_rate = soundfile.read(\"/home/pranav/prominence-estimation-exp/wavelet_prosody_toolkit/samples/01l_fact_0001.wav\", \n",
    "                                    dtype='int16', always_2d=True)\n",
    "\n",
    "audio = audio[:, 0].copy(order='C')\n",
    "\n",
    "# /home/pranav/prominence-estimation-exp/wavelet_prosody_toolkit/samples/01l_fact_0001.wav\n",
    "# /home/pranav/prominence-estimation-exp/emphases/test/assets/test.wav"
   ]
  },
  {
   "cell_type": "markdown",
   "id": "27700a90",
   "metadata": {},
   "source": [
    "### WPT custom"
   ]
  },
  {
   "cell_type": "code",
   "execution_count": 28,
   "id": "84b91e7e",
   "metadata": {
    "scrolled": false
   },
   "outputs": [
    {
     "name": "stdout",
     "output_type": "stream",
     "text": [
      "/home/pranav/prominence-estimation-exp/wavelet_prosody_toolkit/wavelet_prosody_toolkit\n"
     ]
    }
   ],
   "source": [
    "%cd /home/pranav/prominence-estimation-exp/wavelet_prosody_toolkit/wavelet_prosody_toolkit"
   ]
  },
  {
   "cell_type": "code",
   "execution_count": 29,
   "id": "d733aca3",
   "metadata": {},
   "outputs": [],
   "source": [
    "from prosody_tools import f0_processing"
   ]
  },
  {
   "cell_type": "code",
   "execution_count": 30,
   "id": "89ee58fa",
   "metadata": {
    "scrolled": true
   },
   "outputs": [],
   "source": [
    "res_default = f0_processing.extract_f0(audio, fs=16000, f0_min=30, f0_max=550, \n",
    "                                       harmonics=10., voicing=50., configuration=\"pitch_tracker\")\n"
   ]
  },
  {
   "cell_type": "code",
   "execution_count": 31,
   "id": "4cd7e337",
   "metadata": {},
   "outputs": [],
   "source": [
    "res_reaper = f0_processing.extract_f0(audio, fs=16000, f0_min=30, f0_max=550, \n",
    "                                      harmonics=10., voicing=50., configuration=\"REAPER\")\n"
   ]
  },
  {
   "cell_type": "code",
   "execution_count": 32,
   "id": "ec1c8d56",
   "metadata": {
    "scrolled": false
   },
   "outputs": [
    {
     "data": {
      "text/plain": [
       "((1244,), (1241,))"
      ]
     },
     "execution_count": 32,
     "metadata": {},
     "output_type": "execute_result"
    }
   ],
   "source": [
    "res_default.shape, res_reaper.shape"
   ]
  },
  {
   "cell_type": "code",
   "execution_count": 33,
   "id": "01e352fe",
   "metadata": {
    "scrolled": true
   },
   "outputs": [
    {
     "data": {
      "text/plain": [
       "array([ -1.   ,  -1.   ,  -1.   ,  -1.   ,  -1.   ,  -1.   ,  -1.   ,\n",
       "        -1.   , 156.863, 219.178], dtype=float32)"
      ]
     },
     "execution_count": 33,
     "metadata": {},
     "output_type": "execute_result"
    }
   ],
   "source": [
    "res_reaper[400:410]"
   ]
  },
  {
   "cell_type": "code",
   "execution_count": 57,
   "id": "9ce1a67f",
   "metadata": {
    "scrolled": true
   },
   "outputs": [
    {
     "data": {
      "text/plain": [
       "array([199., 199., 199., 199., 199., 198., 198., 197., 197., 194., 199.,\n",
       "       201., 201., 202., 202., 205., 207., 208., 208., 208.])"
      ]
     },
     "execution_count": 57,
     "metadata": {},
     "output_type": "execute_result"
    }
   ],
   "source": [
    "res_default[410:430]"
   ]
  },
  {
   "cell_type": "markdown",
   "id": "3e2eb868",
   "metadata": {},
   "source": [
    "### Crepe"
   ]
  },
  {
   "cell_type": "code",
   "execution_count": 49,
   "id": "9f904b4d",
   "metadata": {
    "scrolled": true
   },
   "outputs": [
    {
     "name": "stdout",
     "output_type": "stream",
     "text": [
      "/home/pranav/prominence-estimation-exp/emphases/emphases\n"
     ]
    }
   ],
   "source": [
    "%cd /home/pranav/prominence-estimation-exp/emphases/emphases"
   ]
  },
  {
   "cell_type": "code",
   "execution_count": 50,
   "id": "ec29ad7b",
   "metadata": {
    "scrolled": true
   },
   "outputs": [],
   "source": [
    "from features import pitch"
   ]
  },
  {
   "cell_type": "code",
   "execution_count": 51,
   "id": "3f4e9955",
   "metadata": {
    "scrolled": false
   },
   "outputs": [
    {
     "name": "stdout",
     "output_type": "stream",
     "text": [
      "20/20 [==============================] - 4s 210ms/step\n",
      "CPU times: user 47.1 s, sys: 933 ms, total: 48 s\n",
      "Wall time: 4.41 s\n"
     ]
    }
   ],
   "source": [
    "%%time\n",
    "res_crepe = pitch(audio, sample_rate, method='crepe')"
   ]
  },
  {
   "cell_type": "code",
   "execution_count": 52,
   "id": "92bb2175",
   "metadata": {
    "scrolled": true
   },
   "outputs": [
    {
     "data": {
      "text/plain": [
       "(623,)"
      ]
     },
     "execution_count": 52,
     "metadata": {},
     "output_type": "execute_result"
    }
   ],
   "source": [
    "res_crepe[1].shape"
   ]
  },
  {
   "cell_type": "code",
   "execution_count": 56,
   "id": "57c2584d",
   "metadata": {},
   "outputs": [
    {
     "data": {
      "text/plain": [
       "array([101.841, 116.908, 128.371, 144.942, 158.587, 176.476, 175.986,\n",
       "       175.787, 179.21 , 186.639])"
      ]
     },
     "execution_count": 56,
     "metadata": {},
     "output_type": "execute_result"
    }
   ],
   "source": [
    "res_crepe[1][100:110]"
   ]
  },
  {
   "cell_type": "code",
   "execution_count": null,
   "id": "05c50b21",
   "metadata": {},
   "outputs": [],
   "source": []
  }
 ],
 "metadata": {
  "kernelspec": {
   "display_name": "prominence-est-conda-py37",
   "language": "python",
   "name": "prominence-est-conda-py37"
  },
  "language_info": {
   "codemirror_mode": {
    "name": "ipython",
    "version": 3
   },
   "file_extension": ".py",
   "mimetype": "text/x-python",
   "name": "python",
   "nbconvert_exporter": "python",
   "pygments_lexer": "ipython3",
   "version": "3.7.13"
  }
 },
 "nbformat": 4,
 "nbformat_minor": 5
}
