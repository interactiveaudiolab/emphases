{
 "cells": [
  {
   "cell_type": "code",
   "execution_count": 1,
   "id": "c0c0d343",
   "metadata": {},
   "outputs": [],
   "source": [
    "# !pip install praatio"
   ]
  },
  {
   "cell_type": "code",
   "execution_count": 2,
   "id": "2800d82d",
   "metadata": {},
   "outputs": [],
   "source": [
    "import os"
   ]
  },
  {
   "cell_type": "markdown",
   "id": "ebb67d8c",
   "metadata": {},
   "source": [
    "### Sample TextGrid files"
   ]
  },
  {
   "cell_type": "code",
   "execution_count": 77,
   "id": "e5e9c844",
   "metadata": {},
   "outputs": [],
   "source": [
    "import tgt"
   ]
  },
  {
   "cell_type": "code",
   "execution_count": 80,
   "id": "6f924fff",
   "metadata": {},
   "outputs": [],
   "source": [
    "grid_new = tgt.TextGrid()"
   ]
  },
  {
   "cell_type": "code",
   "execution_count": 84,
   "id": "6b0bf69b",
   "metadata": {},
   "outputs": [],
   "source": [
    "# grid = tgt.read_textgrid('../samples/libritts/LJ050-0276.TextGrid')\n",
    "\n",
    "# [i for i in grid.get_tier_by_name('words')]"
   ]
  },
  {
   "cell_type": "markdown",
   "id": "84eef199",
   "metadata": {},
   "source": [
    "### Praatio"
   ]
  },
  {
   "cell_type": "code",
   "execution_count": 54,
   "id": "9b9ced74",
   "metadata": {},
   "outputs": [],
   "source": [
    "import praatio\n",
    "from praatio import textgrid"
   ]
  },
  {
   "cell_type": "code",
   "execution_count": 55,
   "id": "82b153cd",
   "metadata": {},
   "outputs": [],
   "source": [
    "tg = textgrid.openTextgrid('../samples/libritts/LJ050-0276.TextGrid', False)\n"
   ]
  },
  {
   "cell_type": "code",
   "execution_count": 90,
   "id": "2addf77d",
   "metadata": {
    "scrolled": true
   },
   "outputs": [
    {
     "data": {
      "text/plain": [
       "[Interval(start=0.0, end=0.18, label='as'),\n",
       " Interval(start=0.18, end=0.46, label='has'),\n",
       " Interval(start=0.46, end=0.66, label='been'),\n",
       " Interval(start=0.66, end=1.07, label='pointed'),\n",
       " Interval(start=1.07, end=1.43, label='out'),\n",
       " Interval(start=1.79, end=1.9, label='the'),\n",
       " Interval(start=1.9, end=2.33, label='commission'),\n",
       " Interval(start=2.33, end=2.51, label='has'),\n",
       " Interval(start=2.51, end=2.78, label='not'),\n",
       " Interval(start=2.78, end=3.35, label='resolved'),\n",
       " Interval(start=3.35, end=3.58, label='all'),\n",
       " Interval(start=3.58, end=3.69, label='the'),\n",
       " Interval(start=3.69, end=4.42, label='proposals'),\n",
       " Interval(start=4.42, end=4.65, label='which'),\n",
       " Interval(start=4.65, end=4.81, label='could'),\n",
       " Interval(start=4.81, end=4.97, label='be'),\n",
       " Interval(start=4.97, end=5.45, label='made'),\n",
       " Interval(start=6.15, end=6.25, label='the'),\n",
       " Interval(start=6.25, end=6.74, label='commission'),\n",
       " Interval(start=6.74, end=7.37, label='nevertheless'),\n",
       " Interval(start=7.37, end=7.51, label='is'),\n",
       " Interval(start=7.51, end=8.18, label='confident'),\n",
       " Interval(start=8.18, end=8.47, label='that')]"
      ]
     },
     "execution_count": 90,
     "metadata": {},
     "output_type": "execute_result"
    }
   ],
   "source": [
    "tg.tierDict['words'].entryList"
   ]
  },
  {
   "cell_type": "markdown",
   "id": "502ffa5b",
   "metadata": {},
   "source": [
    "### BuckEye files"
   ]
  },
  {
   "cell_type": "code",
   "execution_count": 153,
   "id": "31d97d4a",
   "metadata": {},
   "outputs": [],
   "source": [
    "with open('../../Buckeye-corpus-part/s13/s1301a.words') as f:\n",
    "    data = f.read()\n",
    "    f.close()"
   ]
  },
  {
   "cell_type": "code",
   "execution_count": 154,
   "id": "873387e1",
   "metadata": {},
   "outputs": [],
   "source": [
    "with open('../../Buckeye-corpus-part/s13/s1301a.phones') as f:\n",
    "    data_phones = f.read()\n",
    "    f.close()"
   ]
  },
  {
   "cell_type": "code",
   "execution_count": 155,
   "id": "17801424",
   "metadata": {
    "scrolled": true
   },
   "outputs": [],
   "source": [
    "raw_data = [x.strip().split(';')[0].split() for x in data.split('\\n')[9:-1]]"
   ]
  },
  {
   "cell_type": "code",
   "execution_count": 156,
   "id": "9774b07f",
   "metadata": {},
   "outputs": [],
   "source": [
    "raw_data_phones = [x.strip().split(';')[0].split() for x in data_phones.split('\\n')[9:-1]]"
   ]
  },
  {
   "cell_type": "code",
   "execution_count": 157,
   "id": "4f21831b",
   "metadata": {},
   "outputs": [],
   "source": [
    "if raw_data[0][-1]=='{B_TRANS}' and raw_data[-1][-1]=='{E_TRANS}':\n",
    "    grid_word_tuples = []\n",
    "    start = 0.0\n",
    "    for row in raw_data:\n",
    "        end = row[0]\n",
    "        tup = (float(start), float(end), row[-1])\n",
    "        grid_word_tuples.append(tup)\n",
    "        start = row[0]\n",
    "\n",
    "    "
   ]
  },
  {
   "cell_type": "code",
   "execution_count": 158,
   "id": "15769708",
   "metadata": {},
   "outputs": [
    {
     "data": {
      "text/plain": [
       "(602.829, 602.839075, '{E_TRANS}')"
      ]
     },
     "execution_count": 158,
     "metadata": {},
     "output_type": "execute_result"
    }
   ],
   "source": [
    "grid_word_tuples[-1]"
   ]
  },
  {
   "cell_type": "code",
   "execution_count": 159,
   "id": "cfb13903",
   "metadata": {},
   "outputs": [],
   "source": [
    "if raw_data_phones[0][-1]=='{B_TRANS}' and raw_data_phones[-1][-1]=='{E_TRANS}':\n",
    "    grid_phones_tuples = []\n",
    "    start = 0.0\n",
    "    for row in raw_data_phones:\n",
    "        end = row[0]\n",
    "        tup = (float(start), float(end), row[-1])\n",
    "        grid_phones_tuples.append(tup)\n",
    "        start = row[0]\n",
    "\n",
    "    "
   ]
  },
  {
   "cell_type": "markdown",
   "id": "8f4a5b6b",
   "metadata": {},
   "source": [
    "#### Create textGrids from this"
   ]
  },
  {
   "cell_type": "markdown",
   "id": "38a4c360",
   "metadata": {},
   "source": [
    "Ref - https://github.com/timmahrt/praatIO/blob/main/tutorials/tutorial1_intro_to_praatio.ipynb"
   ]
  },
  {
   "cell_type": "code",
   "execution_count": 160,
   "id": "5d98e5b0",
   "metadata": {},
   "outputs": [],
   "source": [
    "from praatio import textgrid\n",
    "tg = textgrid.Textgrid()"
   ]
  },
  {
   "cell_type": "code",
   "execution_count": 161,
   "id": "3ec5153a",
   "metadata": {},
   "outputs": [],
   "source": [
    "# IntervalTiers and PointTiers take four arguments: the tier name, a list of intervals or points,\n",
    "# a starting time, and an ending time.\n",
    "wordTier = textgrid.IntervalTier('words', grid_word_tuples, 0, 10.047317916666666)\n",
    "phoneTier = textgrid.IntervalTier('phones', grid_phones_tuples, 0, 10.047317916666666)\n"
   ]
  },
  {
   "cell_type": "code",
   "execution_count": 162,
   "id": "152a1cf6",
   "metadata": {},
   "outputs": [
    {
     "data": {
      "text/plain": [
       "Interval(start=602.829, end=602.839075, label='{E_TRANS}')"
      ]
     },
     "execution_count": 162,
     "metadata": {},
     "output_type": "execute_result"
    }
   ],
   "source": [
    "wordTier.entryList[-1]"
   ]
  },
  {
   "cell_type": "code",
   "execution_count": 163,
   "id": "6db98672",
   "metadata": {},
   "outputs": [],
   "source": [
    "tg.addTier(wordTier)\n",
    "tg.addTier(phoneTier)"
   ]
  },
  {
   "cell_type": "code",
   "execution_count": 164,
   "id": "990871f1",
   "metadata": {},
   "outputs": [],
   "source": [
    "tg.save(\"empty_textgrid.TextGrid\", format=\"long_textgrid\", includeBlankSpaces=False)\n"
   ]
  },
  {
   "cell_type": "code",
   "execution_count": 177,
   "id": "5a20dca5",
   "metadata": {},
   "outputs": [
    {
     "data": {
      "text/plain": [
       "602.839075"
      ]
     },
     "execution_count": 177,
     "metadata": {},
     "output_type": "execute_result"
    }
   ],
   "source": [
    "grid_word_tuples[-1][1]"
   ]
  },
  {
   "cell_type": "markdown",
   "id": "141a9268",
   "metadata": {},
   "source": [
    "### Coversion Module"
   ]
  },
  {
   "cell_type": "code",
   "execution_count": 179,
   "id": "fb9cfefa",
   "metadata": {},
   "outputs": [],
   "source": [
    "import os\n",
    "from praatio import textgrid\n"
   ]
  },
  {
   "cell_type": "code",
   "execution_count": 180,
   "id": "92edee92",
   "metadata": {},
   "outputs": [],
   "source": [
    "def build_textgrid(word_file, phones_file):\n",
    "    \n",
    "    basename = word_file.split('/')[-1].replace('.words', '')\n",
    "    \n",
    "    with open(word_file) as f:\n",
    "        data = f.read()\n",
    "        f.close()\n",
    "        \n",
    "    with open(phones_file) as f:\n",
    "        data_phones = f.read()\n",
    "        f.close()\n",
    "        \n",
    "    raw_data = [x.strip().split(';')[0].split() for x in data.split('\\n')[9:-1]]\n",
    "    \n",
    "    raw_data_phones = [x.strip().split(';')[0].split() for x in data_phones.split('\\n')[9:-1]]\n",
    "    \n",
    "    grid_word_tuples = []\n",
    "    if raw_data[0][-1]=='{B_TRANS}' and raw_data[-1][-1]=='{E_TRANS}':\n",
    "        start = 0.0\n",
    "        for row in raw_data:\n",
    "            end = row[0]\n",
    "            tup = (float(start), float(end), row[-1])\n",
    "            grid_word_tuples.append(tup)\n",
    "            start = row[0]\n",
    "    else:\n",
    "        print(\"invalid .words file, aborting formation, grid will be empty\")\n",
    "\n",
    "    grid_phones_tuples = []\n",
    "    if raw_data_phones[0][-1]=='{B_TRANS}' and raw_data_phones[-1][-1]=='{E_TRANS}':\n",
    "        start = 0.0\n",
    "        for row in raw_data_phones:\n",
    "            end = row[0]\n",
    "            tup = (float(start), float(end), row[-1])\n",
    "            grid_phones_tuples.append(tup)\n",
    "            start = row[0]\n",
    "    else:\n",
    "        print(\"invalid .phones file, aborting formation, grid will be empty\")\n",
    "    \n",
    "    # Build the grids\n",
    "    tg = textgrid.Textgrid()\n",
    "    \n",
    "    end_time = grid_word_tuples[-1][1]\n",
    "    wordTier = textgrid.IntervalTier('words', grid_word_tuples, 0, end_time)\n",
    "    phoneTier = textgrid.IntervalTier('phones', grid_phones_tuples, 0, end_time)\n",
    "\n",
    "    tg.addTier(wordTier)\n",
    "    tg.addTier(phoneTier)\n",
    "    \n",
    "    tg.save(f\"{basename}.TextGrid\", format=\"long_textgrid\", includeBlankSpaces=False)\n"
   ]
  },
  {
   "cell_type": "code",
   "execution_count": 181,
   "id": "bc29a9e5",
   "metadata": {
    "scrolled": true
   },
   "outputs": [],
   "source": [
    "build_textgrid(word_file='../../Buckeye-corpus-part/s13/s1301a.words',\n",
    "              phones_file='../../Buckeye-corpus-part/s13/s1301a.phones')"
   ]
  },
  {
   "cell_type": "code",
   "execution_count": null,
   "id": "e4ea13c3",
   "metadata": {},
   "outputs": [],
   "source": []
  }
 ],
 "metadata": {
  "kernelspec": {
   "display_name": "prominence-est-conda-py37",
   "language": "python",
   "name": "prominence-est-conda-py37"
  },
  "language_info": {
   "codemirror_mode": {
    "name": "ipython",
    "version": 3
   },
   "file_extension": ".py",
   "mimetype": "text/x-python",
   "name": "python",
   "nbconvert_exporter": "python",
   "pygments_lexer": "ipython3",
   "version": "3.7.13"
  }
 },
 "nbformat": 4,
 "nbformat_minor": 5
}
