{
 "cells": [
  {
   "cell_type": "code",
   "execution_count": null,
   "id": "f473bbab-e880-4f10-be02-f2abf38ca9ad",
   "metadata": {},
   "outputs": [],
   "source": [
    "%load_ext autoreload\n",
    "%autoreload 2"
   ]
  },
  {
   "cell_type": "code",
   "execution_count": null,
   "id": "6e996f74-4c77-469a-a333-062febcaa78b",
   "metadata": {
    "tags": []
   },
   "outputs": [],
   "source": [
    "import random\n",
    "\n",
    "import IPython.display as ipd\n",
    "import torchaudio\n",
    "\n",
    "import emphases"
   ]
  },
  {
   "cell_type": "code",
   "execution_count": null,
   "id": "9004ca30-9fa2-436b-ad2c-b778b895e6f6",
   "metadata": {
    "tags": []
   },
   "outputs": [],
   "source": [
    "dataset = 'libritts'\n",
    "directory = emphases.CACHE_DIR / dataset\n",
    "files = list(directory.rglob('*.wav'))"
   ]
  },
  {
   "cell_type": "code",
   "execution_count": null,
   "id": "7c23645c-95c3-45f7-8945-40ca6ff0c064",
   "metadata": {
    "tags": []
   },
   "outputs": [],
   "source": [
    "speakers = sorted(list(set(file.stem.split('_')[0] for file in files)))\n",
    "speaker_sizes = {speaker: 0. for speaker in speakers}\n",
    "for file in files:\n",
    "    info = torchaudio.info(file)\n",
    "    speaker_sizes[file.stem.split('_')[0]] += info.num_frames / info.sample_rate\n",
    "total = sum(speaker_sizes.values())\n",
    "total"
   ]
  },
  {
   "cell_type": "code",
   "execution_count": null,
   "id": "fe70a29b-d5fc-4a32-b08f-21c67776b420",
   "metadata": {
    "tags": []
   },
   "outputs": [],
   "source": [
    "current = [\n",
    "    # Top 5 Female\n",
    "    40,\n",
    "    669,\n",
    "    4362,\n",
    "    5022,\n",
    "    8123,\n",
    "    \n",
    "    # Additional female speakers to get to 1/8th \n",
    "    5022,\n",
    "    696,\n",
    "    6272,\n",
    "    5163,\n",
    "\n",
    "    # Top 5 Male\n",
    "    196,\n",
    "    460,\n",
    "    1355,\n",
    "    3664,\n",
    "    7067,  # uses character voices\n",
    "    \n",
    "    # Additional male speakers to get to 1/8th \n",
    "    405,\n",
    "    6437,\n",
    "    446,  # uses character voices\n",
    "    4397\n",
    "]\n",
    "current_total = sum(speaker_sizes[str(speaker)] for speaker in current) \n",
    "current_total"
   ]
  },
  {
   "cell_type": "code",
   "execution_count": null,
   "id": "9abbbc3f-5d18-48d2-ae57-da36fa322da9",
   "metadata": {
    "tags": []
   },
   "outputs": [],
   "source": [
    "current_total / total / (1/8)"
   ]
  },
  {
   "cell_type": "code",
   "execution_count": null,
   "id": "944611a7-7a50-4b86-b86d-e79a83d91f8d",
   "metadata": {
    "tags": []
   },
   "outputs": [],
   "source": [
    "speaker = 4397\n",
    "files = [file for file in (directory / 'audio').rglob('*.wav') if file.stem.startswith(f'{speaker}_')]\n",
    "ipd.display(ipd.Audio(random.choice(files)))"
   ]
  },
  {
   "cell_type": "code",
   "execution_count": null,
   "id": "f1c42bc9-95bc-4ceb-8a88-dc6b60867bb1",
   "metadata": {
    "tags": []
   },
   "outputs": [],
   "source": [
    "candidates = sorted(speaker_sizes.items(), key=lambda item: item[1], reverse=True)\n",
    "candidates"
   ]
  },
  {
   "cell_type": "code",
   "execution_count": null,
   "id": "2e7925d3-6c35-459e-af2c-f9af74c21bf7",
   "metadata": {},
   "outputs": [],
   "source": []
  }
 ],
 "metadata": {
  "kernelspec": {
   "display_name": "env",
   "language": "python",
   "name": "env"
  },
  "language_info": {
   "codemirror_mode": {
    "name": "ipython",
    "version": 3
   },
   "file_extension": ".py",
   "mimetype": "text/x-python",
   "name": "python",
   "nbconvert_exporter": "python",
   "pygments_lexer": "ipython3",
   "version": "3.9.16"
  }
 },
 "nbformat": 4,
 "nbformat_minor": 5
}
