{
 "cells": [
  {
   "cell_type": "code",
   "execution_count": 1,
   "id": "e79d3ec0-9c77-4b54-83de-ff91b567935b",
   "metadata": {
    "tags": []
   },
   "outputs": [],
   "source": [
    "%load_ext autoreload\n",
    "%autoreload 2"
   ]
  },
  {
   "cell_type": "code",
   "execution_count": 2,
   "id": "a7b5bfb8-d3a4-4de0-b84e-45cbd0e7d070",
   "metadata": {
    "tags": []
   },
   "outputs": [
    {
     "name": "stderr",
     "output_type": "stream",
     "text": [
      "/home/mrm5248/conda/envs/env/lib/python3.9/site-packages/tqdm/auto.py:21: TqdmWarning: IProgress not found. Please update jupyter and ipywidgets. See https://ipywidgets.readthedocs.io/en/stable/user_install.html\n",
      "  from .autonotebook import tqdm as notebook_tqdm\n"
     ]
    }
   ],
   "source": [
    "import json\n",
    "import random\n",
    "\n",
    "import emphases"
   ]
  },
  {
   "cell_type": "code",
   "execution_count": 3,
   "id": "d429b0b9-4194-4231-8c88-97995bf67339",
   "metadata": {
    "tags": []
   },
   "outputs": [],
   "source": [
    "# Get stems to annotate\n",
    "speakers = [str(s) for s in emphases.data.download.LIBRITTS_SPEAKERS]\n",
    "stems = sorted([\n",
    "    file.stem for file in (emphases.CACHE_DIR / 'libritts' / 'audio').glob('*.wav')\n",
    "    if file.stem.split('_')[0] in speakers])\n",
    "random.seed(emphases.RANDOM_SEED)\n",
    "random.shuffle(stems)"
   ]
  },
  {
   "cell_type": "code",
   "execution_count": 4,
   "id": "df6b9840-6890-40d8-b24a-2066c3b5af1f",
   "metadata": {
    "tags": []
   },
   "outputs": [],
   "source": [
    "eighth = len(stems) // 8\n",
    "\n",
    "# Initialize annotation progress monitor\n",
    "monitor = {}\n",
    "for stem in stems[:eighth]:\n",
    "    monitor[stem] = (0, 8)\n",
    "for stem in stems[eighth:2 * eighth]:\n",
    "    monitor[stem] = (0, 4)\n",
    "for stem in stems[2 * eighth:4 * eighth]:\n",
    "    monitor[stem] = (0, 2)\n",
    "for stem in stems[4 * eighth:]:\n",
    "    monitor[stem] = (0, 1)"
   ]
  },
  {
   "cell_type": "code",
   "execution_count": 5,
   "id": "3ec7214d-9efa-4041-92b8-507877be19e8",
   "metadata": {
    "tags": []
   },
   "outputs": [],
   "source": [
    "# TODO - update monitor based on current progress"
   ]
  },
  {
   "cell_type": "code",
   "execution_count": 6,
   "id": "0d2122ce-702d-4e3d-a123-de0223da25bd",
   "metadata": {
    "tags": []
   },
   "outputs": [],
   "source": [
    "with open('monitor-annotation.json', 'w') as file:\n",
    "    json.dump(monitor, file)"
   ]
  },
  {
   "cell_type": "code",
   "execution_count": null,
   "id": "8e855e86-c6a3-4534-87e0-a03189f9dd6e",
   "metadata": {},
   "outputs": [],
   "source": []
  }
 ],
 "metadata": {
  "kernelspec": {
   "display_name": "env",
   "language": "python",
   "name": "env"
  },
  "language_info": {
   "codemirror_mode": {
    "name": "ipython",
    "version": 3
   },
   "file_extension": ".py",
   "mimetype": "text/x-python",
   "name": "python",
   "nbconvert_exporter": "python",
   "pygments_lexer": "ipython3",
   "version": "3.9.16"
  }
 },
 "nbformat": 4,
 "nbformat_minor": 5
}
