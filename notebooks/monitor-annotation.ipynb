{
 "cells": [
  {
   "cell_type": "code",
   "execution_count": 1,
   "id": "e79d3ec0-9c77-4b54-83de-ff91b567935b",
   "metadata": {
    "tags": []
   },
   "outputs": [],
   "source": [
    "%load_ext autoreload\n",
    "%autoreload 2"
   ]
  },
  {
   "cell_type": "code",
   "execution_count": 2,
   "id": "a7b5bfb8-d3a4-4de0-b84e-45cbd0e7d070",
   "metadata": {
    "tags": []
   },
   "outputs": [
    {
     "name": "stderr",
     "output_type": "stream",
     "text": [
      "/home/mrm5248/conda/envs/env/lib/python3.9/site-packages/tqdm/auto.py:21: TqdmWarning: IProgress not found. Please update jupyter and ipywidgets. See https://ipywidgets.readthedocs.io/en/stable/user_install.html\n",
      "  from .autonotebook import tqdm as notebook_tqdm\n"
     ]
    }
   ],
   "source": [
    "import json\n",
    "import random\n",
    "\n",
    "import matplotlib.pyplot as plt\n",
    "\n",
    "import emphases"
   ]
  },
  {
   "cell_type": "code",
   "execution_count": null,
   "id": "d429b0b9-4194-4231-8c88-97995bf67339",
   "metadata": {
    "tags": []
   },
   "outputs": [],
   "source": [
    "# Get stems to annotate\n",
    "speakers = [str(s) for s in emphases.data.download.LIBRITTS_SPEAKERS]\n",
    "stems = sorted([\n",
    "    file.stem for file in (emphases.CACHE_DIR / 'libritts' / 'audio').glob('*.wav')\n",
    "    if file.stem.split('_')[0] in speakers])\n",
    "random.seed(emphases.RANDOM_SEED)\n",
    "random.shuffle(stems)"
   ]
  },
  {
   "cell_type": "code",
   "execution_count": null,
   "id": "df6b9840-6890-40d8-b24a-2066c3b5af1f",
   "metadata": {
    "tags": []
   },
   "outputs": [],
   "source": [
    "eighth = len(stems) // 8\n",
    "\n",
    "# Initialize annotation progress monitor\n",
    "monitor = {}\n",
    "for stem in stems[:eighth]:\n",
    "    monitor[stem] = [0, 8]\n",
    "for stem in stems[eighth:2 * eighth]:\n",
    "    monitor[stem] = [0, 4]\n",
    "for stem in stems[2 * eighth:4 * eighth]:\n",
    "    monitor[stem] = [0, 2]\n",
    "for stem in stems[4 * eighth:]:\n",
    "    monitor[stem] = [0, 1]"
   ]
  },
  {
   "cell_type": "code",
   "execution_count": null,
   "id": "3ec7214d-9efa-4041-92b8-507877be19e8",
   "metadata": {
    "tags": []
   },
   "outputs": [],
   "source": [
    "# Update counts with current progress\n",
    "cache_directory = emphases.CACHE_DIR / 'annotate'\n",
    "with open(cache_directory / 'counts.json') as file:\n",
    "    counts = json.load(file)\n",
    "for stem, count in counts.items():\n",
    "    monitor[stem][0] += count"
   ]
  },
  {
   "cell_type": "code",
   "execution_count": null,
   "id": "0d2122ce-702d-4e3d-a123-de0223da25bd",
   "metadata": {
    "tags": []
   },
   "outputs": [],
   "source": [
    "# Save progress\n",
    "with open('monitor-annotation.json', 'w') as file:\n",
    "    json.dump(monitor, file)"
   ]
  },
  {
   "cell_type": "code",
   "execution_count": null,
   "id": "8e855e86-c6a3-4534-87e0-a03189f9dd6e",
   "metadata": {},
   "outputs": [],
   "source": [
    "num, den = (\n",
    "    sum(min(m[0], m[1]) for m in monitor.values()),\n",
    "    sum(m[1] for m in monitor.values()))\n",
    "print(num, den, num / den)"
   ]
  },
  {
   "cell_type": "code",
   "execution_count": null,
   "id": "fa02e37d",
   "metadata": {},
   "outputs": [],
   "source": [
    "total = len(monitor)\n",
    "unfinished = sum(m[0] < m[1] for m in monitor.values())\n",
    "print(unfinished, total, unfinished / total)"
   ]
  },
  {
   "cell_type": "code",
   "execution_count": null,
   "id": "992be404",
   "metadata": {},
   "outputs": [],
   "source": [
    "sum(m[0] >= 8 for m in monitor.values())"
   ]
  },
  {
   "cell_type": "code",
   "execution_count": null,
   "id": "72bc7e61",
   "metadata": {},
   "outputs": [],
   "source": [
    "sum(m[0] > m[1] for m in monitor.values())"
   ]
  },
  {
   "cell_type": "code",
   "execution_count": null,
   "id": "3ace783e",
   "metadata": {},
   "outputs": [],
   "source": [
    "import torchaudio\n",
    "\n",
    "files = sorted([\n",
    "    file for file in (emphases.CACHE_DIR / 'libritts' / 'audio').glob('*.wav')\n",
    "    if file.stem.split('_')[0] in speakers])\n",
    "\n",
    "duration = 0.\n",
    "for file in files:\n",
    "    info = torchaudio.info(file)\n",
    "    duration += info.num_frames / info.sample_rate\n",
    "duration / 3600."
   ]
  },
  {
   "cell_type": "code",
   "execution_count": null,
   "id": "ef77567d",
   "metadata": {},
   "outputs": [],
   "source": [
    "import pypar\n",
    "\n",
    "files = sorted([\n",
    "    file for file in (emphases.CACHE_DIR / 'libritts' / 'alignment').glob('*.TextGrid')\n",
    "    if file.stem.split('_')[0] in speakers])\n",
    "\n",
    "words = 0\n",
    "for file in files:\n",
    "    alignment = pypar.Alignment(file)\n",
    "    words += len([word for word in alignment if str(word) != pypar.SILENCE])\n",
    "\n",
    "print(words)"
   ]
  },
  {
   "cell_type": "code",
   "execution_count": null,
   "id": "105bce2c",
   "metadata": {},
   "outputs": [],
   "source": [
    "with open(emphases.CACHE_DIR / 'annotate' / 'annotations.json') as file:\n",
    "    annotations = json.load(file)"
   ]
  },
  {
   "cell_type": "code",
   "execution_count": null,
   "id": "c0a9cf7a",
   "metadata": {},
   "outputs": [],
   "source": [
    "len(annotations)"
   ]
  },
  {
   "cell_type": "code",
   "execution_count": null,
   "id": "c4e36d17",
   "metadata": {},
   "outputs": [],
   "source": [
    "lengths = [len(a['annotations']) for a in annotations.values()]\n",
    "plt.hist(lengths)"
   ]
  },
  {
   "cell_type": "code",
   "execution_count": null,
   "id": "03af5f04",
   "metadata": {},
   "outputs": [],
   "source": [
    "max(lengths)"
   ]
  },
  {
   "cell_type": "code",
   "execution_count": null,
   "id": "d64f93a0",
   "metadata": {},
   "outputs": [],
   "source": []
  }
 ],
 "metadata": {
  "kernelspec": {
   "display_name": "env",
   "language": "python",
   "name": "python3"
  },
  "language_info": {
   "codemirror_mode": {
    "name": "ipython",
    "version": 3
   },
   "file_extension": ".py",
   "mimetype": "text/x-python",
   "name": "python",
   "nbconvert_exporter": "python",
   "pygments_lexer": "ipython3",
   "version": "3.9.17"
  }
 },
 "nbformat": 4,
 "nbformat_minor": 5
}
